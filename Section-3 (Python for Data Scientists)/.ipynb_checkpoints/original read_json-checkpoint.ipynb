{
 "cells": [
  {
   "cell_type": "markdown",
   "id": "a6d55c26",
   "metadata": {},
   "source": [
    "<div style=\"background-color:rgba(50, 81, 100, .9); font-family: 'Bebas Neue'; padding:10px 0;  margin-top:2px; margin-bottom:2px\">\n",
    "\n",
    "   \n",
    " <img align=\"left\" width=\"75\" height=\"75\"  src=\"https://upload.wikimedia.org/wikipedia/en/c/c8/University_of_the_Punjab_logo.png\"  > \n",
    "\n",
    "   \n",
    "<h1><div style=\"text-align: center\"> Department of Data Science</div>\n",
    "<div style=\"text-align: center\"> University of the Punjab, Lahore</div></h1>\n",
    "\n",
    "\n",
    "<h1><div style=\"text-align: center\">Course Title: Tools and Techniques for Data Science</div></h1>\n",
    "\n",
    "   <div style=\"text-align: right; margin-right: 5px; font-size:18px\"> <em><strong>Muhammad Arif Butt, Ph.D.</strong></em></div>\n",
    "    \n",
    "    \n",
    "  "
   ]
  },
  {
   "cell_type": "markdown",
   "id": "d3559e19",
   "metadata": {},
   "source": [
    "<h2><div style=\"text-align: center\"> \" <u>Lecture 3.2</u> \"</div></h2>"
   ]
  },
  {
   "cell_type": "markdown",
   "id": "5edddb51",
   "metadata": {},
   "source": [
    "## _read_json.ipynb_\n",
    "#### [Click me to learn more about Reading JSON files](https://www.geeksforgeeks.org/read-json-file-using-python/)"
   ]
  },
  {
   "cell_type": "markdown",
   "id": "d43eac77",
   "metadata": {},
   "source": [
    "### Learning agenda of this notebook\n",
    "1. Reading the JSON file.\n",
    "2. Challenges with reading JSON files.\n",
    " - Reading JSON files written as records.\n",
    "3. JSON Library\n",
    " - Reading Nested JSON\n",
    " - Filter JSON\n",
    " - Wrting JSON files"
   ]
  },
  {
   "cell_type": "markdown",
   "id": "4dcf37a8",
   "metadata": {},
   "source": [
    "## 1- Read a JSON file\n",
    "The full-form of JSON is JavaScript Object Notation. It means that a script (executable) file which is made of text in a programming language, is used to store and transfer the data. It is primarily used for transmitting data between a web application and a server.\n"
   ]
  },
  {
   "cell_type": "markdown",
   "id": "4af42080",
   "metadata": {},
   "source": [
    "### a- Read a simple json file"
   ]
  },
  {
   "cell_type": "code",
   "execution_count": 15,
   "id": "c305cf5f",
   "metadata": {},
   "outputs": [
    {
     "data": {
      "text/html": [
       "<div>\n",
       "<style scoped>\n",
       "    .dataframe tbody tr th:only-of-type {\n",
       "        vertical-align: middle;\n",
       "    }\n",
       "\n",
       "    .dataframe tbody tr th {\n",
       "        vertical-align: top;\n",
       "    }\n",
       "\n",
       "    .dataframe thead th {\n",
       "        text-align: right;\n",
       "    }\n",
       "</style>\n",
       "<table border=\"1\" class=\"dataframe\">\n",
       "  <thead>\n",
       "    <tr style=\"text-align: right;\">\n",
       "      <th></th>\n",
       "      <th>name</th>\n",
       "      <th>age</th>\n",
       "      <th>grade</th>\n",
       "    </tr>\n",
       "  </thead>\n",
       "  <tbody>\n",
       "    <tr>\n",
       "      <th>0</th>\n",
       "      <td>Andew</td>\n",
       "      <td>12</td>\n",
       "      <td>A</td>\n",
       "    </tr>\n",
       "    <tr>\n",
       "      <th>1</th>\n",
       "      <td>Mohtasham</td>\n",
       "      <td>18</td>\n",
       "      <td>B</td>\n",
       "    </tr>\n",
       "    <tr>\n",
       "      <th>2</th>\n",
       "      <td>Clinton</td>\n",
       "      <td>11</td>\n",
       "      <td>A</td>\n",
       "    </tr>\n",
       "    <tr>\n",
       "      <th>3</th>\n",
       "      <td>Drake</td>\n",
       "      <td>12</td>\n",
       "      <td>C</td>\n",
       "    </tr>\n",
       "    <tr>\n",
       "      <th>4</th>\n",
       "      <td>Elisha</td>\n",
       "      <td>13</td>\n",
       "      <td>B</td>\n",
       "    </tr>\n",
       "  </tbody>\n",
       "</table>\n",
       "</div>"
      ],
      "text/plain": [
       "        name  age grade\n",
       "0      Andew   12     A\n",
       "1  Mohtasham   18     B\n",
       "2    Clinton   11     A\n",
       "3      Drake   12     C\n",
       "4     Elisha   13     B"
      ]
     },
     "execution_count": 15,
     "metadata": {},
     "output_type": "execute_result"
    }
   ],
   "source": [
    "# import the pandas library\n",
    "import pandas as pd\n",
    "\n",
    "# read the json file using read_json method of pandas library\n",
    "data = pd.read_json('datasets/simple.json')\n",
    "\n",
    "# print the top rows of the dataframe\n",
    "data.head()"
   ]
  },
  {
   "cell_type": "code",
   "execution_count": null,
   "id": "dbb9cd83",
   "metadata": {},
   "outputs": [],
   "source": []
  },
  {
   "cell_type": "markdown",
   "id": "b57ea210",
   "metadata": {},
   "source": [
    "## 2- Challenges with reading JSON files"
   ]
  },
  {
   "cell_type": "markdown",
   "id": "efdff96b",
   "metadata": {},
   "source": [
    "### JSON records\n",
    "Some of the json files are written as records i.e each json line is a separate json object.\n",
    "For example:\n",
    "\n",
    "{ 'name' : 'Ahsan', 'roll_no' : '100' } # line 1\n",
    "\n",
    "{ 'name' : 'Ayesha' , 'roll_no' : '101' } # line 2\n"
   ]
  },
  {
   "cell_type": "code",
   "execution_count": 3,
   "id": "c1c9eeec",
   "metadata": {},
   "outputs": [],
   "source": [
    "# If we try to read these type of files (json records) direclty, you will get an error\n",
    "\n",
    "# for example, using the below method, \n",
    "# reading the data from json records will give error\n",
    "\n",
    "data_with_records = pd.read_json('datasets/simple_records.json')"
   ]
  },
  {
   "cell_type": "code",
   "execution_count": 16,
   "id": "35152342",
   "metadata": {},
   "outputs": [
    {
     "data": {
      "text/html": [
       "<div>\n",
       "<style scoped>\n",
       "    .dataframe tbody tr th:only-of-type {\n",
       "        vertical-align: middle;\n",
       "    }\n",
       "\n",
       "    .dataframe tbody tr th {\n",
       "        vertical-align: top;\n",
       "    }\n",
       "\n",
       "    .dataframe thead th {\n",
       "        text-align: right;\n",
       "    }\n",
       "</style>\n",
       "<table border=\"1\" class=\"dataframe\">\n",
       "  <thead>\n",
       "    <tr style=\"text-align: right;\">\n",
       "      <th></th>\n",
       "      <th>name</th>\n",
       "      <th>age</th>\n",
       "      <th>grade</th>\n",
       "    </tr>\n",
       "  </thead>\n",
       "  <tbody>\n",
       "    <tr>\n",
       "      <th>0</th>\n",
       "      <td>Andew</td>\n",
       "      <td>12</td>\n",
       "      <td>A</td>\n",
       "    </tr>\n",
       "    <tr>\n",
       "      <th>1</th>\n",
       "      <td>Mohtasham</td>\n",
       "      <td>18</td>\n",
       "      <td>B</td>\n",
       "    </tr>\n",
       "    <tr>\n",
       "      <th>2</th>\n",
       "      <td>Clinton</td>\n",
       "      <td>11</td>\n",
       "      <td>A</td>\n",
       "    </tr>\n",
       "    <tr>\n",
       "      <th>3</th>\n",
       "      <td>Drake</td>\n",
       "      <td>12</td>\n",
       "      <td>C</td>\n",
       "    </tr>\n",
       "    <tr>\n",
       "      <th>4</th>\n",
       "      <td>Elisha</td>\n",
       "      <td>13</td>\n",
       "      <td>B</td>\n",
       "    </tr>\n",
       "  </tbody>\n",
       "</table>\n",
       "</div>"
      ],
      "text/plain": [
       "        name  age grade\n",
       "0      Andew   12     A\n",
       "1  Mohtasham   18     B\n",
       "2    Clinton   11     A\n",
       "3      Drake   12     C\n",
       "4     Elisha   13     B"
      ]
     },
     "execution_count": 16,
     "metadata": {},
     "output_type": "execute_result"
    }
   ],
   "source": [
    "# to resolve this error, you need to pass the parameter lines=True\n",
    "\n",
    "# read json files with records \n",
    "data_with_records = pd.read_json('datasets/simple_records.json',lines=True)\n",
    "\n",
    "# view record\n",
    "data_with_records.head()"
   ]
  },
  {
   "cell_type": "code",
   "execution_count": null,
   "id": "29a77414",
   "metadata": {},
   "outputs": [],
   "source": []
  },
  {
   "cell_type": "markdown",
   "id": "54671e70",
   "metadata": {},
   "source": [
    "## 3- JSON library"
   ]
  },
  {
   "cell_type": "markdown",
   "id": "a17cd7ed",
   "metadata": {},
   "source": [
    "### a- Nested JSON files using JSON library\n",
    "Most of the json files are nested and we cannot directly import them into a dataframe. We first need to clean and filter the json file in order to convert it into a dataframe."
   ]
  },
  {
   "cell_type": "code",
   "execution_count": null,
   "id": "f3247b57",
   "metadata": {},
   "outputs": [],
   "source": [
    "# Can't read nested json in pandas\n",
    "data = pd.read_csv('datasets/nested.json')"
   ]
  },
  {
   "cell_type": "code",
   "execution_count": 17,
   "id": "95e1e6a0",
   "metadata": {},
   "outputs": [
    {
     "name": "stdout",
     "output_type": "stream",
     "text": [
      "[{'student_roll_no': 101, 'details': {'name': 'Andew', 'age': 12, 'grade': 'A'}}, {'student_roll_no': 102, 'details': {'name': 'Mohtasham', 'age': 18, 'grade': 'B'}}, {'student_roll_no': 103, 'details': {'name': 'Clinton', 'age': 11, 'grade': 'A'}}, {'student_roll_no': 104, 'details': {'name': 'Drake', 'age': 12, 'grade': 'C'}}, {'student_roll_no': 105, 'details': {'name': 'Elisha', 'age': 13, 'grade': 'B'}}, {'student_roll_no': 106, 'details': {'name': 'Farhan', 'age': 22, 'grade': 'C'}}, {'student_roll_no': 107, 'details': {'name': 'Mohsin', 'age': 11, 'grade': 'A'}}, {'student_roll_no': 108, 'details': {'name': 'Bilal', 'age': 19, 'grade': 'A'}}, {'student_roll_no': 109, 'details': {'name': 'Ishaan', 'age': 10, 'grade': 'D'}}, {'student_roll_no': 110, 'details': {'name': 'Jack', 'age': 9, 'grade': 'B'}}]\n"
     ]
    }
   ],
   "source": [
    "# to read nested json file, we need to import json module\n",
    "\n",
    "# importing the json module of standard library\n",
    "import json\n",
    "\n",
    "# Json nested file can be read just like a text file\n",
    "# open the file using with statement and open function\n",
    "with open('datasets/nested.json', 'r') as f :\n",
    "\n",
    "# use the json.load method to read the nested json file\n",
    "    my_json_data = json.load(f)\n",
    "\n",
    "print(my_json_data)"
   ]
  },
  {
   "cell_type": "markdown",
   "id": "ff679bf9",
   "metadata": {},
   "source": [
    "#### Pretty Print (pprint)\n",
    "The pprint module provides a capability to “pretty-print” arbitrary Python data structures in a well-formatted and more readable way"
   ]
  },
  {
   "cell_type": "code",
   "execution_count": 18,
   "id": "204ec645",
   "metadata": {},
   "outputs": [
    {
     "name": "stdout",
     "output_type": "stream",
     "text": [
      "[{'details': {'age': 12, 'grade': 'A', 'name': 'Andew'},\n",
      "  'student_roll_no': 101},\n",
      " {'details': {'age': 18, 'grade': 'B', 'name': 'Mohtasham'},\n",
      "  'student_roll_no': 102},\n",
      " {'details': {'age': 11, 'grade': 'A', 'name': 'Clinton'},\n",
      "  'student_roll_no': 103},\n",
      " {'details': {'age': 12, 'grade': 'C', 'name': 'Drake'},\n",
      "  'student_roll_no': 104},\n",
      " {'details': {'age': 13, 'grade': 'B', 'name': 'Elisha'},\n",
      "  'student_roll_no': 105},\n",
      " {'details': {'age': 22, 'grade': 'C', 'name': 'Farhan'},\n",
      "  'student_roll_no': 106},\n",
      " {'details': {'age': 11, 'grade': 'A', 'name': 'Mohsin'},\n",
      "  'student_roll_no': 107},\n",
      " {'details': {'age': 19, 'grade': 'A', 'name': 'Bilal'},\n",
      "  'student_roll_no': 108},\n",
      " {'details': {'age': 10, 'grade': 'D', 'name': 'Ishaan'},\n",
      "  'student_roll_no': 109},\n",
      " {'details': {'age': 9, 'grade': 'B', 'name': 'Jack'}, 'student_roll_no': 110}]\n"
     ]
    }
   ],
   "source": [
    "# use pprint or (pretty print) to print the data in the structured format\n",
    "from pprint import pprint\n",
    "pprint(my_json_data)"
   ]
  },
  {
   "cell_type": "markdown",
   "id": "036acc1b",
   "metadata": {},
   "source": [
    "### b- Iterate through json file and filter data"
   ]
  },
  {
   "cell_type": "code",
   "execution_count": 19,
   "id": "dbbf1d8d",
   "metadata": {},
   "outputs": [
    {
     "data": {
      "text/plain": [
       "{'student_roll_no': 101, 'details': {'name': 'Andew', 'age': 12, 'grade': 'A'}}"
      ]
     },
     "execution_count": 19,
     "metadata": {},
     "output_type": "execute_result"
    }
   ],
   "source": [
    "# We saw that data in the file is in json list form.\n",
    "# let's try to access first element of the list using the zeroth index\n",
    "\n",
    "data_0 = my_json_data[0]\n",
    "data_0\n",
    "\n",
    "# this is how a first element of the list look like"
   ]
  },
  {
   "cell_type": "code",
   "execution_count": 20,
   "id": "ae039022",
   "metadata": {},
   "outputs": [
    {
     "data": {
      "text/plain": [
       "{'name': 'Andew', 'age': 12, 'grade': 'A'}"
      ]
     },
     "execution_count": 20,
     "metadata": {},
     "output_type": "execute_result"
    }
   ],
   "source": [
    "# now to access the age, access the detail part \n",
    "data_0['details']"
   ]
  },
  {
   "cell_type": "code",
   "execution_count": 21,
   "id": "7a35edcb",
   "metadata": {},
   "outputs": [
    {
     "data": {
      "text/plain": [
       "12"
      ]
     },
     "execution_count": 21,
     "metadata": {},
     "output_type": "execute_result"
    }
   ],
   "source": [
    "# now just to access the aga, use detail, age\n",
    "data_0['details']['age']"
   ]
  },
  {
   "cell_type": "code",
   "execution_count": 22,
   "id": "3c10fdda",
   "metadata": {},
   "outputs": [
    {
     "name": "stdout",
     "output_type": "stream",
     "text": [
      "12\n",
      "18\n",
      "11\n",
      "12\n",
      "13\n",
      "22\n",
      "11\n",
      "19\n",
      "10\n",
      "9\n"
     ]
    }
   ],
   "source": [
    "# using the above method, you can iterate through json file and can get ages of aa the records\n",
    "\n",
    "# iterate through the json data\n",
    "for data in my_json_data:\n",
    "    print(data['details']['age'])"
   ]
  },
  {
   "cell_type": "markdown",
   "id": "9ada018f",
   "metadata": {},
   "source": [
    "### filter data\n",
    "Suppose, you want to Create a new json file contains the age and name of the people whose age is greater than 15."
   ]
  },
  {
   "cell_type": "code",
   "execution_count": 23,
   "id": "4fff9ae7",
   "metadata": {},
   "outputs": [
    {
     "data": {
      "text/plain": [
       "[{'age': 18, 'name': 'Mohtasham'},\n",
       " {'age': 22, 'name': 'Farhan'},\n",
       " {'age': 19, 'name': 'Bilal'}]"
      ]
     },
     "execution_count": 23,
     "metadata": {},
     "output_type": "execute_result"
    }
   ],
   "source": [
    "# first step is to create a new empty list to store the filtered data\n",
    "filtered_data = []\n",
    "\n",
    "# in this list, we are going to store records in the form of dictionary\n",
    "\n",
    "# iterate through the json data\n",
    "for data in my_json_data:\n",
    "    \n",
    "    # create new empty dictionary\n",
    "    filtered_variable = {}\n",
    "    \n",
    "    # check for the condition\n",
    "    if data['details']['age'] > 15:\n",
    "        # if condition satisfies, store the age and name\n",
    "        filtered_variable['age'] = data['details']['age']\n",
    "        filtered_variable['name']= data['details']['name']\n",
    "        filtered_data.append(filtered_variable)\n",
    "\n",
    "filtered_data"
   ]
  },
  {
   "cell_type": "markdown",
   "id": "4d4b5a53",
   "metadata": {},
   "source": [
    "### Write filtered data to the new json file"
   ]
  },
  {
   "cell_type": "code",
   "execution_count": 24,
   "id": "321d60f6",
   "metadata": {},
   "outputs": [],
   "source": [
    "# put the filtered data into the new json file\n",
    "\n",
    "# open the file in write mode using with statement\n",
    "with open('datasets/filtered.json','w') as f:\n",
    "    \n",
    "    json.dump(filtered_data, f, indent=4)"
   ]
  },
  {
   "cell_type": "code",
   "execution_count": null,
   "id": "3313ef39",
   "metadata": {},
   "outputs": [],
   "source": []
  }
 ],
 "metadata": {
  "kernelspec": {
   "display_name": "Python 3 (ipykernel)",
   "language": "python",
   "name": "python3"
  },
  "language_info": {
   "codemirror_mode": {
    "name": "ipython",
    "version": 3
   },
   "file_extension": ".py",
   "mimetype": "text/x-python",
   "name": "python",
   "nbconvert_exporter": "python",
   "pygments_lexer": "ipython3",
   "version": "3.8.10"
  }
 },
 "nbformat": 4,
 "nbformat_minor": 5
}
