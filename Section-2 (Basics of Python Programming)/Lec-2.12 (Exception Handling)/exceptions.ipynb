{
 "cells": [
  {
   "cell_type": "markdown",
   "id": "ca09f7e7",
   "metadata": {},
   "source": [
    "---   \n",
    " <img align=\"left\" width=\"75\" height=\"75\"  src=\"https://upload.wikimedia.org/wikipedia/en/c/c8/University_of_the_Punjab_logo.png\"> \n",
    "\n",
    "<h1 align=\"center\">Department of Data Science</h1>\n",
    "<h1 align=\"center\">Course: Tools and Techniques for Data Science</h1>\n",
    "\n",
    "---\n",
    "<h3><div align=\"right\">Instructor: Muhammad Arif Butt, Ph.D.</div></h3>    "
   ]
  },
  {
   "cell_type": "markdown",
   "id": "19663b8b",
   "metadata": {},
   "source": [
    "<h1 align=\"center\">Lecture 2.12</h1>"
   ]
  },
  {
   "cell_type": "markdown",
   "id": "037b9831",
   "metadata": {},
   "source": [
    "## _exceptions.ipynb_"
   ]
  },
  {
   "cell_type": "markdown",
   "id": "27711bd2",
   "metadata": {},
   "source": [
    "### Learning agenda of this notebook\n",
    "\n",
    "1. What are Exceptions?\n",
    "2. Raising an Exception\n",
    "3. Handling exceptions using try:except block\n",
    "4. Types of exceptions in Python\n",
    "5. Multiple except blocks\n",
    "6. Try-except with else clause\n",
    "7. Finally keyword in Python\n",
    "9. User defined exceptions"
   ]
  },
  {
   "cell_type": "markdown",
   "id": "78f5914d",
   "metadata": {},
   "source": [
    "### 1. What are Exceptions?\n",
    "- **Syntax Errors or Parsing Errors:** are errors that are raised before the program/script actually starts its execution. Some common parsing errors in Python are: incorrect indentation, leaving out a symbol (e.g., collon or bracket), empty block. \n",
    "- **Exceptions:** Python generates an exception object (representing error) that is raised during execution of a syntactically correct program and disrupts the normal flow of the program's execution. \n",
    "- **Exception Handling:** Handling the exception object appropriately to avoid abrupt crashing of your program is called exception handling.\n",
    "- Some common exceptions in Python are:\n",
    "   - **ZeroDivisionError** is raised when you perform a division by zero.\n",
    "   - **ValueError** is raised when a function or built-in operation receives an argument that has the right type but an inappropriate value.\n",
    "   - **NameError** is raised when the Python interpreter encounters a symbol that does not exist.\n",
    "   - **TypeError** is raised when you try performing an operation on unsupported types (e.g., 5 + 'hello').\n",
    "   - **IndexError** is raised when you try to refer a sequence which is out of range.\n",
    "   - **IOError** is raised when an IO operation fails, e.g.,  trying to open a file that do not exist.\n",
    "   - **EOFError** is raised when built-in function like input() hits an end of file condition, without reading any data.\n",
    "   - **ImportError** is raised when an import statement fails to find the module.\n",
    "   - **AssertionError** is raised when \n",
    "- Two main categories of exceptions in programming are:\n",
    "    - **Checked Exceptions** are the exceptions which occur at compile time (e.g., file not found, no such function). Since Python is not compiled, so checked exceptions don't make much sense.\n",
    "    - **Unchecked Exception** are the exceptions which are not checked by the compiler (e.g., arithmetic exception, array out of bound). If not handled by programmer properly, the program terminate at runtime. "
   ]
  },
  {
   "cell_type": "code",
   "execution_count": 2,
   "id": "350f4af0",
   "metadata": {},
   "outputs": [
    {
     "ename": "ZeroDivisionError",
     "evalue": "division by zero",
     "output_type": "error",
     "traceback": [
      "\u001b[0;31m---------------------------------------------------------------------------\u001b[0m",
      "\u001b[0;31mZeroDivisionError\u001b[0m                         Traceback (most recent call last)",
      "\u001b[0;32m/var/folders/1t/g3ylw8h50cjdqmk5d6jh1qmm0000gn/T/ipykernel_9965/1313139614.py\u001b[0m in \u001b[0;36m<module>\u001b[0;34m\u001b[0m\n\u001b[1;32m      1\u001b[0m \u001b[0;31m# Example of Exception:\u001b[0m\u001b[0;34m\u001b[0m\u001b[0;34m\u001b[0m\u001b[0;34m\u001b[0m\u001b[0m\n\u001b[0;32m----> 2\u001b[0;31m \u001b[0mprint\u001b[0m\u001b[0;34m(\u001b[0m\u001b[0;36m1\u001b[0m\u001b[0;34m/\u001b[0m\u001b[0;36m0\u001b[0m\u001b[0;34m)\u001b[0m\u001b[0;34m\u001b[0m\u001b[0;34m\u001b[0m\u001b[0m\n\u001b[0m",
      "\u001b[0;31mZeroDivisionError\u001b[0m: division by zero"
     ]
    }
   ],
   "source": [
    "# Example of Exception:\n",
    "print(1/0)"
   ]
  },
  {
   "cell_type": "code",
   "execution_count": 3,
   "id": "c7bb9b30",
   "metadata": {},
   "outputs": [
    {
     "ename": "SyntaxError",
     "evalue": "unmatched ')' (756583275.py, line 2)",
     "output_type": "error",
     "traceback": [
      "\u001b[0;36m  File \u001b[0;32m\"/var/folders/1t/g3ylw8h50cjdqmk5d6jh1qmm0000gn/T/ipykernel_9965/756583275.py\"\u001b[0;36m, line \u001b[0;32m2\u001b[0m\n\u001b[0;31m    print(1/0))\u001b[0m\n\u001b[0m              ^\u001b[0m\n\u001b[0;31mSyntaxError\u001b[0m\u001b[0;31m:\u001b[0m unmatched ')'\n"
     ]
    }
   ],
   "source": [
    "# Example of Syntax Error:\n",
    "print(1/0))"
   ]
  },
  {
   "cell_type": "code",
   "execution_count": 4,
   "id": "50d834be",
   "metadata": {},
   "outputs": [
    {
     "ename": "IndentationError",
     "evalue": "expected an indented block (1651929408.py, line 5)",
     "output_type": "error",
     "traceback": [
      "\u001b[0;36m  File \u001b[0;32m\"/var/folders/1t/g3ylw8h50cjdqmk5d6jh1qmm0000gn/T/ipykernel_9965/1651929408.py\"\u001b[0;36m, line \u001b[0;32m5\u001b[0m\n\u001b[0;31m    print(\"Hello\")\u001b[0m\n\u001b[0m    ^\u001b[0m\n\u001b[0;31mIndentationError\u001b[0m\u001b[0;31m:\u001b[0m expected an indented block\n"
     ]
    }
   ],
   "source": [
    "# Example of Syntax Error: Incorrect Indentation\n",
    "1/0               # note this error is not raised\n",
    "print('This will not be printed')\n",
    "if True:\n",
    "print(\"Hello\")"
   ]
  },
  {
   "cell_type": "code",
   "execution_count": 6,
   "id": "ef1b498d",
   "metadata": {},
   "outputs": [
    {
     "name": "stdout",
     "output_type": "stream",
     "text": [
      "Enter Fahrenheit Temprature: ew\n"
     ]
    },
    {
     "ename": "ValueError",
     "evalue": "could not convert string to float: 'ew'",
     "output_type": "error",
     "traceback": [
      "\u001b[0;31m---------------------------------------------------------------------------\u001b[0m",
      "\u001b[0;31mValueError\u001b[0m                                Traceback (most recent call last)",
      "\u001b[0;32m/var/folders/1t/g3ylw8h50cjdqmk5d6jh1qmm0000gn/T/ipykernel_9965/3674536149.py\u001b[0m in \u001b[0;36m<module>\u001b[0;34m\u001b[0m\n\u001b[1;32m      1\u001b[0m \u001b[0;31m# ValueError is raised because the operation expect a number but is receiving a string\u001b[0m\u001b[0;34m\u001b[0m\u001b[0;34m\u001b[0m\u001b[0;34m\u001b[0m\u001b[0m\n\u001b[0;32m----> 2\u001b[0;31m \u001b[0mfar\u001b[0m \u001b[0;34m=\u001b[0m \u001b[0mfloat\u001b[0m\u001b[0;34m(\u001b[0m\u001b[0minput\u001b[0m\u001b[0;34m(\u001b[0m\u001b[0;34m\"Enter Fahrenheit Temprature: \"\u001b[0m\u001b[0;34m)\u001b[0m\u001b[0;34m)\u001b[0m\u001b[0;34m\u001b[0m\u001b[0;34m\u001b[0m\u001b[0m\n\u001b[0m\u001b[1;32m      3\u001b[0m \u001b[0mcel\u001b[0m \u001b[0;34m=\u001b[0m \u001b[0;34m(\u001b[0m\u001b[0mfar\u001b[0m \u001b[0;34m-\u001b[0m \u001b[0;36m32.0\u001b[0m\u001b[0;34m)\u001b[0m \u001b[0;34m*\u001b[0m \u001b[0;36m5.0\u001b[0m\u001b[0;34m/\u001b[0m\u001b[0;36m9.0\u001b[0m\u001b[0;34m\u001b[0m\u001b[0;34m\u001b[0m\u001b[0m\n\u001b[1;32m      4\u001b[0m \u001b[0mprint\u001b[0m \u001b[0;34m(\u001b[0m\u001b[0mcel\u001b[0m\u001b[0;34m)\u001b[0m\u001b[0;34m\u001b[0m\u001b[0;34m\u001b[0m\u001b[0m\n",
      "\u001b[0;31mValueError\u001b[0m: could not convert string to float: 'ew'"
     ]
    }
   ],
   "source": [
    "# Example of Exception: ValueError is raised if user input a string instead of number\n",
    "far = float(input(\"Enter Fahrenheit Temprature: \"))\n",
    "cel = (far - 32.0) * 5.0/9.0\n",
    "print (cel)"
   ]
  },
  {
   "cell_type": "code",
   "execution_count": 8,
   "id": "3b9c12e7",
   "metadata": {},
   "outputs": [
    {
     "ename": "IndexError",
     "evalue": "list index out of range",
     "output_type": "error",
     "traceback": [
      "\u001b[0;31m---------------------------------------------------------------------------\u001b[0m",
      "\u001b[0;31mIndexError\u001b[0m                                Traceback (most recent call last)",
      "\u001b[0;32m/var/folders/1t/g3ylw8h50cjdqmk5d6jh1qmm0000gn/T/ipykernel_9965/2864118077.py\u001b[0m in \u001b[0;36m<module>\u001b[0;34m\u001b[0m\n\u001b[1;32m      1\u001b[0m \u001b[0;31m# Example of Exception: IndexError is raised when trying to access list index out of range\u001b[0m\u001b[0;34m\u001b[0m\u001b[0;34m\u001b[0m\u001b[0;34m\u001b[0m\u001b[0m\n\u001b[1;32m      2\u001b[0m \u001b[0mmylist\u001b[0m \u001b[0;34m=\u001b[0m \u001b[0;34m[\u001b[0m\u001b[0;36m5\u001b[0m\u001b[0;34m,\u001b[0m \u001b[0;36m33\u001b[0m\u001b[0;34m,\u001b[0m \u001b[0;36m21\u001b[0m\u001b[0;34m]\u001b[0m\u001b[0;34m\u001b[0m\u001b[0;34m\u001b[0m\u001b[0m\n\u001b[0;32m----> 3\u001b[0;31m \u001b[0mprint\u001b[0m\u001b[0;34m(\u001b[0m\u001b[0mmylist\u001b[0m\u001b[0;34m[\u001b[0m\u001b[0;36m3\u001b[0m\u001b[0;34m]\u001b[0m\u001b[0;34m)\u001b[0m\u001b[0;34m\u001b[0m\u001b[0;34m\u001b[0m\u001b[0m\n\u001b[0m",
      "\u001b[0;31mIndexError\u001b[0m: list index out of range"
     ]
    }
   ],
   "source": [
    "# Example of Exception: IndexError is raised when trying to access list index out of range\n",
    "mylist = [5, 33, 21]\n",
    "print(mylist[3])"
   ]
  },
  {
   "cell_type": "markdown",
   "id": "10542042",
   "metadata": {},
   "source": [
    "### 2. Raising an Exception\n",
    "- As a Python developer you can use the **raise** keyword to raise an exception if a specific condition occurs."
   ]
  },
  {
   "cell_type": "code",
   "execution_count": 75,
   "id": "1d34ca97",
   "metadata": {},
   "outputs": [
    {
     "ename": "Exception",
     "evalue": "x should not be negative. The value of x was -4",
     "output_type": "error",
     "traceback": [
      "\u001b[0;31m---------------------------------------------------------------------------\u001b[0m",
      "\u001b[0;31mException\u001b[0m                                 Traceback (most recent call last)",
      "\u001b[0;32m/var/folders/1t/g3ylw8h50cjdqmk5d6jh1qmm0000gn/T/ipykernel_9965/1404896404.py\u001b[0m in \u001b[0;36m<module>\u001b[0;34m\u001b[0m\n\u001b[1;32m      3\u001b[0m \u001b[0mx\u001b[0m \u001b[0;34m=\u001b[0m \u001b[0;34m-\u001b[0m\u001b[0;36m4\u001b[0m\u001b[0;34m\u001b[0m\u001b[0;34m\u001b[0m\u001b[0m\n\u001b[1;32m      4\u001b[0m \u001b[0;32mif\u001b[0m \u001b[0mx\u001b[0m \u001b[0;34m<\u001b[0m \u001b[0;36m0\u001b[0m\u001b[0;34m:\u001b[0m\u001b[0;34m\u001b[0m\u001b[0;34m\u001b[0m\u001b[0m\n\u001b[0;32m----> 5\u001b[0;31m     \u001b[0;32mraise\u001b[0m \u001b[0mException\u001b[0m\u001b[0;34m(\u001b[0m\u001b[0;34m\"x should not be negative. The value of x was %s\"\u001b[0m \u001b[0;34m%\u001b[0m\u001b[0;34m(\u001b[0m\u001b[0mx\u001b[0m\u001b[0;34m)\u001b[0m\u001b[0;34m)\u001b[0m\u001b[0;34m\u001b[0m\u001b[0;34m\u001b[0m\u001b[0m\n\u001b[0m\u001b[1;32m      6\u001b[0m \u001b[0mprint\u001b[0m\u001b[0;34m(\u001b[0m\u001b[0;34m\"Program continues...\"\u001b[0m\u001b[0;34m)\u001b[0m\u001b[0;34m\u001b[0m\u001b[0;34m\u001b[0m\u001b[0m\n",
      "\u001b[0;31mException\u001b[0m: x should not be negative. The value of x was -4"
     ]
    }
   ],
   "source": [
    "# Example: If the condition is true, the exception will be raised, the program will come to a halt and will\n",
    "#          display our exception to screen offering clues as to what went wrong\n",
    "x = 4\n",
    "if x < 0:\n",
    "    raise Exception(\"x should not be negative. The value of x was %s\" %(x))\n",
    "print(\"Program continues...\")"
   ]
  },
  {
   "cell_type": "markdown",
   "id": "1b6c472d",
   "metadata": {},
   "source": [
    "- In above example, when we used the raise keyword, we waited until the exception occurs and our program crash midway\n",
    "- As a Python developer you can use the **assert** statement to raise AssertionError exception\n",
    "- An assert statement checks a condition:\n",
    "    - If the condition evaluates to True, the program will keep running. \n",
    "    - If the condition evaluates to False, the program will raise AssertionError, print the message and stop executing."
   ]
  },
  {
   "cell_type": "code",
   "execution_count": 76,
   "id": "47df43f3",
   "metadata": {},
   "outputs": [
    {
     "ename": "AssertionError",
     "evalue": "This code runs only on Windows",
     "output_type": "error",
     "traceback": [
      "\u001b[0;31m---------------------------------------------------------------------------\u001b[0m",
      "\u001b[0;31mAssertionError\u001b[0m                            Traceback (most recent call last)",
      "\u001b[0;32m/var/folders/1t/g3ylw8h50cjdqmk5d6jh1qmm0000gn/T/ipykernel_9965/1596167167.py\u001b[0m in \u001b[0;36m<module>\u001b[0;34m\u001b[0m\n\u001b[1;32m      2\u001b[0m \u001b[0;31m# Being programmer we want to ensure that program should not start its execution if it is not a Windows machine\u001b[0m\u001b[0;34m\u001b[0m\u001b[0;34m\u001b[0m\u001b[0;34m\u001b[0m\u001b[0m\n\u001b[1;32m      3\u001b[0m \u001b[0;32mimport\u001b[0m \u001b[0msys\u001b[0m\u001b[0;34m\u001b[0m\u001b[0;34m\u001b[0m\u001b[0m\n\u001b[0;32m----> 4\u001b[0;31m \u001b[0;32massert\u001b[0m\u001b[0;34m(\u001b[0m\u001b[0;34m'win32'\u001b[0m \u001b[0;32min\u001b[0m \u001b[0msys\u001b[0m\u001b[0;34m.\u001b[0m\u001b[0mplatform\u001b[0m\u001b[0;34m)\u001b[0m\u001b[0;34m,\u001b[0m \u001b[0;34m\"This code runs only on Windows\"\u001b[0m   \u001b[0;31m# On Mac this will raise AssertionError\u001b[0m\u001b[0;34m\u001b[0m\u001b[0;34m\u001b[0m\u001b[0m\n\u001b[0m\u001b[1;32m      5\u001b[0m \u001b[0;31m#assert('darwin' in sys.platform), \"This code runs only on Mac\"    # On Mac this will succeed\u001b[0m\u001b[0;34m\u001b[0m\u001b[0;34m\u001b[0m\u001b[0;34m\u001b[0m\u001b[0m\n\u001b[1;32m      6\u001b[0m \u001b[0;34m\u001b[0m\u001b[0m\n",
      "\u001b[0;31mAssertionError\u001b[0m: This code runs only on Windows"
     ]
    }
   ],
   "source": [
    "# Example: Suppose a program needs to run on a Windows machine. \n",
    "# Being programmer we want to ensure that program should not start its execution if it is not a Windows machine\n",
    "import sys\n",
    "assert('win32' in sys.platform), \"This code runs only on Windows\"   # On Mac this will raise AssertionError\n",
    "#assert('darwin' in sys.platform), \"This code runs only on Mac\"    # On Mac this will succeed\n",
    "\n",
    "print(\"Program continues...\")"
   ]
  },
  {
   "cell_type": "markdown",
   "id": "ea326a8a",
   "metadata": {},
   "source": [
    "### 3. Handling Exceptions using try and except\n",
    "- In Python **try** and **except** keywords are used to catch and handle exceptions respectively. \n",
    "- Instructions that can raise exceptions are kept inside the try block and the instructions that handle the exception are written inside except block. \n",
    "- The code inside the except block will execute only in case, when the program encounters some error in the preceding try block."
   ]
  },
  {
   "cell_type": "code",
   "execution_count": 44,
   "id": "32e9af8f",
   "metadata": {},
   "outputs": [
    {
     "name": "stdout",
     "output_type": "stream",
     "text": [
      "Enter Fahrenheit Temprature: w\n",
      "An error occurred\n"
     ]
    }
   ],
   "source": [
    "# Example 1: Handle ValueError (if the user inputs a string instead of number)\n",
    "try:\n",
    "    far = float(input(\"Enter Fahrenheit Temprature: \"))\n",
    "    cel = (far - 32.0) * 5.0/9.0\n",
    "    print (cel)\n",
    "\n",
    "# This block will exectue the program without any crash    \n",
    "except:\n",
    "    print(\"An error occurred\")"
   ]
  },
  {
   "cell_type": "code",
   "execution_count": 57,
   "id": "24ae669f",
   "metadata": {},
   "outputs": [
    {
     "name": "stdout",
     "output_type": "stream",
     "text": [
      "An error occurred\n"
     ]
    }
   ],
   "source": [
    "# Example 2: Three errors are there in the try block: ZeroDivisionError, NameError, and TypeError\n",
    "# A try clause is executed up until the point, where the first exception is encountered\n",
    "try:\n",
    "    #z = 45 / 0\n",
    "    print(z)\n",
    "    a = 34 + 'hello'\n",
    "    \n",
    "# This block will exectue the program without any crash\n",
    "except:\n",
    "    print(\"An error occurred\")"
   ]
  },
  {
   "cell_type": "markdown",
   "id": "73e10931",
   "metadata": {},
   "source": [
    "**The above example of try-except statement is good as it is simple and can catch all types of exception. However, it does not help the programmer identify the root cause of the problem**"
   ]
  },
  {
   "cell_type": "markdown",
   "id": "954ccc09",
   "metadata": {},
   "source": [
    "### 4. Types of Exceptions in Python\n",
    "- There are several built-in exceptions in Python that are raised when an error occur.\n",
    "- Some common examples of Python built-in exceptions are ZeroDivisionError, NameError, TypeError and so on. \n",
    "- When an exception occurs the appropriate Exception class object is sent to the except clause as an argument.\n",
    "- One way to capture an exception's argument is by receiving it in the Exception class object\n",
    "- The Exception class object received contains additional information about the raised exception, so as to handle it accordingly."
   ]
  },
  {
   "cell_type": "code",
   "execution_count": 58,
   "id": "ef4a15c7",
   "metadata": {},
   "outputs": [
    {
     "name": "stdout",
     "output_type": "stream",
     "text": [
      "Exception occured:  name 'z' is not defined\n"
     ]
    }
   ],
   "source": [
    "# Example code that specifies the type of exception raised\n",
    "try:\n",
    "   #z = 45 / 0\n",
    "   print(z)\n",
    "   a = 34 + 'hello'\n",
    "    \n",
    "\n",
    "except Exception as e:\n",
    "    print(\"Exception occured: \", e)"
   ]
  },
  {
   "cell_type": "markdown",
   "id": "710fc4dd",
   "metadata": {},
   "source": [
    "### 5. Multiple except clauses\n",
    "- We can have multiple except blocks for one try block.\n",
    "- This is done to handle different types of exceptions that can be raised from within a try block. \n",
    "- This way a programmer can write different handlers for different exceptions. \n",
    "- Please note that at most one except block will be executed. \n",
    "- Moreover, in Python there is no concept of default catch block as in C++"
   ]
  },
  {
   "cell_type": "code",
   "execution_count": 66,
   "id": "d112145f",
   "metadata": {},
   "outputs": [
    {
     "name": "stdout",
     "output_type": "stream",
     "text": [
      "ZeroDivisionError Occurred and Handled\n"
     ]
    }
   ],
   "source": [
    "try:\n",
    "    z = 45 / 0\n",
    "    #print(z)\n",
    "    #a = 34 + 'hello'\n",
    "    #list1 = [1, 5, 9]\n",
    "    #print(list1[3])\n",
    "    #import kakamanna             #ModuleNotFounderror\n",
    "except ZeroDivisionError:\n",
    "    print(\"ZeroDivisionError Occurred and Handled\")\n",
    "except NameError:\n",
    "    print(\"NameError Occurred and Handled\")\n",
    "except TypeError:\n",
    "    print(\"TypeError Occurred and Handled\")\n",
    "except IndexError:\n",
    "    print(\"IndexError Occurred and Handled\")\n",
    "except ModuleNotFoundError:\n",
    "    print(\"ModuleNotFoundError Occurred and Handled\")"
   ]
  },
  {
   "cell_type": "markdown",
   "id": "1b4c8ab0",
   "metadata": {},
   "source": [
    "### 6. Try-except with else clause\n",
    "- The **else clause** is used if you want to execute a piece of code that should execute when no exception is raised.\n",
    "- The **else clause** in the try-except block must be placed after all the except clauses.\n",
    "- The code enters the else block only if the try clause does not raise an exception."
   ]
  },
  {
   "cell_type": "code",
   "execution_count": 68,
   "id": "47ee21e1",
   "metadata": {},
   "outputs": [
    {
     "name": "stdout",
     "output_type": "stream",
     "text": [
      "List Elements are:  [1, 5, 9]\n",
      "This will execute if try clause does not raise an exception\n"
     ]
    }
   ],
   "source": [
    "try:\n",
    "    list1 = [1, 5, 9]\n",
    "    print(\"List Elements are: \", list1)\n",
    "    #5/0\n",
    "\n",
    "except ZeroDivisionError:\n",
    "    print(\"ZeroDivisionError Occurred and Handled\")\n",
    "except NameError:\n",
    "    print(\"NameError Occurred and Handled\")\n",
    "except TypeError:\n",
    "    print(\"TypeError Occurred and Handled\")\n",
    "except IndexError:\n",
    "    print(\"IndexError Occurred and Handled\")\n",
    "else:           \n",
    "    print(\"This will execute if try clause does not raise an exception\")"
   ]
  },
  {
   "cell_type": "markdown",
   "id": "4141c81b",
   "metadata": {},
   "source": [
    "### 7. Finally Keyword in Python\n",
    "- The **finally clause** is used to execute a piece of code that must execute, whether the try-blcok raise an exception or not.\n",
    "- The **finally clause** in the try-except block must be placed after all the except clauses, even after the else clause. \n",
    "- Used to define clean-up actions that must be executed under all circumstances."
   ]
  },
  {
   "cell_type": "code",
   "execution_count": 72,
   "id": "d20ab9d9",
   "metadata": {},
   "outputs": [
    {
     "name": "stdout",
     "output_type": "stream",
     "text": [
      "List Elements are:  [1, 5, 9]\n",
      "ZeroDivisionError Occurred and Handled\n",
      "This will always be executed\n"
     ]
    }
   ],
   "source": [
    "try:\n",
    "    list1 = [1, 5, 9]\n",
    "    print(\"List Elements are: \", list1)\n",
    "    5/0\n",
    "\n",
    "except ZeroDivisionError:\n",
    "    print(\"ZeroDivisionError Occurred and Handled\")\n",
    "except NameError:\n",
    "    print(\"NameError Occurred and Handled\")\n",
    "except TypeError:\n",
    "    print(\"TypeError Occurred and Handled\")\n",
    "except IndexError:\n",
    "    print(\"IndexError Occurred and Handled\")\n",
    "else:           \n",
    "    print(\"This will execute if try clause does not raise an exception\")\n",
    "finally:\n",
    "    print(\"This will always be executed\")"
   ]
  },
  {
   "cell_type": "markdown",
   "id": "b083e435",
   "metadata": {},
   "source": [
    "### 8. User-Defined Exceptions\n",
    "- Python also allows you to create your own exception classes by deriving them from the standard built-in exceptions.\n",
    "- This is useful when you need to display more specific information when an exception is caught.\n",
    "- Although not mandatory, most of the exceptions are named as names that end in “Error” similar to the naming of the standard exceptions in python\n",
    "### [This is Object Oriented Concept. Visit Python Documentation](https://docs.python.org/3/tutorial/errors.html#user-defined-exceptions)"
   ]
  },
  {
   "cell_type": "code",
   "execution_count": null,
   "id": "99ffa41d",
   "metadata": {},
   "outputs": [],
   "source": []
  }
 ],
 "metadata": {
  "kernelspec": {
   "display_name": "Python 3 (ipykernel)",
   "language": "python",
   "name": "python3"
  },
  "language_info": {
   "codemirror_mode": {
    "name": "ipython",
    "version": 3
   },
   "file_extension": ".py",
   "mimetype": "text/x-python",
   "name": "python",
   "nbconvert_exporter": "python",
   "pygments_lexer": "ipython3",
   "version": "3.8.10"
  }
 },
 "nbformat": 4,
 "nbformat_minor": 5
}
