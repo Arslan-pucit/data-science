{
 "cells": [
  {
   "cell_type": "markdown",
   "id": "ca09f7e7",
   "metadata": {},
   "source": [
    "---   \n",
    " <img align=\"left\" width=\"75\" height=\"75\"  src=\"https://upload.wikimedia.org/wikipedia/en/c/c8/University_of_the_Punjab_logo.png\"> \n",
    "\n",
    "<h1 align=\"center\">Department of Data Science</h1>\n",
    "<h1 align=\"center\">Course: Tools and Techniques for Data Science</h1>\n",
    "\n",
    "---\n",
    "<h3><div align=\"right\">Instructor: Muhammad Arif Butt, Ph.D.</div></h3>    "
   ]
  },
  {
   "cell_type": "markdown",
   "id": "19663b8b",
   "metadata": {},
   "source": [
    "<h1 align=\"center\">Lecture 2.12</h1>"
   ]
  },
  {
   "cell_type": "markdown",
   "id": "037b9831",
   "metadata": {},
   "source": [
    "## _exceptions.ipynb_"
   ]
  },
  {
   "cell_type": "markdown",
   "id": "27711bd2",
   "metadata": {},
   "source": [
    "## Learning agenda of this notebook\n",
    "\n",
    "1. What are Exceptions?\n",
    "2. Raising an Exception\n",
    "3. Handling exceptions using try:except block\n",
    "4. Types of exceptions in Python\n",
    "5. Multiple except blocks\n",
    "6. Try-except with else clause\n",
    "7. Finally keyword in Python\n",
    "8. User defined exceptions"
   ]
  },
  {
   "cell_type": "markdown",
   "id": "78f5914d",
   "metadata": {},
   "source": [
    "## 1. What are Exceptions?\n",
    "- **Syntax Errors or Parsing Errors:** are errors that are raised before the program/script actually starts its execution. Some common parsing errors in Python are: incorrect indentation, leaving out a symbol (e.g., collon or bracket), empty block. \n",
    "- **Exceptions:** Python generates an exception object (representing error) that is raised during execution of a syntactically correct program and disrupts the normal flow of the program's execution. \n",
    "- **Exception Handling:** Handling the exception object appropriately to avoid abrupt crashing of your program is called exception handling.\n",
    "- Some common exceptions in Python are:\n",
    "   - **ZeroDivisionError** is raised when you perform a division by zero.\n",
    "   - **ValueError** is raised when a function or built-in operation receives an argument that has the right type but an inappropriate value.\n",
    "   - **NameError** is raised when the Python interpreter encounters a symbol that does not exist.\n",
    "   - **TypeError** is raised when you try performing an operation on unsupported types (e.g., 5 + 'hello').\n",
    "   - **IndexError** is raised when you try to refer a sequence which is out of range.\n",
    "   - **IOError** is raised when an IO operation fails, e.g.,  trying to open a file that do not exist.\n",
    "   - **EOFError** is raised when built-in function like input() hits an end of file condition, without reading any data.\n",
    "   - **ImportError** is raised when an import statement fails to find the module.\n",
    "   - **AssertionError** is raised when an assert statement fails (an assert statement allows you to create simple debug message outputs based on simple logical assertions).\n",
    "- Two main categories of exceptions in programming are:\n",
    "    - **Checked Exceptions** are the exceptions which occur at compile time (e.g., file not found, no such function). Since Python is not compiled, so checked exceptions don't make much sense.\n",
    "    - **Unchecked Exception** are the exceptions which are not checked by the compiler (e.g., arithmetic exception, array out of bound). If not handled by programmer properly, the program terminate at runtime. "
   ]
  },
  {
   "cell_type": "code",
   "execution_count": 1,
   "id": "350f4af0",
   "metadata": {},
   "outputs": [
    {
     "ename": "ZeroDivisionError",
     "evalue": "division by zero",
     "output_type": "error",
     "traceback": [
      "\u001b[0;31m---------------------------------------------------------------------------\u001b[0m",
      "\u001b[0;31mZeroDivisionError\u001b[0m                         Traceback (most recent call last)",
      "\u001b[0;32m/var/folders/1t/g3ylw8h50cjdqmk5d6jh1qmm0000gn/T/ipykernel_23552/1313139614.py\u001b[0m in \u001b[0;36m<module>\u001b[0;34m\u001b[0m\n\u001b[1;32m      1\u001b[0m \u001b[0;31m# Example of Exception:\u001b[0m\u001b[0;34m\u001b[0m\u001b[0;34m\u001b[0m\u001b[0;34m\u001b[0m\u001b[0m\n\u001b[0;32m----> 2\u001b[0;31m \u001b[0mprint\u001b[0m\u001b[0;34m(\u001b[0m\u001b[0;36m1\u001b[0m\u001b[0;34m/\u001b[0m\u001b[0;36m0\u001b[0m\u001b[0;34m)\u001b[0m\u001b[0;34m\u001b[0m\u001b[0;34m\u001b[0m\u001b[0m\n\u001b[0m",
      "\u001b[0;31mZeroDivisionError\u001b[0m: division by zero"
     ]
    }
   ],
   "source": [
    "# Example of Exception:\n",
    "print(1/0)"
   ]
  },
  {
   "cell_type": "code",
   "execution_count": 2,
   "id": "c7bb9b30",
   "metadata": {},
   "outputs": [
    {
     "ename": "SyntaxError",
     "evalue": "unmatched ')' (756583275.py, line 2)",
     "output_type": "error",
     "traceback": [
      "\u001b[0;36m  File \u001b[0;32m\"/var/folders/1t/g3ylw8h50cjdqmk5d6jh1qmm0000gn/T/ipykernel_23552/756583275.py\"\u001b[0;36m, line \u001b[0;32m2\u001b[0m\n\u001b[0;31m    print(1/0))\u001b[0m\n\u001b[0m              ^\u001b[0m\n\u001b[0;31mSyntaxError\u001b[0m\u001b[0;31m:\u001b[0m unmatched ')'\n"
     ]
    }
   ],
   "source": [
    "# Example of Syntax Error:\n",
    "print(1/0))"
   ]
  },
  {
   "cell_type": "code",
   "execution_count": 3,
   "id": "50d834be",
   "metadata": {},
   "outputs": [
    {
     "ename": "IndentationError",
     "evalue": "expected an indented block (2520646431.py, line 5)",
     "output_type": "error",
     "traceback": [
      "\u001b[0;36m  File \u001b[0;32m\"/var/folders/1t/g3ylw8h50cjdqmk5d6jh1qmm0000gn/T/ipykernel_23552/2520646431.py\"\u001b[0;36m, line \u001b[0;32m5\u001b[0m\n\u001b[0;31m    print(\"Hello\")\u001b[0m\n\u001b[0m    ^\u001b[0m\n\u001b[0;31mIndentationError\u001b[0m\u001b[0;31m:\u001b[0m expected an indented block\n"
     ]
    }
   ],
   "source": [
    "# Example of Syntax Error: Incorrect Indentation\n",
    "1/0               # note this error is not raised\n",
    "print('This will not be printed')\n",
    "if True:\n",
    "print(\"Hello\")"
   ]
  },
  {
   "cell_type": "code",
   "execution_count": 4,
   "id": "ef1b498d",
   "metadata": {},
   "outputs": [
    {
     "name": "stdout",
     "output_type": "stream",
     "text": [
      "Enter Fahrenheit Temprature: u\n"
     ]
    },
    {
     "ename": "ValueError",
     "evalue": "could not convert string to float: 'u'",
     "output_type": "error",
     "traceback": [
      "\u001b[0;31m---------------------------------------------------------------------------\u001b[0m",
      "\u001b[0;31mValueError\u001b[0m                                Traceback (most recent call last)",
      "\u001b[0;32m/var/folders/1t/g3ylw8h50cjdqmk5d6jh1qmm0000gn/T/ipykernel_23552/2056001930.py\u001b[0m in \u001b[0;36m<module>\u001b[0;34m\u001b[0m\n\u001b[1;32m      1\u001b[0m \u001b[0;31m# Example of Exception: ValueError is raised if user input a string instead of number\u001b[0m\u001b[0;34m\u001b[0m\u001b[0;34m\u001b[0m\u001b[0;34m\u001b[0m\u001b[0m\n\u001b[0;32m----> 2\u001b[0;31m \u001b[0mfar\u001b[0m \u001b[0;34m=\u001b[0m \u001b[0mfloat\u001b[0m\u001b[0;34m(\u001b[0m\u001b[0minput\u001b[0m\u001b[0;34m(\u001b[0m\u001b[0;34m\"Enter Fahrenheit Temprature: \"\u001b[0m\u001b[0;34m)\u001b[0m\u001b[0;34m)\u001b[0m\u001b[0;34m\u001b[0m\u001b[0;34m\u001b[0m\u001b[0m\n\u001b[0m\u001b[1;32m      3\u001b[0m \u001b[0mcel\u001b[0m \u001b[0;34m=\u001b[0m \u001b[0;34m(\u001b[0m\u001b[0mfar\u001b[0m \u001b[0;34m-\u001b[0m \u001b[0;36m32.0\u001b[0m\u001b[0;34m)\u001b[0m \u001b[0;34m*\u001b[0m \u001b[0;36m5.0\u001b[0m\u001b[0;34m/\u001b[0m\u001b[0;36m9.0\u001b[0m\u001b[0;34m\u001b[0m\u001b[0;34m\u001b[0m\u001b[0m\n\u001b[1;32m      4\u001b[0m \u001b[0mprint\u001b[0m \u001b[0;34m(\u001b[0m\u001b[0mcel\u001b[0m\u001b[0;34m)\u001b[0m\u001b[0;34m\u001b[0m\u001b[0;34m\u001b[0m\u001b[0m\n",
      "\u001b[0;31mValueError\u001b[0m: could not convert string to float: 'u'"
     ]
    }
   ],
   "source": [
    "# Example of Exception: ValueError is raised if user input a string instead of number\n",
    "far = float(input(\"Enter Fahrenheit Temprature: \"))\n",
    "cel = (far - 32.0) * 5.0/9.0\n",
    "print (cel)"
   ]
  },
  {
   "cell_type": "code",
   "execution_count": 5,
   "id": "3b9c12e7",
   "metadata": {},
   "outputs": [
    {
     "ename": "IndexError",
     "evalue": "list index out of range",
     "output_type": "error",
     "traceback": [
      "\u001b[0;31m---------------------------------------------------------------------------\u001b[0m",
      "\u001b[0;31mIndexError\u001b[0m                                Traceback (most recent call last)",
      "\u001b[0;32m/var/folders/1t/g3ylw8h50cjdqmk5d6jh1qmm0000gn/T/ipykernel_23552/2864118077.py\u001b[0m in \u001b[0;36m<module>\u001b[0;34m\u001b[0m\n\u001b[1;32m      1\u001b[0m \u001b[0;31m# Example of Exception: IndexError is raised when trying to access list index out of range\u001b[0m\u001b[0;34m\u001b[0m\u001b[0;34m\u001b[0m\u001b[0;34m\u001b[0m\u001b[0m\n\u001b[1;32m      2\u001b[0m \u001b[0mmylist\u001b[0m \u001b[0;34m=\u001b[0m \u001b[0;34m[\u001b[0m\u001b[0;36m5\u001b[0m\u001b[0;34m,\u001b[0m \u001b[0;36m33\u001b[0m\u001b[0;34m,\u001b[0m \u001b[0;36m21\u001b[0m\u001b[0;34m]\u001b[0m\u001b[0;34m\u001b[0m\u001b[0;34m\u001b[0m\u001b[0m\n\u001b[0;32m----> 3\u001b[0;31m \u001b[0mprint\u001b[0m\u001b[0;34m(\u001b[0m\u001b[0mmylist\u001b[0m\u001b[0;34m[\u001b[0m\u001b[0;36m3\u001b[0m\u001b[0;34m]\u001b[0m\u001b[0;34m)\u001b[0m\u001b[0;34m\u001b[0m\u001b[0;34m\u001b[0m\u001b[0m\n\u001b[0m",
      "\u001b[0;31mIndexError\u001b[0m: list index out of range"
     ]
    }
   ],
   "source": [
    "# Example of Exception: IndexError is raised when trying to access list index out of range\n",
    "mylist = [5, 33, 21]\n",
    "print(mylist[3])"
   ]
  },
  {
   "cell_type": "markdown",
   "id": "10542042",
   "metadata": {},
   "source": [
    "## 2. Raising an Exception\n",
    "- As a Python developer you can use the **raise** keyword to raise an exception if a specific condition occurs."
   ]
  },
  {
   "cell_type": "code",
   "execution_count": 15,
   "id": "72e3b0e4",
   "metadata": {},
   "outputs": [
    {
     "name": "stdout",
     "output_type": "stream",
     "text": [
      "Exceptions\n",
      "**********\n",
      "\n",
      "Exceptions are a means of breaking out of the normal flow of control\n",
      "of a code block in order to handle errors or other exceptional\n",
      "conditions.  An exception is *raised* at the point where the error is\n",
      "detected; it may be *handled* by the surrounding code block or by any\n",
      "code block that directly or indirectly invoked the code block where\n",
      "the error occurred.\n",
      "\n",
      "The Python interpreter raises an exception when it detects a run-time\n",
      "error (such as division by zero).  A Python program can also\n",
      "explicitly raise an exception with the \"raise\" statement. Exception\n",
      "handlers are specified with the \"try\" … \"except\" statement.  The\n",
      "\"finally\" clause of such a statement can be used to specify cleanup\n",
      "code which does not handle the exception, but is executed whether an\n",
      "exception occurred or not in the preceding code.\n",
      "\n",
      "Python uses the “termination” model of error handling: an exception\n",
      "handler can find out what happened and continue execution at an outer\n",
      "level, but it cannot repair the cause of the error and retry the\n",
      "failing operation (except by re-entering the offending piece of code\n",
      "from the top).\n",
      "\n",
      "When an exception is not handled at all, the interpreter terminates\n",
      "execution of the program, or returns to its interactive main loop.  In\n",
      "either case, it prints a stack traceback, except when the exception is\n",
      "\"SystemExit\".\n",
      "\n",
      "Exceptions are identified by class instances.  The \"except\" clause is\n",
      "selected depending on the class of the instance: it must reference the\n",
      "class of the instance or a base class thereof.  The instance can be\n",
      "received by the handler and can carry additional information about the\n",
      "exceptional condition.\n",
      "\n",
      "Note:\n",
      "\n",
      "  Exception messages are not part of the Python API.  Their contents\n",
      "  may change from one version of Python to the next without warning\n",
      "  and should not be relied on by code which will run under multiple\n",
      "  versions of the interpreter.\n",
      "\n",
      "See also the description of the \"try\" statement in section The try\n",
      "statement and \"raise\" statement in section The raise statement.\n",
      "\n",
      "-[ Footnotes ]-\n",
      "\n",
      "[1] This limitation occurs because the code that is executed by these\n",
      "    operations is not available at the time the module is compiled.\n",
      "\n",
      "Related help topics: try, except, finally, raise\n",
      "\n"
     ]
    }
   ],
   "source": [
    "help('EXCEPTIONS')"
   ]
  },
  {
   "cell_type": "code",
   "execution_count": 7,
   "id": "1d34ca97",
   "metadata": {},
   "outputs": [
    {
     "ename": "Exception",
     "evalue": "x should not be negative. The value of x was -1",
     "output_type": "error",
     "traceback": [
      "\u001b[0;31m---------------------------------------------------------------------------\u001b[0m",
      "\u001b[0;31mException\u001b[0m                                 Traceback (most recent call last)",
      "\u001b[0;32m/var/folders/1t/g3ylw8h50cjdqmk5d6jh1qmm0000gn/T/ipykernel_23552/2408971185.py\u001b[0m in \u001b[0;36m<module>\u001b[0;34m\u001b[0m\n\u001b[1;32m      3\u001b[0m \u001b[0mx\u001b[0m \u001b[0;34m=\u001b[0m \u001b[0;34m-\u001b[0m\u001b[0;36m1\u001b[0m\u001b[0;34m\u001b[0m\u001b[0;34m\u001b[0m\u001b[0m\n\u001b[1;32m      4\u001b[0m \u001b[0;32mif\u001b[0m \u001b[0mx\u001b[0m \u001b[0;34m<\u001b[0m \u001b[0;36m0\u001b[0m\u001b[0;34m:\u001b[0m\u001b[0;34m\u001b[0m\u001b[0;34m\u001b[0m\u001b[0m\n\u001b[0;32m----> 5\u001b[0;31m     \u001b[0;32mraise\u001b[0m \u001b[0mException\u001b[0m\u001b[0;34m(\u001b[0m\u001b[0;34m\"x should not be negative. The value of x was {}\"\u001b[0m\u001b[0;34m.\u001b[0m\u001b[0mformat\u001b[0m\u001b[0;34m(\u001b[0m\u001b[0mx\u001b[0m\u001b[0;34m)\u001b[0m\u001b[0;34m)\u001b[0m\u001b[0;34m\u001b[0m\u001b[0;34m\u001b[0m\u001b[0m\n\u001b[0m\u001b[1;32m      6\u001b[0m \u001b[0mprint\u001b[0m\u001b[0;34m(\u001b[0m\u001b[0;34m\"Program continues...\"\u001b[0m\u001b[0;34m)\u001b[0m\u001b[0;34m\u001b[0m\u001b[0;34m\u001b[0m\u001b[0m\n",
      "\u001b[0;31mException\u001b[0m: x should not be negative. The value of x was -1"
     ]
    }
   ],
   "source": [
    "# Example: If the condition is true, the exception will be raised, the program will come to a halt and will\n",
    "#          display our exception to screen offering clues as to what went wrong\n",
    "x = -1\n",
    "if x < 0:\n",
    "    raise Exception(\"x should not be negative. The value of x was {}\".format(x))\n",
    "print(\"Program continues...\")"
   ]
  },
  {
   "cell_type": "markdown",
   "id": "1b6c472d",
   "metadata": {},
   "source": [
    "- In above example, when we used the `raise` keyword, we waited until the exception occurs and our program crash midway\n",
    "- As a Python developer you can use the **assert** statement to raise AssertionError exception\n",
    "- An assert statement checks a condition:\n",
    "    - If the condition evaluates to True, the program will keep running. \n",
    "    - If the condition evaluates to False, the program will raise AssertionError, print the message and stop executing."
   ]
  },
  {
   "cell_type": "code",
   "execution_count": 17,
   "id": "afff63f5",
   "metadata": {},
   "outputs": [
    {
     "name": "stdout",
     "output_type": "stream",
     "text": [
      "The \"assert\" statement\n",
      "**********************\n",
      "\n",
      "Assert statements are a convenient way to insert debugging assertions\n",
      "into a program:\n",
      "\n",
      "   assert_stmt ::= \"assert\" expression [\",\" expression]\n",
      "\n",
      "The simple form, \"assert expression\", is equivalent to\n",
      "\n",
      "   if __debug__:\n",
      "       if not expression: raise AssertionError\n",
      "\n",
      "The extended form, \"assert expression1, expression2\", is equivalent to\n",
      "\n",
      "   if __debug__:\n",
      "       if not expression1: raise AssertionError(expression2)\n",
      "\n",
      "These equivalences assume that \"__debug__\" and \"AssertionError\" refer\n",
      "to the built-in variables with those names.  In the current\n",
      "implementation, the built-in variable \"__debug__\" is \"True\" under\n",
      "normal circumstances, \"False\" when optimization is requested (command\n",
      "line option \"-O\").  The current code generator emits no code for an\n",
      "assert statement when optimization is requested at compile time.  Note\n",
      "that it is unnecessary to include the source code for the expression\n",
      "that failed in the error message; it will be displayed as part of the\n",
      "stack trace.\n",
      "\n",
      "Assignments to \"__debug__\" are illegal.  The value for the built-in\n",
      "variable is determined when the interpreter starts.\n",
      "\n"
     ]
    }
   ],
   "source": [
    "help('assert')"
   ]
  },
  {
   "cell_type": "code",
   "execution_count": 19,
   "id": "47df43f3",
   "metadata": {},
   "outputs": [
    {
     "name": "stdout",
     "output_type": "stream",
     "text": [
      "Program continues...\n"
     ]
    }
   ],
   "source": [
    "# Example: Suppose a program needs to run on a Windows machine. \n",
    "# Being programmer we want to ensure that program should not start its execution if it is not a Windows machine\n",
    "import sys\n",
    "assert('win32' in sys.platform), \"This code runs only on Windows\"   # On Mac this will raise AssertionError\n",
    "#assert('darwin' in sys.platform), \"This code runs only on Mac\"    # On Mac this will succeed\n",
    "\n",
    "print(\"Program continues...\")"
   ]
  },
  {
   "cell_type": "markdown",
   "id": "ea326a8a",
   "metadata": {},
   "source": [
    "## 3. Handling Exceptions using try and except\n",
    "- In Python **try** and **except** keywords are used to catch and handle exceptions respectively. \n",
    "- Instructions that can raise exceptions are kept inside the try block and the instructions that handle the exception are written inside except block. \n",
    "- The code inside the except block will execute only in case, when the program encounters some error in the preceding try block."
   ]
  },
  {
   "cell_type": "code",
   "execution_count": 21,
   "id": "89b2c205",
   "metadata": {
    "collapsed": true
   },
   "outputs": [
    {
     "name": "stdout",
     "output_type": "stream",
     "text": [
      "The \"try\" statement\n",
      "*******************\n",
      "\n",
      "The \"try\" statement specifies exception handlers and/or cleanup code\n",
      "for a group of statements:\n",
      "\n",
      "   try_stmt  ::= try1_stmt | try2_stmt\n",
      "   try1_stmt ::= \"try\" \":\" suite\n",
      "                 (\"except\" [expression [\"as\" identifier]] \":\" suite)+\n",
      "                 [\"else\" \":\" suite]\n",
      "                 [\"finally\" \":\" suite]\n",
      "   try2_stmt ::= \"try\" \":\" suite\n",
      "                 \"finally\" \":\" suite\n",
      "\n",
      "The \"except\" clause(s) specify one or more exception handlers. When no\n",
      "exception occurs in the \"try\" clause, no exception handler is\n",
      "executed. When an exception occurs in the \"try\" suite, a search for an\n",
      "exception handler is started.  This search inspects the except clauses\n",
      "in turn until one is found that matches the exception.  An expression-\n",
      "less except clause, if present, must be last; it matches any\n",
      "exception.  For an except clause with an expression, that expression\n",
      "is evaluated, and the clause matches the exception if the resulting\n",
      "object is “compatible” with the exception.  An object is compatible\n",
      "with an exception if it is the class or a base class of the exception\n",
      "object, or a tuple containing an item that is the class or a base\n",
      "class of the exception object.\n",
      "\n",
      "If no except clause matches the exception, the search for an exception\n",
      "handler continues in the surrounding code and on the invocation stack.\n",
      "[1]\n",
      "\n",
      "If the evaluation of an expression in the header of an except clause\n",
      "raises an exception, the original search for a handler is canceled and\n",
      "a search starts for the new exception in the surrounding code and on\n",
      "the call stack (it is treated as if the entire \"try\" statement raised\n",
      "the exception).\n",
      "\n",
      "When a matching except clause is found, the exception is assigned to\n",
      "the target specified after the \"as\" keyword in that except clause, if\n",
      "present, and the except clause’s suite is executed.  All except\n",
      "clauses must have an executable block.  When the end of this block is\n",
      "reached, execution continues normally after the entire try statement.\n",
      "(This means that if two nested handlers exist for the same exception,\n",
      "and the exception occurs in the try clause of the inner handler, the\n",
      "outer handler will not handle the exception.)\n",
      "\n",
      "When an exception has been assigned using \"as target\", it is cleared\n",
      "at the end of the except clause.  This is as if\n",
      "\n",
      "   except E as N:\n",
      "       foo\n",
      "\n",
      "was translated to\n",
      "\n",
      "   except E as N:\n",
      "       try:\n",
      "           foo\n",
      "       finally:\n",
      "           del N\n",
      "\n",
      "This means the exception must be assigned to a different name to be\n",
      "able to refer to it after the except clause.  Exceptions are cleared\n",
      "because with the traceback attached to them, they form a reference\n",
      "cycle with the stack frame, keeping all locals in that frame alive\n",
      "until the next garbage collection occurs.\n",
      "\n",
      "Before an except clause’s suite is executed, details about the\n",
      "exception are stored in the \"sys\" module and can be accessed via\n",
      "\"sys.exc_info()\". \"sys.exc_info()\" returns a 3-tuple consisting of the\n",
      "exception class, the exception instance and a traceback object (see\n",
      "section The standard type hierarchy) identifying the point in the\n",
      "program where the exception occurred.  \"sys.exc_info()\" values are\n",
      "restored to their previous values (before the call) when returning\n",
      "from a function that handled an exception.\n",
      "\n",
      "The optional \"else\" clause is executed if the control flow leaves the\n",
      "\"try\" suite, no exception was raised, and no \"return\", \"continue\", or\n",
      "\"break\" statement was executed.  Exceptions in the \"else\" clause are\n",
      "not handled by the preceding \"except\" clauses.\n",
      "\n",
      "If \"finally\" is present, it specifies a ‘cleanup’ handler.  The \"try\"\n",
      "clause is executed, including any \"except\" and \"else\" clauses.  If an\n",
      "exception occurs in any of the clauses and is not handled, the\n",
      "exception is temporarily saved. The \"finally\" clause is executed.  If\n",
      "there is a saved exception it is re-raised at the end of the \"finally\"\n",
      "clause.  If the \"finally\" clause raises another exception, the saved\n",
      "exception is set as the context of the new exception. If the \"finally\"\n",
      "clause executes a \"return\", \"break\" or \"continue\" statement, the saved\n",
      "exception is discarded:\n",
      "\n",
      "   >>> def f():\n",
      "   ...     try:\n",
      "   ...         1/0\n",
      "   ...     finally:\n",
      "   ...         return 42\n",
      "   ...\n",
      "   >>> f()\n",
      "   42\n",
      "\n",
      "The exception information is not available to the program during\n",
      "execution of the \"finally\" clause.\n",
      "\n",
      "When a \"return\", \"break\" or \"continue\" statement is executed in the\n",
      "\"try\" suite of a \"try\"…\"finally\" statement, the \"finally\" clause is\n",
      "also executed ‘on the way out.’\n",
      "\n",
      "The return value of a function is determined by the last \"return\"\n",
      "statement executed.  Since the \"finally\" clause always executes, a\n",
      "\"return\" statement executed in the \"finally\" clause will always be the\n",
      "last one executed:\n",
      "\n",
      "   >>> def foo():\n",
      "   ...     try:\n",
      "   ...         return 'try'\n",
      "   ...     finally:\n",
      "   ...         return 'finally'\n",
      "   ...\n",
      "   >>> foo()\n",
      "   'finally'\n",
      "\n",
      "Additional information on exceptions can be found in section\n",
      "Exceptions, and information on using the \"raise\" statement to generate\n",
      "exceptions may be found in section The raise statement.\n",
      "\n",
      "Changed in version 3.8: Prior to Python 3.8, a \"continue\" statement\n",
      "was illegal in the \"finally\" clause due to a problem with the\n",
      "implementation.\n",
      "\n",
      "Related help topics: EXCEPTIONS\n",
      "\n"
     ]
    }
   ],
   "source": [
    "help('try')"
   ]
  },
  {
   "cell_type": "code",
   "execution_count": 23,
   "id": "32e9af8f",
   "metadata": {},
   "outputs": [
    {
     "name": "stdout",
     "output_type": "stream",
     "text": [
      "Enter Fahrenheit Temprature: n\n",
      "An error occurred\n"
     ]
    }
   ],
   "source": [
    "# Example 1: Handle ValueError (if the user inputs a string instead of number)\n",
    "try:\n",
    "    far = float(input(\"Enter Fahrenheit Temprature: \"))\n",
    "    cel = (far - 32.0) * 5.0/9.0\n",
    "    print (cel)\n",
    "\n",
    "# This block will exectue the program without any crash    \n",
    "except:\n",
    "    print(\"An error occurred\")"
   ]
  },
  {
   "cell_type": "code",
   "execution_count": 26,
   "id": "24ae669f",
   "metadata": {},
   "outputs": [
    {
     "name": "stdout",
     "output_type": "stream",
     "text": [
      "An error occurred\n"
     ]
    }
   ],
   "source": [
    "# Example 2: Three errors are there in the try block: ZeroDivisionError, NameError, and TypeError\n",
    "# A try clause is executed up until the point, where the first exception is encountered\n",
    "try:\n",
    "    #z = 45 / 0\n",
    "    print(z)\n",
    "    a = 34 + 'hello'\n",
    "    \n",
    "# This block will exectue the program without any crash\n",
    "except:\n",
    "    print(\"An error occurred\")"
   ]
  },
  {
   "cell_type": "markdown",
   "id": "73e10931",
   "metadata": {},
   "source": [
    "**The above example of try-except statement is good as it is simple and can catch all types of exception. However, it does not help the programmer identify the root cause of the problem**"
   ]
  },
  {
   "cell_type": "markdown",
   "id": "954ccc09",
   "metadata": {},
   "source": [
    "## 4. Types of Exceptions in Python\n",
    "- There are several built-in exceptions in Python that are raised when an error occur.\n",
    "- Some common examples of Python built-in exceptions are ZeroDivisionError, NameError, TypeError and so on. \n",
    "- When an exception occurs the appropriate Exception class object is sent to the except clause as an argument.\n",
    "- One way to capture an exception's argument is by receiving it in the Exception class object\n",
    "- The Exception class object received contains additional information about the raised exception, so as to handle it accordingly."
   ]
  },
  {
   "cell_type": "code",
   "execution_count": 29,
   "id": "ef4a15c7",
   "metadata": {},
   "outputs": [
    {
     "name": "stdout",
     "output_type": "stream",
     "text": [
      "Exception occured:  division by zero\n"
     ]
    }
   ],
   "source": [
    "# Example code that specifies the type of exception raised\n",
    "try:\n",
    "   #z = 45 / 0\n",
    "   print(z)\n",
    "   a = 34 + 'hello'\n",
    "    \n",
    "\n",
    "except Exception as e:\n",
    "    print(\"Exception occured: \", e)"
   ]
  },
  {
   "cell_type": "markdown",
   "id": "710fc4dd",
   "metadata": {},
   "source": [
    "## 5. Multiple except clauses\n",
    "- We can have multiple except blocks for one try block.\n",
    "- This is done to handle different types of exceptions that can be raised from within a try block. \n",
    "- This way a programmer can write different handlers for different exceptions. \n",
    "- Please note that at most one except block will be executed. \n",
    "- Moreover, in Python there is no concept of default catch block as in C++"
   ]
  },
  {
   "cell_type": "code",
   "execution_count": 30,
   "id": "d112145f",
   "metadata": {},
   "outputs": [
    {
     "name": "stdout",
     "output_type": "stream",
     "text": [
      "ZeroDivisionError Occurred and Handled\n"
     ]
    }
   ],
   "source": [
    "try:\n",
    "    z = 45 / 0\n",
    "    #print(z)\n",
    "    #a = 34 + 'hello'\n",
    "    #list1 = [1, 5, 9]\n",
    "    #print(list1[3])\n",
    "    #import kakamanna             #ModuleNotFounderror\n",
    "except ZeroDivisionError:\n",
    "    print(\"ZeroDivisionError Occurred and Handled\")\n",
    "except NameError:\n",
    "    print(\"NameError Occurred and Handled\")\n",
    "except TypeError:\n",
    "    print(\"TypeError Occurred and Handled\")\n",
    "except IndexError:\n",
    "    print(\"IndexError Occurred and Handled\")\n",
    "except ModuleNotFoundError:\n",
    "    print(\"ModuleNotFoundError Occurred and Handled\")"
   ]
  },
  {
   "cell_type": "markdown",
   "id": "1b4c8ab0",
   "metadata": {},
   "source": [
    "## 6. Try-except with else clause\n",
    "- The **else clause** is used if you want to execute a piece of code that should execute when no exception is raised.\n",
    "- The **else clause** in the try-except block must be placed after all the except clauses.\n",
    "- The code enters the else block only if the try clause does not raise an exception."
   ]
  },
  {
   "cell_type": "code",
   "execution_count": 31,
   "id": "47ee21e1",
   "metadata": {},
   "outputs": [
    {
     "name": "stdout",
     "output_type": "stream",
     "text": [
      "List Elements are:  [1, 5, 9]\n",
      "This will execute if try clause does not raise an exception\n"
     ]
    }
   ],
   "source": [
    "try:\n",
    "    list1 = [1, 5, 9]\n",
    "    print(\"List Elements are: \", list1)\n",
    "    #5/0\n",
    "\n",
    "except ZeroDivisionError:\n",
    "    print(\"ZeroDivisionError Occurred and Handled\")\n",
    "except NameError:\n",
    "    print(\"NameError Occurred and Handled\")\n",
    "except TypeError:\n",
    "    print(\"TypeError Occurred and Handled\")\n",
    "except IndexError:\n",
    "    print(\"IndexError Occurred and Handled\")\n",
    "else:           \n",
    "    print(\"This will execute if try clause does not raise an exception\")"
   ]
  },
  {
   "cell_type": "markdown",
   "id": "4141c81b",
   "metadata": {},
   "source": [
    "## 7. Finally Keyword in Python\n",
    "- The **`finally clause`** is used to execute a piece of code that must execute, whether the `try-block` raise an exception or not.\n",
    "- The **`finally clause`** in the `try-except` block must be placed after all the `except` clauses, even after the `else` clause. \n",
    "- Used to define clean-up actions that must be executed under all circumstances."
   ]
  },
  {
   "cell_type": "code",
   "execution_count": 36,
   "id": "d20ab9d9",
   "metadata": {},
   "outputs": [
    {
     "name": "stdout",
     "output_type": "stream",
     "text": [
      "List Elements are:  [1, 5, 9]\n",
      "This will execute if try clause does not raise an exception\n",
      "This will always be executed\n"
     ]
    }
   ],
   "source": [
    "try:\n",
    "    list1 = [1, 5, 9]\n",
    "    print(\"List Elements are: \", list1)\n",
    "    #5/0\n",
    "\n",
    "except ZeroDivisionError:\n",
    "    print(\"ZeroDivisionError Occurred and Handled\")\n",
    "except NameError:\n",
    "    print(\"NameError Occurred and Handled\")\n",
    "except TypeError:\n",
    "    print(\"TypeError Occurred and Handled\")\n",
    "except IndexError:\n",
    "    print(\"IndexError Occurred and Handled\")\n",
    "else:           \n",
    "    print(\"This will execute if try clause does not raise an exception\")\n",
    "finally:\n",
    "    print(\"This will always be executed\")"
   ]
  },
  {
   "cell_type": "markdown",
   "id": "b083e435",
   "metadata": {},
   "source": [
    "## 8. User-Defined Exceptions\n",
    "- Python also allows you to create your own exception classes by deriving them from the standard built-in exceptions.\n",
    "- This is useful when you need to display more specific information when an exception is caught.\n",
    "- Although not mandatory, most of the exceptions are named as names that end in “Error” similar to the naming of the standard exceptions in python\n",
    "### [This is Object Oriented Concept. Visit Python Documentation](https://docs.python.org/3/tutorial/errors.html#user-defined-exceptions)"
   ]
  },
  {
   "cell_type": "markdown",
   "id": "3c7cc6ce",
   "metadata": {},
   "source": [
    "## Check your Concepts\n",
    "\n",
    "Try answering the following questions to test your understanding of the topics covered in this notebook:\n",
    "\n",
    "1. What are exceptions in Python? When do they occur?\n",
    "2. How are exceptions different from syntax errors?\n",
    "3. What are the different types of in-built exceptions in Python? Where can you learn about them?\n",
    "4. How do you prevent the termination of a program due to an exception?\n",
    "5. What is the purpose of the `try`-`except` statements in Python?\n",
    "6. What is the syntax of the `try`-`except` statements? Give an example.\n",
    "7. What happens if an exception occurs inside a `try` block?\n",
    "8. How do you handle two different types of exceptions using `except`? Can you have multiple `except` blocks under a single `try` block?\n",
    "9. How do you create an `except` block to handle any type of exception?\n",
    "10. Illustrate the usage of `try`-`except` inside a function with an example.\n"
   ]
  },
  {
   "cell_type": "code",
   "execution_count": null,
   "id": "e1cb9d94",
   "metadata": {},
   "outputs": [],
   "source": []
  }
 ],
 "metadata": {
  "kernelspec": {
   "display_name": "Python 3 (ipykernel)",
   "language": "python",
   "name": "python3"
  },
  "language_info": {
   "codemirror_mode": {
    "name": "ipython",
    "version": 3
   },
   "file_extension": ".py",
   "mimetype": "text/x-python",
   "name": "python",
   "nbconvert_exporter": "python",
   "pygments_lexer": "ipython3",
   "version": "3.8.10"
  }
 },
 "nbformat": 4,
 "nbformat_minor": 5
}
