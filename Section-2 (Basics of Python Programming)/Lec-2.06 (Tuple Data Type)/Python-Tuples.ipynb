{
 "cells": [
  {
   "cell_type": "markdown",
   "id": "a6651c01",
   "metadata": {},
   "source": [
    "---   \n",
    " <img align=\"left\" width=\"75\" height=\"75\"  src=\"https://upload.wikimedia.org/wikipedia/en/c/c8/University_of_the_Punjab_logo.png\"> \n",
    "\n",
    "<h1 align=\"center\">Department of Data Science</h1>\n",
    "<h1 align=\"center\">Course: Tools and Techniques for Data Science</h1>\n",
    "\n",
    "---\n",
    "<h3><div align=\"right\">Instructor: Muhammad Arif Butt, Ph.D.</div></h3>    "
   ]
  },
  {
   "cell_type": "markdown",
   "id": "a363bc39",
   "metadata": {},
   "source": [
    "<h1 align=\"center\">Lecture 2.6</h1>"
   ]
  },
  {
   "cell_type": "markdown",
   "id": "95de41a5",
   "metadata": {},
   "source": [
    "## _Python-Tuples.ipynb_\n",
    "#### [Click me to learn more about Python Tuples](https://www.geeksforgeeks.org/python-tuples/)"
   ]
  },
  {
   "cell_type": "markdown",
   "id": "7c109b0c",
   "metadata": {},
   "source": [
    "## Learning agenda of this notebook\n",
    "1. How to create tuples?\n",
    "2. Proof of concepts: Tuples are heterogeneous, ordered, nested, immutable, and allow duplicate elements\n",
    "3. Accessing elements of tuples?\n",
    "4. Being immutable, you cannot add elements to a tuple (in list this is possible using append, extend, and insert)\n",
    "5. Being immutable, you cannot remove elemenst from a tuple (in list this is possible using pop and remove methods)\n",
    "6. Tuple concatenation and repetition\n",
    "7. Slicing a tuple\n",
    "8. Converting string object to tuple and vice-versa (using type casting, `split()` and `join()`)\n",
    "9. Misc tuple methods\n",
    "10. Misc Concepts"
   ]
  },
  {
   "cell_type": "code",
   "execution_count": 1,
   "id": "a0ce27db",
   "metadata": {},
   "outputs": [
    {
     "name": "stdout",
     "output_type": "stream",
     "text": [
      "Help on class tuple in module builtins:\n",
      "\n",
      "class tuple(object)\n",
      " |  tuple(iterable=(), /)\n",
      " |  \n",
      " |  Built-in immutable sequence.\n",
      " |  \n",
      " |  If no argument is given, the constructor returns an empty tuple.\n",
      " |  If iterable is specified the tuple is initialized from iterable's items.\n",
      " |  \n",
      " |  If the argument is a tuple, the return value is the same object.\n",
      " |  \n",
      " |  Built-in subclasses:\n",
      " |      asyncgen_hooks\n",
      " |      UnraisableHookArgs\n",
      " |  \n",
      " |  Methods defined here:\n",
      " |  \n",
      " |  __add__(self, value, /)\n",
      " |      Return self+value.\n",
      " |  \n",
      " |  __contains__(self, key, /)\n",
      " |      Return key in self.\n",
      " |  \n",
      " |  __eq__(self, value, /)\n",
      " |      Return self==value.\n",
      " |  \n",
      " |  __ge__(self, value, /)\n",
      " |      Return self>=value.\n",
      " |  \n",
      " |  __getattribute__(self, name, /)\n",
      " |      Return getattr(self, name).\n",
      " |  \n",
      " |  __getitem__(self, key, /)\n",
      " |      Return self[key].\n",
      " |  \n",
      " |  __getnewargs__(self, /)\n",
      " |  \n",
      " |  __gt__(self, value, /)\n",
      " |      Return self>value.\n",
      " |  \n",
      " |  __hash__(self, /)\n",
      " |      Return hash(self).\n",
      " |  \n",
      " |  __iter__(self, /)\n",
      " |      Implement iter(self).\n",
      " |  \n",
      " |  __le__(self, value, /)\n",
      " |      Return self<=value.\n",
      " |  \n",
      " |  __len__(self, /)\n",
      " |      Return len(self).\n",
      " |  \n",
      " |  __lt__(self, value, /)\n",
      " |      Return self<value.\n",
      " |  \n",
      " |  __mul__(self, value, /)\n",
      " |      Return self*value.\n",
      " |  \n",
      " |  __ne__(self, value, /)\n",
      " |      Return self!=value.\n",
      " |  \n",
      " |  __repr__(self, /)\n",
      " |      Return repr(self).\n",
      " |  \n",
      " |  __rmul__(self, value, /)\n",
      " |      Return value*self.\n",
      " |  \n",
      " |  count(self, value, /)\n",
      " |      Return number of occurrences of value.\n",
      " |  \n",
      " |  index(self, value, start=0, stop=9223372036854775807, /)\n",
      " |      Return first index of value.\n",
      " |      \n",
      " |      Raises ValueError if the value is not present.\n",
      " |  \n",
      " |  ----------------------------------------------------------------------\n",
      " |  Static methods defined here:\n",
      " |  \n",
      " |  __new__(*args, **kwargs) from builtins.type\n",
      " |      Create and return a new object.  See help(type) for accurate signature.\n",
      "\n"
     ]
    }
   ],
   "source": [
    "help(tuple)"
   ]
  },
  {
   "cell_type": "markdown",
   "id": "78d11dc1",
   "metadata": {},
   "source": [
    "## 1. How to create Tuples?\n",
    "- A Tuple in Python is an ordered collection of values, similar to a list.\n",
    "- A tuple is created by placing comma separated values in parenthesis (or without prenthesis as well) \n",
    "- Like list, a tuple also allows us to store elements of different data types in one container.\n",
    "- Unlike list, it is not possible to add, remove, or modify values in a tuple.\n",
    "- Any data structure that cannot be modified after creation is called *immutable*, so you can think of tuples as immutable lists.\n",
    "- Apart from this, every operation that we can perform on lists that do not modify them, can be performed on tuples as well.\n",
    "- Advantages of using tuples over lists?\n",
    "    - Program execution is faster when manipulating tuples\n",
    "    - Tuples are more efficient, if you want to create an ordered list of objects that does not need modification\n",
    "    - Tuples being immutable are used in Dictionaries as keys (which are immutable)"
   ]
  },
  {
   "cell_type": "code",
   "execution_count": 2,
   "id": "88801cf7",
   "metadata": {},
   "outputs": [
    {
     "name": "stdout",
     "output_type": "stream",
     "text": [
      "t1:  (1, 2, 3, 4, 5)\n",
      "t2:  (2.3, 5.6, 1.8)\n",
      "t3:  ('hello', 'this', 'F', 'good show')\n",
      "t4:  (True, False, True)\n",
      "Type of t4 is:  <class 'tuple'>\n"
     ]
    }
   ],
   "source": [
    "t1 = (1, 2, 3, 4, 5)   #tuple of integers\n",
    "# You can also skip the parantheses `(` and `)` while creating a tuple. \n",
    "# Python automatically converts comma-separated values into a tuple.\n",
    "t1 = 1, 2, 3, 4, 5\n",
    "print(\"t1: \", t1)\n",
    "\n",
    "t2 = (2.3, 5.6, 1.8)  #tuple of floats\n",
    "print(\"t2: \", t2)\n",
    "\n",
    "t3 = ('hello', 'this', 'F', 'good show') #tuple of strings\n",
    "print(\"t3: \", t3)\n",
    "\n",
    "t4 = (True, False, True)    # tuple of boolean values\n",
    "print(\"t4: \", t4)\n",
    "\n",
    "\n",
    "print(\"Type of t4 is: \", type(t4))"
   ]
  },
  {
   "cell_type": "code",
   "execution_count": 3,
   "id": "a51ee7b3",
   "metadata": {},
   "outputs": [
    {
     "name": "stdout",
     "output_type": "stream",
     "text": [
      "t5:  ()\n"
     ]
    }
   ],
   "source": [
    "# creating empty tuple\n",
    "t5 = ()\n",
    "print(\"t5: \", t5)"
   ]
  },
  {
   "cell_type": "code",
   "execution_count": 4,
   "id": "0d9fbff4",
   "metadata": {},
   "outputs": [
    {
     "name": "stdout",
     "output_type": "stream",
     "text": [
      "\n",
      "t6:  (25,)\n",
      "<class 'tuple'>\n"
     ]
    }
   ],
   "source": [
    "# to create a tuple with only one element is a bit tricky\n",
    "t6 = (25,)       # note the comma, without Python will take it as int/float/string and not tuple\n",
    "print(\"\\nt6: \", t6)\n",
    "print(type(t6))"
   ]
  },
  {
   "cell_type": "code",
   "execution_count": 5,
   "id": "3c2bd2e4",
   "metadata": {},
   "outputs": [
    {
     "name": "stdout",
     "output_type": "stream",
     "text": [
      "('Arif', 30, 5.5, (10, 'rauf'))\n"
     ]
    }
   ],
   "source": [
    "# Nested Tuple: a tuple can also have another tuple as an item\n",
    "t1 = (\"Arif\", 30, 5.5, (10,'rauf'))\n",
    "print(t1)"
   ]
  },
  {
   "cell_type": "code",
   "execution_count": 6,
   "id": "810d75d3",
   "metadata": {},
   "outputs": [
    {
     "name": "stdout",
     "output_type": "stream",
     "text": [
      "t1:  (1, 'Hello', [8, 'OK', 6], (1, 2, 'BYE'), 5.5)\n",
      "Type of t1 is:  <class 'tuple'>\n"
     ]
    }
   ],
   "source": [
    "# Nested tuple: A tuple can also have another tuple, or list as an item\n",
    "t1 = (1, \"Hello\", [8, 'OK', 6], (1, 2, 'BYE'), 5.5)\n",
    "print(\"t1: \", t1)\n",
    "print(\"Type of t1 is: \", type(t1))"
   ]
  },
  {
   "cell_type": "markdown",
   "id": "48f77dc4",
   "metadata": {},
   "source": [
    "## 2. Proof of concepts:"
   ]
  },
  {
   "cell_type": "markdown",
   "id": "00a2ff5d",
   "metadata": {},
   "source": [
    "### a. Tuples are heterogeneous\n",
    "- Tuples are heterogeneous, as their elements/items can be of any data type"
   ]
  },
  {
   "cell_type": "code",
   "execution_count": 7,
   "id": "7c3a9b9c",
   "metadata": {},
   "outputs": [
    {
     "name": "stdout",
     "output_type": "stream",
     "text": [
      "t1:  ('Arif', 30, 5.5)\n"
     ]
    }
   ],
   "source": [
    "t1 = (\"Arif\", 30, 5.5)\n",
    "print(\"t1: \", t1)"
   ]
  },
  {
   "cell_type": "markdown",
   "id": "f7ef359e",
   "metadata": {},
   "source": [
    "### b. Tuples are ordered\n",
    "- Tuples are ordered means every element is associated by an index\n",
    "- Every time you access tuple elements they will show up in same sequence. \n",
    "- Moreover, two tuples having same elements in different order are not same."
   ]
  },
  {
   "cell_type": "code",
   "execution_count": 2,
   "id": "8c570d52",
   "metadata": {},
   "outputs": [
    {
     "data": {
      "text/plain": [
       "(140368902675776, 140368902672768, False, False)"
      ]
     },
     "execution_count": 2,
     "metadata": {},
     "output_type": "execute_result"
    }
   ],
   "source": [
    "a = (1, 2, 3)\n",
    "b = (2, 3, 1)\n",
    "id(a), id(b), a is b, a == b"
   ]
  },
  {
   "cell_type": "markdown",
   "id": "251c05b7",
   "metadata": {},
   "source": [
    "#### c. Tuples are immutable\n",
    "- Means once a tuple object is created, you CANNOT make changes to it and modify its elements"
   ]
  },
  {
   "cell_type": "code",
   "execution_count": 8,
   "id": "8d0f40de",
   "metadata": {},
   "outputs": [
    {
     "ename": "TypeError",
     "evalue": "'tuple' object does not support item assignment",
     "output_type": "error",
     "traceback": [
      "\u001b[0;31m---------------------------------------------------------------------------\u001b[0m",
      "\u001b[0;31mTypeError\u001b[0m                                 Traceback (most recent call last)",
      "\u001b[0;32m/var/folders/1t/g3ylw8h50cjdqmk5d6jh1qmm0000gn/T/ipykernel_15445/769081338.py\u001b[0m in \u001b[0;36m<module>\u001b[0;34m\u001b[0m\n\u001b[1;32m      1\u001b[0m \u001b[0;31m# Tuples are immutable, i.e., tuple elements cannot be changed\u001b[0m\u001b[0;34m\u001b[0m\u001b[0;34m\u001b[0m\u001b[0;34m\u001b[0m\u001b[0m\n\u001b[1;32m      2\u001b[0m \u001b[0mnumbers\u001b[0m \u001b[0;34m=\u001b[0m \u001b[0;34m(\u001b[0m\u001b[0;36m10\u001b[0m\u001b[0;34m,\u001b[0m \u001b[0;36m20\u001b[0m\u001b[0;34m,\u001b[0m \u001b[0;36m30\u001b[0m\u001b[0;34m)\u001b[0m\u001b[0;34m\u001b[0m\u001b[0;34m\u001b[0m\u001b[0m\n\u001b[0;32m----> 3\u001b[0;31m \u001b[0mnumbers\u001b[0m\u001b[0;34m[\u001b[0m\u001b[0;36m2\u001b[0m\u001b[0;34m]\u001b[0m \u001b[0;34m=\u001b[0m \u001b[0;36m15\u001b[0m    \u001b[0;31m# this will generate an error\u001b[0m\u001b[0;34m\u001b[0m\u001b[0;34m\u001b[0m\u001b[0m\n\u001b[0m",
      "\u001b[0;31mTypeError\u001b[0m: 'tuple' object does not support item assignment"
     ]
    }
   ],
   "source": [
    "# Tuples are immutable, i.e., tuple elements cannot be changed\n",
    "numbers = (10, 20, 30)\n",
    "numbers[2] = 15    # this will generate an error"
   ]
  },
  {
   "cell_type": "code",
   "execution_count": 9,
   "id": "80c29ede",
   "metadata": {},
   "outputs": [
    {
     "data": {
      "text/plain": [
       "(1, 2, 3)"
      ]
     },
     "execution_count": 9,
     "metadata": {},
     "output_type": "execute_result"
    }
   ],
   "source": [
    "# Tupple however can be reassigned\n",
    "numbers = (10, 20, 30)\n",
    "numbers = (1, 2, 3)  # A tupple can be reassigned\n",
    "numbers"
   ]
  },
  {
   "cell_type": "code",
   "execution_count": 10,
   "id": "4fc9e430",
   "metadata": {},
   "outputs": [
    {
     "data": {
      "text/plain": [
       "(4, 2, 3, [9, 5])"
      ]
     },
     "execution_count": 10,
     "metadata": {},
     "output_type": "execute_result"
    }
   ],
   "source": [
    "# A list within a tuple is still mutable\n",
    "my_tuple = (4, 2, 3, [6, 5])\n",
    "my_tuple[3][0] = 9         # will work fine\n",
    "my_tuple"
   ]
  },
  {
   "cell_type": "markdown",
   "id": "8a459d21",
   "metadata": {},
   "source": [
    "#### d. Tuples can have duplicate elements"
   ]
  },
  {
   "cell_type": "code",
   "execution_count": 11,
   "id": "0a910e6f",
   "metadata": {},
   "outputs": [
    {
     "name": "stdout",
     "output_type": "stream",
     "text": [
      "('Arif', 'Rauf', 'Hadeed', 'Arif', 'Mujahid')\n"
     ]
    }
   ],
   "source": [
    "# Tuples allow duplicate elements\n",
    "names = ('Arif', 'Rauf', 'Hadeed', 'Arif', 'Mujahid')\n",
    "print(names)"
   ]
  },
  {
   "cell_type": "markdown",
   "id": "32a0f7b9",
   "metadata": {},
   "source": [
    "#### e. Tuples can be nested to arbitrary depth\n",
    "- You can have tuples within tuples and that can be done to an arbitrary depth. You are only restricted to the available memory on your system"
   ]
  },
  {
   "cell_type": "code",
   "execution_count": null,
   "id": "e087c00b",
   "metadata": {},
   "outputs": [],
   "source": [
    "# A tuple having two sub-tuples within it\n",
    "a = (1,2,3,(4,5),(6,7,8,9),10,11)\n",
    "# A tuple having a sub-tuple, which is further having a sub-tuple and that again having a subtuple\n",
    "b = (1,2,3,(4,5,(6,7,8,(9,10,11))))\n",
    "a, b"
   ]
  },
  {
   "cell_type": "markdown",
   "id": "1f8ac237",
   "metadata": {},
   "source": [
    "#### f. Packing and Unpacking Tuples"
   ]
  },
  {
   "cell_type": "code",
   "execution_count": 12,
   "id": "6b94e91a",
   "metadata": {},
   "outputs": [
    {
     "name": "stdout",
     "output_type": "stream",
     "text": [
      "learning fun Arif\n",
      "<class 'str'>\n"
     ]
    }
   ],
   "source": [
    "# you can assign individual elements of tuples to string variables\n",
    "msg = ('learning', 'is', 'fun', 'with', 'Arif')\n",
    "a, b, c, d, e = msg # the number of variables on the left must match the length of tuple\n",
    "print (a, c, e)\n",
    "print(type(a))"
   ]
  },
  {
   "cell_type": "markdown",
   "id": "418db83b",
   "metadata": {},
   "source": [
    "### 3. Different ways to access elements of a tuple\n",
    "- Since tuple like list is of type sequence, and any component within a sequence can be accessed by entrying an index within square brackets. So naturally this must work for tuple as well\n",
    "- Similarly, if we want to find out the index of a specific item/character, we can use the `index()` method of tuple class"
   ]
  },
  {
   "cell_type": "code",
   "execution_count": null,
   "id": "bbc96405",
   "metadata": {},
   "outputs": [],
   "source": [
    "#You can access elements of tuple using indexing which starts from zero\n",
    "t1 = (\"Arif\", 30, 5.5, (10,'rauf'))\n",
    "print(t1[3])\n",
    "\n",
    "#accessing Nested tuple element\n",
    "print(t1[0][2])              #accessing third element of tuple at index 0\n",
    "print(t1[3][1])              #accessing second element of Nested tuple"
   ]
  },
  {
   "cell_type": "code",
   "execution_count": null,
   "id": "c0d21f34",
   "metadata": {},
   "outputs": [],
   "source": [
    "#Negative indexing starts looking at the tuple from the right hand side\n",
    "t1 = (\"Arif\", 30, 5.5, (10,'rauf'))\n",
    "print(t1[-1])                #accessing last element\n",
    "print(t1[-2])                #accessing second last element"
   ]
  },
  {
   "cell_type": "code",
   "execution_count": 13,
   "id": "eb601e4a",
   "metadata": {},
   "outputs": [
    {
     "name": "stdout",
     "output_type": "stream",
     "text": [
      "Help on built-in function index:\n",
      "\n",
      "index(value, start=0, stop=9223372036854775807, /) method of builtins.tuple instance\n",
      "    Return first index of value.\n",
      "    \n",
      "    Raises ValueError if the value is not present.\n",
      "\n"
     ]
    }
   ],
   "source": [
    "help(t1.index)"
   ]
  },
  {
   "cell_type": "code",
   "execution_count": 14,
   "id": "d42c7653",
   "metadata": {},
   "outputs": [
    {
     "name": "stdout",
     "output_type": "stream",
     "text": [
      "\n",
      "mytuple:  (27, 4.5, 'arif', 64, 'hadeed', 19, 'arif')\n",
      "mytuple.index(3):  2\n"
     ]
    }
   ],
   "source": [
    "# index(value) method is used when you know the tuple element and wants to get its index\n",
    "# index(value) method returns the index of the first matched item with its only argument\n",
    "mytuple = (27, 4.5, 'arif', 64, 'hadeed', 19, 'arif')\n",
    "print(\"\\nmytuple: \", mytuple)\n",
    "print(\"mytuple.index(3): \", mytuple.index('arif'))"
   ]
  },
  {
   "cell_type": "markdown",
   "id": "c9517d91",
   "metadata": {},
   "source": [
    "### 4. Slicing Tuples\n",
    "- Like anyother sequence object we can perform slicing with tuples as well.\n",
    "- Slicing is the process of obtaining a portion of a tuple by using its indices.\n",
    "- Given a tuple, we can use the following template to slice it and obtain a sublist:\n",
    "```\n",
    "mytuple[start:end:step]\n",
    "```\n",
    "\n",
    "- **start** is the index from where we want the subtuple to start.If start is not provided, slicing starts from the beginning.\n",
    "- **end** is the index where we want our subtuple to end (not inclusive in the subtuple). If end is not provided, slicing goes till the last element of the tuple.\n",
    "- **step** is the step through which we want to skip elements in the tuple. The default step is 1, so we iterate through every element of the tuple."
   ]
  },
  {
   "cell_type": "code",
   "execution_count": null,
   "id": "d533f237",
   "metadata": {},
   "outputs": [],
   "source": [
    "t1 = ('a','b','c','d','e','f','g','h','i')\n",
    "t1"
   ]
  },
  {
   "cell_type": "code",
   "execution_count": null,
   "id": "fc7f5721",
   "metadata": {},
   "outputs": [],
   "source": [
    "t1[::]"
   ]
  },
  {
   "cell_type": "code",
   "execution_count": null,
   "id": "bacb22ad",
   "metadata": {},
   "outputs": [],
   "source": [
    "t1[3:]"
   ]
  },
  {
   "cell_type": "code",
   "execution_count": null,
   "id": "fda45faa",
   "metadata": {},
   "outputs": [],
   "source": [
    "t1[:4]"
   ]
  },
  {
   "cell_type": "code",
   "execution_count": null,
   "id": "abafa446",
   "metadata": {},
   "outputs": [],
   "source": [
    "t1[2:5]"
   ]
  },
  {
   "cell_type": "code",
   "execution_count": null,
   "id": "17127f79",
   "metadata": {},
   "outputs": [],
   "source": [
    "t1[:-2]"
   ]
  },
  {
   "cell_type": "code",
   "execution_count": null,
   "id": "0a4ca863",
   "metadata": {},
   "outputs": [],
   "source": [
    "t1[-1]"
   ]
  },
  {
   "cell_type": "code",
   "execution_count": null,
   "id": "c4cf41ba",
   "metadata": {},
   "outputs": [],
   "source": [
    "# Slicing by using strides\n",
    "print(t1[::])  # A default step of 1\n",
    "print(t1[::1])  # A step of 1\n",
    "print(t1[::2])  # A step of 2\n",
    "print(t1[::3])  # A step of 3"
   ]
  },
  {
   "cell_type": "code",
   "execution_count": null,
   "id": "44359432",
   "metadata": {},
   "outputs": [],
   "source": [
    "# Reverse slicing\n",
    "print(t1[::-1]) # Take 1 step back each time\n",
    "print(t1[5:1:-1]) # Take 1 step back each time\n",
    "#if start is less than end in case of a negative step, it will return empty string\n",
    "print(t1[2:10:-1])\n",
    "print(t1[::-2]) # Take 2 steps back"
   ]
  },
  {
   "cell_type": "code",
   "execution_count": null,
   "id": "8221022c",
   "metadata": {},
   "outputs": [],
   "source": [
    "# You CANNOT use slice operator on the left side of assignment as tuple is immutable\n",
    "t1 = (1, 2, 3, 4, 5, 6, 7)\n",
    "#t1[2:4] = ['a', 'b', 'c']  # will generate an error as 'tuple' object does not support item assignment"
   ]
  },
  {
   "cell_type": "markdown",
   "id": "8f109f45",
   "metadata": {},
   "source": [
    "## 5. Tuple Concatenation and Repetition\n",
    "- The `+` operator is used to concatenate two or more tuples\n",
    "- The `*` operator is used to repeat or replicate"
   ]
  },
  {
   "cell_type": "markdown",
   "id": "4063124d",
   "metadata": {},
   "source": [
    "### a. Concatenating Tuples"
   ]
  },
  {
   "cell_type": "code",
   "execution_count": 15,
   "id": "5db695de",
   "metadata": {},
   "outputs": [
    {
     "data": {
      "text/plain": [
       "((1, 2, 3), (1, 2, 3, 4, 5), (0, 1, 2, 3, 4, 5))"
      ]
     },
     "execution_count": 15,
     "metadata": {},
     "output_type": "execute_result"
    }
   ],
   "source": [
    "# Add some elements to the end of an existing tuple using concatenation operator\n",
    "a = (1,2,3)\n",
    "b = a + (4,5)\n",
    "# Add some elements to the beginning of an existing tuple using concatenation operator\n",
    "c = (0,) + b\n",
    "a, b, c"
   ]
  },
  {
   "cell_type": "code",
   "execution_count": 16,
   "id": "65c304f4",
   "metadata": {},
   "outputs": [
    {
     "name": "stdout",
     "output_type": "stream",
     "text": [
      "('fruits', 'bread', 'veggies', 'meat', 'spices', 'burger')\n"
     ]
    }
   ],
   "source": [
    "# use + operator to concatenate two tuples\n",
    "food_items1 = ('fruits', 'bread', 'veggies')\n",
    "food_items2 = ('meat', 'spices', 'burger')\n",
    "food = food_items1 + food_items2\n",
    "print(food)"
   ]
  },
  {
   "cell_type": "code",
   "execution_count": 17,
   "id": "895eb9a4",
   "metadata": {},
   "outputs": [
    {
     "name": "stdout",
     "output_type": "stream",
     "text": [
      "(5, 3.4, 'hello', 31, 9.7, 'bye')\n"
     ]
    }
   ],
   "source": [
    "# You can concatenate two heterogeneous lists\n",
    "t1 = (5, 3.4, 'hello')\n",
    "t2 = (31, 9.7, 'bye')\n",
    "t3 = t1 + t2\n",
    "print(t3)"
   ]
  },
  {
   "cell_type": "code",
   "execution_count": 18,
   "id": "0845f519",
   "metadata": {},
   "outputs": [
    {
     "name": "stdout",
     "output_type": "stream",
     "text": [
      "(1, 2, 3, 4, 5, 6, (7, 8))\n"
     ]
    }
   ],
   "source": [
    "num1 = (1,2,3)\n",
    "num2 = num1 + (4, 5, 6, (7, 8))\n",
    "print (num2)"
   ]
  },
  {
   "cell_type": "markdown",
   "id": "617419b0",
   "metadata": {},
   "source": [
    "### b. Replicating Tuples"
   ]
  },
  {
   "cell_type": "code",
   "execution_count": 19,
   "id": "d4208107",
   "metadata": {},
   "outputs": [
    {
     "name": "stdout",
     "output_type": "stream",
     "text": [
      "('Arif', 'Hadeed', 'Mujahid', 'Arif', 'Hadeed', 'Mujahid', 'Arif', 'Hadeed', 'Mujahid')\n"
     ]
    }
   ],
   "source": [
    "# use tuple * n syntax to create large tuples by repeating the tuple n times\n",
    "name = ('Arif', 'Hadeed', 'Mujahid')\n",
    "a = name * 3\n",
    "print(a)"
   ]
  },
  {
   "cell_type": "code",
   "execution_count": 20,
   "id": "a9a6308a",
   "metadata": {},
   "outputs": [
    {
     "name": "stdout",
     "output_type": "stream",
     "text": [
      "('A', 'A', 'A', 'A', 'A', 'A', 'A', 'A', 'A', 'A', 'A', 'A', 'A', 'A', 'A', 'A', 'A', 'A', 'A', 'A', 'A', 'A', 'A', 'A', 'A', 'A', 'A', 'A', 'A', 'A', 'A', 'A', 'A', 'A', 'A', 'A', 'A', 'A', 'A', 'A', 'A', 'A', 'A', 'A', 'A', 'A', 'A', 'A', 'A', 'A', 'A', 'A', 'A', 'A', 'A', 'A', 'A', 'A', 'A', 'A', 'A', 'A', 'A', 'A', 'A', 'A', 'A', 'A', 'A', 'A', 'A', 'A', 'A', 'A', 'A', 'A', 'A', 'A', 'A', 'A', 'A', 'A', 'A', 'A', 'A', 'A', 'A', 'A', 'A', 'A', 'A', 'A', 'A', 'A', 'A', 'A', 'A', 'A', 'A', 'A')\n"
     ]
    },
    {
     "data": {
      "text/plain": [
       "tuple"
      ]
     },
     "execution_count": 20,
     "metadata": {},
     "output_type": "execute_result"
    }
   ],
   "source": [
    "#tuple of 100 A's\n",
    "buf = ('A',)\n",
    "newbuf = buf * 100\n",
    "print(newbuf)\n",
    "type(newbuf)"
   ]
  },
  {
   "cell_type": "markdown",
   "id": "0557d8ff",
   "metadata": {},
   "source": [
    "## 6. Being immutable, you cannot add elements to a tuple (in list this is possible using `append`, `extend`, and `insert`)"
   ]
  },
  {
   "cell_type": "code",
   "execution_count": null,
   "id": "4ca664fe",
   "metadata": {},
   "outputs": [],
   "source": [
    "myfamily = (\"Farooq\", 'Rauf', 'Hadeed')\n",
    "print(\"\\n myfamily tuple: \", myfamily)\n",
    "# myfamily.insert(2,'Arif') # will generate an error as tuple object has no attribute 'insert'\n"
   ]
  },
  {
   "cell_type": "markdown",
   "id": "ae40dd9e",
   "metadata": {},
   "source": [
    "## 7. Being immutable, you cannot remove elemenst from a tuple (in list this is possible using `pop` and `remove` methods)"
   ]
  },
  {
   "cell_type": "code",
   "execution_count": 21,
   "id": "33f7704a",
   "metadata": {},
   "outputs": [
    {
     "name": "stdout",
     "output_type": "stream",
     "text": [
      "tuple1:  ('learning', 'is', 'fun', 'with', 'arif', 'butt')\n"
     ]
    }
   ],
   "source": [
    "tuple1 = ('learning', 'is', 'fun', 'with', 'arif', 'butt')\n",
    "print(\"tuple1: \", tuple1)\n",
    "#You cannot delete items from a tuple using del keyword\n",
    "#del tuple1[3]    # will generate an error as tuple object doesn't support item deletion\n",
    "\n",
    "#You can delete an entire tuple object using del keyword\n",
    "del tuple1\n",
    "# print(tuple1)\n",
    "\n"
   ]
  },
  {
   "cell_type": "markdown",
   "id": "0f4dd1c2",
   "metadata": {},
   "source": [
    "## 8. Converting String object to List and vice-versa"
   ]
  },
  {
   "cell_type": "markdown",
   "id": "f9dcb124",
   "metadata": {},
   "source": [
    "### a. Type Casting"
   ]
  },
  {
   "cell_type": "code",
   "execution_count": 23,
   "id": "71af910c",
   "metadata": {},
   "outputs": [
    {
     "name": "stdout",
     "output_type": "stream",
     "text": [
      "<class 'str'>\n",
      "Original string:  Learning is fun and its type is:   <class 'str'>\n",
      "t1:  ('L', 'e', 'a', 'r', 'n', 'i', 'n', 'g', ' ', 'i', 's', ' ', 'f', 'u', 'n') and its type is:   <class 'tuple'>\n"
     ]
    }
   ],
   "source": [
    "# convert a string into tuple using tuple()\n",
    "str1 = 'Learning is fun'    #this is a string\n",
    "print(type(str1))\n",
    "print(\"Original string: \", str1, \"and its type is:  \", type(str1))\n",
    "t1 = tuple(str1)\n",
    "print(\"t1: \", t1, \"and its type is:  \", type(t1))"
   ]
  },
  {
   "cell_type": "markdown",
   "id": "5e9e7346",
   "metadata": {},
   "source": [
    "### b. Use `t1.split()` to Split a Tuple into Strings\n",
    "- Used to tokenize a string based on some delimiter, which can be stored in a tuple\n",
    "- It returns a list, so we need to type cast the returned object to a tuple"
   ]
  },
  {
   "cell_type": "code",
   "execution_count": null,
   "id": "993e0fef",
   "metadata": {},
   "outputs": [],
   "source": [
    "str1 = \"\"\n",
    "help(str1.split)"
   ]
  },
  {
   "cell_type": "code",
   "execution_count": 24,
   "id": "c5d68224",
   "metadata": {},
   "outputs": [
    {
     "data": {
      "text/plain": [
       "(('Learning', 'is', 'fun'), tuple)"
      ]
     },
     "execution_count": 24,
     "metadata": {},
     "output_type": "execute_result"
    }
   ],
   "source": [
    "str1 = 'Learning is fun'    #this is a string\n",
    "t1 = tuple(str1.split(' '))\n",
    "t1, type(t1)"
   ]
  },
  {
   "cell_type": "code",
   "execution_count": 25,
   "id": "0ae62a11",
   "metadata": {},
   "outputs": [
    {
     "data": {
      "text/plain": [
       "(['Data S', 'ien', 'e is GR8 Degree'], list)"
      ]
     },
     "execution_count": 25,
     "metadata": {},
     "output_type": "execute_result"
    }
   ],
   "source": [
    "str2 = \"Data Science is GR8 Degree\"    #this is a string\n",
    "t2 = str2.split('c')\n",
    "t2, type(t2)"
   ]
  },
  {
   "cell_type": "markdown",
   "id": "1096daf9",
   "metadata": {},
   "source": [
    "### c. Use `str.join()` to Join Strings into a Tuple\n",
    "- It is the reverse of `str.split()` method, and is used to joing multiple strings by inserting the string in between on which this method is called"
   ]
  },
  {
   "cell_type": "code",
   "execution_count": 26,
   "id": "0c20a59f",
   "metadata": {},
   "outputs": [
    {
     "name": "stdout",
     "output_type": "stream",
     "text": [
      "Help on built-in function join:\n",
      "\n",
      "join(iterable, /) method of builtins.str instance\n",
      "    Concatenate any number of strings.\n",
      "    \n",
      "    The string whose method is called is inserted in between each given string.\n",
      "    The result is returned as a new string.\n",
      "    \n",
      "    Example: '.'.join(['ab', 'pq', 'rs']) -> 'ab.pq.rs'\n",
      "\n"
     ]
    }
   ],
   "source": [
    "str = \"\"\n",
    "help(str.join)"
   ]
  },
  {
   "cell_type": "code",
   "execution_count": 27,
   "id": "f04b4019",
   "metadata": {},
   "outputs": [
    {
     "data": {
      "text/plain": [
       "('This', 'is', 'getting', 'more', 'and', 'more', 'interesting')"
      ]
     },
     "execution_count": 27,
     "metadata": {},
     "output_type": "execute_result"
    }
   ],
   "source": [
    "t1 = ('This', 'is', 'getting', 'more', 'and', 'more', 'interesting')\n",
    "t1"
   ]
  },
  {
   "cell_type": "code",
   "execution_count": 29,
   "id": "04ecbbc7",
   "metadata": {},
   "outputs": [
    {
     "data": {
      "text/plain": [
       "('This is getting more and more interesting', str)"
      ]
     },
     "execution_count": 29,
     "metadata": {},
     "output_type": "execute_result"
    }
   ],
   "source": [
    "str2 = ' '.join(t1)\n",
    "str2, type(str2)"
   ]
  },
  {
   "cell_type": "code",
   "execution_count": 30,
   "id": "2bb77698",
   "metadata": {},
   "outputs": [
    {
     "name": "stdout",
     "output_type": "stream",
     "text": [
      "This # is # getting # more # and # more # interesting\n",
      "<class 'str'>\n"
     ]
    }
   ],
   "source": [
    "delimiter = \" # \"\n",
    "str3 = delimiter.join(t1)\n",
    "print(str3)\n",
    "print(type(str3))"
   ]
  },
  {
   "cell_type": "code",
   "execution_count": null,
   "id": "a06d0265",
   "metadata": {},
   "outputs": [],
   "source": []
  },
  {
   "cell_type": "markdown",
   "id": "fbf88b2e",
   "metadata": {},
   "source": [
    "## 9. Misc Tuple methods in Python\n",
    "- You cannot call `sort()` and `reverse` on a tuple being immutable\n",
    "- Tuples have just two built-in methods: `count` and `index`"
   ]
  },
  {
   "cell_type": "markdown",
   "id": "143b19a7",
   "metadata": {},
   "source": [
    "### a. The `t1.count()` method\n",
    "- The `t1.count()` method takes exactly one argument and returns the number of times a that value occurs in a tuple"
   ]
  },
  {
   "cell_type": "code",
   "execution_count": 33,
   "id": "4afb7b5c",
   "metadata": {},
   "outputs": [
    {
     "name": "stdout",
     "output_type": "stream",
     "text": [
      "Help on built-in function count:\n",
      "\n",
      "count(value, /) method of builtins.tuple instance\n",
      "    Return number of occurrences of value.\n",
      "\n"
     ]
    }
   ],
   "source": [
    "t1 = ()\n",
    "help(t1.count)"
   ]
  },
  {
   "cell_type": "code",
   "execution_count": 34,
   "id": "8dfa6b70",
   "metadata": {},
   "outputs": [
    {
     "name": "stdout",
     "output_type": "stream",
     "text": [
      "2\n"
     ]
    }
   ],
   "source": [
    "t1 = (3, 8, 1, 6, 0, 8, 4)\n",
    "rv = t1.count(8)\n",
    "print(rv)"
   ]
  },
  {
   "cell_type": "markdown",
   "id": "b7d02d50",
   "metadata": {},
   "source": [
    "### b. The `t1.index()` method\n",
    "- The `t1.index()` method takes the value and returns the first index where that value resides in the tuple"
   ]
  },
  {
   "cell_type": "code",
   "execution_count": 35,
   "id": "d4b995ab",
   "metadata": {},
   "outputs": [
    {
     "name": "stdout",
     "output_type": "stream",
     "text": [
      "Help on built-in function index:\n",
      "\n",
      "index(value, start=0, stop=9223372036854775807, /) method of builtins.tuple instance\n",
      "    Return first index of value.\n",
      "    \n",
      "    Raises ValueError if the value is not present.\n",
      "\n"
     ]
    }
   ],
   "source": [
    "t1 = ()\n",
    "help(t1.index)"
   ]
  },
  {
   "cell_type": "code",
   "execution_count": 36,
   "id": "9a32d56d",
   "metadata": {},
   "outputs": [
    {
     "name": "stdout",
     "output_type": "stream",
     "text": [
      "2\n"
     ]
    }
   ],
   "source": [
    "t1 = (3, 8, 1, 6, 0, 8, 4)\n",
    "rv = t1.index(1)\n",
    "print(rv)"
   ]
  },
  {
   "cell_type": "markdown",
   "id": "4f48dd83",
   "metadata": {},
   "source": [
    "### c. Some Built-in Functions that can be used on Tuples"
   ]
  },
  {
   "cell_type": "code",
   "execution_count": 37,
   "id": "2f025aa2",
   "metadata": {},
   "outputs": [
    {
     "name": "stdout",
     "output_type": "stream",
     "text": [
      "length of list:  7\n",
      "max element in list:  8\n",
      "min element in list:  0\n",
      "Sum of element in list:  30\n",
      "False\n",
      "False\n"
     ]
    }
   ],
   "source": [
    "t1 = (3, 8, 1, 6, 0, 8, 4)\n",
    "print(\"length of list: \", len(t1))\n",
    "print(\"max element in list: \", max(t1))\n",
    "print(\"min element in list: \",min(t1))\n",
    "print(\"Sum of element in list: \",sum(t1))\n",
    "\n",
    "# Membership (in) operator\n",
    "rv1 = 9 in t1\n",
    "print(rv1)\n",
    "\n",
    "rv2 = \"ARIF\" in t1\n",
    "print(rv2)\n"
   ]
  },
  {
   "cell_type": "code",
   "execution_count": null,
   "id": "c5b981be",
   "metadata": {},
   "outputs": [],
   "source": []
  },
  {
   "cell_type": "markdown",
   "id": "ff517f2e",
   "metadata": {},
   "source": [
    "## 10. Misc Concepts"
   ]
  },
  {
   "cell_type": "markdown",
   "id": "f01c374c",
   "metadata": {},
   "source": [
    "### a. Use of  `in` Operator on Tuples"
   ]
  },
  {
   "cell_type": "code",
   "execution_count": 38,
   "id": "6c615113",
   "metadata": {},
   "outputs": [
    {
     "name": "stdout",
     "output_type": "stream",
     "text": [
      "False\n",
      "True\n",
      "True\n"
     ]
    }
   ],
   "source": [
    "tuple_num = (3, 8, 1, 6, 0, 8, 4)\n",
    "rv1 = 9 in tuple_num\n",
    "print(rv1)\n",
    "\n",
    "rv2 = 9 not in tuple_num\n",
    "print(rv2)\n",
    "\n",
    "\n",
    "tuple_names = [\"XYZ\", \"ABC\", \"MNO\", \"ARIF\"]\n",
    "rv3 = \"ARIF\" in tuple_names\n",
    "print(rv3)\n"
   ]
  },
  {
   "cell_type": "markdown",
   "id": "ba4d16e6",
   "metadata": {},
   "source": [
    "### b. Comparing objects and values"
   ]
  },
  {
   "cell_type": "code",
   "execution_count": 39,
   "id": "343d42b2",
   "metadata": {},
   "outputs": [
    {
     "data": {
      "text/plain": [
       "(140649492087088, 140649492087088)"
      ]
     },
     "execution_count": 39,
     "metadata": {},
     "output_type": "execute_result"
    }
   ],
   "source": [
    "# in case of strings, both a and b refers to the same memory location containing string 'hello'\n",
    "a = 'hello'\n",
    "b = 'hello'\n",
    "id(a), id(b)"
   ]
  },
  {
   "cell_type": "code",
   "execution_count": 41,
   "id": "fde03f57",
   "metadata": {},
   "outputs": [
    {
     "data": {
      "text/plain": [
       "(140649492032912, 140649492033296)"
      ]
     },
     "execution_count": 41,
     "metadata": {},
     "output_type": "execute_result"
    }
   ],
   "source": [
    "# in case of tuple, both a and b refers to two different objects in the memory having same values\n",
    "x = ('hello',) # Note the comma at the end to make it a tuple with single element\n",
    "y = ('hello',)\n",
    "id(x), id(y)"
   ]
  },
  {
   "cell_type": "code",
   "execution_count": 42,
   "id": "c7b0ab1c",
   "metadata": {},
   "outputs": [
    {
     "name": "stdout",
     "output_type": "stream",
     "text": [
      "False\n",
      "True\n"
     ]
    }
   ],
   "source": [
    "x = ('hello', )\n",
    "y = ('hello', )\n",
    "print (x is y) # is operator is checking the memory address (ID) of two typles\n",
    "print (x == y) # == operator is checking the contents of two tuples"
   ]
  },
  {
   "cell_type": "code",
   "execution_count": 43,
   "id": "83849c17",
   "metadata": {},
   "outputs": [
    {
     "name": "stdout",
     "output_type": "stream",
     "text": [
      "True\n",
      "True\n"
     ]
    }
   ],
   "source": [
    "x = 'hello'\n",
    "y = 'hello'\n",
    "print (x is y) # is operator is checking the memory address (ID) of two strings\n",
    "print (x == y) # == operator is checking the contents of two strings"
   ]
  },
  {
   "cell_type": "markdown",
   "id": "21816008",
   "metadata": {},
   "source": [
    "### c. Simple Assignment (aliasing) vs Shallow Copy vs Deep Copy"
   ]
  },
  {
   "cell_type": "markdown",
   "id": "068b88b4",
   "metadata": {},
   "source": [
    "#### Making a Copy of an Object using Assignment `=` Operator\n",
    "- In Python, we use `=` operator to create a copy of an object. It doesnot create a new object. \n",
    "- It only creates a new variable that shares the reference of the original object."
   ]
  },
  {
   "cell_type": "code",
   "execution_count": 44,
   "id": "0862a997",
   "metadata": {},
   "outputs": [
    {
     "name": "stdout",
     "output_type": "stream",
     "text": [
      "ID of old_t1: 140649490981696\n",
      "ID of new_t1: 140649490981696\n"
     ]
    }
   ],
   "source": [
    "old_t1 = [[1, 2, 3], [4, 5, 6], [7, 8, 'a']]\n",
    "new_t1 = old_t1\n",
    "\n",
    "# Both variables point to same memory object, so have the same ID\n",
    "print('ID of old_t1:', id(old_t1))\n",
    "print('ID of new_t1:', id(new_t1))"
   ]
  },
  {
   "cell_type": "markdown",
   "id": "759e563a",
   "metadata": {},
   "source": [
    "#### Making a Copy of an Object using `copy.copy()` Method\n",
    "- Shallow copy creates a new object, however, it doesn't create a copy of nested objects, instead it just copies the reference of nested objects. \n",
    "- This means, a copy process does not recurse or create copies of nested objects itself."
   ]
  },
  {
   "cell_type": "code",
   "execution_count": 45,
   "id": "68c8df9d",
   "metadata": {},
   "outputs": [
    {
     "name": "stdout",
     "output_type": "stream",
     "text": [
      "ID of old_t1: 140649492127552\n",
      "ID of new_t1: 140649491478080\n"
     ]
    }
   ],
   "source": [
    "import copy\n",
    "old_t1 = [[1, 2, 3], [4, 5, 6], [7, 8, 'a']]\n",
    "new_t1 = copy.copy(old_t1)\n",
    "\n",
    "# Both variables point to different memory object, having same references of original object elements\n",
    "print('ID of old_t1:', id(old_t1))\n",
    "print('ID of new_t1:', id(new_t1))"
   ]
  },
  {
   "cell_type": "markdown",
   "id": "bc5652ee",
   "metadata": {},
   "source": [
    "#### Making a Copy of an Object using `copy.deepcopy()` Method\n",
    "- Deep copy creates a new object and recursively creates independent copy of original object and all its nested objects."
   ]
  },
  {
   "cell_type": "code",
   "execution_count": 46,
   "id": "6ced2bff",
   "metadata": {},
   "outputs": [
    {
     "name": "stdout",
     "output_type": "stream",
     "text": [
      "ID of old_t1: 140649490981888\n",
      "ID of new_t1: 140649490981824\n"
     ]
    }
   ],
   "source": [
    "import copy\n",
    "old_t1 = [[1, 2, 3], [4, 5, 6], [7, 8, 'a']]\n",
    "new_t1 = copy.deepcopy(old_t1)\n",
    "\n",
    "# Both variables point to different memory object, having same references of original object elements\n",
    "print('ID of old_t1:', id(old_t1))\n",
    "print('ID of new_t1:', id(new_t1))"
   ]
  },
  {
   "cell_type": "code",
   "execution_count": null,
   "id": "b77e3768",
   "metadata": {},
   "outputs": [],
   "source": []
  },
  {
   "cell_type": "code",
   "execution_count": null,
   "id": "7c635b13",
   "metadata": {},
   "outputs": [],
   "source": []
  },
  {
   "cell_type": "markdown",
   "id": "1bd4be02",
   "metadata": {},
   "source": [
    "## Check your Concepts\n",
    "\n",
    "Try answering the following questions to test your understanding of the topics covered in this notebook:\n",
    "\n",
    "1. How tuples are different from list?\n",
    "2. Can you add or remove elements in a tuple?\n",
    "3. How do you create a tuple with just one element?\n",
    "4. How do you convert a tuple to a list and vice versa?\n",
    "5. How to create a nested tuple?\n",
    "6. How to find a min, max value from a tuple?\n",
    "7. How to compare two tuples, without iteration? (Hint: cmp)\n",
    "8. How to find the index of a specific element of a tuple?\n",
    "9. How to found the count of occurrence of element in Python Tuple?\n",
    "10. How to delete Tuple in Python ?\n"
   ]
  }
 ],
 "metadata": {
  "kernelspec": {
   "display_name": "Python 3 (ipykernel)",
   "language": "python",
   "name": "python3"
  },
  "language_info": {
   "codemirror_mode": {
    "name": "ipython",
    "version": 3
   },
   "file_extension": ".py",
   "mimetype": "text/x-python",
   "name": "python",
   "nbconvert_exporter": "python",
   "pygments_lexer": "ipython3",
   "version": "3.8.10"
  }
 },
 "nbformat": 4,
 "nbformat_minor": 5
}
