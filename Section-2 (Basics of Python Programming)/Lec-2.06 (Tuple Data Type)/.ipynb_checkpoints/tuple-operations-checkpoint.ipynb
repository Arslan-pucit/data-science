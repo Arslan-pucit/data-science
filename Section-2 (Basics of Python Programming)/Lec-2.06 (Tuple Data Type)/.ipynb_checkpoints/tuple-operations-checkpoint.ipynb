{
 "cells": [
  {
   "cell_type": "markdown",
   "id": "a6651c01",
   "metadata": {},
   "source": [
    "---   \n",
    " <img align=\"left\" width=\"75\" height=\"75\"  src=\"https://upload.wikimedia.org/wikipedia/en/c/c8/University_of_the_Punjab_logo.png\"> \n",
    "\n",
    "<h1 align=\"center\">Department of Data Science</h1>\n",
    "<h1 align=\"center\">Course: Tools and Techniques for Data Science</h1>\n",
    "\n",
    "---\n",
    "<h3><div align=\"right\">Instructor: Muhammad Arif Butt, Ph.D.</div></h3>    "
   ]
  },
  {
   "cell_type": "markdown",
   "id": "a363bc39",
   "metadata": {},
   "source": [
    "<h1 align=\"center\">Lecture 2.6</h1>"
   ]
  },
  {
   "cell_type": "markdown",
   "id": "95de41a5",
   "metadata": {},
   "source": [
    "## _tuple-operations.ipynb_\n",
    "#### [Click me to learn more about Python Tuples](https://www.geeksforgeeks.org/python-tuples/)"
   ]
  },
  {
   "cell_type": "markdown",
   "id": "7c109b0c",
   "metadata": {},
   "source": [
    "### Learning agenda of this notebook\n",
    "- A Tuple in Python is similar to a List. The difference between the two is that we cannot change the elements of a tuple once it is assigned (immutable) and is created using parenthesis. Apart from this, every operation that we can perform on lists that do not modify them, can be performed on tuples as well.\n",
    "- When we prefer tuples over lists?\n",
    "    - Program execution is faster when manipulating tuples\n",
    "    - Tuples are more efficient, if you want to create an ordered list of objects that does not need modification\n",
    "    - Tuples being immutable are used in Dictionaries as keys (which are immutable)\n",
    "1. How to create tuples?\n",
    "2. Proof of concepts: Tuples are heterogeneous, ordered, nested, immutable, and allow duplicate elements\n",
    "3. Accessing elements of tuples?\n",
    "4. Being immutable, you cannot add elements to a tuple (in list this is possible using append, extend, and insert)\n",
    "5. Being immutable, you cannot remove elemenst from a tuple (in list this is possible using pop and remove methods)\n",
    "6. Tuple concatenation and repetition\n",
    "7. Slicing a tuple\n",
    "8. Converting string object to tuple and vice-versa (using type casting, split() and join())\n",
    "9. Misc tuple methods (count)\n",
    "10. Some Built-in functions that can be used on tuples (len, max, min, sum)\n",
    "11. Misc Concepts\n",
    "    - Comparing objects and values\n",
    "    - Comparing strings\n",
    "    - Aliasing\n",
    "12. Looping through a tuple"
   ]
  },
  {
   "cell_type": "markdown",
   "id": "78d11dc1",
   "metadata": {},
   "source": [
    "### 1. How to create Tuples?"
   ]
  },
  {
   "cell_type": "code",
   "execution_count": null,
   "id": "88801cf7",
   "metadata": {},
   "outputs": [],
   "source": [
    "# A tuple is created by placing comma separated values in parenthesis (or without prenthesis as well) \n",
    "# Like list, a tuple also allows us to store elements of different data types in one container.\n",
    "\n",
    "t1 = (1, 2, 3, 4, 5)   #tuple of integers\n",
    "t1 = 1, 2, 3, 4, 5\n",
    "print(\"t1: \", t1)\n",
    "\n",
    "t2 = (2.3, 5.6, 1.8)  #tuple of floats\n",
    "print(\"t2: \", t2)\n",
    "\n",
    "t3 = ('hello', 'this', 'F', 'good show') #tuple of strings\n",
    "print(\"t3: \", t3)\n",
    "\n",
    "t4 = (True, False, True)    # tuple of boolean values\n",
    "print(\"t4: \", t4)\n",
    "\n",
    "\n",
    "print(\"Type of t4 is: \", type(t4))"
   ]
  },
  {
   "cell_type": "code",
   "execution_count": null,
   "id": "a51ee7b3",
   "metadata": {},
   "outputs": [],
   "source": [
    "# creating empty tuple\n",
    "t5 = ()\n",
    "print(\"t5: \", t5)"
   ]
  },
  {
   "cell_type": "code",
   "execution_count": null,
   "id": "0d9fbff4",
   "metadata": {},
   "outputs": [],
   "source": [
    "# to create a tuple with only one element is a bit tricky\n",
    "t6 = (25,)       # note the comma, without Python will take it as int/float/string and not tuple\n",
    "print(\"\\nt6: \", t6)\n",
    "print(type(t6))"
   ]
  },
  {
   "cell_type": "code",
   "execution_count": null,
   "id": "3c2bd2e4",
   "metadata": {},
   "outputs": [],
   "source": [
    "# Nested Tuple: a tuple can also have another tuple as an item\n",
    "t1 = (\"Arif\", 30, 5.5, (10,'rauf'))\n",
    "print(t1)"
   ]
  },
  {
   "cell_type": "code",
   "execution_count": null,
   "id": "810d75d3",
   "metadata": {},
   "outputs": [],
   "source": [
    "# Nested tuple: A tuple can also have another tuple, or list as an item\n",
    "t1 = (1, \"Hello\", [8, 'OK', 6], (1, 2, 'BYE'), 5.5)\n",
    "print(\"t1: \", t1)\n",
    "print(\"Type of t1 is: \", type(t1))"
   ]
  },
  {
   "cell_type": "markdown",
   "id": "48f77dc4",
   "metadata": {},
   "source": [
    "### 2. Proof of concepts:"
   ]
  },
  {
   "cell_type": "markdown",
   "id": "00a2ff5d",
   "metadata": {},
   "source": [
    "#### a. Tuples are heterogeneous\n",
    "- Tuples are heterogeneous, as their elements/items can be of any data type"
   ]
  },
  {
   "cell_type": "code",
   "execution_count": null,
   "id": "7c3a9b9c",
   "metadata": {},
   "outputs": [],
   "source": [
    "# Tuples are heterogeneous, as their elements/items can be of any data type\n",
    "t1 = (\"Arif\", 30, 5.5)\n",
    "print(\"t1: \", t1)"
   ]
  },
  {
   "cell_type": "markdown",
   "id": "f7ef359e",
   "metadata": {},
   "source": [
    "#### b. Tuples are ordered\n",
    "- Tuples are ordered means every element is associated by an index\n",
    "- Every time you access tuple elements they will show up in same sequence. \n",
    "- Moreover, two tuples having same elements in different order are not same."
   ]
  },
  {
   "cell_type": "code",
   "execution_count": 2,
   "id": "8c570d52",
   "metadata": {},
   "outputs": [
    {
     "data": {
      "text/plain": [
       "(140368902675776, 140368902672768, False, False)"
      ]
     },
     "execution_count": 2,
     "metadata": {},
     "output_type": "execute_result"
    }
   ],
   "source": [
    "a = (1, 2, 3)\n",
    "b = (2, 3, 1)\n",
    "id(a), id(b), a is b, a == b"
   ]
  },
  {
   "cell_type": "markdown",
   "id": "251c05b7",
   "metadata": {},
   "source": [
    "#### c. Tuples are immutable\n",
    "- Means once a tuple object is created, you CANNOT make changes to it and modify its elements"
   ]
  },
  {
   "cell_type": "code",
   "execution_count": null,
   "id": "8d0f40de",
   "metadata": {},
   "outputs": [],
   "source": [
    "# Tuples are immutable, i.e., tuple elements cannot be changed\n",
    "numbers = (10, 20, 30)\n",
    "numbers[2] = 15    # this will generate an error"
   ]
  },
  {
   "cell_type": "code",
   "execution_count": null,
   "id": "80c29ede",
   "metadata": {},
   "outputs": [],
   "source": [
    "# Tupple however can be reassigned\n",
    "numbers = (10, 20, 30)\n",
    "numbers = (1, 2, 3)  # A tupple can be reassigned\n",
    "numbers"
   ]
  },
  {
   "cell_type": "code",
   "execution_count": null,
   "id": "4fc9e430",
   "metadata": {},
   "outputs": [],
   "source": [
    "# A list within a tuple is still mutable\n",
    "my_tuple = (4, 2, 3, [6, 5])\n",
    "my_tuple[3][0] = 9         # will work fine\n",
    "my_tuple"
   ]
  },
  {
   "cell_type": "markdown",
   "id": "8a459d21",
   "metadata": {},
   "source": [
    "#### d. Tuples can have duplicate elements"
   ]
  },
  {
   "cell_type": "code",
   "execution_count": null,
   "id": "0a910e6f",
   "metadata": {},
   "outputs": [],
   "source": [
    "# Tuples allow duplicate elements\n",
    "names = ('Arif', 'Rauf', 'Hadeed', 'Arif', 'Mujahid')\n",
    "print(names)"
   ]
  },
  {
   "cell_type": "markdown",
   "id": "32a0f7b9",
   "metadata": {},
   "source": [
    "#### e. Tuples can be nested to arbitrary depth\n",
    "- You can have tuples within tuples and that can be done to an arbitrary depth. You are only restricted to the available memory on your system"
   ]
  },
  {
   "cell_type": "code",
   "execution_count": null,
   "id": "e087c00b",
   "metadata": {},
   "outputs": [],
   "source": [
    "# A tuple having two sub-tuples within it\n",
    "a = (1,2,3,(4,5),(6,7,8,9),10,11)\n",
    "# A tuple having a sub-tuple, which is further having a sub-tuple and that again having a subtuple\n",
    "b = (1,2,3,(4,5,(6,7,8,(9,10,11))))\n",
    "a, b"
   ]
  },
  {
   "cell_type": "markdown",
   "id": "1f8ac237",
   "metadata": {},
   "source": [
    "#### f. Packing and Unpacking Tuples"
   ]
  },
  {
   "cell_type": "code",
   "execution_count": 9,
   "id": "6b94e91a",
   "metadata": {},
   "outputs": [
    {
     "name": "stdout",
     "output_type": "stream",
     "text": [
      "learning fun Arif\n",
      "<class 'str'>\n"
     ]
    }
   ],
   "source": [
    "# you can assign individual elements of tuples to string variables\n",
    "msg = ('learning', 'is', 'fun', 'with', 'Arif')\n",
    "a, b, c, d, e = msg # the number of variables on the left must match the length of tuple\n",
    "print (a, c, e)\n",
    "print(type(a))"
   ]
  },
  {
   "cell_type": "markdown",
   "id": "418db83b",
   "metadata": {},
   "source": [
    "### 3. Different ways to access elements of a tuple\n",
    "- Since tuple like list is of type sequence, and any component within a sequence can be accessed by entrying an index within square brackets. So naturally this must work for tuple as well\n",
    "- Similarly, if we want to find out the index of a specific item/character, we can use the index() method of tuple class"
   ]
  },
  {
   "cell_type": "code",
   "execution_count": null,
   "id": "bbc96405",
   "metadata": {},
   "outputs": [],
   "source": [
    "#You can access elements of tuple using indexing which starts from zero\n",
    "t1 = (\"Arif\", 30, 5.5, (10,'rauf'))\n",
    "print(t1[3])\n",
    "\n",
    "#accessing Nested tuple element\n",
    "print(t1[0][2])              #accessing third element of tuple at index 0\n",
    "print(t1[3][1])              #accessing second element of Nested tuple"
   ]
  },
  {
   "cell_type": "code",
   "execution_count": null,
   "id": "c0d21f34",
   "metadata": {},
   "outputs": [],
   "source": [
    "#Negative indexing starts looking at the tuple from the right hand side\n",
    "t1 = (\"Arif\", 30, 5.5, (10,'rauf'))\n",
    "print(t1[-1])                #accessing last element\n",
    "print(t1[-2])                #accessing second last element"
   ]
  },
  {
   "cell_type": "code",
   "execution_count": null,
   "id": "d42c7653",
   "metadata": {},
   "outputs": [],
   "source": [
    "# index(value) method is used when you know the tuple element and wants to get its index\n",
    "# index(value) method returns the index of the first matched item with its only argument\n",
    "mytuple = (27, 4.5, 'arif', 64, 'hadeed', 19, 'arif')\n",
    "print(\"\\nmytuple: \", mytuple)\n",
    "print(\"mytuple.index(3): \", mytuple.index('arif'))"
   ]
  },
  {
   "cell_type": "markdown",
   "id": "c9517d91",
   "metadata": {},
   "source": [
    "### 4. Slicing Tuples\n",
    "- Like anyother sequence object we can perform slicing with tuples as well.\n",
    "- Slicing is the process of obtaining a portion of a tuple by using its indices.\n",
    "- Given a tuple, we can use the following template to slice it and obtain a sublist:\n",
    "```\n",
    "mytuple[start:end:step]\n",
    "```\n",
    "\n",
    "- **start** is the index from where we want the subtuple to start.If start is not provided, slicing starts from the beginning.\n",
    "- **end** is the index where we want our subtuple to end (not inclusive in the subtuple). If end is not provided, slicing goes till the last element of the tuple.\n",
    "- **step** is the step through which we want to skip elements in the tuple. The default step is 1, so we iterate through every element of the tuple."
   ]
  },
  {
   "cell_type": "code",
   "execution_count": null,
   "id": "d533f237",
   "metadata": {},
   "outputs": [],
   "source": [
    "t1 = ('a','b','c','d','e','f','g','h','i')\n",
    "t1"
   ]
  },
  {
   "cell_type": "code",
   "execution_count": null,
   "id": "fc7f5721",
   "metadata": {},
   "outputs": [],
   "source": [
    "t1[::]"
   ]
  },
  {
   "cell_type": "code",
   "execution_count": null,
   "id": "bacb22ad",
   "metadata": {},
   "outputs": [],
   "source": [
    "t1[3:]"
   ]
  },
  {
   "cell_type": "code",
   "execution_count": null,
   "id": "fda45faa",
   "metadata": {},
   "outputs": [],
   "source": [
    "t1[:4]"
   ]
  },
  {
   "cell_type": "code",
   "execution_count": null,
   "id": "abafa446",
   "metadata": {},
   "outputs": [],
   "source": [
    "t1[2:5]"
   ]
  },
  {
   "cell_type": "code",
   "execution_count": null,
   "id": "17127f79",
   "metadata": {},
   "outputs": [],
   "source": [
    "t1[:-2]"
   ]
  },
  {
   "cell_type": "code",
   "execution_count": null,
   "id": "0a4ca863",
   "metadata": {},
   "outputs": [],
   "source": [
    "t1[-1]"
   ]
  },
  {
   "cell_type": "code",
   "execution_count": null,
   "id": "c4cf41ba",
   "metadata": {},
   "outputs": [],
   "source": [
    "# Slicing by using strides\n",
    "print(t1[::])  # A default step of 1\n",
    "print(t1[::1])  # A step of 1\n",
    "print(t1[::2])  # A step of 2\n",
    "print(t1[::3])  # A step of 3"
   ]
  },
  {
   "cell_type": "code",
   "execution_count": null,
   "id": "44359432",
   "metadata": {},
   "outputs": [],
   "source": [
    "# Reverse slicing\n",
    "print(t1[::-1]) # Take 1 step back each time\n",
    "print(t1[5:1:-1]) # Take 1 step back each time\n",
    "#if start is less than end in case of a negative step, it will return empty string\n",
    "print(t1[2:10:-1])\n",
    "print(t1[::-2]) # Take 2 steps back"
   ]
  },
  {
   "cell_type": "code",
   "execution_count": null,
   "id": "8221022c",
   "metadata": {},
   "outputs": [],
   "source": [
    "# You CANNOT use slice operator on the left side of assignment as tuple is immutable\n",
    "t1 = (1, 2, 3, 4, 5, 6, 7)\n",
    "#t1[2:4] = ['a', 'b', 'c']  # will generate an error as 'tuple' object does not support item assignment"
   ]
  },
  {
   "cell_type": "markdown",
   "id": "8f109f45",
   "metadata": {},
   "source": [
    "### 5. Tuple Concatenation and Repetition\n",
    "- The + operator is used to concatenate two or more tuples\n",
    "- The * operator is used to repeat or replicate"
   ]
  },
  {
   "cell_type": "markdown",
   "id": "4063124d",
   "metadata": {},
   "source": [
    "#### a. Concatenation Tuples"
   ]
  },
  {
   "cell_type": "code",
   "execution_count": null,
   "id": "5db695de",
   "metadata": {},
   "outputs": [],
   "source": [
    "# Add some elements to the end of an existing tuple using concatenation operator\n",
    "a = (1,2,3)\n",
    "b = a + (4,5)\n",
    "# Add some elements to the beginning of an existing tuple using concatenation operator\n",
    "c = (0,) + b\n",
    "a, b, c"
   ]
  },
  {
   "cell_type": "code",
   "execution_count": null,
   "id": "65c304f4",
   "metadata": {},
   "outputs": [],
   "source": [
    "# use + operator to concatenate two tuples\n",
    "food_items1 = ('fruits', 'bread', 'veggies')\n",
    "food_items2 = ('meat', 'spices', 'burger')\n",
    "food = food_items1 + food_items2\n",
    "print(food)"
   ]
  },
  {
   "cell_type": "code",
   "execution_count": null,
   "id": "895eb9a4",
   "metadata": {},
   "outputs": [],
   "source": [
    "# You can concatenate two heterogeneous lists\n",
    "t1 = (5, 3.4, 'hello')\n",
    "t2 = (31, 9.7, 'bye')\n",
    "t3 = t1 + t2\n",
    "print(t3)"
   ]
  },
  {
   "cell_type": "code",
   "execution_count": null,
   "id": "0845f519",
   "metadata": {},
   "outputs": [],
   "source": [
    "num1 = (1,2,3)\n",
    "num2 = num1 + (4, 5, 6, (7, 8))\n",
    "print (num2)"
   ]
  },
  {
   "cell_type": "markdown",
   "id": "617419b0",
   "metadata": {},
   "source": [
    "#### b. Replicating Tuples"
   ]
  },
  {
   "cell_type": "code",
   "execution_count": null,
   "id": "d4208107",
   "metadata": {},
   "outputs": [],
   "source": [
    "# use tuple * n syntax to create large tuples by repeating the tuple n times\n",
    "name = ('Arif', 'Hadeed', 'Mujahid')\n",
    "a = name * 3\n",
    "print(a)"
   ]
  },
  {
   "cell_type": "code",
   "execution_count": null,
   "id": "a9a6308a",
   "metadata": {},
   "outputs": [],
   "source": [
    "#tuple of 100 A's\n",
    "buf = ('A',)\n",
    "newbuf = buf * 100\n",
    "print(newbuf)\n",
    "type(newbuf)"
   ]
  },
  {
   "cell_type": "markdown",
   "id": "0557d8ff",
   "metadata": {},
   "source": [
    "### 6. Being immutable, you cannot add elements to a tuple (in list this is possible using append, extend, and insert)"
   ]
  },
  {
   "cell_type": "code",
   "execution_count": null,
   "id": "4ca664fe",
   "metadata": {},
   "outputs": [],
   "source": [
    "myfamily = (\"Farooq\", 'Rauf', 'Hadeed')\n",
    "print(\"\\n myfamily tuple: \", myfamily)\n",
    "# myfamily.insert(2,'Arif') # will generate an error as tuple object has no attribute 'insert'\n"
   ]
  },
  {
   "cell_type": "markdown",
   "id": "ae40dd9e",
   "metadata": {},
   "source": [
    "### 7. Being immutable, you cannot remove elemenst from a tuple (in list this is possible using pop and remove methods)"
   ]
  },
  {
   "cell_type": "code",
   "execution_count": 2,
   "id": "33f7704a",
   "metadata": {},
   "outputs": [
    {
     "name": "stdout",
     "output_type": "stream",
     "text": [
      "tuple1:  ('learning', 'is', 'fun', 'with', 'arif', 'butt')\n"
     ]
    }
   ],
   "source": [
    "tuple1 = ('learning', 'is', 'fun', 'with', 'arif', 'butt')\n",
    "print(\"tuple1: \", tuple1)\n",
    "#You cannot delete items from a tuple using del keyword\n",
    "#del tuple1[3]    # will generate an error as tuple object doesn't support item deletion\n",
    "\n",
    "#You can delete an entire tuple object using del keyword\n",
    "del tuple1\n",
    "# print(tuple1)\n",
    "\n"
   ]
  },
  {
   "cell_type": "markdown",
   "id": "0f4dd1c2",
   "metadata": {},
   "source": [
    "### 8. Converting string object to tuple and vice-versa (using type casting, split() and join())"
   ]
  },
  {
   "cell_type": "code",
   "execution_count": 6,
   "id": "71af910c",
   "metadata": {},
   "outputs": [
    {
     "name": "stdout",
     "output_type": "stream",
     "text": [
      "<class 'str'>\n",
      "Original string:  Learning is fun and its type is:   <class 'str'>\n",
      "t1:  ('L', 'e', 'a', 'r', 'n', 'i', 'n', 'g', ' ', 'i', 's', ' ', 'f', 'u', 'n') and its type is:   <class 'tuple'>\n"
     ]
    }
   ],
   "source": [
    "# convert a string into tuple using tuple()\n",
    "str1 = 'Learning is fun'    #this is a string\n",
    "print(type(str1))\n",
    "print(\"Original string: \", str1, \"and its type is:  \", type(str1))\n",
    "t1 = tuple(str1)\n",
    "print(\"t1: \", t1, \"and its type is:  \", type(t1))"
   ]
  },
  {
   "cell_type": "code",
   "execution_count": 7,
   "id": "37601e98",
   "metadata": {},
   "outputs": [
    {
     "name": "stdout",
     "output_type": "stream",
     "text": [
      "\n",
      "Given string:  Learning is fun\n",
      "t1=tuple(str1.split(' ')) ('Learning', 'is', 'fun')\n",
      "<class 'tuple'>\n"
     ]
    }
   ],
   "source": [
    "# split() method is used to tokenize a string based on some delimiter, which can be stored in a tuple\n",
    "# returns a list having tokens of the string based on spaces if no argument is passed\n",
    "# so for tuples you need to type cast the return object of split\n",
    "print(\"\\nGiven string: \", str1)\n",
    "t1 = tuple(str1.split(' '))\n",
    "print(\"t1=tuple(str1.split(' '))\", t1)\n",
    "print(type(t1))"
   ]
  },
  {
   "cell_type": "code",
   "execution_count": 8,
   "id": "24e78729",
   "metadata": {},
   "outputs": [
    {
     "name": "stdout",
     "output_type": "stream",
     "text": [
      "\n",
      "str2:  Learning is fun\n",
      "<class 'str'>\n"
     ]
    }
   ],
   "source": [
    "#join is the reverse of split\n",
    "delimeter = ' '\n",
    "str2 = delimeter.join(t1)\n",
    "print(\"\\nstr2: \",str2)\n",
    "print(type(str2))"
   ]
  },
  {
   "cell_type": "markdown",
   "id": "fbf88b2e",
   "metadata": {},
   "source": [
    "### 9. Misc Tuple methods in Python"
   ]
  },
  {
   "cell_type": "code",
   "execution_count": null,
   "id": "dd1b54d4",
   "metadata": {},
   "outputs": [],
   "source": [
    "# You cannot call sort() and reverse on a tuple being immutable\n",
    "# sort() method works well on lists\n",
    "t1 = (3, 8, 1, 6, 0, 8, 4)\n",
    "# t1.sort()\n",
    "# t1.reverse()\n",
    "\n"
   ]
  },
  {
   "cell_type": "code",
   "execution_count": 9,
   "id": "8dfa6b70",
   "metadata": {},
   "outputs": [
    {
     "name": "stdout",
     "output_type": "stream",
     "text": [
      "2\n"
     ]
    }
   ],
   "source": [
    "# count(value) method takes exactly one argument and returns the number of times a specified value occurs in a tuple\n",
    "t1 = (3, 8, 1, 6, 0, 8, 4)\n",
    "rv = t1.count(8)\n",
    "print(rv)"
   ]
  },
  {
   "cell_type": "code",
   "execution_count": 10,
   "id": "2f025aa2",
   "metadata": {},
   "outputs": [
    {
     "name": "stdout",
     "output_type": "stream",
     "text": [
      "length of list:  7\n",
      "max element in list:  8\n",
      "min element in list:  0\n",
      "Sum of element in list:  30\n",
      "False\n",
      "False\n"
     ]
    }
   ],
   "source": [
    "t1 = (3, 8, 1, 6, 0, 8, 4)\n",
    "print(\"length of list: \", len(t1))\n",
    "print(\"max element in list: \", max(t1))\n",
    "print(\"min element in list: \",min(t1))\n",
    "print(\"Sum of element in list: \",sum(t1))\n",
    "\n",
    "# Membership (in) operator\n",
    "rv1 = 9 in t1\n",
    "print(rv1)\n",
    "\n",
    "rv2 = \"ARIF\" in t1\n",
    "print(rv2)\n"
   ]
  },
  {
   "cell_type": "markdown",
   "id": "ff517f2e",
   "metadata": {},
   "source": [
    "### 11. Misc Concepts"
   ]
  },
  {
   "cell_type": "markdown",
   "id": "57a57000",
   "metadata": {},
   "source": [
    "#### a. Comparing objects and values"
   ]
  },
  {
   "cell_type": "code",
   "execution_count": 11,
   "id": "5ba0e04b",
   "metadata": {},
   "outputs": [
    {
     "data": {
      "text/plain": [
       "(140576317178288, 140576317178288)"
      ]
     },
     "execution_count": 11,
     "metadata": {},
     "output_type": "execute_result"
    }
   ],
   "source": [
    "# in case of strings, both a and b refers to the same memory location containing string 'hello'\n",
    "a = 'hello'\n",
    "b = 'hello'\n",
    "id(a), id(b)"
   ]
  },
  {
   "cell_type": "code",
   "execution_count": 13,
   "id": "16cf7f3e",
   "metadata": {},
   "outputs": [
    {
     "data": {
      "text/plain": [
       "(140576317007472, 140576316910320)"
      ]
     },
     "execution_count": 13,
     "metadata": {},
     "output_type": "execute_result"
    }
   ],
   "source": [
    "# in case of tuple, both a and b refers to two different objects in the memory having same values\n",
    "x = ('hello',)\n",
    "y = ('hello',)\n",
    "id(x), id(y)"
   ]
  },
  {
   "cell_type": "code",
   "execution_count": 14,
   "id": "b6aad1e4",
   "metadata": {},
   "outputs": [
    {
     "name": "stdout",
     "output_type": "stream",
     "text": [
      "False\n",
      "True\n"
     ]
    }
   ],
   "source": [
    "x = ('hello',)\n",
    "y = ('hello',)\n",
    "print (x is y) # is operator is checking the memory address two tuples\n",
    "print (x == y) # == operator is checking the contents of two tuples"
   ]
  },
  {
   "cell_type": "markdown",
   "id": "0f4febac",
   "metadata": {},
   "source": [
    "#### b. Aliasing"
   ]
  },
  {
   "cell_type": "code",
   "execution_count": 15,
   "id": "b485d1ad",
   "metadata": {},
   "outputs": [
    {
     "data": {
      "text/plain": [
       "(140576317171200, 140576317171456, 140576317171200)"
      ]
     },
     "execution_count": 15,
     "metadata": {},
     "output_type": "execute_result"
    }
   ],
   "source": [
    "# t1 and t2 points to two different objects in memory having same contents\n",
    "# Draw diagram to understand\n",
    "t1 = ('a', 'b', 'c')\n",
    "t2 = ('a', 'b', 'c')\n",
    "# t3 is an alias to t1, i.e., both names refer to same object now.\n",
    "t3 = t1\n",
    "id(t1), id(t2), id(t3)\n"
   ]
  },
  {
   "cell_type": "code",
   "execution_count": 16,
   "id": "6751cef3",
   "metadata": {},
   "outputs": [
    {
     "name": "stdout",
     "output_type": "stream",
     "text": [
      "False\n",
      "True\n"
     ]
    }
   ],
   "source": [
    "print(t1 is t2)\n",
    "print(t1 is t3)"
   ]
  },
  {
   "cell_type": "markdown",
   "id": "a578a6c3",
   "metadata": {},
   "source": [
    "### 12. Looping through tuple elements (More on loops in next lecture)"
   ]
  },
  {
   "cell_type": "code",
   "execution_count": 22,
   "id": "8c8c3eeb",
   "metadata": {},
   "outputs": [
    {
     "name": "stdout",
     "output_type": "stream",
     "text": [
      "Learning\n",
      "is\n",
      "fun\n",
      "with\n",
      "Arif Butt\n"
     ]
    }
   ],
   "source": [
    "# while loop iterates over the elements until a certain condition is met\n",
    "t1 = ('Learning', 'is', 'fun', 'with', 'Arif Butt')\n",
    "ctr = 0\n",
    "while(ctr < len(t1)):\n",
    "    print(t1[ctr])\n",
    "    ctr += 1"
   ]
  },
  {
   "cell_type": "code",
   "execution_count": 23,
   "id": "63e3024c",
   "metadata": {},
   "outputs": [
    {
     "name": "stdout",
     "output_type": "stream",
     "text": [
      "Learning\n",
      "is\n",
      "fun\n",
      "with\n",
      "Arif Butt\n"
     ]
    }
   ],
   "source": [
    "# for loop iterates over the elements specified number of times\n",
    "t1 = ('Learning', 'is', 'fun', 'with', 'Arif Butt')\n",
    "for x in t1:\n",
    "    print(x)\n",
    "    "
   ]
  },
  {
   "cell_type": "code",
   "execution_count": null,
   "id": "67ebba80",
   "metadata": {},
   "outputs": [],
   "source": []
  }
 ],
 "metadata": {
  "kernelspec": {
   "display_name": "Python 3 (ipykernel)",
   "language": "python",
   "name": "python3"
  },
  "language_info": {
   "codemirror_mode": {
    "name": "ipython",
    "version": 3
   },
   "file_extension": ".py",
   "mimetype": "text/x-python",
   "name": "python",
   "nbconvert_exporter": "python",
   "pygments_lexer": "ipython3",
   "version": "3.8.10"
  }
 },
 "nbformat": 4,
 "nbformat_minor": 5
}
