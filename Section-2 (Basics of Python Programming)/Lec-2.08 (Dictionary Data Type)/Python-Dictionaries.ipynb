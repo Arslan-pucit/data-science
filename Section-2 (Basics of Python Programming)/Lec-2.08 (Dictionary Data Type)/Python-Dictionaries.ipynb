{
 "cells": [
  {
   "cell_type": "markdown",
   "id": "a6651c01",
   "metadata": {},
   "source": [
    "---   \n",
    " <img align=\"left\" width=\"75\" height=\"75\"  src=\"https://upload.wikimedia.org/wikipedia/en/c/c8/University_of_the_Punjab_logo.png\"> \n",
    "\n",
    "<h1 align=\"center\">Department of Data Science</h1>\n",
    "<h1 align=\"center\">Course: Tools and Techniques for Data Science</h1>\n",
    "\n",
    "---\n",
    "<h3><div align=\"right\">Instructor: Muhammad Arif Butt, Ph.D.</div></h3>    "
   ]
  },
  {
   "cell_type": "markdown",
   "id": "a363bc39",
   "metadata": {},
   "source": [
    "<h1 align=\"center\">Lecture 2.8</h1>"
   ]
  },
  {
   "cell_type": "markdown",
   "id": "95de41a5",
   "metadata": {},
   "source": [
    "## _Python-Dictionaries.ipynb_\n",
    "#### [Click me to learn more about Python Dictionaries](https://www.geeksforgeeks.org/python-dictionary/)"
   ]
  },
  {
   "cell_type": "markdown",
   "id": "7c109b0c",
   "metadata": {},
   "source": [
    "## Learning agenda of this notebook\n",
    "1. How to create dictionaries?\n",
    "2. Proof of concepts\n",
    "3. Accessing elements of a dictionary\n",
    "4. Adding/Modifying elements in a dictionary\n",
    "5. Removing elements from a dictionary\n",
    "6. Dictionary, tuple and list conversions\n",
    "7. Misc Dictionary methods"
   ]
  },
  {
   "cell_type": "code",
   "execution_count": 2,
   "id": "20690d1d",
   "metadata": {
    "collapsed": true
   },
   "outputs": [
    {
     "name": "stdout",
     "output_type": "stream",
     "text": [
      "Help on class dict in module builtins:\n",
      "\n",
      "class dict(object)\n",
      " |  dict() -> new empty dictionary\n",
      " |  dict(mapping) -> new dictionary initialized from a mapping object's\n",
      " |      (key, value) pairs\n",
      " |  dict(iterable) -> new dictionary initialized as if via:\n",
      " |      d = {}\n",
      " |      for k, v in iterable:\n",
      " |          d[k] = v\n",
      " |  dict(**kwargs) -> new dictionary initialized with the name=value pairs\n",
      " |      in the keyword argument list.  For example:  dict(one=1, two=2)\n",
      " |  \n",
      " |  Built-in subclasses:\n",
      " |      StgDict\n",
      " |  \n",
      " |  Methods defined here:\n",
      " |  \n",
      " |  __contains__(self, key, /)\n",
      " |      True if the dictionary has the specified key, else False.\n",
      " |  \n",
      " |  __delitem__(self, key, /)\n",
      " |      Delete self[key].\n",
      " |  \n",
      " |  __eq__(self, value, /)\n",
      " |      Return self==value.\n",
      " |  \n",
      " |  __ge__(self, value, /)\n",
      " |      Return self>=value.\n",
      " |  \n",
      " |  __getattribute__(self, name, /)\n",
      " |      Return getattr(self, name).\n",
      " |  \n",
      " |  __getitem__(...)\n",
      " |      x.__getitem__(y) <==> x[y]\n",
      " |  \n",
      " |  __gt__(self, value, /)\n",
      " |      Return self>value.\n",
      " |  \n",
      " |  __init__(self, /, *args, **kwargs)\n",
      " |      Initialize self.  See help(type(self)) for accurate signature.\n",
      " |  \n",
      " |  __iter__(self, /)\n",
      " |      Implement iter(self).\n",
      " |  \n",
      " |  __le__(self, value, /)\n",
      " |      Return self<=value.\n",
      " |  \n",
      " |  __len__(self, /)\n",
      " |      Return len(self).\n",
      " |  \n",
      " |  __lt__(self, value, /)\n",
      " |      Return self<value.\n",
      " |  \n",
      " |  __ne__(self, value, /)\n",
      " |      Return self!=value.\n",
      " |  \n",
      " |  __repr__(self, /)\n",
      " |      Return repr(self).\n",
      " |  \n",
      " |  __reversed__(self, /)\n",
      " |      Return a reverse iterator over the dict keys.\n",
      " |  \n",
      " |  __setitem__(self, key, value, /)\n",
      " |      Set self[key] to value.\n",
      " |  \n",
      " |  __sizeof__(...)\n",
      " |      D.__sizeof__() -> size of D in memory, in bytes\n",
      " |  \n",
      " |  clear(...)\n",
      " |      D.clear() -> None.  Remove all items from D.\n",
      " |  \n",
      " |  copy(...)\n",
      " |      D.copy() -> a shallow copy of D\n",
      " |  \n",
      " |  get(self, key, default=None, /)\n",
      " |      Return the value for key if key is in the dictionary, else default.\n",
      " |  \n",
      " |  items(...)\n",
      " |      D.items() -> a set-like object providing a view on D's items\n",
      " |  \n",
      " |  keys(...)\n",
      " |      D.keys() -> a set-like object providing a view on D's keys\n",
      " |  \n",
      " |  pop(...)\n",
      " |      D.pop(k[,d]) -> v, remove specified key and return the corresponding value.\n",
      " |      If key is not found, d is returned if given, otherwise KeyError is raised\n",
      " |  \n",
      " |  popitem(self, /)\n",
      " |      Remove and return a (key, value) pair as a 2-tuple.\n",
      " |      \n",
      " |      Pairs are returned in LIFO (last-in, first-out) order.\n",
      " |      Raises KeyError if the dict is empty.\n",
      " |  \n",
      " |  setdefault(self, key, default=None, /)\n",
      " |      Insert key with a value of default if key is not in the dictionary.\n",
      " |      \n",
      " |      Return the value for key if key is in the dictionary, else default.\n",
      " |  \n",
      " |  update(...)\n",
      " |      D.update([E, ]**F) -> None.  Update D from dict/iterable E and F.\n",
      " |      If E is present and has a .keys() method, then does:  for k in E: D[k] = E[k]\n",
      " |      If E is present and lacks a .keys() method, then does:  for k, v in E: D[k] = v\n",
      " |      In either case, this is followed by: for k in F:  D[k] = F[k]\n",
      " |  \n",
      " |  values(...)\n",
      " |      D.values() -> an object providing a view on D's values\n",
      " |  \n",
      " |  ----------------------------------------------------------------------\n",
      " |  Class methods defined here:\n",
      " |  \n",
      " |  fromkeys(iterable, value=None, /) from builtins.type\n",
      " |      Create a new dictionary with keys from iterable and values set to value.\n",
      " |  \n",
      " |  ----------------------------------------------------------------------\n",
      " |  Static methods defined here:\n",
      " |  \n",
      " |  __new__(*args, **kwargs) from builtins.type\n",
      " |      Create and return a new object.  See help(type) for accurate signature.\n",
      " |  \n",
      " |  ----------------------------------------------------------------------\n",
      " |  Data and other attributes defined here:\n",
      " |  \n",
      " |  __hash__ = None\n",
      "\n"
     ]
    }
   ],
   "source": [
    "help(dict)"
   ]
  },
  {
   "cell_type": "markdown",
   "id": "78d11dc1",
   "metadata": {},
   "source": [
    "## 1. How to create Dictionaries?\n",
    "- Dictionaries are another type of composite data types, and are also a collection of objects much like Lists and Tuples.\n",
    "- Dictionaries are used to store elements in `key:value` pairs and created using curly braces. Each key-value pair is separated using comma. The key and value themselves are separated by a colon \n",
    "- Values can be heterogeneous, while keys can be int, string, or tuple. \n",
    "- Allows duplicate values but keys must be unique. \n",
    "- From Python version 3.7 onwards, dictionaries are ordered. - The items of a dictionary are not indexed like List and Tuples."
   ]
  },
  {
   "cell_type": "code",
   "execution_count": 3,
   "id": "88801cf7",
   "metadata": {},
   "outputs": [
    {
     "data": {
      "text/plain": [
       "{'arif': 51, 'rauf': 52, 'hadeed': 20}"
      ]
     },
     "execution_count": 3,
     "metadata": {},
     "output_type": "execute_result"
    }
   ],
   "source": [
    "# A dictionary with string keys, and integer values, showing age of person\n",
    "dict1 = {\n",
    "    'arif':51, \n",
    "    'rauf':52, \n",
    "    'hadeed':20\n",
    "}\n",
    "dict1"
   ]
  },
  {
   "cell_type": "code",
   "execution_count": 4,
   "id": "4eaf7468",
   "metadata": {},
   "outputs": [
    {
     "data": {
      "text/plain": [
       "{2580: 'var1', 2582: 'var2', 2586: 'var3'}"
      ]
     },
     "execution_count": 4,
     "metadata": {},
     "output_type": "execute_result"
    }
   ],
   "source": [
    "# A dictionary with integer keys, and string values, showing a symbol table generated by compiler\n",
    "dict2 = {\n",
    "    2580:'var1', \n",
    "    2582:'var2', \n",
    "    2586:'var3'\n",
    "}\n",
    "dict2"
   ]
  },
  {
   "cell_type": "code",
   "execution_count": 5,
   "id": "28246b4b",
   "metadata": {},
   "outputs": [
    {
     "data": {
      "text/plain": [
       "{'name': 'kakamanna', 1: 10, 'abc': 25, 33: 'xyz'}"
      ]
     },
     "execution_count": 5,
     "metadata": {},
     "output_type": "execute_result"
    }
   ],
   "source": [
    "# dictionary with mixed keys\n",
    "dict3 = {\n",
    "    'name': 'kakamanna', \n",
    "    1: 10,\n",
    "    'abc':25,\n",
    "    33: 'xyz'\n",
    "}\n",
    "dict3"
   ]
  },
  {
   "cell_type": "code",
   "execution_count": 6,
   "id": "2b837716",
   "metadata": {},
   "outputs": [
    {
     "data": {
      "text/plain": [
       "{1: 'hello', 2: 'bye'}"
      ]
     },
     "execution_count": 6,
     "metadata": {},
     "output_type": "execute_result"
    }
   ],
   "source": [
    "# creating dictionary with values using dict()\n",
    "dict4 = dict({1: 'hello', 2: 'bye'})\n",
    "dict4"
   ]
  },
  {
   "cell_type": "code",
   "execution_count": 7,
   "id": "42a9682a",
   "metadata": {},
   "outputs": [
    {
     "data": {
      "text/plain": [
       "({}, dict, 140574598633920)"
      ]
     },
     "execution_count": 7,
     "metadata": {},
     "output_type": "execute_result"
    }
   ],
   "source": [
    "# Creating an empty dictionary\n",
    "dict5 = dict()\n",
    "dict5, type(dict5), id(dict5) "
   ]
  },
  {
   "cell_type": "code",
   "execution_count": 10,
   "id": "e5aa7f0f",
   "metadata": {},
   "outputs": [
    {
     "data": {
      "text/plain": [
       "({}, dict)"
      ]
     },
     "execution_count": 10,
     "metadata": {},
     "output_type": "execute_result"
    }
   ],
   "source": [
    "# other way to create empty dictionary\n",
    "dict6 = {}\n",
    "dict6, type(dict6)"
   ]
  },
  {
   "cell_type": "code",
   "execution_count": 9,
   "id": "82597fbb",
   "metadata": {},
   "outputs": [
    {
     "data": {
      "text/plain": [
       "{'name': 'arif', 'age': 51, 'city': 'Lahore'}"
      ]
     },
     "execution_count": 9,
     "metadata": {},
     "output_type": "execute_result"
    }
   ],
   "source": [
    "# A list of two object tuples can also be used to create dictionaries\n",
    "dict7 = dict([('name', 'arif'), ('age',51), ('city', 'Lahore')])\n",
    "dict7"
   ]
  },
  {
   "cell_type": "markdown",
   "id": "d6ec8ad7",
   "metadata": {},
   "source": [
    "## 2. Proof of concepts"
   ]
  },
  {
   "cell_type": "markdown",
   "id": "feba67cb",
   "metadata": {},
   "source": [
    "### a. Dictionary allows Duplicate Values"
   ]
  },
  {
   "cell_type": "code",
   "execution_count": 11,
   "id": "36c560ea",
   "metadata": {},
   "outputs": [],
   "source": [
    "# Duplicate values are allowed\n",
    "d1 = {'name1' : 'kakamanna',\n",
    "     'name2' : 'kakamanna'\n",
    "     }"
   ]
  },
  {
   "cell_type": "markdown",
   "id": "241ef2e0",
   "metadata": {},
   "source": [
    "### b. Dictionary DOESNOT allows Duplicate Keys"
   ]
  },
  {
   "cell_type": "code",
   "execution_count": 12,
   "id": "873aa251",
   "metadata": {},
   "outputs": [
    {
     "data": {
      "text/plain": [
       "{'name': 'arif'}"
      ]
     },
     "execution_count": 12,
     "metadata": {},
     "output_type": "execute_result"
    }
   ],
   "source": [
    "# Duplicate keys are not allowed\n",
    "# This will not raise an error, but will overwrite the value corresponding to the key\n",
    "d1 = {'name' : 'kakamanna',\n",
    "     'name' : 'arif'\n",
    "     }\n",
    "d1"
   ]
  },
  {
   "cell_type": "markdown",
   "id": "37e2a7a2",
   "metadata": {},
   "source": [
    "### c. Keys inside Dictionaries Must be of Immutable data types\n",
    "- The keys of a dictionary has to be of immutable data type (number, string, tuple)"
   ]
  },
  {
   "cell_type": "code",
   "execution_count": 28,
   "id": "f6c829c1",
   "metadata": {},
   "outputs": [
    {
     "data": {
      "text/plain": [
       "{'nam': 'kakamanna', (60, 78, 83): 'marks'}"
      ]
     },
     "execution_count": 28,
     "metadata": {},
     "output_type": "execute_result"
    }
   ],
   "source": [
    "# Tuple being immutable can be used as a key\n",
    "d1 = {'nam':'kakamanna', \n",
    "      (60, 78, 83): 'marks' \n",
    "     }\n",
    "d1"
   ]
  },
  {
   "cell_type": "code",
   "execution_count": 13,
   "id": "fbcf6824",
   "metadata": {},
   "outputs": [
    {
     "ename": "TypeError",
     "evalue": "unhashable type: 'list'",
     "output_type": "error",
     "traceback": [
      "\u001b[0;31m---------------------------------------------------------------------------\u001b[0m",
      "\u001b[0;31mTypeError\u001b[0m                                 Traceback (most recent call last)",
      "\u001b[0;32m/var/folders/1t/g3ylw8h50cjdqmk5d6jh1qmm0000gn/T/ipykernel_15455/1738231119.py\u001b[0m in \u001b[0;36m<module>\u001b[0;34m\u001b[0m\n\u001b[1;32m      1\u001b[0m \u001b[0;31m# List being mutable cannot be used as a key\u001b[0m\u001b[0;34m\u001b[0m\u001b[0;34m\u001b[0m\u001b[0;34m\u001b[0m\u001b[0m\n\u001b[0;32m----> 2\u001b[0;31m d1 = {'nam':'kakamanna', \n\u001b[0m\u001b[1;32m      3\u001b[0m       \u001b[0;34m[\u001b[0m\u001b[0;36m60\u001b[0m\u001b[0;34m,\u001b[0m \u001b[0;36m78\u001b[0m\u001b[0;34m,\u001b[0m \u001b[0;36m83\u001b[0m\u001b[0;34m]\u001b[0m\u001b[0;34m:\u001b[0m\u001b[0;34m'marks'\u001b[0m\u001b[0;34m\u001b[0m\u001b[0;34m\u001b[0m\u001b[0m\n\u001b[1;32m      4\u001b[0m      }\n\u001b[1;32m      5\u001b[0m \u001b[0md1\u001b[0m\u001b[0;34m\u001b[0m\u001b[0;34m\u001b[0m\u001b[0m\n",
      "\u001b[0;31mTypeError\u001b[0m: unhashable type: 'list'"
     ]
    }
   ],
   "source": [
    "# List being mutable cannot be used as a key\n",
    "d1 = {'nam':'kakamanna', \n",
    "      [60, 78, 83]:'marks' \n",
    "     }\n",
    "d1"
   ]
  },
  {
   "cell_type": "markdown",
   "id": "b6b79f18",
   "metadata": {},
   "source": [
    "### d. Values inside Dictionaies can be of mutable/immutable data type"
   ]
  },
  {
   "cell_type": "code",
   "execution_count": 14,
   "id": "707b1982",
   "metadata": {},
   "outputs": [
    {
     "data": {
      "text/plain": [
       "{'nam': 'kakamanna', 'marks': [60, 78, 83]}"
      ]
     },
     "execution_count": 14,
     "metadata": {},
     "output_type": "execute_result"
    }
   ],
   "source": [
    "# List being mutable can be used as a value\n",
    "d1 = {'nam':'kakamanna', \n",
    "      'marks':[60,78,83] \n",
    "     }\n",
    "d1"
   ]
  },
  {
   "cell_type": "code",
   "execution_count": 15,
   "id": "848acae1",
   "metadata": {},
   "outputs": [
    {
     "data": {
      "text/plain": [
       "{'nam': 'kakamanna', 'marks': (60, 78, 83)}"
      ]
     },
     "execution_count": 15,
     "metadata": {},
     "output_type": "execute_result"
    }
   ],
   "source": [
    "# Tuple being immutable can also be used as a value\n",
    "d1 = {'nam':'kakamanna', \n",
    "      'marks': (60,78,83) \n",
    "     }\n",
    "d1"
   ]
  },
  {
   "cell_type": "markdown",
   "id": "b4736b44",
   "metadata": {},
   "source": [
    "### e. Dictionaries are heterogeneous\n",
    "- The keys of a dictionary can be of integer, string, or tuple type\n",
    "- The values of a dictionary can be of any data type"
   ]
  },
  {
   "cell_type": "code",
   "execution_count": 16,
   "id": "554ca278",
   "metadata": {},
   "outputs": [
    {
     "data": {
      "text/plain": [
       "{'name': 'kakamanna', 1: 10, 'abc': 25, 33: 'xyz'}"
      ]
     },
     "execution_count": 16,
     "metadata": {},
     "output_type": "execute_result"
    }
   ],
   "source": [
    "dict3 = {\n",
    "    'name': 'kakamanna', \n",
    "    1: 10,\n",
    "    'abc':25,\n",
    "    33: 'xyz'\n",
    "}\n",
    "dict3"
   ]
  },
  {
   "cell_type": "markdown",
   "id": "dd3c355e",
   "metadata": {},
   "source": [
    "### f. Dictionaries can be nested to arbitrary depth"
   ]
  },
  {
   "cell_type": "code",
   "execution_count": 17,
   "id": "6b41d82a",
   "metadata": {},
   "outputs": [
    {
     "data": {
      "text/plain": [
       "{'name': 'arif',\n",
       " 'occupation': 'teaching',\n",
       " 'address': {'house#': 131, 'area': 'model town', 'city': 'lahore'},\n",
       " 'phone': '03214456454'}"
      ]
     },
     "execution_count": 17,
     "metadata": {},
     "output_type": "execute_result"
    }
   ],
   "source": [
    "# Creating a Nested Dictionary\n",
    "dict7 = {'name':'arif', \n",
    "         'occupation':'teaching',\n",
    "        'address':{'house#' : 131, 'area' : 'model town', 'city' : 'lahore'},\n",
    "         'phone': '03214456454'\n",
    "        }\n",
    " \n",
    "dict7"
   ]
  },
  {
   "cell_type": "markdown",
   "id": "bdfb8c5d",
   "metadata": {},
   "source": [
    "### g. Dictionaries from Python 3.7 onward are ordered\n",
    "- From Python 3.7 onwards, dictionaries are guranteed to be in insertion ordered. i.e., every time you access dictionary elements they will show up in same sequence. \n",
    "- However, like string, list, and tuple, the elements of a dictionary are not associated by an index\n",
    "- Moreover, two dictionaries having same key-value pairs are two different objects"
   ]
  },
  {
   "cell_type": "code",
   "execution_count": 68,
   "id": "f588c165",
   "metadata": {},
   "outputs": [
    {
     "data": {
      "text/plain": [
       "(140574599249408, 140574599223488, 140574599222848)"
      ]
     },
     "execution_count": 68,
     "metadata": {},
     "output_type": "execute_result"
    }
   ],
   "source": [
    "d1 = {\n",
    "    'arif':51, \n",
    "    'rauf':52, \n",
    "    'hadeed':20\n",
    "}\n",
    "d1\n",
    "d2 = {\n",
    "    'arif':51, \n",
    "    'rauf':52, \n",
    "    'hadeed':20\n",
    "}\n",
    "d2\n",
    "d3 = {\n",
    "    'rauf':52, \n",
    "    'hadeed':20,\n",
    "    'arif':51\n",
    "}\n",
    "id(d1), id(d2), id(d3)"
   ]
  },
  {
   "cell_type": "markdown",
   "id": "11c05fb2",
   "metadata": {},
   "source": [
    "## 3. Accessing Elements of a Dictionary"
   ]
  },
  {
   "cell_type": "code",
   "execution_count": 69,
   "id": "67d27c62",
   "metadata": {},
   "outputs": [
    {
     "data": {
      "text/plain": [
       "{'name': 'kakamanna',\n",
       " 'age': 22,\n",
       " 'address': 'Johar Town',\n",
       " 'marks': [60, 75, 80]}"
      ]
     },
     "execution_count": 69,
     "metadata": {},
     "output_type": "execute_result"
    }
   ],
   "source": [
    "# Create a simple dictionary for these operations\n",
    "d1 = {\n",
    "    'name':'kakamanna', \n",
    "    'age':22, \n",
    "    'address':'Johar Town', \n",
    "    'marks':[60, 75, 80]\n",
    "}\n",
    "d1"
   ]
  },
  {
   "cell_type": "markdown",
   "id": "f79228bc",
   "metadata": {},
   "source": [
    "### a. Accessing Elements using `[]` Operator\n",
    "- You can access the values of a dictionary by by giving its corresponding key inside `[]` operator"
   ]
  },
  {
   "cell_type": "code",
   "execution_count": 70,
   "id": "af560a31",
   "metadata": {},
   "outputs": [
    {
     "data": {
      "text/plain": [
       "'Johar Town'"
      ]
     },
     "execution_count": 70,
     "metadata": {},
     "output_type": "execute_result"
    }
   ],
   "source": [
    "# You can access value associated with a key using [] brackets by mentioning the corresponding key inside\n",
    "d1['address']\n",
    "# However, you cannot access the key giving the value inside the [] brackets\n",
    "#d1[22]"
   ]
  },
  {
   "cell_type": "markdown",
   "id": "5d52ed7e",
   "metadata": {},
   "source": [
    "### b. Accessing Elements using `d1.get(key)`  method\n",
    "- The `d1.get(key)` is passed the key as argument and it returns the value corresponding to that key"
   ]
  },
  {
   "cell_type": "code",
   "execution_count": 71,
   "id": "43c4a5ff",
   "metadata": {},
   "outputs": [
    {
     "data": {
      "text/plain": [
       "[60, 75, 80]"
      ]
     },
     "execution_count": 71,
     "metadata": {},
     "output_type": "execute_result"
    }
   ],
   "source": [
    "d1.get('marks')"
   ]
  },
  {
   "cell_type": "code",
   "execution_count": 72,
   "id": "4219d9d9",
   "metadata": {},
   "outputs": [
    {
     "data": {
      "text/plain": [
       "'Johar Town'"
      ]
     },
     "execution_count": 72,
     "metadata": {},
     "output_type": "execute_result"
    }
   ],
   "source": [
    "d1.get('address')"
   ]
  },
  {
   "cell_type": "markdown",
   "id": "46c467b5",
   "metadata": {},
   "source": [
    "### c. Accessing Elements using `d1.items()`  methods\n",
    "- The `d1.items()` method returns all the key-value pairs of a dict as a two object tuple"
   ]
  },
  {
   "cell_type": "code",
   "execution_count": 73,
   "id": "63929986",
   "metadata": {},
   "outputs": [
    {
     "data": {
      "text/plain": [
       "dict_items([('name', 'kakamanna'), ('age', 22), ('address', 'Johar Town'), ('marks', [60, 75, 80])])"
      ]
     },
     "execution_count": 73,
     "metadata": {},
     "output_type": "execute_result"
    }
   ],
   "source": [
    "d1.items()"
   ]
  },
  {
   "cell_type": "markdown",
   "id": "b1b75815",
   "metadata": {},
   "source": [
    "### d. Accessing Elements using `d1.keys()`  methods\n",
    "- The `d1.keys()` method returns all the keys  of a dict object"
   ]
  },
  {
   "cell_type": "code",
   "execution_count": 74,
   "id": "9a202981",
   "metadata": {},
   "outputs": [
    {
     "data": {
      "text/plain": [
       "dict_keys(['name', 'age', 'address', 'marks'])"
      ]
     },
     "execution_count": 74,
     "metadata": {},
     "output_type": "execute_result"
    }
   ],
   "source": [
    "# The dictionary method keys() returns all the keys of a dictionary\n",
    "d1.keys()"
   ]
  },
  {
   "cell_type": "markdown",
   "id": "9bd002d9",
   "metadata": {},
   "source": [
    "### e. Accessing Elements using `d1.values()`  methods\n",
    "- The `d1.values()` method returns all the values  of a dict object\n",
    "- If a value occurs multiple times in the dictionary, it will appear that many times"
   ]
  },
  {
   "cell_type": "code",
   "execution_count": 75,
   "id": "7a1fc953",
   "metadata": {},
   "outputs": [
    {
     "data": {
      "text/plain": [
       "dict_values(['kakamanna', 22, 'Johar Town', [60, 75, 80]])"
      ]
     },
     "execution_count": 75,
     "metadata": {},
     "output_type": "execute_result"
    }
   ],
   "source": [
    "d1.values()"
   ]
  },
  {
   "cell_type": "code",
   "execution_count": 76,
   "id": "c7bcc139",
   "metadata": {},
   "outputs": [
    {
     "name": "stdout",
     "output_type": "stream",
     "text": [
      "d2['name']:  arif\n",
      "d2['address']:  {'house#': 131, 'area': 'model town', 'city': 'lahore'}\n",
      "d2['address']['area']:  model town\n"
     ]
    }
   ],
   "source": [
    "#To access the value of a key in a nested directory, use indexing [] syntax\n",
    "d2 = {'name':'arif', \n",
    "      'occupation':'teaching',\n",
    "      'address':{'house#' : 131, \n",
    "                 'area' : 'model town', \n",
    "                 'city' : 'lahore'\n",
    "                }\n",
    "        }\n",
    "d2\n",
    "print(\"d2['name']: \", d2['name'])\n",
    "print(\"d2['address']: \", d2['address'])\n",
    "print(\"d2['address']['area']: \", d2['address']['area'])"
   ]
  },
  {
   "cell_type": "markdown",
   "id": "c8bf8328",
   "metadata": {},
   "source": [
    "## 4. Adding/Modifying Elements in a Dictionary"
   ]
  },
  {
   "cell_type": "code",
   "execution_count": 77,
   "id": "a66db7ee",
   "metadata": {},
   "outputs": [
    {
     "data": {
      "text/plain": [
       "{'name': 'kakamanna',\n",
       " 'age': 22,\n",
       " 'address': 'Johar Town',\n",
       " 'marks': [60, 75, 80]}"
      ]
     },
     "execution_count": 77,
     "metadata": {},
     "output_type": "execute_result"
    }
   ],
   "source": [
    "# Create a simple dictionary for these operations\n",
    "d1 = {\n",
    "    'name':'kakamanna', \n",
    "    'age':22, \n",
    "    'address':'Johar Town', \n",
    "    'marks':[60, 75, 80]\n",
    "}\n",
    "d1"
   ]
  },
  {
   "cell_type": "markdown",
   "id": "b3baf5f7",
   "metadata": {},
   "source": [
    "### a. Adding/Modifying Elements using `[]` Operator\n",
    "- You can  modify value associated with a key using `[]` operator and assignment statement\n",
    "- If the key donot already exist, a new key:value is inserted in the dictionary"
   ]
  },
  {
   "cell_type": "code",
   "execution_count": 78,
   "id": "9ab55d28",
   "metadata": {},
   "outputs": [
    {
     "data": {
      "text/plain": [
       "{'name': 'kakamanna',\n",
       " 'age': 22,\n",
       " 'address': 'Model Town',\n",
       " 'marks': [60, 75, 80]}"
      ]
     },
     "execution_count": 78,
     "metadata": {},
     "output_type": "execute_result"
    }
   ],
   "source": [
    "# Modify value corresponding to an existing key\n",
    "d1['address'] = 'Model Town'\n",
    "d1"
   ]
  },
  {
   "cell_type": "code",
   "execution_count": 79,
   "id": "eb507d6e",
   "metadata": {},
   "outputs": [
    {
     "data": {
      "text/plain": [
       "{'name': 'kakamanna',\n",
       " 'age': 22,\n",
       " 'address': 'Model Town',\n",
       " 'marks': [60, 75, 80],\n",
       " 'key1': 'value1'}"
      ]
     },
     "execution_count": 79,
     "metadata": {},
     "output_type": "execute_result"
    }
   ],
   "source": [
    "# Adding a new key:value pair\n",
    "d1['key1'] = 'value1'\n",
    "d1"
   ]
  },
  {
   "cell_type": "markdown",
   "id": "e40d6d74",
   "metadata": {},
   "source": [
    "### b. Modifying Elements using `d1.update()` method \n",
    "- The `d1.update()` method is used to update the value corresponding to an existing key inside the dictionary\n",
    "- If the key donot already exist, a new key:value is inserted in the dictionary"
   ]
  },
  {
   "cell_type": "code",
   "execution_count": 80,
   "id": "4f7f5acf",
   "metadata": {},
   "outputs": [
    {
     "data": {
      "text/plain": [
       "{'name': 'Arif Butt',\n",
       " 'age': 22,\n",
       " 'address': 'Model Town',\n",
       " 'marks': [60, 75, 80],\n",
       " 'key1': 'value1'}"
      ]
     },
     "execution_count": 80,
     "metadata": {},
     "output_type": "execute_result"
    }
   ],
   "source": [
    "# Modify value corresponding to an existing key\n",
    "d1.update({'name':'Arif Butt'})\n",
    "d1"
   ]
  },
  {
   "cell_type": "code",
   "execution_count": 81,
   "id": "f4427151",
   "metadata": {},
   "outputs": [
    {
     "data": {
      "text/plain": [
       "{'name': 'Arif Butt',\n",
       " 'age': 22,\n",
       " 'address': 'Model Town',\n",
       " 'marks': [60, 75, 80],\n",
       " 'key1': 'value1',\n",
       " 'key2': 'value2'}"
      ]
     },
     "execution_count": 81,
     "metadata": {},
     "output_type": "execute_result"
    }
   ],
   "source": [
    "# Adding a new key:value pair\n",
    "d1.update({'key2':'value2'})\n",
    "d1"
   ]
  },
  {
   "cell_type": "code",
   "execution_count": 82,
   "id": "b35c3796",
   "metadata": {},
   "outputs": [
    {
     "data": {
      "text/plain": [
       "{'name': 'kakamanna',\n",
       " 'age': 22,\n",
       " 'address': 'Johar Town',\n",
       " 'marks': [60, 75, 80]}"
      ]
     },
     "execution_count": 82,
     "metadata": {},
     "output_type": "execute_result"
    }
   ],
   "source": [
    "# Create a simple dictionary for these operations\n",
    "d1 = {\n",
    "    'name':'kakamanna', \n",
    "    'age':22, \n",
    "    'address':'Johar Town', \n",
    "    'marks':[60, 75, 80]\n",
    "}\n",
    "d1"
   ]
  },
  {
   "cell_type": "code",
   "execution_count": 83,
   "id": "fbd84bff",
   "metadata": {},
   "outputs": [
    {
     "data": {
      "text/plain": [
       "{'name': 'kakamanna',\n",
       " 'age': 22,\n",
       " 'address': 'Johar Town',\n",
       " 'marks': [60, 75, 80]}"
      ]
     },
     "execution_count": 83,
     "metadata": {},
     "output_type": "execute_result"
    }
   ],
   "source": [
    "# You can also use update method to merge two dictionaries\n",
    "d1 = {\n",
    "    'name':'kakamanna', \n",
    "    'age':22, \n",
    "}\n",
    "d1\n",
    "d2 = {\n",
    "    'address':'Johar Town', \n",
    "    'marks':[60, 75, 80]\n",
    "}\n",
    "d2\n",
    "\n",
    "d1.update(d2)\n",
    "d1"
   ]
  },
  {
   "cell_type": "markdown",
   "id": "77a3ec17",
   "metadata": {},
   "source": [
    "## 5. Removing Elements from a Dictionary"
   ]
  },
  {
   "cell_type": "code",
   "execution_count": 85,
   "id": "7e930deb",
   "metadata": {},
   "outputs": [
    {
     "data": {
      "text/plain": [
       "{'name': 'kakamanna',\n",
       " 'age': 22,\n",
       " 'address': 'Johar Town',\n",
       " 'marks': [60, 75, 80]}"
      ]
     },
     "execution_count": 85,
     "metadata": {},
     "output_type": "execute_result"
    }
   ],
   "source": [
    "# Create a simple dictionary for these operations\n",
    "d1 = {\n",
    "    'name':'kakamanna', \n",
    "    'age':22, \n",
    "    'address':'Johar Town', \n",
    "    'marks':[60, 75, 80]\n",
    "}\n",
    "d1"
   ]
  },
  {
   "cell_type": "markdown",
   "id": "bee8de58",
   "metadata": {},
   "source": [
    "### a. Removing Element using `[]` operator\n",
    "- To delete a dictionary element use the `del d1[key]` \n",
    "- To delete an entire dictionary from memory use `del d1` "
   ]
  },
  {
   "cell_type": "code",
   "execution_count": 86,
   "id": "d581d04d",
   "metadata": {},
   "outputs": [
    {
     "data": {
      "text/plain": [
       "{'name': 'kakamanna', 'address': 'Johar Town', 'marks': [60, 75, 80]}"
      ]
     },
     "execution_count": 86,
     "metadata": {},
     "output_type": "execute_result"
    }
   ],
   "source": [
    "del d1['age']\n",
    "d1"
   ]
  },
  {
   "cell_type": "code",
   "execution_count": null,
   "id": "96f35fe3",
   "metadata": {},
   "outputs": [],
   "source": [
    "#this will delete the whole directory\n",
    "del d1\n",
    "#print(d1)  # will generate an error now"
   ]
  },
  {
   "cell_type": "markdown",
   "id": "689320ac",
   "metadata": {},
   "source": [
    "### b. Removing Element using `d1.popitem()` Method\n",
    "- The `d1.popitem()` removes and returns a (key,value) pair as a 2-tuple\n",
    "- Pairs are returned in LIFO order, i.e., last inserted element is returned"
   ]
  },
  {
   "cell_type": "code",
   "execution_count": 93,
   "id": "5be61226",
   "metadata": {},
   "outputs": [
    {
     "data": {
      "text/plain": [
       "('marks', [60, 75, 80])"
      ]
     },
     "execution_count": 93,
     "metadata": {},
     "output_type": "execute_result"
    }
   ],
   "source": [
    "d1 = {\n",
    "    'name':'kakamanna', \n",
    "    'age':22, \n",
    "    'address':'Johar Town', \n",
    "    'marks':[60, 75, 80]\n",
    "}\n",
    "d1.popitem()"
   ]
  },
  {
   "cell_type": "code",
   "execution_count": 91,
   "id": "aba9d471",
   "metadata": {},
   "outputs": [
    {
     "data": {
      "text/plain": [
       "{'name': 'kakamanna', 'age': 22, 'address': 'Johar Town'}"
      ]
     },
     "execution_count": 91,
     "metadata": {},
     "output_type": "execute_result"
    }
   ],
   "source": [
    "d1"
   ]
  },
  {
   "cell_type": "markdown",
   "id": "a67d9031",
   "metadata": {},
   "source": [
    "### c. Removing Element using `d1.pop(key)` Method\n",
    "- The `d1.pop(key)` returns the value of the key passed as its required argument\n",
    "- Moreover, the corresponding key-value pair is also removed from the dictionary\n",
    "- If key is not found a KeyError is raised"
   ]
  },
  {
   "cell_type": "code",
   "execution_count": 98,
   "id": "2463a560",
   "metadata": {},
   "outputs": [
    {
     "data": {
      "text/plain": [
       "'kakamanna'"
      ]
     },
     "execution_count": 98,
     "metadata": {},
     "output_type": "execute_result"
    }
   ],
   "source": [
    "d1 = {\n",
    "    'name':'kakamanna', \n",
    "    'age':22, \n",
    "    'address':'Johar Town', \n",
    "    'marks':[60, 75, 80]\n",
    "}\n",
    "\n",
    "d1.pop('name')"
   ]
  },
  {
   "cell_type": "code",
   "execution_count": 99,
   "id": "1acdedb0",
   "metadata": {},
   "outputs": [
    {
     "data": {
      "text/plain": [
       "{'age': 22, 'address': 'Johar Town', 'marks': [60, 75, 80]}"
      ]
     },
     "execution_count": 99,
     "metadata": {},
     "output_type": "execute_result"
    }
   ],
   "source": [
    "d1"
   ]
  },
  {
   "cell_type": "code",
   "execution_count": 100,
   "id": "9c8bf117",
   "metadata": {},
   "outputs": [
    {
     "ename": "KeyError",
     "evalue": "'nokey'",
     "output_type": "error",
     "traceback": [
      "\u001b[0;31m---------------------------------------------------------------------------\u001b[0m",
      "\u001b[0;31mKeyError\u001b[0m                                  Traceback (most recent call last)",
      "\u001b[0;32m/var/folders/1t/g3ylw8h50cjdqmk5d6jh1qmm0000gn/T/ipykernel_15455/62675159.py\u001b[0m in \u001b[0;36m<module>\u001b[0;34m\u001b[0m\n\u001b[0;32m----> 1\u001b[0;31m \u001b[0md1\u001b[0m\u001b[0;34m.\u001b[0m\u001b[0mpop\u001b[0m\u001b[0;34m(\u001b[0m\u001b[0;34m'nokey'\u001b[0m\u001b[0;34m)\u001b[0m\u001b[0;34m\u001b[0m\u001b[0;34m\u001b[0m\u001b[0m\n\u001b[0m",
      "\u001b[0;31mKeyError\u001b[0m: 'nokey'"
     ]
    }
   ],
   "source": [
    "#d1.pop('nokey') #This will raise an error"
   ]
  },
  {
   "cell_type": "markdown",
   "id": "f54b5f0b",
   "metadata": {},
   "source": [
    "### d. Removing Element using `d1.clear()` Method\n",
    "- The `d1.clear()` removes all items from the dictionary and returns None"
   ]
  },
  {
   "cell_type": "code",
   "execution_count": 103,
   "id": "52892e03",
   "metadata": {},
   "outputs": [
    {
     "data": {
      "text/plain": [
       "{'name': 'kakamanna',\n",
       " 'age': 22,\n",
       " 'address': 'Johar Town',\n",
       " 'marks': [60, 75, 80]}"
      ]
     },
     "execution_count": 103,
     "metadata": {},
     "output_type": "execute_result"
    }
   ],
   "source": [
    "d1 = {\n",
    "    'name':'kakamanna', \n",
    "    'age':22, \n",
    "    'address':'Johar Town', \n",
    "    'marks':[60, 75, 80]\n",
    "}\n",
    "\n",
    "d1"
   ]
  },
  {
   "cell_type": "code",
   "execution_count": 104,
   "id": "a3781586",
   "metadata": {},
   "outputs": [],
   "source": [
    "d1.clear()"
   ]
  },
  {
   "cell_type": "code",
   "execution_count": 105,
   "id": "c2651f02",
   "metadata": {},
   "outputs": [
    {
     "data": {
      "text/plain": [
       "{}"
      ]
     },
     "execution_count": 105,
     "metadata": {},
     "output_type": "execute_result"
    }
   ],
   "source": [
    "d1"
   ]
  },
  {
   "cell_type": "markdown",
   "id": "0f4dd1c2",
   "metadata": {},
   "source": [
    "## 6. Dictionary, Tuple and List conversions"
   ]
  },
  {
   "cell_type": "code",
   "execution_count": 106,
   "id": "24e78729",
   "metadata": {},
   "outputs": [
    {
     "name": "stdout",
     "output_type": "stream",
     "text": [
      "Original directory:  {'Name': 'Kakamanna', 'Sex': 'Male', 'Age': 23, 'Height': 6.1, 'Occupation': 'Student'}\n",
      "type(d1):  <class 'dict'>\n"
     ]
    }
   ],
   "source": [
    "# Create a simple dictionary for these operations\n",
    "d1 = {\n",
    "    'Name': 'Kakamanna', \n",
    "    'Sex': 'Male', \n",
    "    'Age': 23, \n",
    "    'Height': 6.1, \n",
    "    'Occupation': 'Student'\n",
    "}\n",
    "print(\"Original directory: \", d1)\n",
    "print(\"type(d1): \", type(d1))"
   ]
  },
  {
   "cell_type": "code",
   "execution_count": 107,
   "id": "a2d48e71",
   "metadata": {},
   "outputs": [
    {
     "name": "stdout",
     "output_type": "stream",
     "text": [
      "\n",
      " (('Name', 'Kakamanna'), ('Sex', 'Male'), ('Age', 23), ('Height', 6.1), ('Occupation', 'Student'))\n",
      "<class 'tuple'>\n"
     ]
    }
   ],
   "source": [
    "#converting dictionary key-value pairs into tuple\n",
    "t1 = tuple(d1.items())\n",
    "print(\"\\n\", t1)\n",
    "print(type(t1))"
   ]
  },
  {
   "cell_type": "code",
   "execution_count": 108,
   "id": "6908b650",
   "metadata": {},
   "outputs": [
    {
     "name": "stdout",
     "output_type": "stream",
     "text": [
      "\n",
      " ('Name', 'Sex', 'Age', 'Height', 'Occupation')\n",
      "<class 'tuple'>\n"
     ]
    }
   ],
   "source": [
    "#converting dictionary keys only into tuple\n",
    "t1 = tuple(d1.keys())\n",
    "print(\"\\n\", t1)\n",
    "print(type(t1))"
   ]
  },
  {
   "cell_type": "code",
   "execution_count": 109,
   "id": "a040924f",
   "metadata": {},
   "outputs": [
    {
     "name": "stdout",
     "output_type": "stream",
     "text": [
      "\n",
      " ['Name', 'Sex', 'Age', 'Height', 'Occupation']\n",
      "<class 'list'>\n"
     ]
    }
   ],
   "source": [
    "#converting dictionary values only into list\n",
    "mylist = list(d1.keys())\n",
    "print(\"\\n\", mylist)\n",
    "print(type(mylist))"
   ]
  },
  {
   "cell_type": "markdown",
   "id": "8f109f45",
   "metadata": {},
   "source": [
    "## 7. Misc Dictionary methods"
   ]
  },
  {
   "cell_type": "code",
   "execution_count": 93,
   "id": "d4208107",
   "metadata": {},
   "outputs": [
    {
     "name": "stdout",
     "output_type": "stream",
     "text": [
      "Original directory:  {'name': 'kakamanna', 'age': 22, 'address': 'Johar Town', 'marks': [60, 75, 80]}\n"
     ]
    }
   ],
   "source": [
    "# Create a simple dictionary for these operations\n",
    "d1 = {'name':'kakamanna', \n",
    "      'age':22, \n",
    "      'address':'Johar Town', \n",
    "      'marks':[60, 75, 80]\n",
    "     }\n",
    "print(\"Original directory: \", d1)\n"
   ]
  },
  {
   "cell_type": "code",
   "execution_count": 95,
   "id": "81d0d353",
   "metadata": {},
   "outputs": [
    {
     "data": {
      "text/plain": [
       "4"
      ]
     },
     "execution_count": 95,
     "metadata": {},
     "output_type": "execute_result"
    }
   ],
   "source": [
    "# len() method returns the length of dictionary\n",
    "len(d1)"
   ]
  },
  {
   "cell_type": "code",
   "execution_count": 110,
   "id": "6e3bc8ba",
   "metadata": {},
   "outputs": [
    {
     "name": "stdout",
     "output_type": "stream",
     "text": [
      "\n",
      "age in d1 returns:   False\n",
      "name not in d1 returns:   True\n",
      "city not in d1 returns:   True\n"
     ]
    }
   ],
   "source": [
    "# Membership operators\n",
    "print (\"\\nage in d1 returns:  \", 'age' in d1)\n",
    "print (\"name not in d1 returns:  \", 'name' not in d1)\n",
    "print (\"city not in d1 returns:  \",'city' not in d1)\n"
   ]
  },
  {
   "cell_type": "code",
   "execution_count": null,
   "id": "b8f927b2",
   "metadata": {},
   "outputs": [],
   "source": []
  },
  {
   "cell_type": "code",
   "execution_count": null,
   "id": "a0e128a4",
   "metadata": {},
   "outputs": [],
   "source": []
  },
  {
   "cell_type": "markdown",
   "id": "055bad4f",
   "metadata": {},
   "source": [
    "## Check your Concepts\n",
    "\n",
    "Try answering the following questions to test your understanding of the topics covered in this notebook:\n",
    "\n",
    "\n",
    "1. What is a dictionary in Python?\n",
    "2. How do you create a dictionary?\n",
    "3. What are keys and values?\n",
    "4. How do you access the value associated with a specific key in a dictionary?\n",
    "5. What happens if you try to access the value for a key that doesn't exist in a dictionary?\n",
    "6. What is the `.get` method of a dictionary used for?\n",
    "7. How do you change the value associated with a key in a dictionary?\n",
    "8. How do you add or remove a key-value pair in a dictionary?\n",
    "9. How do you access the keys, values, and key-value pairs within a dictionary?"
   ]
  },
  {
   "cell_type": "code",
   "execution_count": null,
   "id": "efc94f4a",
   "metadata": {},
   "outputs": [],
   "source": []
  }
 ],
 "metadata": {
  "kernelspec": {
   "display_name": "Python 3 (ipykernel)",
   "language": "python",
   "name": "python3"
  },
  "language_info": {
   "codemirror_mode": {
    "name": "ipython",
    "version": 3
   },
   "file_extension": ".py",
   "mimetype": "text/x-python",
   "name": "python",
   "nbconvert_exporter": "python",
   "pygments_lexer": "ipython3",
   "version": "3.8.10"
  }
 },
 "nbformat": 4,
 "nbformat_minor": 5
}
