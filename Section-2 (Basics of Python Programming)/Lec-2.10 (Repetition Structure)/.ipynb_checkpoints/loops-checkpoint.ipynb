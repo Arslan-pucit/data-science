{
 "cells": [
  {
   "cell_type": "markdown",
   "id": "cd9bf0ba",
   "metadata": {},
   "source": [
    "---   \n",
    " <img align=\"left\" width=\"75\" height=\"75\"  src=\"https://upload.wikimedia.org/wikipedia/en/c/c8/University_of_the_Punjab_logo.png\"> \n",
    "\n",
    "<h1 align=\"center\">Department of Data Science</h1>\n",
    "<h1 align=\"center\">Course: Tools and Techniques for Data Science</h1>\n",
    "\n",
    "---\n",
    "<h3><div align=\"right\">Instructor: Muhammad Arif Butt, Ph.D.</div></h3>    "
   ]
  },
  {
   "cell_type": "markdown",
   "id": "14003b31",
   "metadata": {},
   "source": [
    "<h1 align=\"center\">Lecture 2.10</h1>"
   ]
  },
  {
   "cell_type": "markdown",
   "id": "f90308da",
   "metadata": {},
   "source": [
    "## _loops.ipynb_"
   ]
  },
  {
   "cell_type": "markdown",
   "id": "fa7840eb",
   "metadata": {},
   "source": [
    "### Learning agenda of this notebook\n",
    "There are scenarios is programming, where we need to repeat a set of instructions specified number of times or until a condition is met. Python provides three ways for executing the loops. While all the ways provide similar basic functionality, they differ in their syntax and condition checking time statements.\n",
    "1. While loop (Indefinite Iteration)\n",
    "    a. Basic While loop examples\n",
    "    b. Infinite loop and break statement\n",
    "    c. Continue statement\n",
    "    d. While loop with else statement\n",
    "3. For loop\n",
    "    a. Iterables and Iterators\n",
    "    b. Basic For loop examples\n",
    "    c. Range and enumerate() functions\n",
    "    c. Use of break and continue in for loop\n",
    "    c. For loop with else, break and continue\n",
    "    d. Nested for loop"
   ]
  },
  {
   "cell_type": "markdown",
   "id": "efe70ed5",
   "metadata": {},
   "source": [
    "### 1. While loop (Indefinite Iteration)\n",
    "- Iteration means executing the same block of code over and over, potentially many times.\n",
    "- A programing structure that implements iteration is called loop\n",
    "- In programming there are two types of iterations:\n",
    "    - Indefinite Iteration\n",
    "    - Definite Iteration\n",
    "- Indefinite iteration in Python is the while loop\n",
    "```\n",
    "while <expression>:\n",
    "    <statement(s)>\n",
    "```\n",
    "- `<statement(s)>` represent the block of code to be repeatedly executed, often refered to as body of the loop. This is denoted with indentation as in the if statement\n",
    "- The controlling expression, typically involves on or more variables that are initialized prior to starting the loop and then modified somewhere in the loop body.\n",
    "- The expression after the while keyword is a Boolean clause, the loop body is executed when the clause evaluates to true and you exit the loop when the expression evaluates to  false.\n",
    "- While loop is generally used, when we don't know the number of times to iterate beforehand"
   ]
  },
  {
   "cell_type": "markdown",
   "id": "629f773e",
   "metadata": {},
   "source": [
    "#### a. Basics of While Loop"
   ]
  },
  {
   "cell_type": "code",
   "execution_count": null,
   "id": "7d1a532b",
   "metadata": {},
   "outputs": [],
   "source": [
    "# Example 1: Print numbers\n",
    "# initialize loop variable - check condition - update loop variable\n",
    "number = 0\n",
    "while (number < 7):\n",
    "    print(number)\n",
    "    number = number + 1\n",
    "print(\"Bye-Bye\")"
   ]
  },
  {
   "cell_type": "code",
   "execution_count": null,
   "id": "edd4a13e",
   "metadata": {},
   "outputs": [],
   "source": [
    "# Example 2: Input number from user and compute the sum 1+2+3+4+....+n\n",
    "n = int(input(\"Enter number: \"))\n",
    "sum = 0\n",
    "i = 1\n",
    "while i <= n:\n",
    "    sum = sum + i\n",
    "    i = i+1   # update counter\n",
    "print(\"The sum is\", sum)"
   ]
  },
  {
   "cell_type": "code",
   "execution_count": null,
   "id": "35892cf0",
   "metadata": {},
   "outputs": [],
   "source": [
    "# Example 3: Using iterables inside a while loop expression\n",
    "mylist = [1,2,3,4,5]\n",
    "while mylist:         #you read it as while there exist elements in the iterable mylist do following\n",
    "    print(mylist.pop())"
   ]
  },
  {
   "cell_type": "code",
   "execution_count": null,
   "id": "49751c6d",
   "metadata": {},
   "outputs": [],
   "source": [
    "# Example 4: Using iterables inside a while loop expression\n",
    "mylist = ['Arif', 'Hadeed','Mujahid', 'Maaz']\n",
    "print(\"mylist before the loop: \", mylist)\n",
    "\n",
    "x = 1\n",
    "while mylist:   #you read it as while there exist elements in the iterable mylist do following\n",
    "    print(\"This is iteration number: \", x)\n",
    "    x += 1\n",
    "    mylist.pop()   # removes the right most value from the iterable mylist each time it is called\n",
    "    \n",
    "print(\"mylist after the loop: \",mylist)"
   ]
  },
  {
   "cell_type": "code",
   "execution_count": null,
   "id": "0f280140",
   "metadata": {},
   "outputs": [],
   "source": [
    "# Example 5: Computer the factorial of a numberPrint Fibonacci series\n",
    "n = int(input(\"Enter number whose factorial you want to compute: \"))\n",
    "fact = 1\n",
    "if n == 0:\n",
    "    result = 1\n",
    "else:\n",
    "    while (n >= 1):\n",
    "        fact = fact * n\n",
    "        n -= 1\n",
    "print(fact)       "
   ]
  },
  {
   "cell_type": "code",
   "execution_count": null,
   "id": "20b80627",
   "metadata": {},
   "outputs": [],
   "source": [
    "# Example 6: Print Fibonacci series\n",
    "n = int(input(\"Enter count of fibonacci numbers you want to print: \"))\n",
    "i = 1\n",
    "if n<1:\n",
    "    fib = []       # In case user enter <0, the list is empty\n",
    "elif n==1:\n",
    "    fib = [0]      # If user enters 1, the list has the first fibonacci number\n",
    "elif n==2:\n",
    "    fib = [0, 1]   # If user enters 2, the list has the first two fibonacci numbers\n",
    "elif n > 2:\n",
    "    fib = [0, 1]   # if n>2, then we need to enter in while loop to compute the rest of the fibonacci numbers\n",
    "    while (i < n-1):\n",
    "        fib.append(fib[i] + fib[i-1])\n",
    "        i += 1\n",
    "print(\"Required Fibonacci series: \", fib)"
   ]
  },
  {
   "cell_type": "markdown",
   "id": "532a3dcb",
   "metadata": {},
   "source": [
    "#### b. Nested While Loops\n",
    "- A while loop can have other control structures such as if statements or other while loops nested under them"
   ]
  },
  {
   "cell_type": "code",
   "execution_count": null,
   "id": "406b22a3",
   "metadata": {},
   "outputs": [],
   "source": [
    "# Example 1: A while loop nested inside another while loop\n",
    "# Note the inner while loop works on a list that is declared again and again inside the outer loop\n",
    "a = [1,2,3,4,5]\n",
    "while a:\n",
    "    print(\"outer: \", a.pop())\n",
    "    b = ['Arif', 'Rauf']\n",
    "    while b:\n",
    "        print(\"\\tinner: \", b.pop())\n",
    "\n",
    "print(\"After bothe the loops end\")\n",
    "print(\"a= \", a)\n",
    "print(\"b= \", b)"
   ]
  },
  {
   "cell_type": "code",
   "execution_count": null,
   "id": "888f8e44",
   "metadata": {},
   "outputs": [],
   "source": []
  },
  {
   "cell_type": "markdown",
   "id": "566a05d1",
   "metadata": {},
   "source": [
    "### 2. Jump Statements in Python (break and continue)\n",
    "- In the above examples, we have seen that the entire body of the while loop is executed on each iteration.Python provides two keywords that terminate a loop iteration prematurely:\n",
    "    - Python **break** statement immediately terminates a loop entirely. Program execution proceeds to the first statement after the loop body.\n",
    "    - Python **continue** statement immediately terminates the current loop iteration. Program execution jumps to the top of the loop, and the loop condition is re-evaluated to determine whether the loop will execute again or terminate\n",
    "    "
   ]
  },
  {
   "cell_type": "markdown",
   "id": "73c2c76b",
   "metadata": {},
   "source": [
    "#### a. Infinite loop and break statement: \n",
    "- Python **break** statement immediately terminates a loop entirely. Program execution proceeds to the first statement after the loop body."
   ]
  },
  {
   "cell_type": "code",
   "execution_count": null,
   "id": "f4957e8f",
   "metadata": {},
   "outputs": [],
   "source": [
    "#Example 1: Breaking an infinite while loop on a certain condition\n",
    "n = 0\n",
    "while True:\n",
    "    n = n + 1\n",
    "    if n == 5:\n",
    "        break\n",
    "    print(n)"
   ]
  },
  {
   "cell_type": "code",
   "execution_count": null,
   "id": "de092cb7",
   "metadata": {},
   "outputs": [],
   "source": [
    "#Example 2: Breaking a while loop on a certain condition\n",
    "n = 10\n",
    "while n > 0:\n",
    "    n = n - 1\n",
    "    if n == 5:\n",
    "        break\n",
    "    print(n)"
   ]
  },
  {
   "cell_type": "markdown",
   "id": "27079c95",
   "metadata": {},
   "source": [
    "#### b. Continue statement: \n",
    "- Python **continue** statement immediately terminates the current loop iteration. Program execution jumps to the top of the loop, and the loop condition is re-evaluated to determine whether the loop will execute again or terminate"
   ]
  },
  {
   "cell_type": "code",
   "execution_count": null,
   "id": "7fe06b75",
   "metadata": {},
   "outputs": [],
   "source": [
    "#Example 1: Use of continue\n",
    "n = 10\n",
    "while n > 0:\n",
    "    n = n - 1\n",
    "    if (n == 5 or n == 7):\n",
    "        continue\n",
    "    print(n)"
   ]
  },
  {
   "cell_type": "code",
   "execution_count": null,
   "id": "6a6fc549",
   "metadata": {},
   "outputs": [],
   "source": [
    "#Example 2: Use of continue\n",
    "n = 10\n",
    "while n > 0:\n",
    "    n = n - 1\n",
    "    if (n % 2 == 0):\n",
    "        continue\n",
    "    print(n)"
   ]
  },
  {
   "cell_type": "markdown",
   "id": "e35ee7fa",
   "metadata": {},
   "source": [
    "#### c. While loop with else statement: \n",
    "    - When the condition becomes False and the loop runs normally, the else clause will execute. However, if the loop is terminated prematurely by either a break or return statement, the else clause won’t execute at all."
   ]
  },
  {
   "cell_type": "markdown",
   "id": "fc73772b",
   "metadata": {},
   "source": [
    "![alt text](https://www.pythontutorial.net/wp-content/uploads/2020/10/Python-while-else.png)"
   ]
  },
  {
   "cell_type": "code",
   "execution_count": null,
   "id": "34c87a59",
   "metadata": {},
   "outputs": [],
   "source": [
    "# Loop runs normally, else clause will execute when the loop condition becomes false\n",
    "n = 5\n",
    "while n > 0:\n",
    "    n = n - 1\n",
    "    print(n)\n",
    "else:\n",
    "    print(\"Loop is finished\")"
   ]
  },
  {
   "cell_type": "code",
   "execution_count": null,
   "id": "2c1aac05",
   "metadata": {},
   "outputs": [],
   "source": [
    "# You stop the loop using break statement, else clause will not excecute, \n",
    "n = 5\n",
    "while n > 0:\n",
    "    n = n - 1\n",
    "    if n == 1:\n",
    "        break\n",
    "    print(n)\n",
    "else:\n",
    "    print(\"Loop is finished\")"
   ]
  },
  {
   "cell_type": "markdown",
   "id": "e0aa81c0",
   "metadata": {},
   "source": [
    "### 3. For loop\n",
    "- Iteration means executing the same block of code over and over, potentially many times.\n",
    "- A programing structure that implements iteration is called loop\n",
    "- In programming there are two types of iterations:\n",
    "    - Indefinite Iteration\n",
    "    - Definite Iteration\n",
    "- For Definite iterations we use the for loop\n",
    "```\n",
    "for variable in <iterable>:\n",
    "    <statement(s)>\n",
    "```\n",
    "- We use for loop when we want to run a block of code for known set of items.\n",
    "- Before we see an example of a For loop in Python, let us first understand the concept of **Iterables** and **Iterators**"
   ]
  },
  {
   "cell_type": "markdown",
   "id": "702a0369",
   "metadata": {},
   "source": [
    "#### a. Iterables and Iterators\n",
    "- **Iterable** in Python is an object that can be used in an iteration. Lists, Tuples, Sets and Dictionaries are iterables.\n",
    "- **Iterator** in Python is an object that is used to iterate over iterable objects\n",
    "- To initialize an iterator we pass an iterable object to Python built-in function **iter()**, which returns the iterator for that iterable object. Later we use the next() method to iterate over the elements of that iterable"
   ]
  },
  {
   "cell_type": "code",
   "execution_count": null,
   "id": "62ad3406",
   "metadata": {},
   "outputs": [],
   "source": [
    "# Creating list iterator from a list iterable using the iter() method\n",
    "mylist = ['banana', 'mango', 'grapes']\n",
    "a = iter(mylist)\n",
    "a"
   ]
  },
  {
   "cell_type": "code",
   "execution_count": null,
   "id": "d69ffb74",
   "metadata": {},
   "outputs": [],
   "source": [
    "# Creating tuple iterator from a tuple iterable using the iter() method\n",
    "mytuple = ('banana', 'mango', 'grapes')\n",
    "b = iter(mytuple)\n",
    "b"
   ]
  },
  {
   "cell_type": "code",
   "execution_count": null,
   "id": "472b6218",
   "metadata": {},
   "outputs": [],
   "source": [
    "# Creating set iterator from a set iterable using the iter() method\n",
    "myset = {'banana', 'mango', 'grapes'}\n",
    "c = iter(myset)\n",
    "c"
   ]
  },
  {
   "cell_type": "code",
   "execution_count": null,
   "id": "6faac3ee",
   "metadata": {},
   "outputs": [],
   "source": [
    "# Creating dictionary key-iterator from a dictionary iterable using the iter() method\n",
    "mydict = {1:'banana', 2:'mango', 3:'grapes'}\n",
    "d = iter(mydict)\n",
    "d"
   ]
  },
  {
   "cell_type": "code",
   "execution_count": null,
   "id": "7b0488d4",
   "metadata": {},
   "outputs": [],
   "source": [
    "# Creating dictionary value-iterator from a dictionary iterable using the iter() method\n",
    "mydict = {1:'banana', 2:'mango', 3:'grapes'}\n",
    "d = iter(mydict.values())\n",
    "d"
   ]
  },
  {
   "cell_type": "markdown",
   "id": "96d8a6c1",
   "metadata": {},
   "source": [
    "- The builit-in next() function keeps moving i\n",
    "- You can pass an iterator object obtained from the  **iter()** method to the **next()** method that returns you the successive values from its associated iterable object\n",
    "- The next() function keeps moving from object to object in the iterator"
   ]
  },
  {
   "cell_type": "code",
   "execution_count": null,
   "id": "8580ff2d",
   "metadata": {},
   "outputs": [],
   "source": [
    "# The iter() method yields successive values from an iterable object, if called successively\n",
    "mylist = ['banana', 'mango', 'grapes']\n",
    "a = iter(mylist)\n",
    "print(next(a))\n",
    "print(next(a))\n",
    "print(next(a))"
   ]
  },
  {
   "cell_type": "code",
   "execution_count": null,
   "id": "f479b739",
   "metadata": {},
   "outputs": [],
   "source": [
    "# Once you are exhausted with all the values in the iterator, you get stop Iteration error\n",
    "#next(a)"
   ]
  },
  {
   "cell_type": "markdown",
   "id": "c9c22c22",
   "metadata": {},
   "source": [
    "- This makes the basis of a for loop in Python"
   ]
  },
  {
   "cell_type": "markdown",
   "id": "bd6bcfbc",
   "metadata": {},
   "source": [
    "#### b. Basic For Loop Examples"
   ]
  },
  {
   "cell_type": "code",
   "execution_count": null,
   "id": "4a7feeee",
   "metadata": {},
   "outputs": [],
   "source": [
    "# Example 1\n",
    "mylist = ['Arif', 'Hadeed', 'Muhahid']\n",
    "\n",
    "for i in mylist:\n",
    "    print(i)"
   ]
  },
  {
   "cell_type": "markdown",
   "id": "609618d8",
   "metadata": {},
   "source": [
    "Let us see behind the curtain (How the above for loop works):\n",
    "- Calls iter() to obtain an iterator for mylist\n",
    "- Calls next() repeatedly to obtain items from the iterator object\n",
    "- Terminate the for loop when next() raises a StopIteration exception"
   ]
  },
  {
   "cell_type": "code",
   "execution_count": null,
   "id": "24f52411",
   "metadata": {},
   "outputs": [],
   "source": [
    "# Example 2: Loop through the letters in a string\n",
    "for i in (\"Be Happy\"):\n",
    "    print(i)"
   ]
  },
  {
   "cell_type": "code",
   "execution_count": null,
   "id": "8cef87e4",
   "metadata": {},
   "outputs": [],
   "source": [
    "# Example 3: Iterate a tuple using for loop\n",
    "friends = ('arif', 'rauf', 'hadeed', 'zalaid')\n",
    "\n",
    "for friend in friends:\n",
    "    print(friend)"
   ]
  },
  {
   "cell_type": "code",
   "execution_count": null,
   "id": "9df35eaa",
   "metadata": {},
   "outputs": [],
   "source": [
    "# Example 4a: When you iterate a dictionary or create an iterator from a dictionary, the iterator elements are the keys\n",
    "dict = {1: 'school', 2:'college', 3: 'university'}\n",
    "\n",
    "for k in dict:\n",
    "    print(k)"
   ]
  },
  {
   "cell_type": "code",
   "execution_count": null,
   "id": "cbfc78f6",
   "metadata": {},
   "outputs": [],
   "source": [
    "# Example 4b:\n",
    "vals = {1: 'school', 2:'college', 3: 'university'}\n",
    "\n",
    "for k in vals.keys():\n",
    "    print(k)"
   ]
  },
  {
   "cell_type": "code",
   "execution_count": null,
   "id": "ae95e02a",
   "metadata": {},
   "outputs": [],
   "source": [
    "# Example 4c:\n",
    "vals = {1: 'school', 2:'college', 3: 'university'}\n",
    "\n",
    "for k in vals.values():\n",
    "    print(k)"
   ]
  },
  {
   "cell_type": "code",
   "execution_count": null,
   "id": "7613efba",
   "metadata": {},
   "outputs": [],
   "source": [
    "# Example 4d:\n",
    "vals = {1: 'school', 2:'college', 3: 'university'}\n",
    "\n",
    "for k in vals.items():\n",
    "    print(k)"
   ]
  },
  {
   "cell_type": "markdown",
   "id": "3deb901c",
   "metadata": {},
   "source": [
    "#### c. Using range() and enumerate() Functions in For loops\n",
    "- The range() function is used to generate a sequence of numbers\n",
    "```\n",
    "range(start, stop,step_size)\n",
    "```\n",
    "where,\n",
    "    - **start** specifies the number to start the sequence, default is 0\n",
    "    - **stop** specifies the number before which to stop (not inclusive). This is the only required argument\n",
    "    - **step** specifies the increment/decrement, default is 1"
   ]
  },
  {
   "cell_type": "code",
   "execution_count": 6,
   "id": "b8f751ce",
   "metadata": {},
   "outputs": [
    {
     "name": "stdout",
     "output_type": "stream",
     "text": [
      "range(0, 10)\n",
      "[0, 1, 2, 3, 4, 5, 6, 7, 8, 9]\n",
      "[-5, -4, -3, -2, -1, 0, 1]\n",
      "[20, 17, 14, 11, 8, 5]\n"
     ]
    }
   ],
   "source": [
    "print(range(10))\n",
    "\n",
    "print(list(range(10)))\n",
    "\n",
    "print(list(range(-5, 2, 1)))\n",
    "\n",
    "print(list(range(20, 2, -3)))"
   ]
  },
  {
   "cell_type": "code",
   "execution_count": null,
   "id": "870b49ca",
   "metadata": {},
   "outputs": [],
   "source": [
    "#Example1: The built-in range() function creates and returns an iterator containing integer objects\n",
    "# Contains integer values from zero to the value passed as parameter (not inclusive)\n",
    "a = range(5) \n",
    "for i in a:\n",
    "    print(i)"
   ]
  },
  {
   "cell_type": "code",
   "execution_count": null,
   "id": "2cb6749c",
   "metadata": {},
   "outputs": [],
   "source": [
    "# Example 2:\n",
    "friends = ['Rauf','Arif', 'Maaz', 'Hadeed', 'Muhahid', 'Mohid']\n",
    "for i in range(len(friends)):  # Remember the len() function returns 6 in this scenario\n",
    "    print(i)"
   ]
  },
  {
   "cell_type": "code",
   "execution_count": null,
   "id": "d8043e82",
   "metadata": {},
   "outputs": [],
   "source": [
    "# Example 3: The built-in function enumerate(), takes an iterator as input and returns a tupple\n",
    "# The tuple contains index and data at that index in the iterator sequence\n",
    "friends = ['Rauf','Arif', 'Maaz', 'Hadeed', 'Muhahid', 'Mohid']\n",
    "for i, name in enumerate(friends): \n",
    "    print(i, name)"
   ]
  },
  {
   "cell_type": "markdown",
   "id": "96fb967a",
   "metadata": {},
   "source": [
    "#### d. Use of break and continue statement inside a for loop\n",
    "- Python **break** statement immediately terminates a loop entirely. Program execution proceeds to the first statement after the loop body.\n",
    "- Python **continue** statement immediately terminates the current loop iteration. Program execution jumps to the top of the loop, and the loop condition is re-evaluated to determine whether the loop will execute again or terminate"
   ]
  },
  {
   "cell_type": "code",
   "execution_count": null,
   "id": "0673d9d3",
   "metadata": {},
   "outputs": [],
   "source": [
    "# Example 1: \n",
    "fruits = [\"apple\", \"banana\", \"cherry\", \"guava\"]\n",
    "for x in fruits:\n",
    "  if x == \"cherry\":\n",
    "    break\n",
    "  print(x)"
   ]
  },
  {
   "cell_type": "code",
   "execution_count": null,
   "id": "56645937",
   "metadata": {},
   "outputs": [],
   "source": [
    "# do not print banana\n",
    "fruits = [\"apple\", \"banana\", \"cherry\", \"guava\"]\n",
    "for x in fruits:\n",
    "  if x == \"banana\":\n",
    "    continue\n",
    "  print(x)"
   ]
  },
  {
   "cell_type": "code",
   "execution_count": null,
   "id": "1f71aa58",
   "metadata": {},
   "outputs": [],
   "source": [
    "#ignore even numbers, print odd numbers\n",
    "for i in range(1,12):\n",
    "    if i%2 == 0:\n",
    "        continue\n",
    "    print(i)"
   ]
  },
  {
   "cell_type": "code",
   "execution_count": 2,
   "id": "78392ef5",
   "metadata": {},
   "outputs": [
    {
     "name": "stdout",
     "output_type": "stream",
     "text": [
      "enter name: kamal\n",
      "No entry with that name found.\n"
     ]
    }
   ],
   "source": [
    "# Example: A for loop with else, break\n",
    "student_name = input('enter name: ')\n",
    "\n",
    "mydict = {'arif':90, 'rauf':95, 'maaz':81, 'hadeed':77, 'mujahid':86, 'mohid':100}\n",
    "\n",
    "for name in mydict.keys():\n",
    "    if name == student_name:\n",
    "        print(mydict[name])\n",
    "        break\n",
    "else:\n",
    "    print('No entry with that name found.')"
   ]
  },
  {
   "cell_type": "markdown",
   "id": "eb71393a",
   "metadata": {},
   "source": [
    "#### e. Nested for loop"
   ]
  },
  {
   "cell_type": "code",
   "execution_count": 13,
   "id": "5af97bc9",
   "metadata": {},
   "outputs": [
    {
     "name": "stdout",
     "output_type": "stream",
     "text": [
      "outer:  1\n",
      "\tinner:  Jamil\n",
      "\tinner:  Khurram\n",
      "outer:  2\n",
      "\tinner:  Jamil\n",
      "\tinner:  Khurram\n",
      "outer:  3\n",
      "\tinner:  Jamil\n",
      "\tinner:  Khurram\n",
      "outer:  4\n",
      "\tinner:  Jamil\n",
      "\tinner:  Khurram\n",
      "After bothe the loops end\n",
      "mynumb =  [1, 2, 3, 4]\n",
      "myfriends =  ['Jamil', 'Khurram']\n"
     ]
    }
   ],
   "source": [
    "# Example 1: A while loop nested inside another while loop\n",
    "# Note the inner while loop works on a list that is declared again and again inside the outer loop\n",
    "mynumb = [1,2,3,4]\n",
    "for item in mynumb:\n",
    "    print(\"outer: \", item)\n",
    "    myfriends = ['Jamil', 'Khurram']\n",
    "    for friend in myfriends:\n",
    "        print(\"\\tinner: \", friend)\n",
    "\n",
    "print(\"After both the loops end\")\n",
    "print(\"mynumb = \", mynumb)\n",
    "print(\"myfriends = \", myfriends)"
   ]
  },
  {
   "cell_type": "code",
   "execution_count": null,
   "id": "4e2781c5",
   "metadata": {},
   "outputs": [],
   "source": []
  },
  {
   "cell_type": "code",
   "execution_count": null,
   "id": "4db6ed26",
   "metadata": {},
   "outputs": [],
   "source": []
  }
 ],
 "metadata": {
  "kernelspec": {
   "display_name": "Python 3 (ipykernel)",
   "language": "python",
   "name": "python3"
  },
  "language_info": {
   "codemirror_mode": {
    "name": "ipython",
    "version": 3
   },
   "file_extension": ".py",
   "mimetype": "text/x-python",
   "name": "python",
   "nbconvert_exporter": "python",
   "pygments_lexer": "ipython3",
   "version": "3.8.10"
  }
 },
 "nbformat": 4,
 "nbformat_minor": 5
}
