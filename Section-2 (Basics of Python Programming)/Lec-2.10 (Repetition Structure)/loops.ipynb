{
 "cells": [
  {
   "cell_type": "markdown",
   "id": "cd9bf0ba",
   "metadata": {},
   "source": [
    "---   \n",
    " <img align=\"left\" width=\"75\" height=\"75\"  src=\"https://upload.wikimedia.org/wikipedia/en/c/c8/University_of_the_Punjab_logo.png\"> \n",
    "\n",
    "<h1 align=\"center\">Department of Data Science</h1>\n",
    "<h1 align=\"center\">Course: Tools and Techniques for Data Science</h1>\n",
    "\n",
    "---\n",
    "<h3><div align=\"right\">Instructor: Muhammad Arif Butt, Ph.D.</div></h3>    "
   ]
  },
  {
   "cell_type": "markdown",
   "id": "14003b31",
   "metadata": {},
   "source": [
    "<h1 align=\"center\">Lecture 2.10</h1>"
   ]
  },
  {
   "cell_type": "markdown",
   "id": "f90308da",
   "metadata": {},
   "source": [
    "## _loops.ipynb_"
   ]
  },
  {
   "cell_type": "markdown",
   "id": "fa7840eb",
   "metadata": {},
   "source": [
    "### Learning agenda of this notebook\n",
    "There are scenarios is programming, where we need to repeat a set of instructions specified number of times or until a condition is met. Python provides three ways for executing the loops. While all the ways provide similar basic functionality, they differ in their syntax and condition checking time statements.\n",
    "1. While loop (Indefinite Iteration)\n",
    "    a. Basic While loop examples\n",
    "    b. Infinite loop and break statement\n",
    "    c. Continue statement\n",
    "    d. While loop with else statement\n",
    "3. For loop\n",
    "    a. Iterables and Iterators\n",
    "    b. Basic For loop examples\n",
    "    c. Range and enumerate() functions\n",
    "    c. Use of break and continue in for loop\n",
    "    c. For loop with else, break and continue\n",
    "    d. Nested for loop"
   ]
  },
  {
   "cell_type": "markdown",
   "id": "efe70ed5",
   "metadata": {},
   "source": [
    "### 1. While loop (Indefinite Iteration)\n",
    "- Iteration means executing the same block of code over and over, potentially many times.\n",
    "- A programing structure that implements iteration is called loop\n",
    "- In programming there are two types of iterations:\n",
    "    - Indefinite Iteration\n",
    "    - Definite Iteration\n",
    "- Indefinite iteration in Python is the while loop\n",
    "```\n",
    "while <expression>:\n",
    "    <statement(s)>\n",
    "```\n",
    "- `<statement(s)>` represent the block of code to be repeatedly executed, often refered to as body of the loop. This is denoted with indentation as in the if statement\n",
    "- The controlling expression, typically involves on or more variables that are initialized prior to starting the loop and then modified somewhere in the loop body.\n",
    "- The expression after the while keyword is a Boolean clause, the loop body is executed when the clause evaluates to true and you exit the loop when the expression evaluates to  false.\n",
    "- While loop is generally used, when we don't know the number of times to iterate beforehand"
   ]
  },
  {
   "cell_type": "markdown",
   "id": "629f773e",
   "metadata": {},
   "source": [
    "#### a. Basics of While Loop"
   ]
  },
  {
   "cell_type": "code",
   "execution_count": null,
   "id": "7d1a532b",
   "metadata": {},
   "outputs": [],
   "source": [
    "# Example 1: Print numbers\n",
    "# initialize loop variable - check condition - update loop variable\n",
    "number = 0\n",
    "while (number < 7):\n",
    "    print(number)\n",
    "    number = number + 1\n",
    "print(\"Bye-Bye\")"
   ]
  },
  {
   "cell_type": "code",
   "execution_count": 5,
   "id": "1f0ddd4e",
   "metadata": {},
   "outputs": [
    {
     "name": "stdout",
     "output_type": "stream",
     "text": [
      "67526802209645841583879061361800814224269427869589384312198268703685091643180416969132446952698303794226010370578672908593198347699886928591906501031587651846976759681112609524787093848004428636186893395272784450630354080243217646658024696659065951793757223520229235577548653833681102170973893746054649126415909143150172860721156685810655759230011450132992176454983227538696340112610447029002337004887877266387704586077293585433151612518800147764461182680822867092786694982831838641800997499819339206579415325649748486265233918911087114592440896594062675914294925816719862178374679272092637524786939036290035924271782253738059886933923447877769583003016705363339031413069155837518524761078342052635475632113169618774549275701480106933362990003732589370593557325299434734459295866728988740794174654391479926000848846686708729736713207285203712732201272410830836913052635365082888725171636081587151603468291106754640398232146673627370895934090777828827549554232436190464827998683927179246029919443251026464452337939599198528297828591122689960620361238248313158071643395848405047261412680039877733761849874447323867911712630023171745968278465780558568067035013885275080292137360491875164947724464221693533755035300065350065137490832039523382963747026185653050331832380991844842560750923543775188582096487476950254418365198999674684417286265442786651594404781622946901879166382930714196908227460133027605817864877377712193142137625430353718448269390732615776645283198828602917680224041088993892610506802195917247838900106910698057030379190571057605849323113308634452008179881165616449767648354161225066967961297609698742737923389391615207441152319392845687673311899247085327703421862972871644495409572259985563215471482083325653231777113271326579970310755604973969708949477374254974480294652427022436705380184064008853457214518515270985563195412993145274057688634448812449445800617631162768243125606424844709372022149908463572254912654907763445758543980999149122998104378965626781898655221443263601405152073199706585080288735040205417371277253096243200000000000000000000000000000000000000000000000000000000000000000000000000000000000000000000000000000000000000000000000000000000000000000000000000000000000000000000000000000000000000000000000000000000000000000000000000000000\n"
     ]
    }
   ],
   "source": [
    "# Example 2: Calculate factorial\n",
    "n = 900   \n",
    "fact = 1\n",
    "if n == 0:\n",
    "    result = 1\n",
    "else:\n",
    "    while (n >= 1):\n",
    "        fact = fact * n\n",
    "        n -= 1\n",
    "print(fact)"
   ]
  },
  {
   "cell_type": "markdown",
   "id": "1a39c34f",
   "metadata": {},
   "source": [
    "Here's how the above code works:\n",
    "\n",
    "* We initialize two variables, `result` and, `i`. `result` will contain the final outcome. And `i` is used to keep track of the next number to be multiplied with `result`. Both are initialized to 1 (can you explain why?)\n",
    "\n",
    "* The condition `i <= 100` holds true (since `i` is initially `1`), so the `while` block is executed.\n",
    "\n",
    "* The `result` is updated to `result * i`, `i` is increased by `1` and it now has the value `2`.\n",
    "\n",
    "* At this point, the condition `i <= 100` is evaluated again. Since it continues to hold true, `result` is again updated to `result * i`, and `i` is increased to `3`.\n",
    "\n",
    "* This process is repeated till the condition becomes false, which happens when `i` holds the value `101`. Once the condition evaluates to `False`, the execution of the loop ends, and the `print` statement below it is executed. \n",
    "\n",
    "Can you see why `result` contains the value of the factorial of 100 at the end? If not, try adding `print` statements inside the `while` block to print `result` and `i` in each iteration.\n",
    "\n",
    "\n",
    "> Iteration is a powerful technique because it gives computers a massive advantage over human beings in performing thousands or even millions of repetitive operations really fast. With just 4-5 lines of code, we were able to multiply 100 numbers almost instantly. The same code can be used to multiply a thousand numbers (just change the condition to `i <= 1000`) in a few seconds.\n",
    "\n",
    "You can check how long a cell takes to execute by adding the *magic* command `%%time` at the top of a cell. Try checking how long it takes to compute the factorial of `100`, `1000`, `10000`, `100000`, etc."
   ]
  },
  {
   "cell_type": "code",
   "execution_count": null,
   "id": "edd4a13e",
   "metadata": {},
   "outputs": [],
   "source": [
    "# Example 3: Input number from user and compute the sum 1+2+3+4+....+n\n",
    "n = int(input(\"Enter number: \"))\n",
    "sum = 0\n",
    "i = 1\n",
    "while i <= n:\n",
    "    sum = sum + i\n",
    "    i = i+1   # update counter\n",
    "print(\"The sum is\", sum)"
   ]
  },
  {
   "cell_type": "code",
   "execution_count": null,
   "id": "35892cf0",
   "metadata": {},
   "outputs": [],
   "source": [
    "# Example 4: Using iterables inside a while loop expression\n",
    "mylist = [1,2,3,4,5]\n",
    "while mylist:         #you read it as while there exist elements in the iterable mylist do following\n",
    "    print(mylist.pop())"
   ]
  },
  {
   "cell_type": "code",
   "execution_count": null,
   "id": "49751c6d",
   "metadata": {},
   "outputs": [],
   "source": [
    "# Example 5: Using iterables inside a while loop expression\n",
    "mylist = ['Arif', 'Hadeed','Mujahid', 'Maaz']\n",
    "print(\"mylist before the loop: \", mylist)\n",
    "\n",
    "x = 1\n",
    "while mylist:   #you read it as while there exist elements in the iterable mylist do following\n",
    "    print(\"This is iteration number: \", x)\n",
    "    x += 1\n",
    "    mylist.pop()   # removes the right most value from the iterable mylist each time it is called\n",
    "    \n",
    "print(\"mylist after the loop: \",mylist)"
   ]
  },
  {
   "cell_type": "code",
   "execution_count": null,
   "id": "20b80627",
   "metadata": {},
   "outputs": [],
   "source": [
    "# Example 6: Print Fibonacci series\n",
    "n = int(input(\"Enter count of fibonacci numbers you want to print: \"))\n",
    "i = 1\n",
    "if n<1:\n",
    "    fib = []       # In case user enter <0, the list is empty\n",
    "elif n==1:\n",
    "    fib = [0]      # If user enters 1, the list has the first fibonacci number\n",
    "elif n==2:\n",
    "    fib = [0, 1]   # If user enters 2, the list has the first two fibonacci numbers\n",
    "elif n > 2:\n",
    "    fib = [0, 1]   # if n>2, then we need to enter in while loop to compute the rest of the fibonacci numbers\n",
    "    while (i < n-1):\n",
    "        fib.append(fib[i] + fib[i-1])\n",
    "        i += 1\n",
    "print(\"Required Fibonacci series: \", fib)"
   ]
  },
  {
   "cell_type": "markdown",
   "id": "532a3dcb",
   "metadata": {},
   "source": [
    "#### b. Nested While Loops\n",
    "- A while loop can have other control structures such as if statements or other while loops nested under them"
   ]
  },
  {
   "cell_type": "code",
   "execution_count": null,
   "id": "406b22a3",
   "metadata": {},
   "outputs": [],
   "source": [
    "# Example 1: A while loop nested inside another while loop\n",
    "# Note the inner while loop works on a list that is declared again and again inside the outer loop\n",
    "a = [1,2,3,4,5]\n",
    "while a:\n",
    "    print(\"outer: \", a.pop())\n",
    "    b = ['Arif', 'Rauf']\n",
    "    while b:\n",
    "        print(\"\\tinner: \", b.pop())\n",
    "\n",
    "print(\"After bothe the loops end\")\n",
    "print(\"a= \", a)\n",
    "print(\"b= \", b)"
   ]
  },
  {
   "cell_type": "code",
   "execution_count": null,
   "id": "c1b3b4fb",
   "metadata": {},
   "outputs": [],
   "source": []
  },
  {
   "cell_type": "code",
   "execution_count": null,
   "id": "888f8e44",
   "metadata": {},
   "outputs": [],
   "source": []
  },
  {
   "cell_type": "markdown",
   "id": "566a05d1",
   "metadata": {},
   "source": [
    "### 2. Jump Statements in Python (break and continue)\n",
    "- In the above examples, we have seen that the entire body of the while loop is executed on each iteration.Python provides two keywords that terminate a loop iteration prematurely:\n",
    "    - Python **break** statement immediately terminates a loop entirely. Program execution proceeds to the first statement after the loop body.\n",
    "    - Python **continue** statement immediately terminates the current loop iteration. Program execution jumps to the top of the loop, and the loop condition is re-evaluated to determine whether the loop will execute again or terminate\n",
    "    "
   ]
  },
  {
   "cell_type": "markdown",
   "id": "73c2c76b",
   "metadata": {},
   "source": [
    "#### a. Infinite loop and break statement: \n",
    "- Python **break** statement immediately terminates a loop entirely. Program execution proceeds to the first statement after the loop body."
   ]
  },
  {
   "cell_type": "code",
   "execution_count": null,
   "id": "f4957e8f",
   "metadata": {},
   "outputs": [],
   "source": [
    "#Example 1: Breaking an infinite while loop on a certain condition\n",
    "n = 0\n",
    "while True:\n",
    "    n = n + 1\n",
    "    if n == 5:\n",
    "        break\n",
    "    print(n)"
   ]
  },
  {
   "cell_type": "code",
   "execution_count": null,
   "id": "de092cb7",
   "metadata": {},
   "outputs": [],
   "source": [
    "#Example 2: Breaking a while loop on a certain condition\n",
    "n = 10\n",
    "while n > 0:\n",
    "    n = n - 1\n",
    "    if n == 5:\n",
    "        break\n",
    "    print(n)"
   ]
  },
  {
   "cell_type": "markdown",
   "id": "27079c95",
   "metadata": {},
   "source": [
    "#### b. Continue statement: \n",
    "- Python **continue** statement immediately terminates the current loop iteration. Program execution jumps to the top of the loop, and the loop condition is re-evaluated to determine whether the loop will execute again or terminate"
   ]
  },
  {
   "cell_type": "code",
   "execution_count": null,
   "id": "7fe06b75",
   "metadata": {},
   "outputs": [],
   "source": [
    "#Example 1: Use of continue\n",
    "n = 10\n",
    "while n > 0:\n",
    "    n = n - 1\n",
    "    if (n == 5 or n == 7):\n",
    "        continue\n",
    "    print(n)"
   ]
  },
  {
   "cell_type": "code",
   "execution_count": null,
   "id": "6a6fc549",
   "metadata": {},
   "outputs": [],
   "source": [
    "#Example 2: Use of continue\n",
    "n = 10\n",
    "while n > 0:\n",
    "    n = n - 1\n",
    "    if (n % 2 == 0):\n",
    "        continue\n",
    "    print(n)"
   ]
  },
  {
   "cell_type": "markdown",
   "id": "e35ee7fa",
   "metadata": {},
   "source": [
    "#### c. While loop with else statement: \n",
    "    - When the condition becomes False and the loop runs normally, the else clause will execute. However, if the loop is terminated prematurely by either a break or return statement, the else clause won’t execute at all."
   ]
  },
  {
   "cell_type": "markdown",
   "id": "fc73772b",
   "metadata": {},
   "source": [
    "![alt text](https://www.pythontutorial.net/wp-content/uploads/2020/10/Python-while-else.png)"
   ]
  },
  {
   "cell_type": "code",
   "execution_count": null,
   "id": "34c87a59",
   "metadata": {},
   "outputs": [],
   "source": [
    "# Loop runs normally, else clause will execute when the loop condition becomes false\n",
    "n = 5\n",
    "while n > 0:\n",
    "    n = n - 1\n",
    "    print(n)\n",
    "else:\n",
    "    print(\"Loop is finished\")"
   ]
  },
  {
   "cell_type": "code",
   "execution_count": null,
   "id": "2c1aac05",
   "metadata": {},
   "outputs": [],
   "source": [
    "# You stop the loop using break statement, else clause will not excecute, \n",
    "n = 5\n",
    "while n > 0:\n",
    "    n = n - 1\n",
    "    if n == 1:\n",
    "        break\n",
    "    print(n)\n",
    "else:\n",
    "    print(\"Loop is finished\")"
   ]
  },
  {
   "cell_type": "markdown",
   "id": "e0aa81c0",
   "metadata": {},
   "source": [
    "### 3. For loop\n",
    "- Iteration means executing the same block of code over and over, potentially many times.\n",
    "- A programing structure that implements iteration is called loop\n",
    "- In programming there are two types of iterations:\n",
    "    - Indefinite Iteration\n",
    "    - Definite Iteration\n",
    "- For Definite iterations we use the for loop\n",
    "```\n",
    "for variable in <iterable>:\n",
    "    <statement(s)>\n",
    "```\n",
    "- We use for loop when we want to run a block of code for known set of items.\n",
    "- Before we see an example of a For loop in Python, let us first understand the concept of **Iterables** and **Iterators**"
   ]
  },
  {
   "cell_type": "markdown",
   "id": "702a0369",
   "metadata": {},
   "source": [
    "#### a. Iterables and Iterators\n",
    "- **Iterable** in Python is an object that can be used in an iteration. Lists, Tuples, Sets and Dictionaries are iterables.\n",
    "- **Iterator** in Python is an object that is used to iterate over iterable objects\n",
    "- To initialize an iterator we pass an iterable object to Python built-in function **iter()**, which returns the iterator for that iterable object. Later we use the next() method to iterate over the elements of that iterable"
   ]
  },
  {
   "cell_type": "code",
   "execution_count": null,
   "id": "62ad3406",
   "metadata": {},
   "outputs": [],
   "source": [
    "# Creating list iterator from a list iterable using the iter() method\n",
    "mylist = ['banana', 'mango', 'grapes']\n",
    "a = iter(mylist)\n",
    "a"
   ]
  },
  {
   "cell_type": "code",
   "execution_count": null,
   "id": "d69ffb74",
   "metadata": {},
   "outputs": [],
   "source": [
    "# Creating tuple iterator from a tuple iterable using the iter() method\n",
    "mytuple = ('banana', 'mango', 'grapes')\n",
    "b = iter(mytuple)\n",
    "b"
   ]
  },
  {
   "cell_type": "code",
   "execution_count": null,
   "id": "472b6218",
   "metadata": {},
   "outputs": [],
   "source": [
    "# Creating set iterator from a set iterable using the iter() method\n",
    "myset = {'banana', 'mango', 'grapes'}\n",
    "c = iter(myset)\n",
    "c"
   ]
  },
  {
   "cell_type": "code",
   "execution_count": null,
   "id": "6faac3ee",
   "metadata": {},
   "outputs": [],
   "source": [
    "# Creating dictionary key-iterator from a dictionary iterable using the iter() method\n",
    "mydict = {1:'banana', 2:'mango', 3:'grapes'}\n",
    "d = iter(mydict)\n",
    "d"
   ]
  },
  {
   "cell_type": "code",
   "execution_count": null,
   "id": "7b0488d4",
   "metadata": {},
   "outputs": [],
   "source": [
    "# Creating dictionary value-iterator from a dictionary iterable using the iter() method\n",
    "mydict = {1:'banana', 2:'mango', 3:'grapes'}\n",
    "d = iter(mydict.values())\n",
    "d"
   ]
  },
  {
   "cell_type": "markdown",
   "id": "96d8a6c1",
   "metadata": {},
   "source": [
    "- The builit-in next() function keeps moving i\n",
    "- You can pass an iterator object obtained from the  **iter()** method to the **next()** method that returns you the successive values from its associated iterable object\n",
    "- The next() function keeps moving from object to object in the iterator"
   ]
  },
  {
   "cell_type": "code",
   "execution_count": null,
   "id": "8580ff2d",
   "metadata": {},
   "outputs": [],
   "source": [
    "# The iter() method yields successive values from an iterable object, if called successively\n",
    "mylist = ['banana', 'mango', 'grapes']\n",
    "a = iter(mylist)\n",
    "print(next(a))\n",
    "print(next(a))\n",
    "print(next(a))"
   ]
  },
  {
   "cell_type": "code",
   "execution_count": null,
   "id": "f479b739",
   "metadata": {},
   "outputs": [],
   "source": [
    "# Once you are exhausted with all the values in the iterator, you get stop Iteration error\n",
    "#next(a)"
   ]
  },
  {
   "cell_type": "markdown",
   "id": "c9c22c22",
   "metadata": {},
   "source": [
    "- This makes the basis of a for loop in Python"
   ]
  },
  {
   "cell_type": "markdown",
   "id": "bd6bcfbc",
   "metadata": {},
   "source": [
    "#### b. Basic For Loop Examples"
   ]
  },
  {
   "cell_type": "code",
   "execution_count": null,
   "id": "4a7feeee",
   "metadata": {},
   "outputs": [],
   "source": [
    "# Example 1\n",
    "mylist = ['Arif', 'Hadeed', 'Muhahid']\n",
    "\n",
    "for i in mylist:\n",
    "    print(i)"
   ]
  },
  {
   "cell_type": "markdown",
   "id": "609618d8",
   "metadata": {},
   "source": [
    "Let us see behind the curtain (How the above for loop works):\n",
    "- Calls iter() to obtain an iterator for mylist\n",
    "- Calls next() repeatedly to obtain items from the iterator object\n",
    "- Terminate the for loop when next() raises a StopIteration exception"
   ]
  },
  {
   "cell_type": "code",
   "execution_count": null,
   "id": "24f52411",
   "metadata": {},
   "outputs": [],
   "source": [
    "# Example 2: Loop through the letters in a string\n",
    "for i in (\"Be Happy\"):\n",
    "    print(i)"
   ]
  },
  {
   "cell_type": "code",
   "execution_count": null,
   "id": "8cef87e4",
   "metadata": {},
   "outputs": [],
   "source": [
    "# Example 3: Iterate a tuple using for loop\n",
    "friends = ('arif', 'rauf', 'hadeed', 'zalaid')\n",
    "\n",
    "for friend in friends:\n",
    "    print(friend)"
   ]
  },
  {
   "cell_type": "code",
   "execution_count": null,
   "id": "9df35eaa",
   "metadata": {},
   "outputs": [],
   "source": [
    "# Example 4a: When you iterate a dictionary or create an iterator from a dictionary, the iterator elements are the keys\n",
    "dict = {1: 'school', 2:'college', 3: 'university'}\n",
    "\n",
    "for k in dict:\n",
    "    print(k)"
   ]
  },
  {
   "cell_type": "code",
   "execution_count": null,
   "id": "cbfc78f6",
   "metadata": {},
   "outputs": [],
   "source": [
    "# Example 4b:\n",
    "vals = {1: 'school', 2:'college', 3: 'university'}\n",
    "\n",
    "for k in vals.keys():\n",
    "    print(k)"
   ]
  },
  {
   "cell_type": "code",
   "execution_count": null,
   "id": "ae95e02a",
   "metadata": {},
   "outputs": [],
   "source": [
    "# Example 4c:\n",
    "vals = {1: 'school', 2:'college', 3: 'university'}\n",
    "\n",
    "for k in vals.values():\n",
    "    print(k)"
   ]
  },
  {
   "cell_type": "code",
   "execution_count": null,
   "id": "7613efba",
   "metadata": {},
   "outputs": [],
   "source": [
    "# Example 4d:\n",
    "vals = {1: 'school', 2:'college', 3: 'university'}\n",
    "\n",
    "for k in vals.items():\n",
    "    print(k)"
   ]
  },
  {
   "cell_type": "markdown",
   "id": "3deb901c",
   "metadata": {},
   "source": [
    "#### c. Using range() and enumerate() Functions in For loops\n",
    "- The range() function is used to create a sequence of numbers that can be iterated over using a `for` loop.\n",
    "- It can be used in 3 ways:\n",
    "* `range(n)` - Creates a sequence of numbers from `0` to `n-1`\n",
    "* `range(a, b)` - Creates a sequence of numbers from `a` to `b-1`\n",
    "* `range(a, b, step)` - Creates a sequence of numbers from `a` to `b-1` with increment/decrement of `step`"
   ]
  },
  {
   "cell_type": "code",
   "execution_count": 6,
   "id": "b8f751ce",
   "metadata": {},
   "outputs": [
    {
     "name": "stdout",
     "output_type": "stream",
     "text": [
      "range(0, 10)\n",
      "[0, 1, 2, 3, 4, 5, 6, 7, 8, 9]\n",
      "[-5, -4, -3, -2, -1, 0, 1]\n",
      "[20, 17, 14, 11, 8, 5]\n"
     ]
    }
   ],
   "source": [
    "print(range(10))\n",
    "\n",
    "print(list(range(10)))\n",
    "\n",
    "print(list(range(-5, 2, 1)))\n",
    "\n",
    "print(list(range(20, 2, -3)))"
   ]
  },
  {
   "cell_type": "code",
   "execution_count": null,
   "id": "870b49ca",
   "metadata": {},
   "outputs": [],
   "source": [
    "#Example: The built-in range() function creates and returns an iterator containing integer objects\n",
    "# Contains integer values from zero to the value passed as parameter (not inclusive)\n",
    "a = range(5) \n",
    "for i in a:\n",
    "    print(i)"
   ]
  },
  {
   "cell_type": "code",
   "execution_count": 7,
   "id": "2cde61b3",
   "metadata": {},
   "outputs": [
    {
     "name": "stdout",
     "output_type": "stream",
     "text": [
      "3\n",
      "4\n",
      "5\n",
      "6\n",
      "7\n",
      "8\n",
      "9\n"
     ]
    }
   ],
   "source": [
    "#Example: The built-in range() function creates and returns an iterator containing integer objects\n",
    "# Contains integer values from zero to the value passed as parameter (not inclusive)\n",
    "a = range(3, 10) \n",
    "for i in a:\n",
    "    print(i)"
   ]
  },
  {
   "cell_type": "code",
   "execution_count": 8,
   "id": "6425ef11",
   "metadata": {},
   "outputs": [
    {
     "name": "stdout",
     "output_type": "stream",
     "text": [
      "3\n",
      "7\n",
      "11\n"
     ]
    }
   ],
   "source": [
    "#Example: The built-in range() function creates and returns an iterator containing integer objects\n",
    "# Contains integer values from zero to the value passed as parameter (not inclusive)\n",
    "a = range(3, 15, 4) \n",
    "for i in a:\n",
    "    print(i)"
   ]
  },
  {
   "cell_type": "code",
   "execution_count": 11,
   "id": "2cb6749c",
   "metadata": {},
   "outputs": [
    {
     "name": "stdout",
     "output_type": "stream",
     "text": [
      "The value at position 0 is Rauf.\n",
      "The value at position 1 is Arif.\n",
      "The value at position 2 is Maaz.\n",
      "The value at position 3 is Hadeed.\n",
      "The value at position 4 is Muhahid.\n",
      "The value at position 5 is Mohid.\n"
     ]
    }
   ],
   "source": [
    "# Example 2: Ranges are used for iterating over lists when you need to track the index of elements while iterating.\n",
    "friends = ['Rauf','Arif', 'Maaz', 'Hadeed', 'Muhahid', 'Mohid']\n",
    "for i in range(len(friends)):  # Remember the len() function returns 6 in this scenario\n",
    "    print('The value at position {} is {}.'.format(i, friends[i]))"
   ]
  },
  {
   "cell_type": "code",
   "execution_count": 12,
   "id": "d8043e82",
   "metadata": {},
   "outputs": [
    {
     "name": "stdout",
     "output_type": "stream",
     "text": [
      "The value at position 0 is Rauf.\n",
      "The value at position 1 is Arif.\n",
      "The value at position 2 is Maaz.\n",
      "The value at position 3 is Hadeed.\n",
      "The value at position 4 is Muhahid.\n",
      "The value at position 5 is Mohid.\n"
     ]
    }
   ],
   "source": [
    "# Example 3: The built-in function enumerate(), takes an iterator as input and returns a tupple\n",
    "# The tuple contains index and data at that index in the iterator sequence\n",
    "friends = ['Rauf','Arif', 'Maaz', 'Hadeed', 'Muhahid', 'Mohid']\n",
    "for i, name in enumerate(friends): \n",
    "    print('The value at position {} is {}.'.format(i, friends[i]))"
   ]
  },
  {
   "cell_type": "markdown",
   "id": "96fb967a",
   "metadata": {},
   "source": [
    "#### d. Use of break and continue statement inside a for loop\n",
    "- Python **break** statement immediately terminates a loop entirely. Program execution proceeds to the first statement after the loop body.\n",
    "- Python **continue** statement immediately terminates the current loop iteration. Program execution jumps to the top of the loop, and the loop condition is re-evaluated to determine whether the loop will execute again or terminate"
   ]
  },
  {
   "cell_type": "code",
   "execution_count": 13,
   "id": "0673d9d3",
   "metadata": {},
   "outputs": [
    {
     "name": "stdout",
     "output_type": "stream",
     "text": [
      "apple\n",
      "banana\n"
     ]
    }
   ],
   "source": [
    "# Example 1: \n",
    "fruits = [\"apple\", \"banana\", \"cherry\", \"guava\"]\n",
    "for x in fruits:\n",
    "  if x == \"cherry\":\n",
    "    break\n",
    "  print(x)"
   ]
  },
  {
   "cell_type": "code",
   "execution_count": 14,
   "id": "56645937",
   "metadata": {},
   "outputs": [
    {
     "name": "stdout",
     "output_type": "stream",
     "text": [
      "apple\n",
      "cherry\n",
      "guava\n"
     ]
    }
   ],
   "source": [
    "# do not print banana\n",
    "fruits = [\"apple\", \"banana\", \"cherry\", \"guava\"]\n",
    "for x in fruits:\n",
    "  if x == \"banana\":\n",
    "    continue\n",
    "  print(x)"
   ]
  },
  {
   "cell_type": "code",
   "execution_count": 15,
   "id": "1f71aa58",
   "metadata": {},
   "outputs": [
    {
     "name": "stdout",
     "output_type": "stream",
     "text": [
      "1\n",
      "3\n",
      "5\n",
      "7\n",
      "9\n",
      "11\n"
     ]
    }
   ],
   "source": [
    "#ignore even numbers, print odd numbers\n",
    "for i in range(1,12):\n",
    "    if i%2 == 0:\n",
    "        continue\n",
    "    print(i)"
   ]
  },
  {
   "cell_type": "code",
   "execution_count": 16,
   "id": "78392ef5",
   "metadata": {},
   "outputs": [
    {
     "name": "stdout",
     "output_type": "stream",
     "text": [
      "enter name: arif\n",
      "90\n"
     ]
    }
   ],
   "source": [
    "# Example: A for loop with else, break\n",
    "student_name = input('enter name: ')\n",
    "\n",
    "mydict = {'arif':90, 'rauf':95, 'maaz':81, 'hadeed':77, 'mujahid':86, 'mohid':100}\n",
    "\n",
    "for name in mydict.keys():\n",
    "    if name == student_name:\n",
    "        print(mydict[name])\n",
    "        break\n",
    "else:\n",
    "    print('No entry with that name found.')"
   ]
  },
  {
   "cell_type": "markdown",
   "id": "eb71393a",
   "metadata": {},
   "source": [
    "#### e. Nested for loop"
   ]
  },
  {
   "cell_type": "code",
   "execution_count": null,
   "id": "5af97bc9",
   "metadata": {},
   "outputs": [],
   "source": [
    "# Example 1: A while loop nested inside another while loop\n",
    "# Note the inner while loop works on a list that is declared again and again inside the outer loop\n",
    "mynumb = [1,2,3,4]\n",
    "for item in mynumb:\n",
    "    print(\"outer: \", item)\n",
    "    myfriends = ['Jamil', 'Khurram']\n",
    "    for friend in myfriends:\n",
    "        print(\"\\tinner: \", friend)\n",
    "\n",
    "print(\"After both the loops end\")\n",
    "print(\"mynumb = \", mynumb)\n",
    "print(\"myfriends = \", myfriends)"
   ]
  },
  {
   "cell_type": "code",
   "execution_count": 19,
   "id": "a255cd2b",
   "metadata": {},
   "outputs": [
    {
     "name": "stdout",
     "output_type": "stream",
     "text": [
      "Monday apple\n",
      "Monday banana\n",
      "Monday guava\n",
      "Tuesday apple\n",
      "Tuesday banana\n",
      "Tuesday guava\n",
      "Wednesday apple\n",
      "Wednesday banana\n",
      "Wednesday guava\n"
     ]
    }
   ],
   "source": [
    "days = ['Monday', 'Tuesday', 'Wednesday']\n",
    "fruits = ['apple', 'banana', 'guava']\n",
    "\n",
    "for day in days:\n",
    "    for fruit in fruits:\n",
    "        print(day, fruit)"
   ]
  },
  {
   "cell_type": "code",
   "execution_count": 18,
   "id": "23fb3f31",
   "metadata": {},
   "outputs": [
    {
     "name": "stdout",
     "output_type": "stream",
     "text": [
      "name : Arif\n",
      "sex : Male\n",
      " \n",
      "name : Ayesha\n",
      "sex : Female\n",
      " \n"
     ]
    }
   ],
   "source": [
    "persons = [{'name': 'Arif', 'sex': 'Male'}, {'name': 'Ayesha', 'sex': 'Female'}]\n",
    "\n",
    "for person in persons:\n",
    "    for key in person:\n",
    "        print(key, \":\", person[key])\n",
    "    print(\" \")"
   ]
  },
  {
   "cell_type": "markdown",
   "id": "bcdb0f45",
   "metadata": {},
   "source": [
    "## Check your Concepts\n",
    "\n",
    "Try answering the following questions to test your understanding of the topics covered in this notebook:\n",
    "\n",
    "1. What is iteration or looping in programming languages? Why is it useful?\n",
    "2. What are the two ways for performing iteration in Python?\n",
    "3. What is the purpose of the `while` statement in Python?\n",
    "4. What is the syntax of the `white` statement in Python? Give an example.\n",
    "5. Write a program to compute the sum of the numbers 1 to 100 using a while loop. \n",
    "6. Repeat the above program for numbers up to 1000, 10000, and 100000. How long does it take each loop to complete?\n",
    "7. What is an infinite loop?\n",
    "8. What causes a program to enter an infinite loop?\n",
    "9. How do you interrupt an infinite loop within Jupyter?\n",
    "10. What is the purpose of the `break` statement in Python? \n",
    "11. Give an example of using a `break` statement within a while loop.\n",
    "12. What is the purpose of the `continue` statement in Python?\n",
    "13. Give an example of using the `continue` statement within a while loop.\n",
    "14. What is logging? How is it useful?\n",
    "15. What is the purpose of the `for` statement in Python?\n",
    "16. What is the syntax of `for` loops? Give an example.\n",
    "17. How are for loops and while loops different?\n",
    "18. How do you loop over a string? Give an example.\n",
    "19. How do you loop over a list? Give an example.\n",
    "20. How do you loop over a tuple? Give an example.\n",
    "21. How do you loop over a dictionary? Give an example.\n",
    "22. What is the purpose of the `range` statement? Give an example.\n",
    "23. What is the purpose of the `enumerate` statement? Give an example.\n",
    "24. How are the `break`, `continue`, and `pass` statements used in for loops? Give examples.\n",
    "25. Can loops be nested within other loops? How is nesting useful?\n",
    "26. Give an example of a for loop nested within another for loop.\n",
    "27. Give an example of a while loop nested within another while loop.\n",
    "28. Give an example of a for loop nested within a while loop.\n",
    "29. Give an example of a while loop nested within a for loop.\n",
    "\n"
   ]
  },
  {
   "cell_type": "code",
   "execution_count": null,
   "id": "4db6ed26",
   "metadata": {},
   "outputs": [],
   "source": []
  }
 ],
 "metadata": {
  "kernelspec": {
   "display_name": "Python 3 (ipykernel)",
   "language": "python",
   "name": "python3"
  },
  "language_info": {
   "codemirror_mode": {
    "name": "ipython",
    "version": 3
   },
   "file_extension": ".py",
   "mimetype": "text/x-python",
   "name": "python",
   "nbconvert_exporter": "python",
   "pygments_lexer": "ipython3",
   "version": "3.8.10"
  }
 },
 "nbformat": 4,
 "nbformat_minor": 5
}
