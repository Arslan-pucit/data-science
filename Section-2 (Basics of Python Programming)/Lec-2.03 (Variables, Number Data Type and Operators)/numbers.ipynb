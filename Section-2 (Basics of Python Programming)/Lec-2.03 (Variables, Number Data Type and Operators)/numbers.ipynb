{
 "cells": [
  {
   "cell_type": "markdown",
   "id": "3265955d",
   "metadata": {},
   "source": [
    "---   \n",
    " <img align=\"left\" width=\"75\" height=\"75\"  src=\"https://upload.wikimedia.org/wikipedia/en/c/c8/University_of_the_Punjab_logo.png\"> \n",
    "\n",
    "<h1 align=\"center\">Department of Data Science</h1>\n",
    "<h1 align=\"center\">Course: Tools and Techniques for Data Science</h1>\n",
    "\n",
    "---\n",
    "<h3><div align=\"right\">Instructor: Muhammad Arif Butt, Ph.D.</div></h3>    "
   ]
  },
  {
   "cell_type": "markdown",
   "id": "2736825d",
   "metadata": {},
   "source": [
    "<h1 align=\"center\">Lecture 2.3</h1>"
   ]
  },
  {
   "cell_type": "markdown",
   "id": "3cd521f2",
   "metadata": {},
   "source": [
    "## _numbers.ipynb_\n",
    "#### [Click me to learn more about Python numbers](https://www.w3schools.com/python/python_numbers.asp)"
   ]
  },
  {
   "cell_type": "markdown",
   "id": "0356606a",
   "metadata": {},
   "source": [
    "### Learning agenda of this notebook\n",
    "1. Python Numeric and Bool data types\n",
    "2. Issues with Float data type\n",
    "3. Conversiton / Type Casting"
   ]
  },
  {
   "cell_type": "markdown",
   "id": "f8938a24",
   "metadata": {},
   "source": [
    "### 1. Numeric and Bool Data Types\n",
    "It is equipped with support for several types of numbers, along with utilities for performing computations on them.\n",
    "- **Integers:** The integer data type is comprised of all the positive and negative whole numbers. It is immutable and created through numeric literals and output of arithmetic expressions and functions that return numeric values. In Python 2.x there are two types int and long. But in Python 3.x, there is only one type int having unlimited range subject to available memory \n",
    "- **Floating Point Numbers:** Floating-point numbers, or floats, refer to positive and negative decimal numbers.These represent machine level double precision floating point numbers. The decimal digits are faithful upto fifteen decimal places. The range in most environment is -1.7976931348623157e+308 to 1.7976931348623157e+308\n",
    "- **Complex Numbers:** These represent complex numbers as a pair of machine level double precision floating point numbers. One floating point number represent the real part and another floating point number represent the imaginary part\n",
    "- **Boolean:** Also known as bool data type allows us to choose between two values: true and false. A Boolean is used to determine whether the logic of an expression or a comparison is correct. It plays a huge role in data comparisons."
   ]
  },
  {
   "cell_type": "code",
   "execution_count": 1,
   "id": "6c0e10f7",
   "metadata": {},
   "outputs": [
    {
     "name": "stdout",
     "output_type": "stream",
     "text": [
      "<class 'int'>\n",
      "<class 'float'>\n",
      "<class 'complex'>\n",
      "<class 'bool'>\n"
     ]
    }
   ],
   "source": [
    "w = 10\n",
    "x = 20.5\n",
    "y = complex(3, 2)  # y = 3 + 2j\n",
    "z = True\n",
    "print(type(w))\n",
    "print(type(x))\n",
    "print(type(y))\n",
    "print(type(z))"
   ]
  },
  {
   "cell_type": "code",
   "execution_count": 2,
   "id": "21aa6467",
   "metadata": {},
   "outputs": [
    {
     "name": "stdout",
     "output_type": "stream",
     "text": [
      "True\n",
      "<class 'bool'>\n"
     ]
    }
   ],
   "source": [
    "# Example of Boolean data type \n",
    "y = 10 < 100\n",
    "print(y)\n",
    "print(type(y))"
   ]
  },
  {
   "cell_type": "code",
   "execution_count": 3,
   "id": "16d3f182",
   "metadata": {},
   "outputs": [
    {
     "name": "stdout",
     "output_type": "stream",
     "text": [
      "x is False\n",
      "y is False\n",
      "a: 10\n",
      "b: 15\n"
     ]
    }
   ],
   "source": [
    "\"\"\"\n",
    "boolean data type in Python?\n",
    "In Python, True represents the value as 1 and False as 0. \n",
    "\"\"\"\n",
    "\n",
    "x = (-1 == True)\n",
    "y = (1 == False)\n",
    "a = True + 9\n",
    "b = False + 15\n",
    "\n",
    "print(\"x is\", x)\n",
    "print(\"y is\", y)\n",
    "print(\"a:\", a)\n",
    "print(\"b:\", b)"
   ]
  },
  {
   "cell_type": "markdown",
   "id": "10f47a7e",
   "metadata": {},
   "source": [
    "### 2. Issues with Float data types"
   ]
  },
  {
   "cell_type": "code",
   "execution_count": 49,
   "id": "d20c1eea",
   "metadata": {},
   "outputs": [
    {
     "data": {
      "text/plain": [
       "(3.3, 3.3000000000000003, False)"
      ]
     },
     "execution_count": 49,
     "metadata": {},
     "output_type": "execute_result"
    }
   ],
   "source": [
    "'''\n",
    "Floating-point numbers are stored in computer hardware in IEEE-754 format\n",
    "Be watchful while performing various operations on floating point numbers\n",
    "'''\n",
    "a = 3.3\n",
    "b = 1.1 + 2.2\n",
    "c = (a == b)\n",
    "a, b, c"
   ]
  },
  {
   "cell_type": "markdown",
   "id": "9af36f0d",
   "metadata": {},
   "source": [
    "### 3. Conversion/Type Casting\n",
    "Type conversion refers to the conversion of an object from one data type to another"
   ]
  },
  {
   "cell_type": "markdown",
   "id": "a192930f",
   "metadata": {},
   "source": [
    "#### a. Convert to Integer using  int (a, base) function"
   ]
  },
  {
   "cell_type": "code",
   "execution_count": 5,
   "id": "3df997bc",
   "metadata": {},
   "outputs": [
    {
     "data": {
      "text/plain": [
       "str"
      ]
     },
     "execution_count": 5,
     "metadata": {},
     "output_type": "execute_result"
    }
   ],
   "source": [
    "x = '21'\n",
    "type(x), x"
   ]
  },
  {
   "cell_type": "code",
   "execution_count": 6,
   "id": "ee452e3e",
   "metadata": {},
   "outputs": [
    {
     "data": {
      "text/plain": [
       "(int, 21)"
      ]
     },
     "execution_count": 6,
     "metadata": {},
     "output_type": "execute_result"
    }
   ],
   "source": [
    "y = int(x)\n",
    "type(y), y"
   ]
  },
  {
   "cell_type": "code",
   "execution_count": 7,
   "id": "be8e4b6a",
   "metadata": {},
   "outputs": [
    {
     "data": {
      "text/plain": [
       "(int, 17)"
      ]
     },
     "execution_count": 7,
     "metadata": {},
     "output_type": "execute_result"
    }
   ],
   "source": [
    "z = int(x,8)\n",
    "type(z), z"
   ]
  },
  {
   "cell_type": "code",
   "execution_count": 28,
   "id": "13349a50",
   "metadata": {},
   "outputs": [
    {
     "name": "stdout",
     "output_type": "stream",
     "text": [
      "0x15\n",
      "0o25\n"
     ]
    }
   ],
   "source": [
    "# You can also use hex() and oct() functions\n",
    "print(hex(21))\n",
    "print(oct(21))"
   ]
  },
  {
   "cell_type": "markdown",
   "id": "cf69b598",
   "metadata": {},
   "source": [
    "#### b. Convert to Float  using  float (a) function"
   ]
  },
  {
   "cell_type": "code",
   "execution_count": 17,
   "id": "8e51ba53",
   "metadata": {},
   "outputs": [
    {
     "data": {
      "text/plain": [
       "(int, 54)"
      ]
     },
     "execution_count": 17,
     "metadata": {},
     "output_type": "execute_result"
    }
   ],
   "source": [
    "a = 54\n",
    "type(a), a"
   ]
  },
  {
   "cell_type": "code",
   "execution_count": 18,
   "id": "038b8ac9",
   "metadata": {},
   "outputs": [
    {
     "data": {
      "text/plain": [
       "(float, 54.0)"
      ]
     },
     "execution_count": 18,
     "metadata": {},
     "output_type": "execute_result"
    }
   ],
   "source": [
    "b = float(a)\n",
    "type(b), b"
   ]
  },
  {
   "cell_type": "code",
   "execution_count": 19,
   "id": "0d38acc2",
   "metadata": {},
   "outputs": [
    {
     "data": {
      "text/plain": [
       "(4387774816, 140459832539728)"
      ]
     },
     "execution_count": 19,
     "metadata": {},
     "output_type": "execute_result"
    }
   ],
   "source": [
    "# Note that a and be are two different objects\n",
    "id(a), id(b)"
   ]
  },
  {
   "cell_type": "markdown",
   "id": "b900a11c",
   "metadata": {},
   "source": [
    "#### c. Convert an Integer to a String  using  str (a) function"
   ]
  },
  {
   "cell_type": "code",
   "execution_count": 23,
   "id": "98952c0a",
   "metadata": {},
   "outputs": [
    {
     "data": {
      "text/plain": [
       "(int, 341)"
      ]
     },
     "execution_count": 23,
     "metadata": {},
     "output_type": "execute_result"
    }
   ],
   "source": [
    "num = 341\n",
    "type(num), num"
   ]
  },
  {
   "cell_type": "code",
   "execution_count": 24,
   "id": "9fa0b140",
   "metadata": {},
   "outputs": [
    {
     "data": {
      "text/plain": [
       "(str, '341')"
      ]
     },
     "execution_count": 24,
     "metadata": {},
     "output_type": "execute_result"
    }
   ],
   "source": [
    "mystr = str(num)\n",
    "type(mystr), mystr"
   ]
  },
  {
   "cell_type": "markdown",
   "id": "25ff32a0",
   "metadata": {},
   "source": [
    "#### d. Convert two Floats to Complex Data type  using  complex (a, b) function"
   ]
  },
  {
   "cell_type": "code",
   "execution_count": 31,
   "id": "ff4da2ff",
   "metadata": {},
   "outputs": [
    {
     "data": {
      "text/plain": [
       "(complex, (2.6+3.2j))"
      ]
     },
     "execution_count": 31,
     "metadata": {},
     "output_type": "execute_result"
    }
   ],
   "source": [
    "a = 2.6\n",
    "b = 3.2\n",
    "x = complex(a,b)\n",
    "type(x), x"
   ]
  },
  {
   "cell_type": "code",
   "execution_count": 7,
   "id": "6a6948af",
   "metadata": {},
   "outputs": [
    {
     "data": {
      "text/plain": [
       "3.3000000000000003"
      ]
     },
     "execution_count": 7,
     "metadata": {},
     "output_type": "execute_result"
    }
   ],
   "source": [
    "1.1 + 2.2"
   ]
  }
 ],
 "metadata": {
  "kernelspec": {
   "display_name": "Python 3 (ipykernel)",
   "language": "python",
   "name": "python3"
  },
  "language_info": {
   "codemirror_mode": {
    "name": "ipython",
    "version": 3
   },
   "file_extension": ".py",
   "mimetype": "text/x-python",
   "name": "python",
   "nbconvert_exporter": "python",
   "pygments_lexer": "ipython3",
   "version": "3.8.10"
  }
 },
 "nbformat": 4,
 "nbformat_minor": 5
}
