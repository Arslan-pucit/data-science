{
 "cells": [
  {
   "cell_type": "markdown",
   "id": "14894adf",
   "metadata": {},
   "source": [
    "---   \n",
    " <img align=\"left\" width=\"75\" height=\"75\"  src=\"https://upload.wikimedia.org/wikipedia/en/c/c8/University_of_the_Punjab_logo.png\"> \n",
    "\n",
    "<h1 align=\"center\">Department of Data Science</h1>\n",
    "<h1 align=\"center\">Course: Tools and Techniques for Data Science</h1>\n",
    "\n",
    "---\n",
    "<h3><div align=\"right\">Instructor: Muhammad Arif Butt, Ph.D.</div></h3>    "
   ]
  },
  {
   "cell_type": "markdown",
   "id": "8a0b5128",
   "metadata": {},
   "source": [
    "<h1 align=\"center\">Lecture 2.3</h1>"
   ]
  },
  {
   "cell_type": "markdown",
   "id": "217504e7",
   "metadata": {},
   "source": [
    "## _variables.ipynb_\n",
    "#### [Click me to learn more about Python variables](https://www.w3schools.com/python/python_variables.asp)"
   ]
  },
  {
   "cell_type": "markdown",
   "id": "570224a3",
   "metadata": {},
   "source": [
    "### Learning agenda of this notebook\n",
    "Variables are used to store data in computer memory\n",
    "1. Python is dynamically typed\n",
    "2. Variables and variable naming conventions\n",
    "3. Assigning values to multiple variables in single line\n",
    "4. Checking type of a variable using type()\n",
    "5. Checking ID of a variable using id()\n",
    "6. Do we actually store data inside variables?\n",
    "7. Deleting a variable from Kernel memory\n"
   ]
  },
  {
   "cell_type": "markdown",
   "id": "db818c1d",
   "metadata": {},
   "source": [
    "### 1- You don't have to specify a data type in Python, since it is a dynamically typed language"
   ]
  },
  {
   "cell_type": "markdown",
   "id": "e690e63b",
   "metadata": {},
   "source": [
    "> **Variables**: While working with a programming language such as Python, information is stored in *variables*. You can think of variables as containers for storing data. The data stored within a variable is called its *value*."
   ]
  },
  {
   "cell_type": "code",
   "execution_count": 1,
   "id": "518a55a9",
   "metadata": {},
   "outputs": [
    {
     "data": {
      "text/plain": [
       "'Arif Butt'"
      ]
     },
     "execution_count": 1,
     "metadata": {},
     "output_type": "execute_result"
    }
   ],
   "source": [
    "name_of_instructor = \"Arif Butt\"\n",
    "name_of_instructor"
   ]
  },
  {
   "cell_type": "code",
   "execution_count": 2,
   "id": "401c5e99",
   "metadata": {},
   "outputs": [
    {
     "data": {
      "text/plain": [
       "32"
      ]
     },
     "execution_count": 2,
     "metadata": {},
     "output_type": "execute_result"
    }
   ],
   "source": [
    "no_of_lectures = 32\n",
    "no_of_lectures"
   ]
  },
  {
   "cell_type": "markdown",
   "id": "b128f324",
   "metadata": {},
   "source": [
    "The variables `name_of_instructor`, and `no_of_lectures` now contain the information provided in the word problem. We can check the value of a variable by typing its name into a cell. We can combine variables using arithmetic operations to create other variables.\n",
    "\n",
    "> **Code completion**: While typing the name of an existing variable in a code cell within Jupyter, just type the first few characters and press the `Tab` key to autocomplete the variable's name. Try typing `nam` in a code cell below and press `Tab` to autocomplete to `name_of_instructor`."
   ]
  },
  {
   "cell_type": "markdown",
   "id": "ab29c96a",
   "metadata": {},
   "source": [
    "### 2. Variable naming conventions\n",
    "An identifier is a name of a program element, and it is user-defined. Variable names can be short (`a`, `x`, `y`, etc.) or descriptive ( `my_favorite_color`, `profit_margin`, `the_3_musketeers`, etc.). However, you must follow these rules while naming Python variables:\n",
    " There are some rules to follow while choosing an identifier:\n",
    "- An identifier or variable's name must start with a letter or the underscore character `_`. It cannot begin with a number.\n",
    "- A variable name can only contain lowercase (small) or uppercase (capital) letters, digits, or underscores (`a`-`z`, `A`-`Z`, `0`-`9`, and `_`).\n",
    "- Spaces are not allowed. Instead, we must use snake_case to make variable names readable.\n",
    "- Variable names are case-sensitive, i.e., `a_variable`, `A_Variable`, and `A_VARIABLE` are all different variables.\n",
    "\n",
    "A reserved keyword may not be used as an identifier. The following is a list of keywords.\n",
    "```\n",
    "and def\tFalse\timport\tnot\tTrue\n",
    "as\tdel\tfinally\tin\tor\ttry\n",
    "assert\telif\tfor\tis\tpass\twhile\n",
    "break\telse\tfrom\tlambda\tprint\twith\n",
    "class\texcept\tglobal\tNone\traise\tyield\n",
    "continue\texec\tif\tnonlocal\treturn\n",
    "```"
   ]
  },
  {
   "cell_type": "code",
   "execution_count": 3,
   "id": "35ab7da4",
   "metadata": {},
   "outputs": [
    {
     "ename": "SyntaxError",
     "evalue": "cannot assign to True (2814868083.py, line 2)",
     "output_type": "error",
     "traceback": [
      "\u001b[0;36m  File \u001b[0;32m\"/var/folders/1t/g3ylw8h50cjdqmk5d6jh1qmm0000gn/T/ipykernel_7475/2814868083.py\"\u001b[0;36m, line \u001b[0;32m2\u001b[0m\n\u001b[0;31m    True = 100\u001b[0m\n\u001b[0m    ^\u001b[0m\n\u001b[0;31mSyntaxError\u001b[0m\u001b[0;31m:\u001b[0m cannot assign to True\n"
     ]
    }
   ],
   "source": [
    "# True is a keyword, can't be used as variable name\n",
    "True = 100"
   ]
  },
  {
   "cell_type": "code",
   "execution_count": 4,
   "id": "d791c813",
   "metadata": {},
   "outputs": [
    {
     "ename": "SyntaxError",
     "evalue": "invalid syntax (3167369353.py, line 3)",
     "output_type": "error",
     "traceback": [
      "\u001b[0;36m  File \u001b[0;32m\"/var/folders/1t/g3ylw8h50cjdqmk5d6jh1qmm0000gn/T/ipykernel_7475/3167369353.py\"\u001b[0;36m, line \u001b[0;32m3\u001b[0m\n\u001b[0;31m    1var = 530\u001b[0m\n\u001b[0m     ^\u001b[0m\n\u001b[0;31mSyntaxError\u001b[0m\u001b[0;31m:\u001b[0m invalid syntax\n"
     ]
    }
   ],
   "source": [
    "# A variable name cannot start with a special character or digit\n",
    "var1 = 25\n",
    "1var = 530\n",
    "@i = 980"
   ]
  },
  {
   "cell_type": "markdown",
   "id": "a0f875ce",
   "metadata": {},
   "source": [
    "### 3. You can assign multiple values to multiple variables in one statement"
   ]
  },
  {
   "cell_type": "code",
   "execution_count": 5,
   "id": "25a3f57b",
   "metadata": {},
   "outputs": [
    {
     "name": "stdout",
     "output_type": "stream",
     "text": [
      "a =  5  b =  3.2  c =  Hello\n"
     ]
    }
   ],
   "source": [
    "#Assigning multiple values to multiple variables\n",
    "a, b, c = 5, 3.2, \"Hello\"\n",
    "\n",
    "print ('a = ',a,' b = ',b,' c = ',c)"
   ]
  },
  {
   "cell_type": "markdown",
   "id": "b7bddc0d",
   "metadata": {},
   "source": [
    "### 4. To check the type of a variable"
   ]
  },
  {
   "cell_type": "code",
   "execution_count": 6,
   "id": "87bc5c37",
   "metadata": {},
   "outputs": [
    {
     "name": "stdout",
     "output_type": "stream",
     "text": [
      "name is of  <class 'str'>\n",
      "x is of  <class 'int'>\n",
      "y is of  <class 'float'>\n"
     ]
    }
   ],
   "source": [
    "# to check the type of variable\n",
    "name = \"Arif Butt\"\n",
    "print(\"name is of \", type(name))\n",
    "x = 234\n",
    "print(\"x is of \", type(x))\n",
    "y = 5.321\n",
    "print(\"y is of \", type(y))"
   ]
  },
  {
   "cell_type": "markdown",
   "id": "66c6f33f",
   "metadata": {},
   "source": [
    "### 5. To check the ID of a variable"
   ]
  },
  {
   "cell_type": "code",
   "execution_count": 7,
   "id": "a1056c2b",
   "metadata": {},
   "outputs": [
    {
     "data": {
      "text/plain": [
       "(4509771744, 140654088597360)"
      ]
     },
     "execution_count": 7,
     "metadata": {},
     "output_type": "execute_result"
    }
   ],
   "source": [
    "x = 234\n",
    "y = 5.321\n",
    "id(x), id(y)"
   ]
  },
  {
   "cell_type": "markdown",
   "id": "d4478bda",
   "metadata": {},
   "source": [
    "### 6. Do we actually store data inside variables"
   ]
  },
  {
   "cell_type": "code",
   "execution_count": 2,
   "id": "a9edba24",
   "metadata": {},
   "outputs": [
    {
     "data": {
      "text/plain": [
       "(4509764576, 4509764576)"
      ]
     },
     "execution_count": 2,
     "metadata": {},
     "output_type": "execute_result"
    }
   ],
   "source": [
    "a=10\n",
    "b=10\n",
    "id(a), id(b)"
   ]
  },
  {
   "cell_type": "markdown",
   "id": "0492d480",
   "metadata": {},
   "source": [
    "Both the variables a and b have same ID, i.e., both a and b are pointing to same memory location\n",
    "Variables in Python are not actually objects in Python, rather are references to objects that are present in memory. So both the variables a and b are refering to same object 10 in memory. Thus having the same ID"
   ]
  },
  {
   "cell_type": "code",
   "execution_count": 5,
   "id": "bd2b73f2",
   "metadata": {},
   "outputs": [
    {
     "data": {
      "text/plain": [
       "(140654089003568, 4509764576)"
      ]
     },
     "execution_count": 5,
     "metadata": {},
     "output_type": "execute_result"
    }
   ],
   "source": [
    "a=\"Data Science\"\n",
    "id(a), id(b)"
   ]
  },
  {
   "cell_type": "code",
   "execution_count": 6,
   "id": "e5251a01",
   "metadata": {},
   "outputs": [
    {
     "data": {
      "text/plain": [
       "140654089005104"
      ]
     },
     "execution_count": 6,
     "metadata": {},
     "output_type": "execute_result"
    }
   ],
   "source": [
    "a=\"Arif\"\n",
    "id(a)"
   ]
  },
  {
   "cell_type": "markdown",
   "id": "34c35a04",
   "metadata": {},
   "source": [
    "Note that the object \"Data Science\" has become an orphaned object, as no variable is refering to it now."
   ]
  },
  {
   "cell_type": "markdown",
   "id": "6a3d895b",
   "metadata": {},
   "source": [
    "### 7. Delete a variable"
   ]
  },
  {
   "cell_type": "code",
   "execution_count": 11,
   "id": "9a07a4af",
   "metadata": {},
   "outputs": [
    {
     "name": "stdout",
     "output_type": "stream",
     "text": [
      "var1= 10\n",
      "['In', 'Out', '_', '_1', '_2', '_3', '_4', '_5', '_6', '_7', '__', '___', '__builtin__', '__builtins__', '__doc__', '__loader__', '__name__', '__package__', '__spec__', '_dh', '_i', '_i1', '_i10', '_i11', '_i2', '_i3', '_i4', '_i5', '_i6', '_i7', '_i8', '_i9', '_ih', '_ii', '_iii', '_oh', 'a', 'b', 'exit', 'get_ipython', 'name', 'quit', 'var1', 'x', 'y']\n",
      "['In', 'Out', '_', '_1', '_2', '_3', '_4', '_5', '_6', '_7', '__', '___', '__builtin__', '__builtins__', '__doc__', '__loader__', '__name__', '__package__', '__spec__', '_dh', '_i', '_i1', '_i10', '_i11', '_i2', '_i3', '_i4', '_i5', '_i6', '_i7', '_i8', '_i9', '_ih', '_ii', '_iii', '_oh', 'a', 'b', 'exit', 'get_ipython', 'name', 'quit', 'x', 'y']\n"
     ]
    }
   ],
   "source": [
    "var1 = 10\n",
    "print(\"var1=\", var1)\n",
    "print(dir())\n",
    "del var1\n",
    "print(dir())\n",
    "#print(var1)"
   ]
  },
  {
   "cell_type": "markdown",
   "id": "731c9721",
   "metadata": {},
   "source": [
    "## Check your Concepts\n",
    "\n",
    "Try answering the following questions to test your understanding of the topics covered in this notebook:\n",
    "\n",
    "1. What is a variable in Python?\n",
    "2. How do you create a variable?\n",
    "3. How do you check the value within a variable?\n",
    "4. How do you create multiple variables in a single statement?\n",
    "5. How do you create multiple variables with the same value?\n",
    "6. How do you change the value of a variable?\n",
    "7. How do you reassign a variable by modifying the previous value?\n",
    "8. What are the rules for naming a variable?\n",
    "9. Are variable names case-sensitive? Do `a_variable`, `A_Variable`, and `A_VARIABLE` represent the same variable or different ones?\n",
    "10. How do you check the data type of a variable?"
   ]
  }
 ],
 "metadata": {
  "kernelspec": {
   "display_name": "Python 3 (ipykernel)",
   "language": "python",
   "name": "python3"
  },
  "language_info": {
   "codemirror_mode": {
    "name": "ipython",
    "version": 3
   },
   "file_extension": ".py",
   "mimetype": "text/x-python",
   "name": "python",
   "nbconvert_exporter": "python",
   "pygments_lexer": "ipython3",
   "version": "3.8.10"
  }
 },
 "nbformat": 4,
 "nbformat_minor": 5
}
