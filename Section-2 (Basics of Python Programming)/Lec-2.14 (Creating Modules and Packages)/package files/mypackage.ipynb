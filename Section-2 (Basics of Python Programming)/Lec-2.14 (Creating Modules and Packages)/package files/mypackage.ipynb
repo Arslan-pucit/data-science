{
 "cells": [
  {
   "cell_type": "markdown",
   "id": "fe036a61",
   "metadata": {},
   "source": [
    "---   \n",
    " <img align=\"left\" width=\"75\" height=\"75\"  src=\"https://upload.wikimedia.org/wikipedia/en/c/c8/University_of_the_Punjab_logo.png\"> \n",
    "\n",
    "<h1 align=\"center\">Department of Data Science</h1>\n",
    "<h1 align=\"center\">Course: Tools and Techniques for Data Science</h1>\n",
    "\n",
    "---\n",
    "<h3><div align=\"right\">Instructor: Muhammad Arif Butt, Ph.D.</div></h3>    "
   ]
  },
  {
   "cell_type": "markdown",
   "id": "441220c1",
   "metadata": {},
   "source": [
    "<h1 align=\"center\">Lecture 2.14</h1>"
   ]
  },
  {
   "cell_type": "markdown",
   "id": "c6429b8f",
   "metadata": {},
   "source": [
    "## _mypackage.ipynb_\n",
    "#### [Click me to learn more about Python Modules](https://www.python-course.eu/python3_packages.php)"
   ]
  },
  {
   "cell_type": "markdown",
   "id": "5ee358ad",
   "metadata": {},
   "source": [
    "### Learning agenda of this notebook\n",
    "1. What are Python packages?\n",
    "2. How to create a Python Package?\n",
    "3. How to import modules from the package?"
   ]
  },
  {
   "cell_type": "markdown",
   "id": "b2e59821",
   "metadata": {},
   "source": [
    "### 1- What are Python packages?\n",
    "- In our computer systems, we store our files in well-organized hierarchies. We don’t store them all in one location. Likewise, when our s/w application grow, we divide it into packages. In real-life projects, programs are much larger than what we deal with in our journey of learning Python. A package lets us hold similar modules in one place.\n",
    "\n",
    "\n",
    "     - A package is basically a directory having .py file(s) and an additional file with the name _ _ init _ _.py. In Python a directory inside the Python path having a file named _ _ init _ _.py, will be treated as a package by Python\n",
    "\n",
    "- The way a directory can contain subdirectories and files, a Python package can have sub-packages and modules. As our application program grows larger in size with a lot of modules, we place similar modules in one package and different modules in different packages. This makes a project (program) easy to manage and conceptually clear.\n",
    "\n",
    "- Last but not the least, we can place some initialization code for the package in the _ _init_ _.py file. However, being beginners leaving _ _ init _ _.py empty is indeed good practice\n"
   ]
  },
  {
   "cell_type": "markdown",
   "id": "0fde6a6a",
   "metadata": {},
   "source": [
    "### 2- How to Create a Python Package?\n",
    "#### **Let us create a package:**\n",
    "\n",
    "- First of all, remember a package is a directory and the name of the package is the name of the directory. \n",
    "- We create our directory with the name \"_packageDemo_\". \n",
    "- Inside this we create sub-directories \"_package1_\" and \"_package2_\".\n",
    "- The packageDemo, package1, and package2 directory needs to contain a file with the name '_ _ init _ _.py'. To keep things simple, we left these file empty.\n",
    "- Now we can put all of the Python files which will be the modules into these directory. We create 3 different modules named arithmetic, comparison and bitcompare, containing our function definitions.\n",
    "- We put arithmetic module in package1(sub-package), and place the comparison and bitcompare module in package2 (sub-package)\n",
    "\n",
    "### Hierarchy:\n",
    " - **packageDemo**\n",
    "     - **_ _ init _ _ .py**\n",
    " \n",
    "     - **package1**    \n",
    "         - **_ _ init _ _ .py**    \n",
    "         - **arithmetic.py** \n",
    "     \n",
    "     - **package2**    \n",
    "         - **_ _ init _ _ .py**\n",
    "         - **comparison.py**\n",
    "         - **bitcompare.py**"
   ]
  },
  {
   "cell_type": "markdown",
   "id": "83a8a43a",
   "metadata": {},
   "source": [
    "#### packageDemo/package1/arithmetic.py\n",
    "```\n",
    "def myadd(a,b):\n",
    "    return a+b\n",
    "\n",
    "def mysub(a,b):\n",
    "    return a-b\n",
    "\n",
    "def mymul(a,b):\n",
    "    return a*b\n",
    "\n",
    "def mydiv(a,b):\n",
    "    if (y==0):\n",
    "        return 'Not Possible'\n",
    "    else:\n",
    "        return a/b\n",
    "\n",
    "def mypow(a,b):\n",
    "    return a**b\n",
    "```"
   ]
  },
  {
   "cell_type": "markdown",
   "id": "c495aa82",
   "metadata": {},
   "source": [
    "#### pakcageDemo/package2/bitcompare.py\n",
    "```\n",
    "def bitand(a,b):\n",
    "    print('a & b is',a&b)\n",
    "\n",
    "    \n",
    "def bitor(a,b):\n",
    "    print('a | b is',a|b)\n",
    "\n",
    "def bitnot(a):\n",
    "    print('~a is',~a)\n",
    "\n",
    "def bitxor(a,b):\n",
    "    print('a ^ b is',a^b)\n",
    "\n",
    "def bitright(a,b):\n",
    "    print('x >> b is',a>>b)\n",
    "\n",
    "def bitleft(a,b):\n",
    "    print('a << b is',a<<b)\n",
    "```"
   ]
  },
  {
   "cell_type": "markdown",
   "id": "02994b6e",
   "metadata": {},
   "source": [
    "#### pakcageDemo/package2/comparison.py\n",
    "```\n",
    "def comparison(x,y):\n",
    "    print(\"Comparing both operand where x is \",x,\"and y is \",y)\n",
    "    \n",
    "    if(x>y):\n",
    "        print(\" x > y is: \",  x>y)\n",
    "        \n",
    "    elif(x<y):\n",
    "        print(\" x < y is: \", x<y)\n",
    "        \n",
    "    else:\n",
    "        print(\" x == y is: \", x==y)\n",
    "    \n",
    "```"
   ]
  },
  {
   "cell_type": "code",
   "execution_count": null,
   "id": "26dfac69",
   "metadata": {},
   "outputs": [],
   "source": []
  },
  {
   "cell_type": "markdown",
   "id": "a7009883",
   "metadata": {},
   "source": [
    "### 3. How to import and use modules from the Package"
   ]
  },
  {
   "cell_type": "markdown",
   "id": "c15cf6e8",
   "metadata": {},
   "source": [
    "**Using functions inside the arithmetic module**"
   ]
  },
  {
   "cell_type": "code",
   "execution_count": 5,
   "id": "84b3e039",
   "metadata": {},
   "outputs": [
    {
     "data": {
      "text/plain": [
       "180"
      ]
     },
     "execution_count": 5,
     "metadata": {},
     "output_type": "execute_result"
    }
   ],
   "source": [
    "import packageDemo.package1.arithmetic\n",
    "packageDemo.package1.arithmetic.mymul(12,15)"
   ]
  },
  {
   "cell_type": "code",
   "execution_count": 11,
   "id": "edefab17",
   "metadata": {},
   "outputs": [
    {
     "data": {
      "text/plain": [
       "180"
      ]
     },
     "execution_count": 11,
     "metadata": {},
     "output_type": "execute_result"
    }
   ],
   "source": [
    "import packageDemo.package1.arithmetic as abc\n",
    "abc.mymul(12,15)"
   ]
  },
  {
   "cell_type": "code",
   "execution_count": 9,
   "id": "fa1708d8",
   "metadata": {},
   "outputs": [
    {
     "data": {
      "text/plain": [
       "180"
      ]
     },
     "execution_count": 9,
     "metadata": {},
     "output_type": "execute_result"
    }
   ],
   "source": [
    "# If a package has lot of modules you can import a specific module using the from keyword.\n",
    "# This also avoid long construct as done above\n",
    "from packageDemo.package1 import arithmetic\n",
    "arithmetic.mymul(12,15)"
   ]
  },
  {
   "cell_type": "code",
   "execution_count": 10,
   "id": "123cc542",
   "metadata": {},
   "outputs": [
    {
     "data": {
      "text/plain": [
       "180"
      ]
     },
     "execution_count": 10,
     "metadata": {},
     "output_type": "execute_result"
    }
   ],
   "source": [
    "# You can import all the functions of the arithmetic module using asterisk operator with import\n",
    "# This let you access the functions directly, without using the dot operator\n",
    "from packageDemo.package1.arithmetic import *\n",
    "mymul(12,15)"
   ]
  },
  {
   "cell_type": "markdown",
   "id": "dbb94205",
   "metadata": {},
   "source": [
    "**Using functions inside the comparison module**"
   ]
  },
  {
   "cell_type": "code",
   "execution_count": 3,
   "id": "7969a6d8",
   "metadata": {},
   "outputs": [
    {
     "name": "stdout",
     "output_type": "stream",
     "text": [
      "Comparing both operand where x is  5 and y is  5\n",
      " x == y is:  True\n"
     ]
    }
   ],
   "source": [
    "from packageDemo.package2 import comparison\n",
    "\n",
    "comparison.comparison(5,5)"
   ]
  },
  {
   "cell_type": "markdown",
   "id": "d0bbca5d",
   "metadata": {},
   "source": [
    "**Using functions inside the bitcompare module**"
   ]
  },
  {
   "cell_type": "code",
   "execution_count": 13,
   "id": "aa942629",
   "metadata": {},
   "outputs": [
    {
     "name": "stdout",
     "output_type": "stream",
     "text": [
      "a & b is 12\n"
     ]
    }
   ],
   "source": [
    "from packageDemo.package2 import bitcompare\n",
    "\n",
    "bitcompare.bitand(12,13)"
   ]
  },
  {
   "cell_type": "markdown",
   "id": "a59d0cc0",
   "metadata": {},
   "source": [
    "**Using functions of all the modules**"
   ]
  },
  {
   "cell_type": "code",
   "execution_count": 1,
   "id": "f981874c",
   "metadata": {},
   "outputs": [
    {
     "data": {
      "text/plain": [
       "5"
      ]
     },
     "execution_count": 1,
     "metadata": {},
     "output_type": "execute_result"
    }
   ],
   "source": [
    "from packageDemo.package1 import arithmetic as arith\n",
    "from packageDemo.package2 import bitcompare as bits\n",
    "from packageDemo.package2 import comparison as comp"
   ]
  },
  {
   "cell_type": "code",
   "execution_count": null,
   "id": "b4b90b11",
   "metadata": {},
   "outputs": [],
   "source": [
    "arith.mysub(10,5)"
   ]
  },
  {
   "cell_type": "code",
   "execution_count": 2,
   "id": "65876026",
   "metadata": {},
   "outputs": [
    {
     "data": {
      "text/plain": [
       "'Not Possible'"
      ]
     },
     "execution_count": 2,
     "metadata": {},
     "output_type": "execute_result"
    }
   ],
   "source": [
    "arith.mydiv(10,0)"
   ]
  },
  {
   "cell_type": "code",
   "execution_count": 3,
   "id": "6da11e9f",
   "metadata": {},
   "outputs": [
    {
     "name": "stdout",
     "output_type": "stream",
     "text": [
      "a | b is 13\n"
     ]
    }
   ],
   "source": [
    "bits.bitor(5,8)"
   ]
  },
  {
   "cell_type": "code",
   "execution_count": 5,
   "id": "d7a65549",
   "metadata": {},
   "outputs": [
    {
     "name": "stdout",
     "output_type": "stream",
     "text": [
      "Comparing both operand where x is  5 and y is  6\n",
      " x < y is:  True\n"
     ]
    }
   ],
   "source": [
    "comp.comparison(5,6)"
   ]
  },
  {
   "cell_type": "code",
   "execution_count": null,
   "id": "de3ba13f",
   "metadata": {},
   "outputs": [],
   "source": []
  }
 ],
 "metadata": {
  "kernelspec": {
   "display_name": "Python 3 (ipykernel)",
   "language": "python",
   "name": "python3"
  },
  "language_info": {
   "codemirror_mode": {
    "name": "ipython",
    "version": 3
   },
   "file_extension": ".py",
   "mimetype": "text/x-python",
   "name": "python",
   "nbconvert_exporter": "python",
   "pygments_lexer": "ipython3",
   "version": "3.8.10"
  }
 },
 "nbformat": 4,
 "nbformat_minor": 5
}
