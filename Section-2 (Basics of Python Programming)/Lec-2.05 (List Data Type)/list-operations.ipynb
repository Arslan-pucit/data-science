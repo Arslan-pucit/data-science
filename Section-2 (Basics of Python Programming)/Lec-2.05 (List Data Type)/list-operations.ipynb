{
 "cells": [
  {
   "cell_type": "markdown",
   "id": "a6651c01",
   "metadata": {},
   "source": [
    "---   \n",
    " <img align=\"left\" width=\"75\" height=\"75\"  src=\"https://upload.wikimedia.org/wikipedia/en/c/c8/University_of_the_Punjab_logo.png\"> \n",
    "\n",
    "<h1 align=\"center\">Department of Data Science</h1>\n",
    "<h1 align=\"center\">Course: Tools and Techniques for Data Science</h1>\n",
    "\n",
    "---\n",
    "<h3><div align=\"right\">Instructor: Muhammad Arif Butt, Ph.D.</div></h3>    "
   ]
  },
  {
   "cell_type": "markdown",
   "id": "a363bc39",
   "metadata": {},
   "source": [
    "<h1 align=\"center\">Lecture 2.5</h1>"
   ]
  },
  {
   "cell_type": "markdown",
   "id": "95de41a5",
   "metadata": {},
   "source": [
    "## _list-operations.ipynb_\n",
    "#### [Click me to learn more about Python Lists](https://www.geeksforgeeks.org/python-list/)"
   ]
  },
  {
   "cell_type": "markdown",
   "id": "7c109b0c",
   "metadata": {},
   "source": [
    "### Learning agenda of this notebook\n",
    "- A List is a collection of arbitrary objects, somewhat akin to an array in many other programming languages, but more flexible. Python lists are a type of sequence as each object in the list is assigned an index and the items of a list can be manipulated using its respective index.\n",
    "- A List is a numerically ordered sequence of elements that can store multiple items of heterogeneous types in a single variable. Lists are created using square brackets and allows duplicate elements.\n",
    "1. How to create lists?\n",
    "2. Proof of concepts: Lists are heterogeneous, ordered, mutable, nested, and allow duplicate elements\n",
    "3. Accessing elements of lists?\n",
    "4. Adding elements to a list using append, extend, and insert methods\n",
    "5. Removing elements from a list using pop and remove methods\n",
    "6. List concatenation and repetition\n",
    "7. Slicing a list\n",
    "8. Converting string object to list and vice-versa (using type casting, split() and join())\n",
    "9. Misc list methods: A list method is what you can do to a list and change it. To call a method on a construct, you use the dot-operator(.). Some list methods that can be used to alter a list are (append, insert, extend, remove, pop, clear, index, count, sort, reverse, split and join)\n",
    "10. Some Built-in functions that can be used on lists (len, max, min, sum)\n",
    "11. Misc Concepts\n",
    "    - Comparing objects and values\n",
    "    - Comparing strings\n",
    "    - Aliasing\n",
    "12. Looping through a list"
   ]
  },
  {
   "cell_type": "markdown",
   "id": "78d11dc1",
   "metadata": {},
   "source": [
    "### 1. How to create Lists?"
   ]
  },
  {
   "cell_type": "code",
   "execution_count": null,
   "id": "88801cf7",
   "metadata": {},
   "outputs": [],
   "source": [
    "# A list is created by placing comma separated values in square brackets [] \n",
    "# It allows us to store elements of different data types (number, boolean, string, list) in one container.\n",
    "\n",
    "list1 = [1,2,3,4,5]   #list of integers\n",
    "print(list1)\n",
    "\n",
    "list2 = [3.7, 6.5, 3.8, 7.95 ]   #list of floats\n",
    "print(list2)\n",
    "\n",
    "list3 = [\"hello\", \"this\", \"F\", \"good show\"]   #list of strings\n",
    "print(list3)\n",
    "\n",
    "list4 = [True, False, True]   #list of boolean\n",
    "print(list4)\n",
    "\n",
    "list5 = []   #this will create an empty list\n",
    "print(list5)\n",
    "\n",
    "print(type(list5))"
   ]
  },
  {
   "cell_type": "code",
   "execution_count": null,
   "id": "458957c8",
   "metadata": {},
   "outputs": [],
   "source": [
    "# Nested list: list can also have another list as an item\n",
    "list1 = [\"Arif\", 30, 5.5, [10,'rauf']]\n",
    "print(list1)"
   ]
  },
  {
   "cell_type": "code",
   "execution_count": null,
   "id": "539f6d47",
   "metadata": {},
   "outputs": [],
   "source": [
    "# we can create empty list\n",
    "empty_list = []\n",
    "print (empty_list)"
   ]
  },
  {
   "cell_type": "code",
   "execution_count": null,
   "id": "a11b5b3f",
   "metadata": {},
   "outputs": [],
   "source": [
    "#printing multiple lists\n",
    "list1 = [1,2,3,4,5]\n",
    "list2 = [\"Arif\", 30, 5.5, [10,'rauf']]\n",
    "empty_list = []\n",
    "\n",
    "print(list1, list2, empty_list)"
   ]
  },
  {
   "cell_type": "markdown",
   "id": "48f77dc4",
   "metadata": {},
   "source": [
    "### 2. Proof of concepts"
   ]
  },
  {
   "cell_type": "markdown",
   "id": "d2c423a2",
   "metadata": {},
   "source": [
    "#### a. Lists are heterogeneous\n",
    "- Lists are heterogeneous, as their elements/items can be of any data type"
   ]
  },
  {
   "cell_type": "code",
   "execution_count": null,
   "id": "e42284d8",
   "metadata": {},
   "outputs": [],
   "source": [
    "list1 = [\"Arif\", 30, 5.5]\n",
    "print(\"list1: \", list1)"
   ]
  },
  {
   "cell_type": "markdown",
   "id": "a9281ff0",
   "metadata": {},
   "source": [
    "#### b. Lists are ordered\n",
    "- Lists are ordered means every element is associated by an index\n",
    "- Every time you access list elements they will show up in same sequence. \n",
    "- Moreover, two lists having same elements in different order are not same."
   ]
  },
  {
   "cell_type": "code",
   "execution_count": null,
   "id": "291d292e",
   "metadata": {},
   "outputs": [],
   "source": [
    "a = [1, 2, 3]\n",
    "b = [2, 3, 1]\n",
    "id(a), id(b), a is b"
   ]
  },
  {
   "cell_type": "markdown",
   "id": "a4d31dd7",
   "metadata": {},
   "source": [
    "#### c. Lists are mutable\n",
    "- Means once a list object is created, you can make changes to it and modify its elements"
   ]
  },
  {
   "cell_type": "code",
   "execution_count": null,
   "id": "3942c4a3",
   "metadata": {},
   "outputs": [],
   "source": [
    "numbers = [10, 20, 30, 40, 50]\n",
    "numbers[2] = 15\n",
    "print(\"numbers: \", numbers)"
   ]
  },
  {
   "cell_type": "markdown",
   "id": "f1271382",
   "metadata": {},
   "source": [
    "#### d. Lists can have duplicate emements"
   ]
  },
  {
   "cell_type": "code",
   "execution_count": null,
   "id": "904f68ac",
   "metadata": {},
   "outputs": [],
   "source": [
    "# lists allow duplicate elements\n",
    "names = ['Arif', 'Rauf', 'Hadeed', 'Arif', 'Mujahid']\n",
    "print(names)"
   ]
  },
  {
   "cell_type": "markdown",
   "id": "1cbb9c99",
   "metadata": {},
   "source": [
    "#### e. Lists can be nested to arbitrary depth\n",
    "- You can have list within list and that can be done to an arbitrary depth. You are only restricted to the available memory on your system"
   ]
  },
  {
   "cell_type": "code",
   "execution_count": null,
   "id": "de0ae65e",
   "metadata": {},
   "outputs": [],
   "source": [
    "# A list having two sub-lists within it\n",
    "a = [1,2,3,[4,5],[6,7,8,9],10,11]\n",
    "# A list having a sublist, which is further having a sublist and that again having a sublist\n",
    "b = [1,2,3,[4,5,[6,7,8,[9,10,11]]]]\n",
    "a, b"
   ]
  },
  {
   "cell_type": "markdown",
   "id": "ca269402",
   "metadata": {},
   "source": [
    "#### f. Packing and Unpacking Lists"
   ]
  },
  {
   "cell_type": "code",
   "execution_count": 2,
   "id": "4fc9e430",
   "metadata": {},
   "outputs": [
    {
     "name": "stdout",
     "output_type": "stream",
     "text": [
      "learning with Arif\n",
      "<class 'str'>\n"
     ]
    }
   ],
   "source": [
    "# you can assign individual elements of List to string variables\n",
    "mylist = ['learning', 'is', 'fun', 'with', 'Arif']\n",
    "a, b, c, d, e = mylist # the number of variables on the left must match the number of elements in the list\n",
    "print (a, d, e)\n",
    "print(type(a))"
   ]
  },
  {
   "cell_type": "markdown",
   "id": "418db83b",
   "metadata": {},
   "source": [
    "### 3. Different ways to access elements of a list\n",
    "- Since list like string is of type sequence, and any component within a sequence can be accessed by entrying an index within square brackets. So naturally this must work for list as well\n",
    "- Similarly, if we want to find out the index of a specific item/character, we can use the index() method of list class"
   ]
  },
  {
   "cell_type": "code",
   "execution_count": null,
   "id": "d42c7653",
   "metadata": {},
   "outputs": [],
   "source": [
    "#You can access elements of list using indexing which starts from zero\n",
    "list1 = [\"Arif\", 30, 5.5, [10,'rauf']]\n",
    "print(list1[3])\n",
    "\n",
    "#accessing Nested list element\n",
    "print(list1[0][2])              #accessing third element of string at index 0\n",
    "print(list1[3][1])              #accessing second element of Nested list"
   ]
  },
  {
   "cell_type": "code",
   "execution_count": null,
   "id": "b1f6cd69",
   "metadata": {},
   "outputs": [],
   "source": [
    "#Negative indexing starts looking at the list from the right hand side\n",
    "list1 = [\"Arif\", 30, 5.5, [10,'rauf']]\n",
    "print(list1[-1])                #accessing last element\n",
    "print(list1[-2])                #accessing second last element"
   ]
  },
  {
   "cell_type": "code",
   "execution_count": null,
   "id": "74898626",
   "metadata": {},
   "outputs": [],
   "source": [
    "# index(value) method is used when you know the list element and wants to get its index\n",
    "# index(value) method returns the index of the first matched item with its only argument\n",
    "mylist = [27, 4.5, 'arif', 64, 'hadeed', 19, 'arif']\n",
    "print(\"\\nmylist: \", mylist)\n",
    "mylist.index('arif')"
   ]
  },
  {
   "cell_type": "markdown",
   "id": "c9517d91",
   "metadata": {},
   "source": [
    "### 4. Slicing Lists\n",
    "- Like anyother sequence object we can perform slicing with lists as well.\n",
    "- Slicing is the process of obtaining a portion of a list by using its indices.\n",
    "- Given a list, we can use the following template to slice it and obtain a sublist:\n",
    "```\n",
    "mylist[start:end:step]\n",
    "```\n",
    "\n",
    "- **start** is the index from where we want the sublist to start.If start is not provided, slicing starts from the beginning.\n",
    "- **end** is the index where we want our sublist to end (not inclusive in the sublist). If end is not provided, slicing goes till the last element of the list.\n",
    "- **step** is the step through which we want to skip elements in the list. The default step is 1, so we iterate through every element of the list."
   ]
  },
  {
   "cell_type": "code",
   "execution_count": null,
   "id": "35e2ee1a",
   "metadata": {},
   "outputs": [],
   "source": [
    "list1 = ['a','b','c','d','e','f','g','h','i']\n",
    "list1"
   ]
  },
  {
   "cell_type": "code",
   "execution_count": null,
   "id": "bf9edbdb",
   "metadata": {},
   "outputs": [],
   "source": [
    "list1[::]"
   ]
  },
  {
   "cell_type": "code",
   "execution_count": null,
   "id": "7da08034",
   "metadata": {},
   "outputs": [],
   "source": [
    "list1[3:]"
   ]
  },
  {
   "cell_type": "code",
   "execution_count": null,
   "id": "b0341f68",
   "metadata": {},
   "outputs": [],
   "source": [
    "list1[:4]"
   ]
  },
  {
   "cell_type": "code",
   "execution_count": null,
   "id": "90138f70",
   "metadata": {},
   "outputs": [],
   "source": [
    "list1[2:5]"
   ]
  },
  {
   "cell_type": "code",
   "execution_count": null,
   "id": "a88e461e",
   "metadata": {},
   "outputs": [],
   "source": [
    "list1[:-2]"
   ]
  },
  {
   "cell_type": "code",
   "execution_count": null,
   "id": "9fbfba37",
   "metadata": {},
   "outputs": [],
   "source": [
    "list1[-1]"
   ]
  },
  {
   "cell_type": "code",
   "execution_count": null,
   "id": "ed3fa5a4",
   "metadata": {},
   "outputs": [],
   "source": [
    "# Slicing by using strides\n",
    "print(list1[::])  # A default step of 1\n",
    "print(list1[::1])  # A step of 1\n",
    "print(list1[::2])  # A step of 2\n",
    "print(list1[::3])  # A step of 3"
   ]
  },
  {
   "cell_type": "code",
   "execution_count": null,
   "id": "2c0ff8ef",
   "metadata": {},
   "outputs": [],
   "source": [
    "# Reverse slicing\n",
    "print(list1[::-1]) # Take 1 step back each time\n",
    "print(list1[5:1:-1]) # Take 1 step back each time\n",
    "#if start is less than end in case of a negative step, it will return empty string\n",
    "print(list1[2:10:-1])\n",
    "print(list1[::-2]) # Take 2 steps back"
   ]
  },
  {
   "cell_type": "markdown",
   "id": "8f109f45",
   "metadata": {},
   "source": [
    "### 5. List Concatenation and Repetition\n",
    "- The + operator is used to concatenate two or more lists\n",
    "- The * operator is used to repeat or replicate"
   ]
  },
  {
   "cell_type": "markdown",
   "id": "6807e6b2",
   "metadata": {},
   "source": [
    "#### a. Concatenation Lists"
   ]
  },
  {
   "cell_type": "code",
   "execution_count": null,
   "id": "5bf4db5d",
   "metadata": {},
   "outputs": [],
   "source": [
    "# Add some elements to the end of an existing list using concatenation operator\n",
    "a = [1,2,3]\n",
    "b = a + [4,5]\n",
    "# Add some elements to the beginning of an existing list using concatenation operator\n",
    "c = [0] + b\n",
    "a, b, c"
   ]
  },
  {
   "cell_type": "code",
   "execution_count": null,
   "id": "6106dde2",
   "metadata": {},
   "outputs": [],
   "source": [
    "# use + operator to concatenate two lists\n",
    "food_items1 = ['fruits', 'bread', 'veggies'] \n",
    "food_items2 = ['meat', 'spices', 'burger']\n",
    "food = food_items1 + food_items2\n",
    "print(food)"
   ]
  },
  {
   "cell_type": "code",
   "execution_count": null,
   "id": "92843c21",
   "metadata": {},
   "outputs": [],
   "source": [
    "# You can concatenate two heterogeneous lists\n",
    "list1 = [5, 3.4, 'hello']\n",
    "list2 = [31, 9.7, 'bye']\n",
    "list3 = list1 + list2\n",
    "print(list3)"
   ]
  },
  {
   "cell_type": "code",
   "execution_count": null,
   "id": "7085ad9c",
   "metadata": {},
   "outputs": [],
   "source": [
    "num1 = [1,2,3]\n",
    "num2 = num1 + [4, 5, 6, [7, 8]]\n",
    "print (num2)"
   ]
  },
  {
   "cell_type": "markdown",
   "id": "75f6b199",
   "metadata": {},
   "source": [
    "#### b. Replicating Lists"
   ]
  },
  {
   "cell_type": "code",
   "execution_count": null,
   "id": "d4208107",
   "metadata": {},
   "outputs": [],
   "source": [
    "# use list * n syntax to create large lists by repeating the list n times\n",
    "name = ['Arif', 'Hadeed', 'Mujahid']\n",
    "a = name * 3\n",
    "print(a)"
   ]
  },
  {
   "cell_type": "code",
   "execution_count": null,
   "id": "f1dd57af",
   "metadata": {},
   "outputs": [],
   "source": [
    "#list of 100 A's\n",
    "buf = ['A']\n",
    "newbuf = buf * 100\n",
    "print(newbuf)"
   ]
  },
  {
   "cell_type": "markdown",
   "id": "0557d8ff",
   "metadata": {},
   "source": [
    "### 6. Modifying/Adding elements to a list\n",
    "- Lists are dynamic, as we write our Python program, we can actually make changes to our already created list, whithout having to go for compiling it again. \n",
    "- If we have to add certain elements to an already created list, the original list gorws dynamically without the need of compiling/running the program again (as in case of heap memory in C/C++)"
   ]
  },
  {
   "cell_type": "markdown",
   "id": "b533ec2b",
   "metadata": {},
   "source": [
    "#### a. Modifying/Adding elements to a list using [ ] operator"
   ]
  },
  {
   "cell_type": "code",
   "execution_count": null,
   "id": "9a5ac824",
   "metadata": {},
   "outputs": [],
   "source": [
    "mylist = ['data science', 'machine learning', 2, 5, 7]\n",
    "# Let us change the second element of this list\n",
    "mylist[1] = 'big data'\n",
    "mylist"
   ]
  },
  {
   "cell_type": "code",
   "execution_count": null,
   "id": "b5f68e63",
   "metadata": {},
   "outputs": [],
   "source": [
    "# We can use the slice index to modify multiple list elements in one go\n",
    "mylist = ['data science', 'machine learning', 2, 5, 7]\n",
    "mylist[0:2] = ['english', 'urdu'] # Note we are replacing two elements with two elements\n",
    "mylist"
   ]
  },
  {
   "cell_type": "code",
   "execution_count": null,
   "id": "3355ee53",
   "metadata": {},
   "outputs": [],
   "source": [
    "# We can replace more number of elements with lesser number of elements in a list\n",
    "mylist = ['data science', 'machine learning', 2, 5, 7]\n",
    "mylist[0:2] = ['BIG DATA'] # Note we are replacing two elements with one element\n",
    "mylist"
   ]
  },
  {
   "cell_type": "code",
   "execution_count": null,
   "id": "b7086b8e",
   "metadata": {},
   "outputs": [],
   "source": [
    "# We can replace more number of elements with lesser number of elements in a list\n",
    "mylist = ['data science', 'machine learning', 2, 5, 7]\n",
    "mylist[0] = ['math', 'stat'] # Note we are replacing one element with two elements\n",
    "mylist"
   ]
  },
  {
   "cell_type": "markdown",
   "id": "d5463e15",
   "metadata": {},
   "source": [
    "- Note the elements have been added, but as a sub-list. The first element 'data science' is replaced by a sub-list having two elements 'math' and 'stat'\n",
    "- If you want the elements to be individually placed in the list do as follows:"
   ]
  },
  {
   "cell_type": "code",
   "execution_count": null,
   "id": "3059975f",
   "metadata": {},
   "outputs": [],
   "source": [
    "mylist = ['data science', 'machine learning', 2, 5, 7]\n",
    "mylist[0:1] = ['math', 'stat'] # Note we using a slice instead of single index, although it means just zero\n",
    "mylist"
   ]
  },
  {
   "cell_type": "markdown",
   "id": "2d39a79a",
   "metadata": {},
   "source": [
    "#### b. Adding elements to a list using append(value) method\n",
    "- append(value) method is used when you want to add a single element at the end of the list\n",
    "- append(value) is passed one argument which is the element to be inserted and returns none/void"
   ]
  },
  {
   "cell_type": "code",
   "execution_count": null,
   "id": "d35792db",
   "metadata": {},
   "outputs": [],
   "source": [
    "list1 = [2, 4, 6, 8]\n",
    "list1.append(4.631)\n",
    "list1.append('hello')\n",
    "list1"
   ]
  },
  {
   "cell_type": "code",
   "execution_count": null,
   "id": "ca6ca4be",
   "metadata": {},
   "outputs": [],
   "source": [
    "# You cannot add multiple elements using append\n",
    "# If you try it will actually add those elements as a sub-list\n",
    "list1 = [2, 4, 6, 8]\n",
    "list1.append([4.631, 'hello'])\n",
    "list1"
   ]
  },
  {
   "cell_type": "markdown",
   "id": "9d44e1ab",
   "metadata": {},
   "source": [
    "#### c. Adding elements to a list using extend(sublist) method\n",
    "- extend(sublist) method is used when you want to add multiple elements at the end of the list\n",
    "- extend(sublist) is passed a list to be added at the end and returns none/void"
   ]
  },
  {
   "cell_type": "code",
   "execution_count": null,
   "id": "980f7c99",
   "metadata": {},
   "outputs": [],
   "source": [
    "list1 = [2, 4, 6, 8]\n",
    "list1.extend([4.631, 'hello'])\n",
    "list1"
   ]
  },
  {
   "cell_type": "code",
   "execution_count": null,
   "id": "1bdeaa24",
   "metadata": {},
   "outputs": [],
   "source": [
    "# another example of extend()\n",
    "fruits = ['apple', 'banana', 'cherry']\n",
    "vegs = ['potato', 'tomato', 'radish']\n",
    "fruits.extend(vegs)\n",
    "fruits"
   ]
  },
  {
   "cell_type": "markdown",
   "id": "971f9541",
   "metadata": {},
   "source": [
    "#### d. Adding elements to a list using insert(index, value) method\n",
    "- insert(index, value) method is used when you want to add an element at a specific location in the list\n",
    "- insert(index, value) is passed index and value and returns none/void"
   ]
  },
  {
   "cell_type": "code",
   "execution_count": null,
   "id": "4ca664fe",
   "metadata": {},
   "outputs": [],
   "source": [
    "myfamily = [\"Farooq\", 'Rauf', 'Hadeed']\n",
    "print(\"\\nOriginal family list: \", myfamily)\n",
    "myfamily.insert(2,'Arif')\n",
    "print(\"After insert: \", myfamily)"
   ]
  },
  {
   "cell_type": "code",
   "execution_count": null,
   "id": "7f06cee2",
   "metadata": {},
   "outputs": [],
   "source": [
    "# you can insert a sub-list\n",
    "myfamily = [\"Farooq\", 'Rauf', 'Arif']\n",
    "myfamily.insert(2,['Maaz','Mohid'])\n",
    "myfamily"
   ]
  },
  {
   "cell_type": "markdown",
   "id": "ae40dd9e",
   "metadata": {},
   "source": [
    "### 7. Removing elements from a list using pop() and remove() methods\n",
    "- Lists are dynamic, as we write our Python program, we can actually make changes to our already created list, whithout having to go for compiling it again. \n",
    "- If we have to remove certain elements from an already created list, the original list shrinks dynamically without the need of compiling/running the program again (as in case of heap memory in C/C++)"
   ]
  },
  {
   "cell_type": "markdown",
   "id": "237bc34d",
   "metadata": {},
   "source": [
    "#### a. Removing element from a list using pop(index) method"
   ]
  },
  {
   "cell_type": "code",
   "execution_count": 1,
   "id": "46064836",
   "metadata": {},
   "outputs": [
    {
     "name": "stdout",
     "output_type": "stream",
     "text": [
      "Original list:  ['learning', 'is', 'fun', 'with', 'arif', 'butt']\n",
      "\n",
      "After pop():  ['learning', 'is', 'fun', 'with', 'arif']\n",
      "Element popped is:  butt\n",
      "\n",
      "After pop(2):  ['learning', 'is', 'with', 'arif']\n",
      "Element popped is:  fun\n",
      "\n",
      "After pop(-2):  ['learning', 'is', 'arif']\n",
      "Element popped is:  with\n"
     ]
    }
   ],
   "source": [
    "# pop() method without any argument removes the last item (right most element) in the list and returns it\n",
    "# The pop(index) method if given an argument/index, will remove that item from list whose index is given and returns it\n",
    "list1 = ['learning', 'is', 'fun', 'with', 'arif', 'butt']\n",
    "print(\"Original list: \", list1)\n",
    "x  = list1.pop()\n",
    "print(\"\\nAfter pop(): \", list1)\n",
    "print(\"Element popped is: \", x)\n",
    "y = list1.pop(2)\n",
    "print(\"\\nAfter pop(2): \", list1)\n",
    "print(\"Element popped is: \", y)\n",
    "z = list1.pop(-2)\n",
    "print(\"\\nAfter pop(-2): \", list1)\n",
    "print(\"Element popped is: \", z)"
   ]
  },
  {
   "cell_type": "markdown",
   "id": "6942dee3",
   "metadata": {},
   "source": [
    "#### b. Removing element from a list using remove(val) method"
   ]
  },
  {
   "cell_type": "code",
   "execution_count": null,
   "id": "33f7704a",
   "metadata": {},
   "outputs": [],
   "source": [
    "# remove(value) method is used when you want to remove a specific element without returning it\n",
    "# remove(value) is passed exactly one argument, which is the value to be removed and returns none/void\n",
    "list2 = ['learning', 'is', 'fun', 'with', 'arif', 'butt']\n",
    "print(\"\\nOriginal list: \", list2)\n",
    "x = list2.remove('fun')\n",
    "print(\"After remove('fun'): \", list2)\n",
    "print(\"Return value of remove() is: \", x)"
   ]
  },
  {
   "cell_type": "markdown",
   "id": "ea9ea511",
   "metadata": {},
   "source": [
    "#### c. Using clear() method to remove all the list elements"
   ]
  },
  {
   "cell_type": "code",
   "execution_count": null,
   "id": "db592559",
   "metadata": {},
   "outputs": [],
   "source": [
    "#use the clear() method to empty a list\n",
    "list2 = ['learning', 'is', 'fun', 'with', 'arif', 'butt']\n",
    "list2.clear()\n",
    "print(\"\\nAfter clear() the list becomes empty: \", list2)"
   ]
  },
  {
   "cell_type": "markdown",
   "id": "2465dd24",
   "metadata": {},
   "source": [
    "#### d. Using del Keyword to delete one or more list items or delete the list entirely from memory"
   ]
  },
  {
   "cell_type": "code",
   "execution_count": null,
   "id": "a68c5550",
   "metadata": {},
   "outputs": [],
   "source": [
    "# use del keyword to delete one or more list items by using index or to delete the list entirely from memory\n",
    "list3 = [1,2,3,[53, 41], 8,9]\n",
    "print(\"\\nOriginal list\", list3)\n",
    "del list3[3]\n",
    "print(\"After del list1[3] the list becomes\", list3)"
   ]
  },
  {
   "cell_type": "code",
   "execution_count": null,
   "id": "e85aa8f0",
   "metadata": {},
   "outputs": [],
   "source": [
    "#to delete entire list\n",
    "mylist = ['learning', 'is', 'fun', 'with', 'arif', 'butt']\n",
    "del mylist\n",
    "#mylist"
   ]
  },
  {
   "cell_type": "markdown",
   "id": "0f4dd1c2",
   "metadata": {},
   "source": [
    "### 8. Converting string object to list and vice-versa (using type casting, split() and join())"
   ]
  },
  {
   "cell_type": "code",
   "execution_count": 1,
   "id": "98d157d3",
   "metadata": {},
   "outputs": [
    {
     "name": "stdout",
     "output_type": "stream",
     "text": [
      "<class 'str'>\n",
      "Original string:  Learning is fun and its type is:   <class 'str'>\n",
      "l1:  ['L', 'e', 'a', 'r', 'n', 'i', 'n', 'g', ' ', 'i', 's', ' ', 'f', 'u', 'n'] and its type is:   <class 'list'>\n"
     ]
    }
   ],
   "source": [
    "# convert a string into list using list()\n",
    "str1 = 'Learning is fun'    #this is a string\n",
    "print(type(str1))\n",
    "print(\"Original string: \", str1, \"and its type is:  \", type(str1))\n",
    "l1 = list(str1)\n",
    "print(\"l1: \", l1, \"and its type is:  \", type(l1))"
   ]
  },
  {
   "cell_type": "code",
   "execution_count": null,
   "id": "a220f31c",
   "metadata": {},
   "outputs": [],
   "source": [
    "# split() method is used to tokenize a string based on some delimiter, which can be stored in a list\n",
    "# returns a list having tokens of the string based on spaces if no argument is passed\n",
    "str1 = 'Learning is fun'    #this is a string\n",
    "list1 = str1.split(' ')\n",
    "print(\"list1=str1.split(' ')\", list1)\n",
    "list2 = str1.split('i')\n",
    "print(\"list2=str1.split('i')\", list2)\n",
    "print(type(list1))"
   ]
  },
  {
   "cell_type": "code",
   "execution_count": null,
   "id": "bca2e103",
   "metadata": {},
   "outputs": [],
   "source": [
    "#join is the reverse of split\n",
    "list1 = ['Hello', 'World']\n",
    "delimeter = ' '\n",
    "str2 = delimeter.join(list1)\n",
    "print(str2)\n",
    "print(type(str2))"
   ]
  },
  {
   "cell_type": "markdown",
   "id": "fbf88b2e",
   "metadata": {},
   "source": [
    "### 9. Misc List methods in Python"
   ]
  },
  {
   "cell_type": "code",
   "execution_count": null,
   "id": "dd1b54d4",
   "metadata": {},
   "outputs": [],
   "source": [
    "# Use the sort() method to sort list elements\n",
    "# sort() method is used to sort list elements, ofcourse it changes the list on which it is called and returns none/void\n",
    "list_num = [3, 8, 1, 6, 0, 8, 4]\n",
    "print(\"Original numbers list: \", list_num)\n",
    "list_num.sort()\n",
    "print(\"Sorted numbers list: \", list_num)\n",
    "\n",
    "list_names = [\"XYZ\", \"ABC\", \"MNO\", \"ARIF\"]\n",
    "print(\"\\nOriginal names list: \", list_names)\n",
    "list_names.sort()         \n",
    "print(\"Sorted names list: \", list_names)"
   ]
  },
  {
   "cell_type": "code",
   "execution_count": null,
   "id": "cf81c8f2",
   "metadata": {},
   "outputs": [],
   "source": [
    "# reverse() method simply reverse the order of the list emements on which it is called and returns none/void\n",
    "list_num = [3, 8, 1, 6, 0]\n",
    "list_num.reverse()\n",
    "print(\"\\nlist_num.reverse(): \",list_num)\n",
    "\n",
    "list_names = [\"XYZ\", \"ABC\", \"MNO\", \"ARIF\"]\n",
    "list_names.reverse()\n",
    "print(\"list_names.reverse(): \",list_names)\n"
   ]
  },
  {
   "cell_type": "markdown",
   "id": "aa367cb0",
   "metadata": {},
   "source": [
    "### 10. Some Built-in functions that can be used on lists"
   ]
  },
  {
   "cell_type": "code",
   "execution_count": null,
   "id": "2f025aa2",
   "metadata": {},
   "outputs": [],
   "source": [
    "list_num = [3, 8, 1, 6, 0, 8, 4]\n",
    "\n",
    "print(\"length of list: \", len(list_num))\n",
    "print(\"max element in list: \", max(list_num))\n",
    "print(\"min element in list: \",min(list_num))\n",
    "print(\"Sum of element in list: \",sum(list_num))\n",
    "\n",
    "# Membership (in) operator\n",
    "rv1 = 9 in list_num\n",
    "print(rv1)\n",
    "\n",
    "rv2 = \"ARIF\" in list_names\n",
    "print(rv2)\n",
    "\n",
    "# Some other built-in methods that you can use on lists are sorted(), any(), all(), list()"
   ]
  },
  {
   "cell_type": "markdown",
   "id": "ff517f2e",
   "metadata": {},
   "source": [
    "### 11. Misc Concepts"
   ]
  },
  {
   "cell_type": "markdown",
   "id": "57a57000",
   "metadata": {},
   "source": [
    "#### a. Comparing objects and values"
   ]
  },
  {
   "cell_type": "code",
   "execution_count": null,
   "id": "5ba0e04b",
   "metadata": {},
   "outputs": [],
   "source": [
    "# in case of strings, both a and b refers to the same memory location containing string 'hello'\n",
    "a = 'hello'\n",
    "b = 'hello'\n",
    "id(a), id(b)"
   ]
  },
  {
   "cell_type": "code",
   "execution_count": null,
   "id": "3442794f",
   "metadata": {},
   "outputs": [],
   "source": [
    "# in case of list, both a and b refers to two different objects in the memory having same values\n",
    "x = ['hello']\n",
    "y = ['hello']\n",
    "id(x), id(y)"
   ]
  },
  {
   "cell_type": "code",
   "execution_count": null,
   "id": "c2fa8fbb",
   "metadata": {},
   "outputs": [],
   "source": [
    "x = ['hello']\n",
    "y = ['hello']\n",
    "print (x is y) # is operator is checking the memory address two lists\n",
    "print (x == y) # == operator is checking the contents of two lists"
   ]
  },
  {
   "cell_type": "markdown",
   "id": "0f4febac",
   "metadata": {},
   "source": [
    "#### b. Aliasing"
   ]
  },
  {
   "cell_type": "code",
   "execution_count": null,
   "id": "ad3e2c5d",
   "metadata": {},
   "outputs": [],
   "source": [
    "# l1 and l2 points to two different objects in memory having same contents\n",
    "# Draw diagram to understand\n",
    "l1 = ['a', 'b', 'c']\n",
    "l2 = ['a', 'b', 'c']\n",
    "# l3 is an alias to l1, i.e., both names refer to same object now.\n",
    "l3 = l1\n",
    "id(l1), id(l2), id(l3)\n"
   ]
  },
  {
   "cell_type": "code",
   "execution_count": null,
   "id": "7ed925fc",
   "metadata": {},
   "outputs": [],
   "source": [
    "print(l1 is l2)\n",
    "print(l1 is l3)"
   ]
  },
  {
   "cell_type": "code",
   "execution_count": null,
   "id": "d8248e80",
   "metadata": {},
   "outputs": [],
   "source": [
    "#making change in one will effect the other\n",
    "l1[2] = 'e'\n",
    "print(l1)\n",
    "print(l3)"
   ]
  },
  {
   "cell_type": "markdown",
   "id": "a578a6c3",
   "metadata": {},
   "source": [
    "### 12. Looping through list elements (More on loops in next lecture)"
   ]
  },
  {
   "cell_type": "code",
   "execution_count": 3,
   "id": "8c8c3eeb",
   "metadata": {},
   "outputs": [
    {
     "name": "stdout",
     "output_type": "stream",
     "text": [
      "Learning\n",
      "is\n",
      "fun\n",
      "with\n",
      "Arif Butt\n"
     ]
    }
   ],
   "source": [
    "# while loop iterates over the elements until a certain condition is met\n",
    "list1 = ['Learning', 'is', 'fun', 'with', 'Arif Butt']\n",
    "ctr = 0\n",
    "while(ctr < len(list1)):\n",
    "    print(list1[ctr])\n",
    "    ctr += 1"
   ]
  },
  {
   "cell_type": "code",
   "execution_count": 4,
   "id": "26086971",
   "metadata": {},
   "outputs": [
    {
     "name": "stdout",
     "output_type": "stream",
     "text": [
      "Learning\n",
      "is\n",
      "fun\n",
      "with\n",
      "Arif Butt\n"
     ]
    }
   ],
   "source": [
    "# for loop iterates over the elements specified number of times\n",
    "list1 = ['Learning', 'is', 'fun', 'with', 'Arif Butt']\n",
    "for x in list1:\n",
    "    print(x)\n",
    "    "
   ]
  }
 ],
 "metadata": {
  "kernelspec": {
   "display_name": "Python 3 (ipykernel)",
   "language": "python",
   "name": "python3"
  },
  "language_info": {
   "codemirror_mode": {
    "name": "ipython",
    "version": 3
   },
   "file_extension": ".py",
   "mimetype": "text/x-python",
   "name": "python",
   "nbconvert_exporter": "python",
   "pygments_lexer": "ipython3",
   "version": "3.8.10"
  }
 },
 "nbformat": 4,
 "nbformat_minor": 5
}
