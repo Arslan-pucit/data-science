{
 "cells": [
  {
   "cell_type": "markdown",
   "id": "afe9b471",
   "metadata": {},
   "source": [
    "---   \n",
    " <img align=\"left\" width=\"75\" height=\"75\"  src=\"https://upload.wikimedia.org/wikipedia/en/c/c8/University_of_the_Punjab_logo.png\"> \n",
    "\n",
    "<h1 align=\"center\">Department of Data Science</h1>\n",
    "<h1 align=\"center\">Course: Tools and Techniques for Data Science</h1>\n",
    "\n",
    "---\n",
    "<h3><div align=\"right\">Instructor: Muhammad Arif Butt, Ph.D.</div></h3>    "
   ]
  },
  {
   "cell_type": "markdown",
   "id": "4e6fa84e",
   "metadata": {},
   "source": [
    "<h1 align=\"center\">Lecture 2.13</h1>"
   ]
  },
  {
   "cell_type": "markdown",
   "id": "3f009d4a",
   "metadata": {},
   "source": [
    "## _builtinmodules.ipynb_\n",
    "#### [Check out the full list of Python Built-in modules](https://docs.python.org/3/py-modindex.html)"
   ]
  },
  {
   "cell_type": "markdown",
   "id": "6fb1e84f",
   "metadata": {},
   "source": [
    "## Learning agenda of this notebook\n",
    "Python has tons of Built-in modules that can be read from above link. In this notebook file, we will be discussing a short but important subset of it:\n",
    "1. **The Math Module:** Constants, Arithmetic, power, logarithmetic, trigonometric, hyperbolic functions\n",
    "2. **The Random Module:** random(), uniform(), randrange(), choice(), ...\n",
    "3. **The Time Module:** sleep(), time(), ctime()\n",
    "4. **The DateTime Module:**  - datetime(), today(), now(), ...\n",
    "5. **The Calendar Module:** calendar(), month(), isleap(), ...\n",
    "6. **The OS Module:**\n",
    "7. **The Threading Module:**\n",
    "8. **The URLLIB Module:**"
   ]
  },
  {
   "cell_type": "markdown",
   "id": "e7e56f88",
   "metadata": {},
   "source": [
    "## 1. Math Module in Python\n",
    "- Python math module contains rich set of functions, that allows you to perform mathematical tasks on numbers.\n",
    "- Since the math module comes packaged with the Python release, you don't have to install it separately. Using it is just a matter of importing the module"
   ]
  },
  {
   "cell_type": "code",
   "execution_count": null,
   "id": "32cd625d",
   "metadata": {},
   "outputs": [],
   "source": [
    "# import the math module\n",
    "import math\n",
    "\n",
    "# use dir() to get the list of complete functions in math module\n",
    "print(\"Existing functions in Math module: \\n\\n\", dir(math))"
   ]
  },
  {
   "cell_type": "code",
   "execution_count": null,
   "id": "e8a2071a",
   "metadata": {},
   "outputs": [],
   "source": [
    "# __name__ is a special variable that holds the name of the current module\n",
    "# Every program execution starts from main or first line of code with zero indentation\n",
    "__name__"
   ]
  },
  {
   "cell_type": "code",
   "execution_count": null,
   "id": "c07b836c",
   "metadata": {},
   "outputs": [],
   "source": [
    "import math\n",
    "__name__"
   ]
  },
  {
   "cell_type": "markdown",
   "id": "08897acc",
   "metadata": {},
   "source": [
    "### a. Constants of Math Module"
   ]
  },
  {
   "cell_type": "markdown",
   "id": "d28fdb10",
   "metadata": {},
   "source": [
    "- **PI:** \n",
    "    - PI is the ratio of a circle's circumference (c) to its diameter (d).\n",
    "    - It is an irrational number, so it can be approximated to the value 22/7 = 3.141592...\n",
    "    - You can access its value since it is defined as a constant inside the math module with the name of 'pi', and is given correct upto 15 digits after the decimal point"
   ]
  },
  {
   "cell_type": "code",
   "execution_count": null,
   "id": "471f1e31",
   "metadata": {},
   "outputs": [],
   "source": [
    "math.pi"
   ]
  },
  {
   "cell_type": "markdown",
   "id": "67d637ae",
   "metadata": {},
   "source": [
    "- **TAU:**\n",
    "    - TAU is the ratio of a circule's circumference (c) to its radius (r).\n",
    "    - This constant is equal to 2PI, or roughly 6.28\n",
    "    - Like PI, TAU is also an irrational number, and can be approximated to the value 2PI = 6.28318..."
   ]
  },
  {
   "cell_type": "code",
   "execution_count": null,
   "id": "028c43a3",
   "metadata": {},
   "outputs": [],
   "source": [
    "math.tau"
   ]
  },
  {
   "cell_type": "markdown",
   "id": "ada0eb14",
   "metadata": {},
   "source": [
    "- **Euler's Number:**\n",
    "    - Euler's number (e) is a constant that is the base of natural lgorithm.\n",
    "    - It is a mathematical function that is commonly used to calculate rates of growth of decay.\n",
    "    - As with PI and TAU, `e` is also an irrational number with approximated value of 2.718"
   ]
  },
  {
   "cell_type": "code",
   "execution_count": null,
   "id": "4444763e",
   "metadata": {},
   "outputs": [],
   "source": [
    "math.e"
   ]
  },
  {
   "cell_type": "markdown",
   "id": "f580b099",
   "metadata": {},
   "source": [
    "- **Infinity:**\n",
    "    - Infinity can't be defined by a number or a numeric value\n",
    "    - It is a mathematical concept representing something that is never ending or boundless.\n",
    "    - Infinity can go in either direction (positive as well as negative)"
   ]
  },
  {
   "cell_type": "code",
   "execution_count": null,
   "id": "4ea12edb",
   "metadata": {},
   "outputs": [],
   "source": [
    "# math.inf (added to Python 3.5) is a special data type equivalent to a float\n",
    "math.inf"
   ]
  },
  {
   "cell_type": "code",
   "execution_count": null,
   "id": "ba1e2b3d",
   "metadata": {},
   "outputs": [],
   "source": [
    "type(math.inf)"
   ]
  },
  {
   "cell_type": "code",
   "execution_count": null,
   "id": "5c66b5f7",
   "metadata": {},
   "outputs": [],
   "source": [
    "# Proof of concept: Positive infinity is greater than any highest known number\n",
    "math.inf > 99993245674888483883"
   ]
  },
  {
   "cell_type": "code",
   "execution_count": null,
   "id": "ae6a078d",
   "metadata": {},
   "outputs": [],
   "source": [
    "# Proof of concept: Negative infinity is smaller than any smallest known number\n",
    "-math.inf < -9187654309873211234"
   ]
  },
  {
   "cell_type": "code",
   "execution_count": null,
   "id": "679b347a",
   "metadata": {},
   "outputs": [],
   "source": [
    "# Proof of concept: Whatever number is added/subtracted to positive infinity, the result is positive infinity\n",
    "math.inf + 3249876543"
   ]
  },
  {
   "cell_type": "code",
   "execution_count": null,
   "id": "f51caa6b",
   "metadata": {},
   "outputs": [],
   "source": [
    "# Proof of concept: Whatever number is subtracted/added from negative infinity, the result is negative infinity\n",
    "-math.inf - 3249876543"
   ]
  },
  {
   "cell_type": "markdown",
   "id": "18f35283",
   "metadata": {},
   "source": [
    "- **NaN (Not a Number):**\n",
    "    - Not a Number is not a mathematical concept, rather is introduced in the field of computer science as a reference to values that are not numeric\n",
    "    - NaN value can be due to invalid inputs, or it can indicate that a variable that should be numerical has been corrupted by text characters or symbols"
   ]
  },
  {
   "cell_type": "code",
   "execution_count": null,
   "id": "ec1c16a6",
   "metadata": {},
   "outputs": [],
   "source": [
    "math.nan"
   ]
  },
  {
   "cell_type": "code",
   "execution_count": null,
   "id": "fe15017a",
   "metadata": {},
   "outputs": [],
   "source": [
    "type(math.nan)"
   ]
  },
  {
   "cell_type": "markdown",
   "id": "4df04cb5",
   "metadata": {},
   "source": [
    "### b. Arithmetic Functions of Math Module"
   ]
  },
  {
   "cell_type": "code",
   "execution_count": null,
   "id": "d684aab0",
   "metadata": {},
   "outputs": [],
   "source": [
    "#Example:The factorial(x) returns a positive integer, which is the product of that int and all int below it till 1\n",
    "# Factorial is not defined for negative values as well as for decimal values. Factorial of zero is 1\n",
    "import math\n",
    "math.factorial(5)"
   ]
  },
  {
   "cell_type": "code",
   "execution_count": null,
   "id": "36c8d064",
   "metadata": {},
   "outputs": [],
   "source": [
    "# Example: The ceil(x) function returns the smallest integral value greater than or equal to x.\n",
    "# rounds up the positive values and rounds down the negative values\n",
    "import math\n",
    "math.ceil(20.222), math.ceil(-11.85)"
   ]
  },
  {
   "cell_type": "code",
   "execution_count": null,
   "id": "c0ed10e4",
   "metadata": {},
   "outputs": [],
   "source": [
    "# Example: The floor(x) function returns the largest integral value less than or equal to x\n",
    "# rounds down the positive values and rounds up the negative values\n",
    "import math\n",
    "math.floor(20.99), math.floor(-13.1)"
   ]
  },
  {
   "cell_type": "code",
   "execution_count": null,
   "id": "a2292213",
   "metadata": {},
   "outputs": [],
   "source": [
    "# Example: The trunc(x) function returns the integral part of x, by chopping away the decimal part\n",
    "# You can think of trunc() function as the floor() function for positive values, i.e., rounds down\n",
    "# You can think of trunc() function as the ceil() function for negative values, i.e., rounds up\n",
    "import math\n",
    "math.trunc(20.99), math.trunc(-13.1)"
   ]
  },
  {
   "cell_type": "code",
   "execution_count": null,
   "id": "3e9712f0",
   "metadata": {},
   "outputs": [],
   "source": [
    "# Example: The perm(n,k) function (n>=k), returns the number of ways in which we can arrange from n objects \n",
    "# k different objects (sequence/order matters), i.e., 'ab' and 'ba' are two different arrangements\n",
    "# sequence/order matters\n",
    "# permutation = n!/(n-k)!\n",
    "import math\n",
    "math.perm(3,2)\n",
    "#All permutations made by with letters a, b, c by taking two at a time are six (ab, ba, ac, ca, bc, cb)"
   ]
  },
  {
   "cell_type": "code",
   "execution_count": null,
   "id": "f5175fbc",
   "metadata": {},
   "outputs": [],
   "source": [
    "# Example: The comb(n,k) function (n>=k), returns the number of ways in which we can arrange from n objects\n",
    "# k different objects (sequence/order DOESNOT matter), i.e., 'ab' and 'ba' are considered same\n",
    "# permutation = n!/k!(n-k)!\n",
    "import math\n",
    "math.comb(3,2)\n",
    "#All permutations made by with letters a, b, c by taking two at a time are three (ab, ac, bc)"
   ]
  },
  {
   "cell_type": "code",
   "execution_count": null,
   "id": "f82bb454",
   "metadata": {},
   "outputs": [],
   "source": [
    "# Example: The gcd(a,b) function returns greatest common divisor of two nonzero integers a and b \n",
    "# which is the greatest positive integer d such that d is a divisor of both a and b\n",
    "import math\n",
    "math.gcd(39,27), math.gcd(100,50)"
   ]
  },
  {
   "cell_type": "code",
   "execution_count": null,
   "id": "ed0a9e8b",
   "metadata": {},
   "outputs": [],
   "source": [
    "# Example: The lcm(a,b) function returns least common multiple of two nonzero integers a and b \n",
    "# which is the smallest positive integer d such that d is divisible by both a and b\n",
    "import math\n",
    "# math.lcm(20,30) # 60. Available on Python 3.9, I have currently Python3.8 :("
   ]
  },
  {
   "cell_type": "markdown",
   "id": "eeb467a3",
   "metadata": {},
   "source": [
    "### c. Power and Logarithmic Functions of Math Module"
   ]
  },
  {
   "cell_type": "code",
   "execution_count": null,
   "id": "755e5ecd",
   "metadata": {},
   "outputs": [],
   "source": [
    "# Example: The power(a,b) function returns a**b. Available in the math module as well as Python built-in function\n",
    "# The pow() function in the math module is computationally faster\n",
    "import math\n",
    "a = 2\n",
    "b = 5\n",
    "a**b , pow(a,b), math.pow(a,b)"
   ]
  },
  {
   "cell_type": "code",
   "execution_count": null,
   "id": "0c49c68a",
   "metadata": {},
   "outputs": [],
   "source": [
    "# Example: The sqrt(x) function returns a number y such that y² = x;\n",
    "import math\n",
    "math.sqrt(25)"
   ]
  },
  {
   "cell_type": "code",
   "execution_count": null,
   "id": "f3d224f8",
   "metadata": {},
   "outputs": [],
   "source": [
    "# Example: The exp(x) function returns e**x, where e is Euler's number (2.718281828459045)\n",
    "import math\n",
    "x = 3\n",
    "math.e** x, math.exp(x)"
   ]
  },
  {
   "cell_type": "code",
   "execution_count": null,
   "id": "d7e30bd9",
   "metadata": {},
   "outputs": [],
   "source": [
    "# Example: The log(x, base) function return the logarithm of x to the mentioned base. Default base is e\n",
    "# Logarithm is the inverse function to exponentiation \n",
    "\n",
    "math.log(8), math.log(8, 2), math.log(8, 10)\n"
   ]
  },
  {
   "cell_type": "markdown",
   "id": "53435ef8",
   "metadata": {},
   "source": [
    "### d. Trigonometric and Hyperbolic Functions of Math Module\n",
    "- The word trigonometry comes from the Greek words trigonon (“triangle”) and metron (“to measure”). Trigonometry is the branch of mathematics dealing with the relations of the sides and angles of triangles and with the relevant functions of any angles. There are six functions of an angle commonly used in trigonometry. Trigonometric functions are used in obtaining unknown angles and distances from known or measured angles in geometric figures.\n",
    "- In mathematics, hyperbolic functions are analogues of the ordinary trigonometric functions, but defined using the hyperbola rather than the circle. "
   ]
  },
  {
   "cell_type": "code",
   "execution_count": null,
   "id": "80c0753f",
   "metadata": {},
   "outputs": [],
   "source": [
    "# Examples of Trigonometric Functions: sin(), cos(), tan(), asin(), acos(), atan().\n",
    "# The angle given to these functions should be in radians. A circle has 360 degrees and 2pi radians\n",
    "import math\n",
    "math.sin(0), math.sin(3.14)"
   ]
  },
  {
   "cell_type": "code",
   "execution_count": null,
   "id": "603f86b5",
   "metadata": {},
   "outputs": [],
   "source": [
    "# Examples of Hyperbolic Functions: sinh(), cosh(), tanh(), asinh(), acosh(), atanh()\n",
    "import math\n",
    "math.sinh(3.14)"
   ]
  },
  {
   "cell_type": "markdown",
   "id": "43637d2d",
   "metadata": {},
   "source": [
    "## 2. Random Module\n",
    "- The Random module is  used to perform random actions such as generating random numbers, print random value for a list or string, etc."
   ]
  },
  {
   "cell_type": "code",
   "execution_count": null,
   "id": "70c6c490",
   "metadata": {},
   "outputs": [],
   "source": [
    "#import random module\n",
    "import random\n",
    "\n",
    "# use dir() to get the list of complete functions in random module\n",
    "print(\"Existing functions in Random module: \\n\\n\", dir(random))"
   ]
  },
  {
   "cell_type": "markdown",
   "id": "74f74cd2",
   "metadata": {},
   "source": [
    "### a. The `random.random()` Function\n",
    "- This function `random.random()` returns a float value in the interval [0,1), i.e., 0 is inclusive while 1 is not"
   ]
  },
  {
   "cell_type": "code",
   "execution_count": null,
   "id": "bc1b4c79",
   "metadata": {},
   "outputs": [],
   "source": [
    "rv = random.random()\n",
    "rv"
   ]
  },
  {
   "cell_type": "markdown",
   "id": "b96d3f21",
   "metadata": {},
   "source": [
    "### b. The `random.uniform()` Function\n",
    "- This function `random.uniform(a,b)` returns a random float value in the interval a and b "
   ]
  },
  {
   "cell_type": "code",
   "execution_count": null,
   "id": "3022eec8",
   "metadata": {},
   "outputs": [],
   "source": [
    "rv = random.uniform(0, 100)\n",
    "rv"
   ]
  },
  {
   "cell_type": "markdown",
   "id": "ee23fa99",
   "metadata": {},
   "source": [
    "### c. The `random.randrange()` Function\n",
    "- This function `random.randrange(start, stop=None, step=1)` chooses a random integer from `range(start, stop[,step])`. \n",
    "- This fixes the problem with `randint()` which includes the endpoint; in Python this is usually not what you want.\n",
    "\n"
   ]
  },
  {
   "cell_type": "code",
   "execution_count": null,
   "id": "2433e606",
   "metadata": {},
   "outputs": [],
   "source": [
    "list1 = list(range(-5, 5))\n",
    "rv1 = random.randrange(-5, 5)\n",
    "list1, rv1"
   ]
  },
  {
   "cell_type": "code",
   "execution_count": null,
   "id": "bd109dae",
   "metadata": {},
   "outputs": [],
   "source": [
    "list2 = list(range(-5, 5, 2))\n",
    "rv2 = random.randrange(-5, 5, 2)\n",
    "list2,  rv2"
   ]
  },
  {
   "cell_type": "markdown",
   "id": "9c923557",
   "metadata": {},
   "source": [
    "### d. The `random.choice()` Function\n",
    "- This function is passed a non-empty sequence and returns a random element from that sequence\n",
    "```\n",
    "random.choice(seq)\n",
    "```\n"
   ]
  },
  {
   "cell_type": "code",
   "execution_count": null,
   "id": "eabdee92",
   "metadata": {},
   "outputs": [],
   "source": [
    "import random\n",
    "help(random.choice)"
   ]
  },
  {
   "cell_type": "code",
   "execution_count": null,
   "id": "033d79e1",
   "metadata": {},
   "outputs": [],
   "source": [
    "import random\n",
    "\n",
    "# select a random element from a list\n",
    "list1 = ['Arif', 'Rauf', 'Mujahid']\n",
    "print(\"Random element from list: \", random.choice(list1))\n",
    "  \n",
    "# select a random character from the string\n",
    "string = \"HappyLearning\"\n",
    "print(\"Fetching Random item from string: \", random.choice(string))\n",
    "  \n",
    "# select a random item from the tuple\n",
    "tuple1 = (1, 2, 3, 4, 5)\n",
    "print(\"Fetching Random element from Tuple: \",random.choice(tuple1))"
   ]
  },
  {
   "cell_type": "markdown",
   "id": "1a058d60",
   "metadata": {},
   "source": [
    "## 3. Time Module\n",
    "- Python Time module is principally for working with UNIX time stamps; expressed as a floating point number taken to be seconds since the unix epoch (00:00:00 UTC on 1 January 1970)"
   ]
  },
  {
   "cell_type": "code",
   "execution_count": null,
   "id": "64a13665",
   "metadata": {},
   "outputs": [],
   "source": [
    "import time\n",
    "\n",
    "# use dir() to get the list of complete functions in time module\n",
    "print(\"Existing functions in time module: \\n\\n\", dir(time))"
   ]
  },
  {
   "cell_type": "markdown",
   "id": "5dee8a05",
   "metadata": {},
   "source": [
    "### a. The `time.sleep()` Function\n",
    "- The `time.sleep(seconds)` function delay execution for a given number of seconds. The argument may be\n",
    "    a floating point number for subsecond precision.\n"
   ]
  },
  {
   "cell_type": "code",
   "execution_count": null,
   "id": "efe8425d",
   "metadata": {},
   "outputs": [],
   "source": [
    "import time\n",
    "print(\"This is printed immediately.\")\n",
    "time.sleep(4)\n",
    "print(\"This is printed after 4 seconds.\")"
   ]
  },
  {
   "cell_type": "markdown",
   "id": "d693f19b",
   "metadata": {},
   "source": [
    "### b. The `time.time()` Function\n",
    "- The `time.time()` function return the current time in seconds since UNIX Epoch (00:00:00 UTC on 1 January 1970)"
   ]
  },
  {
   "cell_type": "code",
   "execution_count": null,
   "id": "d0fa8a98",
   "metadata": {},
   "outputs": [],
   "source": [
    "import time\n",
    "seconds = time.time()\n",
    "seconds"
   ]
  },
  {
   "cell_type": "markdown",
   "id": "caa7e02a",
   "metadata": {},
   "source": [
    "### c. The `time.ctime()` Function\n",
    "- The `time.ctime(seconds)` function takes seconds passed since epoch as argument and returns a string representing local time."
   ]
  },
  {
   "cell_type": "code",
   "execution_count": null,
   "id": "70d0bb12",
   "metadata": {},
   "outputs": [],
   "source": [
    "import time\n",
    "\n",
    "dtg1 = time.ctime(0)\n",
    "dtg1"
   ]
  },
  {
   "cell_type": "code",
   "execution_count": null,
   "id": "3e3bb56a",
   "metadata": {},
   "outputs": [],
   "source": [
    "import time\n",
    "seconds = time.time()\n",
    "\n",
    "dtg2 = time.ctime(seconds)\n",
    "dtg2"
   ]
  },
  {
   "cell_type": "code",
   "execution_count": null,
   "id": "6431482c",
   "metadata": {},
   "outputs": [],
   "source": [
    "#Get time using shell command\n",
    "!date"
   ]
  },
  {
   "cell_type": "markdown",
   "id": "74975f35",
   "metadata": {},
   "source": [
    "**Students to check out other functions like localtime(), asctime(), and strftime()**"
   ]
  },
  {
   "cell_type": "markdown",
   "id": "9445c4b5",
   "metadata": {},
   "source": [
    "## 4. Datetime Module\n",
    "- The `datetime` module can support many of the same operations as `time` module, but provides a more object oriented set of types, and also has some limited support for time zones.\n",
    "- I personally recommend using the time module instead of the datetime module to prevent ambiguity issues with daylight savings time (DST)."
   ]
  },
  {
   "cell_type": "code",
   "execution_count": null,
   "id": "121ebc36",
   "metadata": {
    "scrolled": true
   },
   "outputs": [],
   "source": [
    "# import datetime module\n",
    "import datetime\n",
    "\n",
    "# use dir() to get the list of complete functions in datetime module\n",
    "print(\"Existing functions in datetime module: \\n\\n\", dir(datetime))"
   ]
  },
  {
   "cell_type": "markdown",
   "id": "bf9edf41",
   "metadata": {},
   "source": [
    "### a. The `datetime.datetime()` Function\n",
    "- The `datetime.datetime()` is the constructor of datetime module, using this, we can construct any random date.\n",
    "```\n",
    "datetime(year, month, day[, hour[, minute[, second[, microsecond[,tzinfo]]]]])\n",
    "```\n",
    "- The year, month and day arguments are required. tzinfo may be None, or an instance of a tzinfo subclass. The remaining arguments may be ints."
   ]
  },
  {
   "cell_type": "code",
   "execution_count": null,
   "id": "929a2bc2",
   "metadata": {},
   "outputs": [],
   "source": [
    "import datetime\n",
    "dtg1 = datetime.datetime(2021,6,7)\n",
    "print(dtg1)"
   ]
  },
  {
   "cell_type": "code",
   "execution_count": null,
   "id": "dd1869b6",
   "metadata": {},
   "outputs": [],
   "source": [
    "print(datetime.datetime(2021,6,7,4,30,54,678))"
   ]
  },
  {
   "cell_type": "markdown",
   "id": "319fcdd5",
   "metadata": {},
   "source": [
    "### b. The `datetime.datetime.today()` Function\n",
    "- The `datetime.datetime.today()` is used to fetch the current date and time"
   ]
  },
  {
   "cell_type": "code",
   "execution_count": null,
   "id": "bcf8635c",
   "metadata": {},
   "outputs": [],
   "source": [
    "import datetime\n",
    "\n",
    "dtg1 = datetime.datetime.today()\n",
    "print(dtg1)\n"
   ]
  },
  {
   "cell_type": "markdown",
   "id": "e9652f73",
   "metadata": {},
   "source": [
    "### c. The `datetime.datetime.now()` Function\n",
    "- The `datetime.datetime.now()` is "
   ]
  },
  {
   "cell_type": "code",
   "execution_count": null,
   "id": "529f58cc",
   "metadata": {},
   "outputs": [],
   "source": [
    "import datetime\n",
    "\n",
    "ct = datetime.datetime.now()\n",
    "print(ct)\n",
    "print(\"Current month: \", ct.month)\n",
    "print(\"Current year: \", ct.year)\n",
    "print(\"Current hour: \", ct.hour)"
   ]
  },
  {
   "cell_type": "markdown",
   "id": "39d5f5d6",
   "metadata": {},
   "source": [
    "## 5. Calendar Module\n",
    "- This module allows you to output calendars like the Unix cal program, and provides additional useful functions related to the calendar. By default, these calendars have Monday as the first day of the week, and Sunday as the last"
   ]
  },
  {
   "cell_type": "code",
   "execution_count": null,
   "id": "00c616ba",
   "metadata": {},
   "outputs": [],
   "source": [
    "import calendar\n",
    "\n",
    "# use dir() to get the list of complete functions in calendar module\n",
    "print(\"Existing functions in calendar module: \\n\\n\", dir(calendar))"
   ]
  },
  {
   "cell_type": "code",
   "execution_count": null,
   "id": "5205f543",
   "metadata": {},
   "outputs": [],
   "source": [
    "# calendar() method to print the calendar of whole year\n",
    "cy = calendar.calendar(2021) \n",
    "print(cy)"
   ]
  },
  {
   "cell_type": "code",
   "execution_count": null,
   "id": "04121b7c",
   "metadata": {},
   "outputs": [],
   "source": [
    "import calendar\n",
    "# month() method is used to print calendar of specific month\n",
    "\n",
    "#print calendar of November 2021\n",
    "c = calendar.month(2021,11) \n",
    "print(c)"
   ]
  },
  {
   "cell_type": "code",
   "execution_count": null,
   "id": "48d3e53f",
   "metadata": {},
   "outputs": [],
   "source": [
    "import calendar\n",
    "# can check wether the year is leap year or not\n",
    "print(\"2021 is leap year: \", calendar.isleap(2021))\n",
    "\n",
    "print(\"2020 was be leap year: \", calendar.isleap(2020))"
   ]
  },
  {
   "cell_type": "markdown",
   "id": "b07f1899",
   "metadata": {},
   "source": [
    "## 6. The os Module\n",
    "- This module provides a portable way of using operating system dependent functionality and provides dozens of functions for interacting with the operating system"
   ]
  },
  {
   "cell_type": "code",
   "execution_count": null,
   "id": "f02e0918",
   "metadata": {},
   "outputs": [],
   "source": [
    "import os\n",
    "# to get the list of complete functions in OS module\n",
    "print(\"Existing functions in OS module: \\n\\n\", dir(os))\n"
   ]
  },
  {
   "cell_type": "markdown",
   "id": "6352299e",
   "metadata": {},
   "source": [
    "### a. The `os.getcwd()`  and `os.listdir()` Function\n",
    "- The `os.getcwd()` return a unicode string representing the current working directory.\n",
    "- The `os.listdir(path=None)` return a list containing the names of the files in the pwd in arbitrary order. Does not display '.' and '..' directories. An optional path can be specified\n"
   ]
  },
  {
   "cell_type": "code",
   "execution_count": null,
   "id": "70c024c7",
   "metadata": {},
   "outputs": [],
   "source": [
    "import os\n",
    "\n",
    "# getcwd() function is used to return the current working directory\n",
    "cwd = os.getcwd()\n",
    "print(\"Current working directory:\\n\", cwd )\n",
    "\n",
    "# lisdir() function is used to return the contents of current working directory\n",
    "mylist = os.listdir(os.getcwd())\n",
    "print(\"\\nContents of directory: \\n\", mylist )\n"
   ]
  },
  {
   "cell_type": "markdown",
   "id": "7b6c18e2",
   "metadata": {},
   "source": [
    "### b. The `os.chdir()` Function\n",
    "- The `os.chdir(path)` function is used to change the current working directory to the specified path."
   ]
  },
  {
   "cell_type": "code",
   "execution_count": null,
   "id": "967c1537",
   "metadata": {},
   "outputs": [],
   "source": [
    "import os\n",
    "\n",
    "print(\"Get current working directory:\\n\", os.getcwd())\n",
    "\n",
    "os.chdir('/Users/arif/')\n",
    "#os.chdir('C:\\\\Users\\Arif\\Desktop')\n",
    "\n",
    "print(\"Get current working directory again:\\n\", os.getcwd())"
   ]
  },
  {
   "cell_type": "markdown",
   "id": "881ddaca",
   "metadata": {},
   "source": [
    "### c. The   `os.mkdir()` and `os.rmdir()`Function\n",
    "- The `os.mkdir(path)` funcion creates a new directory\n",
    "- The `os.rmdir(path)` funcion removes a directory\n"
   ]
  },
  {
   "cell_type": "code",
   "execution_count": null,
   "id": "427a8ca3",
   "metadata": {},
   "outputs": [],
   "source": [
    "import os\n",
    "\n",
    "os.chdir('/Users/arif/Documents/0-DS-522/Demo-Files-Repo/Section-2 (Basics of Python Programming)/Lec-2.13 (Built-in Modules and Packages)')\n",
    "\n",
    "list1 = os.listdir(os.getcwd())\n",
    "print(\"Contents of directory: \", list1)\n",
    "\n",
    "os.mkdir(\"ANewDir\")\n",
    "list2 = os.listdir(os.getcwd())\n",
    "print(\"Contents of directory: \", list2)\n",
    "\n",
    "os.rmdir(\"ANewDir\")\n",
    "list3 = os.listdir(os.getcwd())\n",
    "print(\"Contents of directory: \", list3)\n",
    "\n"
   ]
  },
  {
   "cell_type": "code",
   "execution_count": null,
   "id": "5c2e9db6",
   "metadata": {},
   "outputs": [],
   "source": [
    "help(os.system)"
   ]
  },
  {
   "cell_type": "markdown",
   "id": "591547b1",
   "metadata": {},
   "source": [
    "### d. The   `os.system()` Function\n",
    "- The `os.system(command)` funcion is used to execute the command in a subshell"
   ]
  },
  {
   "cell_type": "code",
   "execution_count": null,
   "id": "64fd97a4",
   "metadata": {},
   "outputs": [],
   "source": [
    "import os\n",
    "\n",
    "os.system('ls -l    /Users/')\n",
    "\n",
    "print(\"\\n\")\n",
    "os.system('echo \"This is getting more and more interesting\"')\n",
    "\n",
    "print(\"\\n\")\n",
    "os.system('date')"
   ]
  },
  {
   "cell_type": "markdown",
   "id": "76b29ad9",
   "metadata": {},
   "source": [
    "**Students should explore other functions like `chmod()`, `chown()`, `fstat()`, `getpid()`, `getuid()`**"
   ]
  },
  {
   "cell_type": "markdown",
   "id": "ff03acde",
   "metadata": {},
   "source": [
    "## 6. MultiThreading in Python\n",
    "- A thread is an entity within a process that can be scheduled for execution. Also, it is the smallest unit of processing that can be performed in an OS (Operating System).\n",
    "- In simple words, a thread is a sequence of such instructions within a program that can be executed independently of other code. For simplicity, you can assume that a thread is simply a subset of a process!\n",
    "- A thread contains all this information in a Thread Control Block (TCB):\n",
    " - Thread Identifier: Unique id (TID) is assigned to every new thread\n",
    " - Stack pointer: Points to thread’s stack in the process. Stack contains the local variables under thread’s scope.\n",
    " - Program counter: a register which stores the address of the instruction currently being executed by thread.\n",
    " - Thread state: can be running, ready, waiting, start or done.\n",
    " - Thread’s register set: registers assigned to thread for computations.\n",
    " - Parent process Pointer: A pointer to the Process control block (PCB) of the process that the thread lives on."
   ]
  },
  {
   "cell_type": "code",
   "execution_count": null,
   "id": "0d4f1b76",
   "metadata": {},
   "outputs": [],
   "source": [
    "# Python program to illustrate the concept of threading\n",
    "\n",
    "import threading\n",
    "import os\n",
    "import time\n",
    "\n",
    "def display(num):\n",
    "    for ctr in num:\n",
    "        print(\"\\n\",os.getpid(), threading.current_thread().name, \":  \", ctr)\n",
    "        time.sleep(1)\n",
    "\n",
    "l1 = list(range(0,5))\n",
    "l2 = list(range(5,10))\n",
    "\n",
    "# creating thread\n",
    "t1 = threading.Thread(target=display, args=(l1,))\n",
    "t2 = threading.Thread(target=display, args=(l2,))\n",
    "\n",
    "# starting thread 1\n",
    "t1.start()\n",
    "# starting thread 2\n",
    "t2.start()\n",
    "\n",
    "# wait until thread 1 is completely executed\n",
    "t1.join()\n",
    "# wait until thread 2 is completely executed\n",
    "t2.join()\n",
    "\n",
    "# both threads completely executed\n",
    "print(\"Done!\")"
   ]
  },
  {
   "cell_type": "markdown",
   "id": "87567943",
   "metadata": {},
   "source": [
    "## 7. The urllib Module\n",
    "- The urllib package in Python 3 allows you access websites via your program.\n",
    "- The `urllib.request` is an extensible module inside urllib package for opening URLs using a variety of protocols\n",
    "- It is used to fetch URLs (Uniform Resource Locators). \n",
    "- It uses the urlopen function and is able to fetch URLs using a variety of different protocols."
   ]
  },
  {
   "cell_type": "markdown",
   "id": "c040707d",
   "metadata": {},
   "source": [
    ">**The `urllib.request.urlopen()`, may return a URLError saying `SSL: CERTIFICATE_VERIFY_FAILED`. To handle this error execute following code to create SSLContext**"
   ]
  },
  {
   "cell_type": "code",
   "execution_count": 1,
   "id": "29a5f041",
   "metadata": {},
   "outputs": [],
   "source": [
    "import ssl\n",
    "ssl._create_default_https_context = ssl._create_unverified_context"
   ]
  },
  {
   "cell_type": "markdown",
   "id": "db9802a0",
   "metadata": {},
   "source": [
    "### a. The   `urllib.request.urlopen()` Function\n",
    " \n",
    "```urllib.request.urlopen(url, data=None)```\n",
    "- Opens the URL url, which can be either a string or a Request object.\n",
    "- This function always returns a Request object which can work as a context manager and has methods such as `geturl()`, `info()`, and `getcode()`\n"
   ]
  },
  {
   "cell_type": "code",
   "execution_count": 2,
   "id": "ce82a96e",
   "metadata": {},
   "outputs": [
    {
     "name": "stdout",
     "output_type": "stream",
     "text": [
      "<http.client.HTTPResponse object at 0x7fa359823bb0>\n",
      "200\n"
     ]
    }
   ],
   "source": [
    "import urllib.request\n",
    "request_url = urllib.request.urlopen('http://www.arifbutt.me/')\n",
    "\n",
    "print(request_url)\n",
    "print(request_url.getcode())\n"
   ]
  },
  {
   "cell_type": "markdown",
   "id": "38075fc1",
   "metadata": {},
   "source": [
    "### b. The   `urllib.request.urlretrieve()` Function\n",
    "- The `urllib.request.urlretrieve(url, filename=None)` funcion is used to retrieve a URL into a temporary location on disk.\n",
    "- Let us download a public csv file from github gist"
   ]
  },
  {
   "cell_type": "code",
   "execution_count": 3,
   "id": "87491b77",
   "metadata": {},
   "outputs": [
    {
     "data": {
      "text/plain": [
       "('./downloads/message.txt', <http.client.HTTPMessage at 0x7fa359823f40>)"
      ]
     },
     "execution_count": 3,
     "metadata": {},
     "output_type": "execute_result"
    }
   ],
   "source": [
    "from urllib.request import urlretrieve\n",
    "\n",
    "#Get the raw data url from your github gist account\n",
    "myurl1 = 'https://gist.githubusercontent.com/arifpucit/bbcb0bba0b5c245585b375f273f17876/raw/28ddebe991c86f7001178896329005ea174f2bde/data1.csv'\n",
    "myurl2 = 'https://gist.githubusercontent.com/arifpucit/9115a56f68d7b2959a8c609d1d818665/raw/c0e48f54a09fc0484cb16d675b8cdf3e523da63e/message.txt'\n",
    "\n",
    "\n",
    "urlretrieve(myurl1, './downloads/data1.csv')\n",
    "urlretrieve(myurl2, './downloads/message.txt')\n"
   ]
  },
  {
   "cell_type": "code",
   "execution_count": 5,
   "id": "c2efa97e",
   "metadata": {},
   "outputs": [
    {
     "data": {
      "text/plain": [
       "['.DS_Store',\n",
       " 'data1.csv',\n",
       " 'loans2.txt',\n",
       " 'loans3.txt',\n",
       " 'loans1.txt',\n",
       " 'message.txt']"
      ]
     },
     "execution_count": 5,
     "metadata": {},
     "output_type": "execute_result"
    }
   ],
   "source": [
    "import os\n",
    "os.listdir('./downloads')"
   ]
  },
  {
   "cell_type": "code",
   "execution_count": 6,
   "id": "9dc8db8b",
   "metadata": {},
   "outputs": [
    {
     "name": "stdout",
     "output_type": "stream",
     "text": [
      "This is a message to all students. This is a github gist. The file is named as message.txt.\n",
      "All students should practice creating their own public and private gists.\n",
      "Happy Learning"
     ]
    },
    {
     "data": {
      "text/plain": [
       "0"
      ]
     },
     "execution_count": 6,
     "metadata": {},
     "output_type": "execute_result"
    }
   ],
   "source": [
    "os.system('cat ./downloads/message.txt')"
   ]
  },
  {
   "cell_type": "markdown",
   "id": "aa105473",
   "metadata": {},
   "source": [
    "## Check your Concepts\n",
    "\n",
    "Try answering the following questions to test your understanding of the topics covered in this notebook:\n",
    "\n",
    "1. What are modules in Python?\n",
    "2. What is a Python library?\n",
    "3. What is the Python Standard Library?\n",
    "4. What are some popular Python libraries?\n",
    "5. Where can you learn about the modules and functions available in the Python standard library?\n",
    "6. How do you install a third-party library?\n",
    "7. What is a module namespace? How is it useful?\n",
    "8. What problems would you run into if Python modules did not provide namespaces?\n",
    "9. How do you import a module?\n",
    "10. How do you use a function from an imported module? Illustrate with an example.\n",
    "11. What are some popular Python libraries?\n",
    "12. What is the purpose of the `os` module in Python?\n",
    "13. How do you identify the current working directory in a Jupyter notebook?\n",
    "14. How do you retrieve the list of files within a directory using Python?\n",
    "15. How do you create a directory using Python?\n",
    "16. How do you check whether a file or directory exists on the filesystem? Hint: `os.path.exists`.\n",
    "17. Where can you find the full list of functions contained in the `os` module?\n",
    "18. Give examples of 5 useful functions from the `os` and `os.path` modules.\n",
    "19. What are some popular Python libraries?\n"
   ]
  },
  {
   "cell_type": "code",
   "execution_count": null,
   "id": "117fab5e",
   "metadata": {},
   "outputs": [],
   "source": []
  }
 ],
 "metadata": {
  "kernelspec": {
   "display_name": "Python 3 (ipykernel)",
   "language": "python",
   "name": "python3"
  },
  "language_info": {
   "codemirror_mode": {
    "name": "ipython",
    "version": 3
   },
   "file_extension": ".py",
   "mimetype": "text/x-python",
   "name": "python",
   "nbconvert_exporter": "python",
   "pygments_lexer": "ipython3",
   "version": "3.8.10"
  }
 },
 "nbformat": 4,
 "nbformat_minor": 5
}
