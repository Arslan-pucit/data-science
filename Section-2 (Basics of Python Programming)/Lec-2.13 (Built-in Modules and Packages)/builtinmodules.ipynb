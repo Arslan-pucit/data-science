{
 "cells": [
  {
   "cell_type": "markdown",
   "id": "afe9b471",
   "metadata": {},
   "source": [
    "---   \n",
    " <img align=\"left\" width=\"75\" height=\"75\"  src=\"https://upload.wikimedia.org/wikipedia/en/c/c8/University_of_the_Punjab_logo.png\"> \n",
    "\n",
    "<h1 align=\"center\">Department of Data Science</h1>\n",
    "<h1 align=\"center\">Course: Tools and Techniques for Data Science</h1>\n",
    "\n",
    "---\n",
    "<h3><div align=\"right\">Instructor: Muhammad Arif Butt, Ph.D.</div></h3>    "
   ]
  },
  {
   "cell_type": "markdown",
   "id": "4e6fa84e",
   "metadata": {},
   "source": [
    "<h1 align=\"center\">Lecture 2.13</h1>"
   ]
  },
  {
   "cell_type": "markdown",
   "id": "3f009d4a",
   "metadata": {},
   "source": [
    "## _builtinmodules.ipynb_\n",
    "#### [Check out the full list of Python Built-in modules](https://docs.python.org/3/py-modindex.html)"
   ]
  },
  {
   "cell_type": "markdown",
   "id": "6fb1e84f",
   "metadata": {},
   "source": [
    "## Learning agenda of this notebook\n",
    "Python has tons of Built-in modules that can be read from above link. In this notebook file, we will be discussing a short but important subset of it:\n",
    "   - math\n",
    "   - random\n",
    "   - time\n",
    "   - datetime\n",
    "   - calendar\n",
    "   - os\n",
    "\n",
    "These files are in the Lib directory inside the location where you installed Python.Standard modules can be imported the same way as we import our user-defined modules."
   ]
  },
  {
   "cell_type": "markdown",
   "id": "e7e56f88",
   "metadata": {},
   "source": [
    "## 1. Math Module in Python\n",
    "- Python math module contains rich set of functions, that allows you to perform mathematical tasks on numbers.\n",
    "- Since the math module comes packaged with the Python release, you don't have to install it separately. Using it is just a matter of importing the module"
   ]
  },
  {
   "cell_type": "code",
   "execution_count": 1,
   "id": "32cd625d",
   "metadata": {},
   "outputs": [
    {
     "name": "stdout",
     "output_type": "stream",
     "text": [
      "Existing functions in Math module: \n",
      "\n",
      " ['__doc__', '__file__', '__loader__', '__name__', '__package__', '__spec__', 'acos', 'acosh', 'asin', 'asinh', 'atan', 'atan2', 'atanh', 'ceil', 'comb', 'copysign', 'cos', 'cosh', 'degrees', 'dist', 'e', 'erf', 'erfc', 'exp', 'expm1', 'fabs', 'factorial', 'floor', 'fmod', 'frexp', 'fsum', 'gamma', 'gcd', 'hypot', 'inf', 'isclose', 'isfinite', 'isinf', 'isnan', 'isqrt', 'ldexp', 'lgamma', 'log', 'log10', 'log1p', 'log2', 'modf', 'nan', 'perm', 'pi', 'pow', 'prod', 'radians', 'remainder', 'sin', 'sinh', 'sqrt', 'tan', 'tanh', 'tau', 'trunc']\n"
     ]
    }
   ],
   "source": [
    "# import the math module using alias\n",
    "import math\n",
    "\n",
    "# use dir() to get the list of complete functions in math module\n",
    "print(\"Existing functions in Math module: \\n\\n\", dir(math))"
   ]
  },
  {
   "cell_type": "markdown",
   "id": "08897acc",
   "metadata": {},
   "source": [
    "### a. Constants of Math Module"
   ]
  },
  {
   "cell_type": "markdown",
   "id": "d28fdb10",
   "metadata": {},
   "source": [
    "- PI: \n",
    "    - PI is the ratio of a circle's circumference (c) to its diameter (d).\n",
    "    - It is an irrational number, so it can be approximated to the value 22/7 = 3.141592...\n",
    "    - You can access its value since it is defined as a constant inside the math module with the name of 'pi', and is given correct upto 15 digits after the decimal point"
   ]
  },
  {
   "cell_type": "code",
   "execution_count": 17,
   "id": "471f1e31",
   "metadata": {},
   "outputs": [
    {
     "data": {
      "text/plain": [
       "3.141592653589793"
      ]
     },
     "execution_count": 17,
     "metadata": {},
     "output_type": "execute_result"
    }
   ],
   "source": [
    "math.pi"
   ]
  },
  {
   "cell_type": "markdown",
   "id": "67d637ae",
   "metadata": {},
   "source": [
    "- TAU\n",
    "    - TAU is the ratio of a circule's circumference (c) to its radius (r).\n",
    "    - This constant is equal to 2PI, or roughly 6.28\n",
    "    - Like PI, TAU is also an irrational number, and can be approximated to the value 2PI = 6.28318..."
   ]
  },
  {
   "cell_type": "code",
   "execution_count": 18,
   "id": "028c43a3",
   "metadata": {},
   "outputs": [
    {
     "data": {
      "text/plain": [
       "6.283185307179586"
      ]
     },
     "execution_count": 18,
     "metadata": {},
     "output_type": "execute_result"
    }
   ],
   "source": [
    "math.tau"
   ]
  },
  {
   "cell_type": "markdown",
   "id": "ada0eb14",
   "metadata": {},
   "source": [
    "- Euler's Number\n",
    "    - Euler's number (e) is a constant that is the base of natural lgorithm.\n",
    "    - It is a mathematical function that is commonly used to calculate rates of growth of decay.\n",
    "    - As with PI and TAU, is also an irrational number with approximated value of 2.718"
   ]
  },
  {
   "cell_type": "code",
   "execution_count": 19,
   "id": "4444763e",
   "metadata": {},
   "outputs": [
    {
     "data": {
      "text/plain": [
       "2.718281828459045"
      ]
     },
     "execution_count": 19,
     "metadata": {},
     "output_type": "execute_result"
    }
   ],
   "source": [
    "math.e"
   ]
  },
  {
   "cell_type": "markdown",
   "id": "f580b099",
   "metadata": {},
   "source": [
    "- Infinity\n",
    "    - Infinity can't be defined by a number or a numeric value\n",
    "    - It is a mathematical concept representing something that is never ending or boundless.\n",
    "    - Infinity can go in either direction (positive as well as negative)"
   ]
  },
  {
   "cell_type": "code",
   "execution_count": 25,
   "id": "4ea12edb",
   "metadata": {},
   "outputs": [
    {
     "data": {
      "text/plain": [
       "inf"
      ]
     },
     "execution_count": 25,
     "metadata": {},
     "output_type": "execute_result"
    }
   ],
   "source": [
    "# math.inf (added to Python 3.5) is a special data type equivalent too a float\n",
    "math.inf"
   ]
  },
  {
   "cell_type": "code",
   "execution_count": 26,
   "id": "ba1e2b3d",
   "metadata": {},
   "outputs": [
    {
     "data": {
      "text/plain": [
       "float"
      ]
     },
     "execution_count": 26,
     "metadata": {},
     "output_type": "execute_result"
    }
   ],
   "source": [
    "type(math.inf)"
   ]
  },
  {
   "cell_type": "code",
   "execution_count": 22,
   "id": "5c66b5f7",
   "metadata": {},
   "outputs": [
    {
     "data": {
      "text/plain": [
       "True"
      ]
     },
     "execution_count": 22,
     "metadata": {},
     "output_type": "execute_result"
    }
   ],
   "source": [
    "# Proof of concept: Positive infinity is greater than any highest known number\n",
    "math.inf > 99993245674888483883"
   ]
  },
  {
   "cell_type": "code",
   "execution_count": 23,
   "id": "ae6a078d",
   "metadata": {},
   "outputs": [
    {
     "data": {
      "text/plain": [
       "True"
      ]
     },
     "execution_count": 23,
     "metadata": {},
     "output_type": "execute_result"
    }
   ],
   "source": [
    "# Proof of concept: Negative infinity is smaller than any smallest known number\n",
    "-math.inf < -9187654309873211234"
   ]
  },
  {
   "cell_type": "code",
   "execution_count": 27,
   "id": "679b347a",
   "metadata": {},
   "outputs": [
    {
     "data": {
      "text/plain": [
       "inf"
      ]
     },
     "execution_count": 27,
     "metadata": {},
     "output_type": "execute_result"
    }
   ],
   "source": [
    "# Proof of concept: Whatever number is added/subtracted to positive infinity, the result is positive infinity\n",
    "math.inf + 3249876543"
   ]
  },
  {
   "cell_type": "code",
   "execution_count": 29,
   "id": "f51caa6b",
   "metadata": {},
   "outputs": [
    {
     "data": {
      "text/plain": [
       "-inf"
      ]
     },
     "execution_count": 29,
     "metadata": {},
     "output_type": "execute_result"
    }
   ],
   "source": [
    "# Proof of concept: Whatever number is subtracted/added from negative infinity, the result is negative infinity\n",
    "-math.inf - 3249876543"
   ]
  },
  {
   "cell_type": "markdown",
   "id": "18f35283",
   "metadata": {},
   "source": [
    "- NaN (Not a Number)\n",
    "    - Not a Number is not a mathematical concept, rather is introduced in the field of computer science as a reference to values that are not numeric\n",
    "    - NaN value can be due to invalid inputs, or it can indicate that a variable that should be numerical has been corrupted by text characters or symbols"
   ]
  },
  {
   "cell_type": "code",
   "execution_count": 30,
   "id": "ec1c16a6",
   "metadata": {},
   "outputs": [
    {
     "data": {
      "text/plain": [
       "nan"
      ]
     },
     "execution_count": 30,
     "metadata": {},
     "output_type": "execute_result"
    }
   ],
   "source": [
    "math.nan"
   ]
  },
  {
   "cell_type": "code",
   "execution_count": 31,
   "id": "fe15017a",
   "metadata": {},
   "outputs": [
    {
     "data": {
      "text/plain": [
       "float"
      ]
     },
     "execution_count": 31,
     "metadata": {},
     "output_type": "execute_result"
    }
   ],
   "source": [
    "type(math.nan)"
   ]
  },
  {
   "cell_type": "markdown",
   "id": "4df04cb5",
   "metadata": {},
   "source": [
    "### b. Arithmetic Functions of Math Module"
   ]
  },
  {
   "cell_type": "code",
   "execution_count": 41,
   "id": "d684aab0",
   "metadata": {},
   "outputs": [
    {
     "data": {
      "text/plain": [
       "120"
      ]
     },
     "execution_count": 41,
     "metadata": {},
     "output_type": "execute_result"
    }
   ],
   "source": [
    "#Example: The factorial(x) returns a positive integer, which is the product of that int and all int below it until 1\n",
    "# Factorial is not defined for negative values as well as for decimal values. Factorial of zero is 1\n",
    "import math\n",
    "math.factorial(5)"
   ]
  },
  {
   "cell_type": "code",
   "execution_count": 47,
   "id": "36c8d064",
   "metadata": {},
   "outputs": [
    {
     "data": {
      "text/plain": [
       "(21, -11)"
      ]
     },
     "execution_count": 47,
     "metadata": {},
     "output_type": "execute_result"
    }
   ],
   "source": [
    "# Example: The ceil(x) function returns the smallest integral value greater than or equal to x.\n",
    "# rounds up the positive values and rounds down the negative values\n",
    "import math\n",
    "math.ceil(20.222), math.ceil(-11.85)"
   ]
  },
  {
   "cell_type": "code",
   "execution_count": 48,
   "id": "c0ed10e4",
   "metadata": {},
   "outputs": [
    {
     "data": {
      "text/plain": [
       "(20, -14)"
      ]
     },
     "execution_count": 48,
     "metadata": {},
     "output_type": "execute_result"
    }
   ],
   "source": [
    "# Example: The floor(x) function returns the largest integral value less than or equal to x\n",
    "# rounds down the positive values and rounds up the negative values\n",
    "import math\n",
    "math.floor(20.99), math.floor(-13.1)"
   ]
  },
  {
   "cell_type": "code",
   "execution_count": 50,
   "id": "a2292213",
   "metadata": {},
   "outputs": [
    {
     "data": {
      "text/plain": [
       "(20, -13)"
      ]
     },
     "execution_count": 50,
     "metadata": {},
     "output_type": "execute_result"
    }
   ],
   "source": [
    "# Example: The trunc(x) function returns the integral part of x, by chopping away the decimal part\n",
    "# You can think of trunc() function as the floor() function for positive values, i.e., rounds down\n",
    "# You can think of trunc() function as the ceil() function for negative values, i.e., rounds up\n",
    "import math\n",
    "math.trunc(20.99), math.trunc(-13.1)"
   ]
  },
  {
   "cell_type": "code",
   "execution_count": 61,
   "id": "3e9712f0",
   "metadata": {},
   "outputs": [
    {
     "data": {
      "text/plain": [
       "6"
      ]
     },
     "execution_count": 61,
     "metadata": {},
     "output_type": "execute_result"
    }
   ],
   "source": [
    "# Example: The perm(n,k) function (n>=k), returns the number of ways in which we can arrange from n objects \n",
    "# k different objects (sequence/order matters), i.e., 'ab' and 'ba' are two different arrangements\n",
    "# sequence/order matters\n",
    "# permutation = n!/(n-k)!\n",
    "import math\n",
    "math.perm(3,2)"
   ]
  },
  {
   "cell_type": "code",
   "execution_count": 63,
   "id": "f5175fbc",
   "metadata": {},
   "outputs": [
    {
     "data": {
      "text/plain": [
       "3"
      ]
     },
     "execution_count": 63,
     "metadata": {},
     "output_type": "execute_result"
    }
   ],
   "source": [
    "# Example: The comb(n,k) function (n>=k), returns the number of ways in which we can arrange from n objects\n",
    "# k different objects (sequence/order DOESNOT matter), i.e., 'ab' and 'ba' are considered same\n",
    "# permutation = n!/k!(n-k)!\n",
    "import math\n",
    "math.comb(3,2)"
   ]
  },
  {
   "cell_type": "code",
   "execution_count": 72,
   "id": "f82bb454",
   "metadata": {},
   "outputs": [
    {
     "data": {
      "text/plain": [
       "(5, 1)"
      ]
     },
     "execution_count": 72,
     "metadata": {},
     "output_type": "execute_result"
    }
   ],
   "source": [
    "# Example: The gcd(a,b) function returns greatest common divisor of two nonzero integers a and b \n",
    "# which is the greatest positive integer d such that d is a divisor of both a and b\n",
    "import math\n",
    "math.gcd(20,25), math.gcd(27,50)"
   ]
  },
  {
   "cell_type": "code",
   "execution_count": 82,
   "id": "ed0a9e8b",
   "metadata": {},
   "outputs": [],
   "source": [
    "# Example: The lcm(a,b) function returns least common multiple of two nonzero integers a and b \n",
    "# which is the smallest positive integer d such that d is divisible by both a and b\n",
    "import math\n",
    "# math.lcm(20,30) # 60. Available on Python 3.9, I have currently Python3.8 :("
   ]
  },
  {
   "cell_type": "markdown",
   "id": "eeb467a3",
   "metadata": {},
   "source": [
    "### c. Power and Logarithmic Functions of Math Module"
   ]
  },
  {
   "cell_type": "code",
   "execution_count": 83,
   "id": "755e5ecd",
   "metadata": {},
   "outputs": [
    {
     "data": {
      "text/plain": [
       "(32.0, 32)"
      ]
     },
     "execution_count": 83,
     "metadata": {},
     "output_type": "execute_result"
    }
   ],
   "source": [
    "# Example: The power(a,b) function returns a**b. Available in the math module as well as Python built-in function\n",
    "# The pow() function in the math module is computationally faster\n",
    "import math\n",
    "math.pow(2,5), pow(2,5)"
   ]
  },
  {
   "cell_type": "code",
   "execution_count": 98,
   "id": "0c49c68a",
   "metadata": {},
   "outputs": [
    {
     "data": {
      "text/plain": [
       "5.0"
      ]
     },
     "execution_count": 98,
     "metadata": {},
     "output_type": "execute_result"
    }
   ],
   "source": [
    "# Example: The sqrt(x) function returns a number y such that y² = x;\n",
    "import math\n",
    "math.sqrt(25)"
   ]
  },
  {
   "cell_type": "code",
   "execution_count": 95,
   "id": "f3d224f8",
   "metadata": {},
   "outputs": [
    {
     "data": {
      "text/plain": [
       "20.085536923187668"
      ]
     },
     "execution_count": 95,
     "metadata": {},
     "output_type": "execute_result"
    }
   ],
   "source": [
    "# Example: The exp(x) function returns e**x, where e is Euler's number (2.718281828459045)\n",
    "import math\n",
    "math.exp(3)"
   ]
  },
  {
   "cell_type": "code",
   "execution_count": 96,
   "id": "d7e30bd9",
   "metadata": {},
   "outputs": [
    {
     "data": {
      "text/plain": [
       "(2.0794415416798357, 3.0, 0.9030899869919434)"
      ]
     },
     "execution_count": 96,
     "metadata": {},
     "output_type": "execute_result"
    }
   ],
   "source": [
    "# Example: The log(x, base) function return the logarithm of x to the mentioned base. Default base is e\n",
    "# Logarithm is the inverse function to exponentiation [The inverse of exponential function y = a**x    is   x = a**y]\n",
    "math.log(8), math.log(8,2), math.log(8,10)"
   ]
  },
  {
   "cell_type": "markdown",
   "id": "53435ef8",
   "metadata": {},
   "source": [
    "### d. Trigonometric and Hyperbolic Functions of Math Module\n",
    "- The word trigonometry comes from the Greek words trigonon (“triangle”) and metron (“to measure”). Trigonometry is the branch of mathematics dealing with the relations of the sides and angles of triangles and with the relevant functions of any angles. There are six functions of an angle commonly used in trigonometry. Trigonometric functions are used in obtaining unknown angles and distances from known or measured angles in geometric figures.\n",
    "- In mathematics, hyperbolic functions are analogues of the ordinary trigonometric functions, but defined using the hyperbola rather than the circle. "
   ]
  },
  {
   "cell_type": "code",
   "execution_count": 107,
   "id": "80c0753f",
   "metadata": {},
   "outputs": [
    {
     "data": {
      "text/plain": [
       "(0.0015926529164868282, 0.0015926535897931142)"
      ]
     },
     "execution_count": 107,
     "metadata": {},
     "output_type": "execute_result"
    }
   ],
   "source": [
    "# Examples of Trigonometric Functions: sin(), cos(), tan(), asin(), acos(), atan().\n",
    "# The angle given to these functions should be in radians. A circle has 360 degrees and 2pi radians\n",
    "import math\n",
    "math.sin(3.14)"
   ]
  },
  {
   "cell_type": "code",
   "execution_count": 108,
   "id": "603f86b5",
   "metadata": {},
   "outputs": [
    {
     "data": {
      "text/plain": [
       "11.53029203041011"
      ]
     },
     "execution_count": 108,
     "metadata": {},
     "output_type": "execute_result"
    }
   ],
   "source": [
    "# Examples of Hyperbolic Functions: sinh(), cosh(), tanh(), asinh(), acosh(), atanh()\n",
    "import math\n",
    "math.sinh(3.14)"
   ]
  },
  {
   "cell_type": "markdown",
   "id": "43637d2d",
   "metadata": {},
   "source": [
    "## 2. Random Module\n",
    "- The Random module is  used to perform random actions such as generating random numbers, print random value for a list or string, etc."
   ]
  },
  {
   "cell_type": "code",
   "execution_count": 110,
   "id": "70c6c490",
   "metadata": {},
   "outputs": [
    {
     "name": "stdout",
     "output_type": "stream",
     "text": [
      "Existing functions in Random module: \n",
      "\n",
      " ['BPF', 'LOG4', 'NV_MAGICCONST', 'RECIP_BPF', 'Random', 'SG_MAGICCONST', 'SystemRandom', 'TWOPI', '_Sequence', '_Set', '__all__', '__builtins__', '__cached__', '__doc__', '__file__', '__loader__', '__name__', '__package__', '__spec__', '_accumulate', '_acos', '_bisect', '_ceil', '_cos', '_e', '_exp', '_inst', '_log', '_os', '_pi', '_random', '_repeat', '_sha512', '_sin', '_sqrt', '_test', '_test_generator', '_urandom', '_warn', 'betavariate', 'choice', 'choices', 'expovariate', 'gammavariate', 'gauss', 'getrandbits', 'getstate', 'lognormvariate', 'normalvariate', 'paretovariate', 'randint', 'random', 'randrange', 'sample', 'seed', 'setstate', 'shuffle', 'triangular', 'uniform', 'vonmisesvariate', 'weibullvariate']\n"
     ]
    }
   ],
   "source": [
    "#import random module\n",
    "import random\n",
    "\n",
    "# use dir() to get the list of complete functions in random module\n",
    "print(\"Existing functions in Random module: \\n\\n\", dir(random))"
   ]
  },
  {
   "cell_type": "code",
   "execution_count": 113,
   "id": "033d79e1",
   "metadata": {},
   "outputs": [
    {
     "name": "stdout",
     "output_type": "stream",
     "text": [
      "Random element from list:  Arif\n",
      "Fetching Random item from string:  i\n",
      "Fetching Random element from Tuple:  3\n"
     ]
    }
   ],
   "source": [
    "# Example: The choice(x) function is used to select a random element from a non-empty sequence.\n",
    "\n",
    "import random\n",
    "\n",
    "# select a random element from a list\n",
    "list1 = ['Arif', 'Rauf', 'Mujahid']\n",
    "print(\"Random element from list: \", random.choice(list1))\n",
    "  \n",
    "# select a random character from the string\n",
    "string = \"HappyLearning\"\n",
    "print(\"Fetching Random item from string: \", random.choice(string))\n",
    "  \n",
    "# select a random item from the tuple\n",
    "tuple1 = (1, 2, 3, 4, 5)\n",
    "print(\"Fetching Random element from Tuple: \",random.choice(tuple1))"
   ]
  },
  {
   "cell_type": "code",
   "execution_count": 119,
   "id": "e4c876b4",
   "metadata": {},
   "outputs": [
    {
     "name": "stdout",
     "output_type": "stream",
     "text": [
      "Random float number:  0.39284439715562547\n",
      "Random float number from 0 to 5:  3.3328627378759004\n",
      "Random integer number from -5 to +5:  -3\n",
      "Five Random integers from 10 to 50:  [17, 23, 10, 42, 21]\n"
     ]
    }
   ],
   "source": [
    "# Example: random(), uniform(x,y), randrange(x,y), sample(population, k)\n",
    "\n",
    "import random\n",
    "\n",
    "\n",
    "# The random() function returns a float value in the interval [0,1), i.e., 0 is inclusive while 1 is not\n",
    "print(\"Random float number: \", random.random()) \n",
    "\n",
    "# The uniform(a,b) function returns a float value in the interval a and b\n",
    "print(\"Random float number from 0 to 5: \", random.uniform(0, 5))\n",
    "\n",
    "# The randrange(a,b) function returns an integer vaue in the interval a and b\n",
    "print(\"Random integer number from -5 to +5: \", random.randrange(-5,5))\n",
    "\n",
    "#The sample(population, k) function returns k unique random elements from a population sequence or set (both inclusive)\n",
    "print(\"Five Random integers from 10 to 50: \", random.sample(range(10,50), 5))\n"
   ]
  },
  {
   "cell_type": "markdown",
   "id": "1a058d60",
   "metadata": {},
   "source": [
    "## 3. Time Module\n",
    "- The time module consists of all time related tasks that are required to perform various operations using time.\n",
    "- Time module begins recording time from the **epoch** that begins at **_00:00:00 1st jan 1970_**"
   ]
  },
  {
   "cell_type": "code",
   "execution_count": 120,
   "id": "64a13665",
   "metadata": {},
   "outputs": [
    {
     "name": "stdout",
     "output_type": "stream",
     "text": [
      "Existing functions in time module: \n",
      "\n",
      " ['_STRUCT_TM_ITEMS', '__doc__', '__loader__', '__name__', '__package__', '__spec__', 'altzone', 'asctime', 'ctime', 'daylight', 'get_clock_info', 'gmtime', 'localtime', 'mktime', 'monotonic', 'monotonic_ns', 'perf_counter', 'perf_counter_ns', 'process_time', 'process_time_ns', 'sleep', 'strftime', 'strptime', 'struct_time', 'time', 'time_ns', 'timezone', 'tzname', 'tzset']\n"
     ]
    }
   ],
   "source": [
    "#To use functions defined in the module, we need to import the module first\n",
    "import time\n",
    "\n",
    "# use dir() to get the list of complete functions in time module\n",
    "print(\"Existing functions in time module: \\n\\n\", dir(time))"
   ]
  },
  {
   "cell_type": "code",
   "execution_count": 121,
   "id": "efe8425d",
   "metadata": {},
   "outputs": [
    {
     "name": "stdout",
     "output_type": "stream",
     "text": [
      "This is printed immediately.\n",
      "This is printed after 4 seconds.\n"
     ]
    }
   ],
   "source": [
    "import time\n",
    "# The sleep() function suspends execution of the current thread for the given number of seconds\n",
    "print(\"This is printed immediately.\")\n",
    "time.sleep(4)\n",
    "print(\"This is printed after 4 seconds.\")"
   ]
  },
  {
   "cell_type": "code",
   "execution_count": 8,
   "id": "d0fa8a98",
   "metadata": {},
   "outputs": [
    {
     "name": "stdout",
     "output_type": "stream",
     "text": [
      "Number of seconds passed since epoch:  1633326394.14728\n"
     ]
    }
   ],
   "source": [
    "import time\n",
    "# time() function will return number of seconds passed since epoch\n",
    "seconds = time.time()\n",
    "print(\"Number of seconds passed since epoch: \", seconds) "
   ]
  },
  {
   "cell_type": "code",
   "execution_count": 123,
   "id": "70d0bb12",
   "metadata": {},
   "outputs": [
    {
     "name": "stdout",
     "output_type": "stream",
     "text": [
      "Current date & time:  Sat Oct 30 13:54:39 2021\n"
     ]
    }
   ],
   "source": [
    "import time\n",
    "#The ctime() function takes seconds passed since epoch as an argument and returns a string representing local time.\n",
    "seconds = time.time()\n",
    "print(\"Current date & time: \", time.ctime(seconds)) # passing seconds to ctime function"
   ]
  },
  {
   "cell_type": "markdown",
   "id": "685625da",
   "metadata": {},
   "source": [
    "### localtime() function:\n",
    "It returns local date and time in the form of struct_time class.\n",
    "struct_time class has nine atributes\n",
    "\n",
    "\n",
    "| **Directive**           | **Meaning**                                            |\n",
    "| ---                     | ---                                                    |\n",
    "|  **tm_year**            | Year                                                   |\n",
    "|  **tm_mon**             | month                                                  |  \n",
    "|  **tm_mday**            | Day of the month                                       |\n",
    "|  **tm_hour**            | Hour\t                                               |\n",
    "|  **tm_min**             | minute\t                                               |\n",
    "|  **tm_sec**             | Second                                                 |\n",
    "|  **tm_wday**            | Week day, Monday is 0                                  |\n",
    "|  **tm_yday**            | Day of the year (1-366)                                |\n",
    "|  **tm_isdst**           | Daylight saving time                                   |\n"
   ]
  },
  {
   "cell_type": "code",
   "execution_count": 125,
   "id": "510dcc3f",
   "metadata": {},
   "outputs": [
    {
     "name": "stdout",
     "output_type": "stream",
     "text": [
      "Attributes of struct_time class: \n",
      " time.struct_time(tm_year=2021, tm_mon=10, tm_mday=30, tm_hour=13, tm_min=55, tm_sec=22, tm_wday=5, tm_yday=303, tm_isdst=0)\n"
     ]
    }
   ],
   "source": [
    "import time\n",
    "# localtime() function returns local date and time in the form of struct_time class\n",
    "attributes = time.localtime()\n",
    "print(\"Attributes of struct_time class: \\n\", attributes)"
   ]
  },
  {
   "cell_type": "code",
   "execution_count": 126,
   "id": "f77d9a87",
   "metadata": {},
   "outputs": [
    {
     "name": "stdout",
     "output_type": "stream",
     "text": [
      "Current date & time in local format:  Sat Oct 30 13:55:38 2021\n"
     ]
    }
   ],
   "source": [
    "import time\n",
    "# asctime() is used to fetch the current data and time from struct_time and return in local format\n",
    "attributes = time.localtime()\n",
    "print(\"Current date & time in local format: \", time.asctime(attributes))"
   ]
  },
  {
   "cell_type": "code",
   "execution_count": 127,
   "id": "19bdc0f8",
   "metadata": {},
   "outputs": [
    {
     "name": "stdout",
     "output_type": "stream",
     "text": [
      "Date format mm/dd/yy, hr:min:sec :  10/30/2021, 13:55:55\n",
      "Date format dd-mm-yy:  30-10-2021.\n"
     ]
    }
   ],
   "source": [
    "import time\n",
    "#The strftime() function takes struct_time (or tuple corresponding to it) as an argument \n",
    "# and returns a string representing it based on the format code used.\n",
    "\n",
    "# for example we want to print date in month/date/year format\n",
    "\n",
    "y = time.strftime(\"%m/%d/%Y, %H:%M:%S\")\n",
    "print(\"Date format mm/dd/yy, hr:min:sec : \", y)\n",
    "\n",
    "# Other format\n",
    "print(\"Date format dd-mm-yy: \", time.strftime(\"%d-%m-%Y.\"))"
   ]
  },
  {
   "cell_type": "markdown",
   "id": "9445c4b5",
   "metadata": {},
   "source": [
    "## 4. Datetime Module\n",
    "- Python time module is principally for working with UNIX time stamps; expressed as a floating point number taken to be seconds since the unix epoch. \n",
    "- The datetime module can support many of the same operations, but provides a more object oriented set of types, and also has some limited support for time zones.\n",
    "- I personally recommend using the time module instead of the datetime module to prevent ambiguity issues with daylight savings time (DST)."
   ]
  },
  {
   "cell_type": "code",
   "execution_count": 128,
   "id": "121ebc36",
   "metadata": {},
   "outputs": [
    {
     "name": "stdout",
     "output_type": "stream",
     "text": [
      "Existing functions in datetime module: \n",
      "\n",
      " ['MAXYEAR', 'MINYEAR', '__builtins__', '__cached__', '__doc__', '__file__', '__loader__', '__name__', '__package__', '__spec__', 'date', 'datetime', 'datetime_CAPI', 'sys', 'time', 'timedelta', 'timezone', 'tzinfo']\n"
     ]
    }
   ],
   "source": [
    "# import datetime module\n",
    "import datetime\n",
    "\n",
    "# use dir() to get the list of complete functions in datetime module\n",
    "print(\"Existing functions in datetime module: \\n\\n\", dir(datetime))"
   ]
  },
  {
   "cell_type": "code",
   "execution_count": 131,
   "id": "929a2bc2",
   "metadata": {},
   "outputs": [
    {
     "name": "stdout",
     "output_type": "stream",
     "text": [
      "2021-06-07 04:30:54.000678\n"
     ]
    }
   ],
   "source": [
    "import datetime\n",
    "# datetime() method is the constructor of datetime module, using this, we can construct any random date\n",
    "# we can pass arguments to this such as year,month,date,hour,min,sec, and milisecond\n",
    "\n",
    "print(datetime.datetime(2021,6,7,4,30,54,678))"
   ]
  },
  {
   "cell_type": "code",
   "execution_count": 134,
   "id": "529f58cc",
   "metadata": {},
   "outputs": [
    {
     "name": "stdout",
     "output_type": "stream",
     "text": [
      "Current datetime using today() method:  2021-10-30 13:59:45.854133\n",
      "Current datetime using now() method:  2021-10-30 13:59:45.854427\n",
      "Current month:  10\n",
      "Current year:  2021\n",
      "Current hour:  13\n"
     ]
    }
   ],
   "source": [
    "import datetime\n",
    "# today() and now() methods are used to fetch the current date and time\n",
    "print(\"Current datetime using today() method: \", datetime.datetime.today())\n",
    "\n",
    "print(\"Current datetime using now() method: \", datetime.datetime.now())\n",
    "\n",
    "# Just year, day, or hour can also be extracted \n",
    "\n",
    "ct = datetime.datetime.now()\n",
    "print(\"Current month: \", ct.month)\n",
    "print(\"Current year: \", ct.year)\n",
    "print(\"Current hour: \", ct.hour)"
   ]
  },
  {
   "cell_type": "markdown",
   "id": "39d5f5d6",
   "metadata": {},
   "source": [
    "## 5. Calendar Module\n",
    "- This module allows you to output calendars like the Unix cal program, and provides additional useful functions related to the calendar. By default, these calendars have Monday as the first day of the week, and Sunday as the last"
   ]
  },
  {
   "cell_type": "code",
   "execution_count": 135,
   "id": "00c616ba",
   "metadata": {},
   "outputs": [
    {
     "name": "stdout",
     "output_type": "stream",
     "text": [
      "Existing functions in calendar module: \n",
      "\n",
      " ['Calendar', 'EPOCH', 'FRIDAY', 'February', 'HTMLCalendar', 'IllegalMonthError', 'IllegalWeekdayError', 'January', 'LocaleHTMLCalendar', 'LocaleTextCalendar', 'MONDAY', 'SATURDAY', 'SUNDAY', 'THURSDAY', 'TUESDAY', 'TextCalendar', 'WEDNESDAY', '_EPOCH_ORD', '__all__', '__builtins__', '__cached__', '__doc__', '__file__', '__loader__', '__name__', '__package__', '__spec__', '_colwidth', '_locale', '_localized_day', '_localized_month', '_monthlen', '_nextmonth', '_prevmonth', '_spacing', 'c', 'calendar', 'datetime', 'day_abbr', 'day_name', 'different_locale', 'error', 'firstweekday', 'format', 'formatstring', 'isleap', 'leapdays', 'main', 'mdays', 'month', 'month_abbr', 'month_name', 'monthcalendar', 'monthrange', 'prcal', 'prmonth', 'prweek', 'repeat', 'setfirstweekday', 'sys', 'timegm', 'week', 'weekday', 'weekheader']\n"
     ]
    }
   ],
   "source": [
    "import calendar\n",
    "\n",
    "# use dir() to get the list of complete functions in calendar module\n",
    "print(\"Existing functions in calendar module: \\n\\n\", dir(calendar))"
   ]
  },
  {
   "cell_type": "code",
   "execution_count": 139,
   "id": "04121b7c",
   "metadata": {},
   "outputs": [
    {
     "name": "stdout",
     "output_type": "stream",
     "text": [
      "   November 2021\n",
      "Mo Tu We Th Fr Sa Su\n",
      " 1  2  3  4  5  6  7\n",
      " 8  9 10 11 12 13 14\n",
      "15 16 17 18 19 20 21\n",
      "22 23 24 25 26 27 28\n",
      "29 30\n",
      "\n"
     ]
    }
   ],
   "source": [
    "import calendar\n",
    "# month() method is used to print calendar of specific month\n",
    "\n",
    "#print calendar of November 2021\n",
    "c = calendar.month(2021,11) \n",
    "print(c)"
   ]
  },
  {
   "cell_type": "code",
   "execution_count": 140,
   "id": "5205f543",
   "metadata": {},
   "outputs": [
    {
     "name": "stdout",
     "output_type": "stream",
     "text": [
      "                                  2021\n",
      "\n",
      "      January                   February                   March\n",
      "Mo Tu We Th Fr Sa Su      Mo Tu We Th Fr Sa Su      Mo Tu We Th Fr Sa Su\n",
      "             1  2  3       1  2  3  4  5  6  7       1  2  3  4  5  6  7\n",
      " 4  5  6  7  8  9 10       8  9 10 11 12 13 14       8  9 10 11 12 13 14\n",
      "11 12 13 14 15 16 17      15 16 17 18 19 20 21      15 16 17 18 19 20 21\n",
      "18 19 20 21 22 23 24      22 23 24 25 26 27 28      22 23 24 25 26 27 28\n",
      "25 26 27 28 29 30 31                                29 30 31\n",
      "\n",
      "       April                      May                       June\n",
      "Mo Tu We Th Fr Sa Su      Mo Tu We Th Fr Sa Su      Mo Tu We Th Fr Sa Su\n",
      "          1  2  3  4                      1  2          1  2  3  4  5  6\n",
      " 5  6  7  8  9 10 11       3  4  5  6  7  8  9       7  8  9 10 11 12 13\n",
      "12 13 14 15 16 17 18      10 11 12 13 14 15 16      14 15 16 17 18 19 20\n",
      "19 20 21 22 23 24 25      17 18 19 20 21 22 23      21 22 23 24 25 26 27\n",
      "26 27 28 29 30            24 25 26 27 28 29 30      28 29 30\n",
      "                          31\n",
      "\n",
      "        July                     August                  September\n",
      "Mo Tu We Th Fr Sa Su      Mo Tu We Th Fr Sa Su      Mo Tu We Th Fr Sa Su\n",
      "          1  2  3  4                         1             1  2  3  4  5\n",
      " 5  6  7  8  9 10 11       2  3  4  5  6  7  8       6  7  8  9 10 11 12\n",
      "12 13 14 15 16 17 18       9 10 11 12 13 14 15      13 14 15 16 17 18 19\n",
      "19 20 21 22 23 24 25      16 17 18 19 20 21 22      20 21 22 23 24 25 26\n",
      "26 27 28 29 30 31         23 24 25 26 27 28 29      27 28 29 30\n",
      "                          30 31\n",
      "\n",
      "      October                   November                  December\n",
      "Mo Tu We Th Fr Sa Su      Mo Tu We Th Fr Sa Su      Mo Tu We Th Fr Sa Su\n",
      "             1  2  3       1  2  3  4  5  6  7             1  2  3  4  5\n",
      " 4  5  6  7  8  9 10       8  9 10 11 12 13 14       6  7  8  9 10 11 12\n",
      "11 12 13 14 15 16 17      15 16 17 18 19 20 21      13 14 15 16 17 18 19\n",
      "18 19 20 21 22 23 24      22 23 24 25 26 27 28      20 21 22 23 24 25 26\n",
      "25 26 27 28 29 30 31      29 30                     27 28 29 30 31\n",
      "\n"
     ]
    }
   ],
   "source": [
    "# calendar() method to print the calendar of whole year\n",
    "cy = calendar.calendar(2021) \n",
    "print(cy)"
   ]
  },
  {
   "cell_type": "code",
   "execution_count": 141,
   "id": "48d3e53f",
   "metadata": {},
   "outputs": [
    {
     "name": "stdout",
     "output_type": "stream",
     "text": [
      "2021 is leap year:  False\n",
      "2020 was be leap year:  True\n"
     ]
    }
   ],
   "source": [
    "import calendar\n",
    "# can check wether the year is leap year or not\n",
    "print(\"2021 is leap year: \", calendar.isleap(2021))\n",
    "\n",
    "print(\"2020 was be leap year: \", calendar.isleap(2020))"
   ]
  },
  {
   "cell_type": "markdown",
   "id": "b07f1899",
   "metadata": {},
   "source": [
    "## 6. The os Module\n",
    "- This module provides a portable way of using operating system dependent functionality and provides dozens of functions for interacting with the operating system"
   ]
  },
  {
   "cell_type": "code",
   "execution_count": 142,
   "id": "f02e0918",
   "metadata": {},
   "outputs": [
    {
     "name": "stdout",
     "output_type": "stream",
     "text": [
      "Existing functions in OS module: \n",
      "\n",
      " ['CLD_CONTINUED', 'CLD_DUMPED', 'CLD_EXITED', 'CLD_TRAPPED', 'DirEntry', 'EX_CANTCREAT', 'EX_CONFIG', 'EX_DATAERR', 'EX_IOERR', 'EX_NOHOST', 'EX_NOINPUT', 'EX_NOPERM', 'EX_NOUSER', 'EX_OK', 'EX_OSERR', 'EX_OSFILE', 'EX_PROTOCOL', 'EX_SOFTWARE', 'EX_TEMPFAIL', 'EX_UNAVAILABLE', 'EX_USAGE', 'F_LOCK', 'F_OK', 'F_TEST', 'F_TLOCK', 'F_ULOCK', 'MutableMapping', 'NGROUPS_MAX', 'O_ACCMODE', 'O_APPEND', 'O_ASYNC', 'O_CLOEXEC', 'O_CREAT', 'O_DIRECTORY', 'O_DSYNC', 'O_EXCL', 'O_EXLOCK', 'O_NDELAY', 'O_NOCTTY', 'O_NOFOLLOW', 'O_NONBLOCK', 'O_RDONLY', 'O_RDWR', 'O_SHLOCK', 'O_SYNC', 'O_TRUNC', 'O_WRONLY', 'POSIX_SPAWN_CLOSE', 'POSIX_SPAWN_DUP2', 'POSIX_SPAWN_OPEN', 'PRIO_PGRP', 'PRIO_PROCESS', 'PRIO_USER', 'P_ALL', 'P_NOWAIT', 'P_NOWAITO', 'P_PGID', 'P_PID', 'P_WAIT', 'PathLike', 'RTLD_GLOBAL', 'RTLD_LAZY', 'RTLD_LOCAL', 'RTLD_NODELETE', 'RTLD_NOLOAD', 'RTLD_NOW', 'R_OK', 'SCHED_FIFO', 'SCHED_OTHER', 'SCHED_RR', 'SEEK_CUR', 'SEEK_END', 'SEEK_SET', 'ST_NOSUID', 'ST_RDONLY', 'TMP_MAX', 'WCONTINUED', 'WCOREDUMP', 'WEXITED', 'WEXITSTATUS', 'WIFCONTINUED', 'WIFEXITED', 'WIFSIGNALED', 'WIFSTOPPED', 'WNOHANG', 'WNOWAIT', 'WSTOPPED', 'WSTOPSIG', 'WTERMSIG', 'WUNTRACED', 'W_OK', 'X_OK', '_Environ', '__all__', '__builtins__', '__cached__', '__doc__', '__file__', '__loader__', '__name__', '__package__', '__spec__', '_check_methods', '_execvpe', '_exists', '_exit', '_fspath', '_get_exports_list', '_putenv', '_spawnvef', '_unsetenv', '_wrap_close', 'abc', 'abort', 'access', 'altsep', 'chdir', 'chflags', 'chmod', 'chown', 'chroot', 'close', 'closerange', 'confstr', 'confstr_names', 'cpu_count', 'ctermid', 'curdir', 'defpath', 'device_encoding', 'devnull', 'dup', 'dup2', 'environ', 'environb', 'error', 'execl', 'execle', 'execlp', 'execlpe', 'execv', 'execve', 'execvp', 'execvpe', 'extsep', 'fchdir', 'fchmod', 'fchown', 'fdopen', 'fork', 'forkpty', 'fpathconf', 'fsdecode', 'fsencode', 'fspath', 'fstat', 'fstatvfs', 'fsync', 'ftruncate', 'get_blocking', 'get_exec_path', 'get_inheritable', 'get_terminal_size', 'getcwd', 'getcwdb', 'getegid', 'getenv', 'getenvb', 'geteuid', 'getgid', 'getgrouplist', 'getgroups', 'getloadavg', 'getlogin', 'getpgid', 'getpgrp', 'getpid', 'getppid', 'getpriority', 'getsid', 'getuid', 'initgroups', 'isatty', 'kill', 'killpg', 'lchflags', 'lchmod', 'lchown', 'linesep', 'link', 'listdir', 'lockf', 'lseek', 'lstat', 'major', 'makedev', 'makedirs', 'minor', 'mkdir', 'mkfifo', 'mknod', 'name', 'nice', 'open', 'openpty', 'pardir', 'path', 'pathconf', 'pathconf_names', 'pathsep', 'pipe', 'popen', 'posix_spawn', 'posix_spawnp', 'pread', 'putenv', 'pwrite', 'read', 'readlink', 'readv', 'register_at_fork', 'remove', 'removedirs', 'rename', 'renames', 'replace', 'rmdir', 'scandir', 'sched_get_priority_max', 'sched_get_priority_min', 'sched_yield', 'sendfile', 'sep', 'set_blocking', 'set_inheritable', 'setegid', 'seteuid', 'setgid', 'setgroups', 'setpgid', 'setpgrp', 'setpriority', 'setregid', 'setreuid', 'setsid', 'setuid', 'spawnl', 'spawnle', 'spawnlp', 'spawnlpe', 'spawnv', 'spawnve', 'spawnvp', 'spawnvpe', 'st', 'stat', 'stat_result', 'statvfs', 'statvfs_result', 'strerror', 'supports_bytes_environ', 'supports_dir_fd', 'supports_effective_ids', 'supports_fd', 'supports_follow_symlinks', 'symlink', 'sync', 'sys', 'sysconf', 'sysconf_names', 'system', 'tcgetpgrp', 'tcsetpgrp', 'terminal_size', 'times', 'times_result', 'truncate', 'ttyname', 'umask', 'uname', 'uname_result', 'unlink', 'unsetenv', 'urandom', 'utime', 'wait', 'wait3', 'wait4', 'waitpid', 'walk', 'write', 'writev']\n"
     ]
    }
   ],
   "source": [
    "import os\n",
    "# to get the list of complete functions in OS module\n",
    "print(\"Existing functions in OS module: \\n\\n\", dir(os))\n"
   ]
  },
  {
   "cell_type": "code",
   "execution_count": 143,
   "id": "70c024c7",
   "metadata": {},
   "outputs": [
    {
     "name": "stdout",
     "output_type": "stream",
     "text": [
      "Get current working directory: /Users/arif/Documents/DS-522/Demo-Files/Section-2 (Basics of Python Programming)/Lec-2.13 (Built-in Modules and Packages)\n",
      "Get current working directory again: /Users/arif/Documents/DS-522\n"
     ]
    }
   ],
   "source": [
    "import os\n",
    "# getcwd() function is used to return the current working directory\n",
    "cwd = os.getcwd()\n",
    "print(\"Get current working directory:\", cwd )\n",
    "\n",
    "# chdir() function is used to change the Current working directory\n",
    "os.chdir('/Users/arif/Documents/DS-522')\n",
    "#os.chdir('C:\\\\Users\\Arif\\Desktop')\n",
    "\n",
    "print(\"Get current working directory again:\", os.getcwd())"
   ]
  },
  {
   "cell_type": "code",
   "execution_count": 145,
   "id": "427a8ca3",
   "metadata": {},
   "outputs": [
    {
     "name": "stdout",
     "output_type": "stream",
     "text": [
      "Listing current working directory directories:\n"
     ]
    },
    {
     "data": {
      "text/plain": [
       "['Section-5 (Data Acquisition)',\n",
       " 'Section-7 (Overview of Machine Learning)',\n",
       " '.DS_Store',\n",
       " 'Section-8 (Overview of Deep Learning)',\n",
       " 'Code Basics (py-master)',\n",
       " 'Section-4 (Mathematics for Data Science)',\n",
       " 'Section-2 (Basics of Python Programming)',\n",
       " 'Section-3 (Python for Data Scientists)',\n",
       " 'Section-9 (Overview of Big Data)',\n",
       " 'Section-6 (Data Wrangling and EDA)']"
      ]
     },
     "execution_count": 145,
     "metadata": {},
     "output_type": "execute_result"
    }
   ],
   "source": [
    "import os\n",
    "# you can perform the listing of directories as well\n",
    "os.chdir('/Users/arif/Documents/DS-522/Demo-Files/')\n",
    "\n",
    "os.listdir(os.getcwd())"
   ]
  },
  {
   "cell_type": "code",
   "execution_count": 148,
   "id": "64fd97a4",
   "metadata": {},
   "outputs": [
    {
     "name": "stdout",
     "output_type": "stream",
     "text": [
      "total 0\n",
      "drwxrwxr-x@ 19 arif  staff  608 Aug 24 01:52 Code Basics (py-master)\n",
      "drwxr-xr-x  21 arif  staff  672 Oct 28 20:58 Section-2 (Basics of Python Programming)\n",
      "drwxr-xr-x  16 arif  staff  512 Oct 29 05:45 Section-3 (Python for Data Scientists)\n",
      "drwxr-xr-x   5 arif  staff  160 Oct 29 05:47 Section-4 (Mathematics for Data Science)\n",
      "drwxr-xr-x   7 arif  staff  224 Oct 17 17:04 Section-5 (Data Acquisition)\n",
      "drwxr-xr-x   9 arif  staff  288 Oct  2 18:23 Section-6 (Data Wrangling and EDA)\n",
      "drwxr-xr-x   4 arif  staff  128 Sep 25 13:29 Section-7 (Overview of Machine Learning)\n",
      "drwxr-xr-x   3 arif  staff   96 Sep 21 11:37 Section-8 (Overview of Deep Learning)\n",
      "drwxr-xr-x   3 arif  staff   96 Sep 21 11:37 Section-9 (Overview of Big Data)\n",
      "drwxr-xr-x   2 arif  staff   64 Oct 30 14:05 anewdir\n"
     ]
    },
    {
     "data": {
      "text/plain": [
       "0"
      ]
     },
     "execution_count": 148,
     "metadata": {},
     "output_type": "execute_result"
    }
   ],
   "source": [
    "import os\n",
    "# You can run any shell command using the system() function\n",
    "os.chdir('/Users/arif/Documents/DS-522/Demo-Files/')\n",
    "os.system('mkdir anewdir')\n",
    "os.system('ls -l    /Users/arif/Documents/DS-522/Demo-Files/')\n",
    "os.system('rmdir anewdir')\n"
   ]
  },
  {
   "cell_type": "code",
   "execution_count": null,
   "id": "0e284953",
   "metadata": {},
   "outputs": [],
   "source": []
  }
 ],
 "metadata": {
  "kernelspec": {
   "display_name": "Python 3 (ipykernel)",
   "language": "python",
   "name": "python3"
  },
  "language_info": {
   "codemirror_mode": {
    "name": "ipython",
    "version": 3
   },
   "file_extension": ".py",
   "mimetype": "text/x-python",
   "name": "python",
   "nbconvert_exporter": "python",
   "pygments_lexer": "ipython3",
   "version": "3.8.10"
  }
 },
 "nbformat": 4,
 "nbformat_minor": 5
}
