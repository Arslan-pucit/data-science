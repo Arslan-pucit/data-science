{
 "cells": [
  {
   "cell_type": "markdown",
   "id": "afe9b471",
   "metadata": {},
   "source": [
    "---   \n",
    " <img align=\"left\" width=\"75\" height=\"75\"  src=\"https://upload.wikimedia.org/wikipedia/en/c/c8/University_of_the_Punjab_logo.png\"> \n",
    "\n",
    "<h1 align=\"center\">Department of Data Science</h1>\n",
    "<h1 align=\"center\">Course: Tools and Techniques for Data Science</h1>\n",
    "\n",
    "---\n",
    "<h3><div align=\"right\">Instructor: Muhammad Arif Butt, Ph.D.</div></h3>    "
   ]
  },
  {
   "cell_type": "markdown",
   "id": "4e6fa84e",
   "metadata": {},
   "source": [
    "<h1 align=\"center\">Lecture 2.13</h1>"
   ]
  },
  {
   "cell_type": "markdown",
   "id": "3f009d4a",
   "metadata": {},
   "source": [
    "## _builtinmodules.ipynb_\n",
    "#### [Check out the full list of Python Built-in modules](https://docs.python.org/3/py-modindex.html)"
   ]
  },
  {
   "cell_type": "markdown",
   "id": "6fb1e84f",
   "metadata": {},
   "source": [
    "## Learning agenda of this notebook\n",
    "Python has tons of Built-in modules that can be read from above link. In this notebook file, we will be discussing a short but important subset of it:\n",
    "   - math\n",
    "   - random\n",
    "   - time\n",
    "   - datetime\n",
    "   - calendar\n",
    "   - os\n",
    "   - threading\n",
    "These files are in the Lib directory inside the location where you installed Python.Standard modules can be imported the same way as we import our user-defined modules."
   ]
  },
  {
   "cell_type": "markdown",
   "id": "e7e56f88",
   "metadata": {},
   "source": [
    "## 1. Math Module in Python\n",
    "- Python math module contains rich set of functions, that allows you to perform mathematical tasks on numbers.\n",
    "- Since the math module comes packaged with the Python release, you don't have to install it separately. Using it is just a matter of importing the module"
   ]
  },
  {
   "cell_type": "code",
   "execution_count": 4,
   "id": "32cd625d",
   "metadata": {},
   "outputs": [
    {
     "name": "stdout",
     "output_type": "stream",
     "text": [
      "Existing functions in Math module: \n",
      "\n",
      " ['__doc__', '__file__', '__loader__', '__name__', '__package__', '__spec__', 'acos', 'acosh', 'asin', 'asinh', 'atan', 'atan2', 'atanh', 'ceil', 'comb', 'copysign', 'cos', 'cosh', 'degrees', 'dist', 'e', 'erf', 'erfc', 'exp', 'expm1', 'fabs', 'factorial', 'floor', 'fmod', 'frexp', 'fsum', 'gamma', 'gcd', 'hypot', 'inf', 'isclose', 'isfinite', 'isinf', 'isnan', 'isqrt', 'ldexp', 'lgamma', 'log', 'log10', 'log1p', 'log2', 'modf', 'nan', 'perm', 'pi', 'pow', 'prod', 'radians', 'remainder', 'sin', 'sinh', 'sqrt', 'tan', 'tanh', 'tau', 'trunc']\n"
     ]
    }
   ],
   "source": [
    "# import the math module using alias\n",
    "import math\n",
    "\n",
    "# use dir() to get the list of complete functions in math module\n",
    "print(\"Existing functions in Math module: \\n\\n\", dir(math))"
   ]
  },
  {
   "cell_type": "code",
   "execution_count": 2,
   "id": "e8a2071a",
   "metadata": {},
   "outputs": [
    {
     "data": {
      "text/plain": [
       "'__main__'"
      ]
     },
     "execution_count": 2,
     "metadata": {},
     "output_type": "execute_result"
    }
   ],
   "source": [
    "# __name__ is a special variable that holds the name of the current module\n",
    "# Every program execution starts from main or first line of code with zero indentation\n",
    "__name__"
   ]
  },
  {
   "cell_type": "code",
   "execution_count": 3,
   "id": "c07b836c",
   "metadata": {},
   "outputs": [
    {
     "data": {
      "text/plain": [
       "'__main__'"
      ]
     },
     "execution_count": 3,
     "metadata": {},
     "output_type": "execute_result"
    }
   ],
   "source": [
    "import math\n",
    "__name__"
   ]
  },
  {
   "cell_type": "markdown",
   "id": "08897acc",
   "metadata": {},
   "source": [
    "### a. Constants of Math Module"
   ]
  },
  {
   "cell_type": "markdown",
   "id": "d28fdb10",
   "metadata": {},
   "source": [
    "- PI: \n",
    "    - PI is the ratio of a circle's circumference (c) to its diameter (d).\n",
    "    - It is an irrational number, so it can be approximated to the value 22/7 = 3.141592...\n",
    "    - You can access its value since it is defined as a constant inside the math module with the name of 'pi', and is given correct upto 15 digits after the decimal point"
   ]
  },
  {
   "cell_type": "code",
   "execution_count": null,
   "id": "471f1e31",
   "metadata": {},
   "outputs": [],
   "source": [
    "math.pi"
   ]
  },
  {
   "cell_type": "markdown",
   "id": "67d637ae",
   "metadata": {},
   "source": [
    "- TAU\n",
    "    - TAU is the ratio of a circule's circumference (c) to its radius (r).\n",
    "    - This constant is equal to 2PI, or roughly 6.28\n",
    "    - Like PI, TAU is also an irrational number, and can be approximated to the value 2PI = 6.28318..."
   ]
  },
  {
   "cell_type": "code",
   "execution_count": null,
   "id": "028c43a3",
   "metadata": {},
   "outputs": [],
   "source": [
    "math.tau"
   ]
  },
  {
   "cell_type": "markdown",
   "id": "ada0eb14",
   "metadata": {},
   "source": [
    "- Euler's Number\n",
    "    - Euler's number (e) is a constant that is the base of natural lgorithm.\n",
    "    - It is a mathematical function that is commonly used to calculate rates of growth of decay.\n",
    "    - As with PI and TAU, is also an irrational number with approximated value of 2.718"
   ]
  },
  {
   "cell_type": "code",
   "execution_count": null,
   "id": "4444763e",
   "metadata": {},
   "outputs": [],
   "source": [
    "math.e"
   ]
  },
  {
   "cell_type": "markdown",
   "id": "f580b099",
   "metadata": {},
   "source": [
    "- Infinity\n",
    "    - Infinity can't be defined by a number or a numeric value\n",
    "    - It is a mathematical concept representing something that is never ending or boundless.\n",
    "    - Infinity can go in either direction (positive as well as negative)"
   ]
  },
  {
   "cell_type": "code",
   "execution_count": null,
   "id": "4ea12edb",
   "metadata": {},
   "outputs": [],
   "source": [
    "# math.inf (added to Python 3.5) is a special data type equivalent too a float\n",
    "math.inf"
   ]
  },
  {
   "cell_type": "code",
   "execution_count": null,
   "id": "ba1e2b3d",
   "metadata": {},
   "outputs": [],
   "source": [
    "type(math.inf)"
   ]
  },
  {
   "cell_type": "code",
   "execution_count": null,
   "id": "5c66b5f7",
   "metadata": {},
   "outputs": [],
   "source": [
    "# Proof of concept: Positive infinity is greater than any highest known number\n",
    "math.inf > 99993245674888483883"
   ]
  },
  {
   "cell_type": "code",
   "execution_count": null,
   "id": "ae6a078d",
   "metadata": {},
   "outputs": [],
   "source": [
    "# Proof of concept: Negative infinity is smaller than any smallest known number\n",
    "-math.inf < -9187654309873211234"
   ]
  },
  {
   "cell_type": "code",
   "execution_count": null,
   "id": "679b347a",
   "metadata": {},
   "outputs": [],
   "source": [
    "# Proof of concept: Whatever number is added/subtracted to positive infinity, the result is positive infinity\n",
    "math.inf + 3249876543"
   ]
  },
  {
   "cell_type": "code",
   "execution_count": null,
   "id": "f51caa6b",
   "metadata": {},
   "outputs": [],
   "source": [
    "# Proof of concept: Whatever number is subtracted/added from negative infinity, the result is negative infinity\n",
    "-math.inf - 3249876543"
   ]
  },
  {
   "cell_type": "markdown",
   "id": "18f35283",
   "metadata": {},
   "source": [
    "- NaN (Not a Number)\n",
    "    - Not a Number is not a mathematical concept, rather is introduced in the field of computer science as a reference to values that are not numeric\n",
    "    - NaN value can be due to invalid inputs, or it can indicate that a variable that should be numerical has been corrupted by text characters or symbols"
   ]
  },
  {
   "cell_type": "code",
   "execution_count": null,
   "id": "ec1c16a6",
   "metadata": {},
   "outputs": [],
   "source": [
    "math.nan"
   ]
  },
  {
   "cell_type": "code",
   "execution_count": null,
   "id": "fe15017a",
   "metadata": {},
   "outputs": [],
   "source": [
    "type(math.nan)"
   ]
  },
  {
   "cell_type": "markdown",
   "id": "4df04cb5",
   "metadata": {},
   "source": [
    "### b. Arithmetic Functions of Math Module"
   ]
  },
  {
   "cell_type": "code",
   "execution_count": null,
   "id": "d684aab0",
   "metadata": {},
   "outputs": [],
   "source": [
    "#Example: The factorial(x) returns a positive integer, which is the product of that int and all int below it until 1\n",
    "# Factorial is not defined for negative values as well as for decimal values. Factorial of zero is 1\n",
    "import math\n",
    "math.factorial(5)"
   ]
  },
  {
   "cell_type": "code",
   "execution_count": null,
   "id": "36c8d064",
   "metadata": {},
   "outputs": [],
   "source": [
    "# Example: The ceil(x) function returns the smallest integral value greater than or equal to x.\n",
    "# rounds up the positive values and rounds down the negative values\n",
    "import math\n",
    "math.ceil(20.222), math.ceil(-11.85)"
   ]
  },
  {
   "cell_type": "code",
   "execution_count": null,
   "id": "c0ed10e4",
   "metadata": {},
   "outputs": [],
   "source": [
    "# Example: The floor(x) function returns the largest integral value less than or equal to x\n",
    "# rounds down the positive values and rounds up the negative values\n",
    "import math\n",
    "math.floor(20.99), math.floor(-13.1)"
   ]
  },
  {
   "cell_type": "code",
   "execution_count": null,
   "id": "a2292213",
   "metadata": {},
   "outputs": [],
   "source": [
    "# Example: The trunc(x) function returns the integral part of x, by chopping away the decimal part\n",
    "# You can think of trunc() function as the floor() function for positive values, i.e., rounds down\n",
    "# You can think of trunc() function as the ceil() function for negative values, i.e., rounds up\n",
    "import math\n",
    "math.trunc(20.99), math.trunc(-13.1)"
   ]
  },
  {
   "cell_type": "code",
   "execution_count": null,
   "id": "3e9712f0",
   "metadata": {},
   "outputs": [],
   "source": [
    "# Example: The perm(n,k) function (n>=k), returns the number of ways in which we can arrange from n objects \n",
    "# k different objects (sequence/order matters), i.e., 'ab' and 'ba' are two different arrangements\n",
    "# sequence/order matters\n",
    "# permutation = n!/(n-k)!\n",
    "import math\n",
    "math.perm(3,2)"
   ]
  },
  {
   "cell_type": "code",
   "execution_count": null,
   "id": "f5175fbc",
   "metadata": {},
   "outputs": [],
   "source": [
    "# Example: The comb(n,k) function (n>=k), returns the number of ways in which we can arrange from n objects\n",
    "# k different objects (sequence/order DOESNOT matter), i.e., 'ab' and 'ba' are considered same\n",
    "# permutation = n!/k!(n-k)!\n",
    "import math\n",
    "math.comb(3,2)"
   ]
  },
  {
   "cell_type": "code",
   "execution_count": null,
   "id": "f82bb454",
   "metadata": {},
   "outputs": [],
   "source": [
    "# Example: The gcd(a,b) function returns greatest common divisor of two nonzero integers a and b \n",
    "# which is the greatest positive integer d such that d is a divisor of both a and b\n",
    "import math\n",
    "math.gcd(20,25), math.gcd(27,50)"
   ]
  },
  {
   "cell_type": "code",
   "execution_count": null,
   "id": "ed0a9e8b",
   "metadata": {},
   "outputs": [],
   "source": [
    "# Example: The lcm(a,b) function returns least common multiple of two nonzero integers a and b \n",
    "# which is the smallest positive integer d such that d is divisible by both a and b\n",
    "import math\n",
    "# math.lcm(20,30) # 60. Available on Python 3.9, I have currently Python3.8 :("
   ]
  },
  {
   "cell_type": "markdown",
   "id": "eeb467a3",
   "metadata": {},
   "source": [
    "### c. Power and Logarithmic Functions of Math Module"
   ]
  },
  {
   "cell_type": "code",
   "execution_count": null,
   "id": "755e5ecd",
   "metadata": {},
   "outputs": [],
   "source": [
    "# Example: The power(a,b) function returns a**b. Available in the math module as well as Python built-in function\n",
    "# The pow() function in the math module is computationally faster\n",
    "import math\n",
    "math.pow(2,5), pow(2,5)"
   ]
  },
  {
   "cell_type": "code",
   "execution_count": null,
   "id": "0c49c68a",
   "metadata": {},
   "outputs": [],
   "source": [
    "# Example: The sqrt(x) function returns a number y such that y² = x;\n",
    "import math\n",
    "math.sqrt(25)"
   ]
  },
  {
   "cell_type": "code",
   "execution_count": null,
   "id": "f3d224f8",
   "metadata": {},
   "outputs": [],
   "source": [
    "# Example: The exp(x) function returns e**x, where e is Euler's number (2.718281828459045)\n",
    "import math\n",
    "math.exp(3)"
   ]
  },
  {
   "cell_type": "code",
   "execution_count": null,
   "id": "d7e30bd9",
   "metadata": {},
   "outputs": [],
   "source": [
    "# Example: The log(x, base) function return the logarithm of x to the mentioned base. Default base is e\n",
    "# Logarithm is the inverse function to exponentiation [The inverse of exponential function y = a**x    is   x = a**y]\n",
    "math.log(8), math.log(8,2), math.log(8,10)"
   ]
  },
  {
   "cell_type": "markdown",
   "id": "53435ef8",
   "metadata": {},
   "source": [
    "### d. Trigonometric and Hyperbolic Functions of Math Module\n",
    "- The word trigonometry comes from the Greek words trigonon (“triangle”) and metron (“to measure”). Trigonometry is the branch of mathematics dealing with the relations of the sides and angles of triangles and with the relevant functions of any angles. There are six functions of an angle commonly used in trigonometry. Trigonometric functions are used in obtaining unknown angles and distances from known or measured angles in geometric figures.\n",
    "- In mathematics, hyperbolic functions are analogues of the ordinary trigonometric functions, but defined using the hyperbola rather than the circle. "
   ]
  },
  {
   "cell_type": "code",
   "execution_count": null,
   "id": "80c0753f",
   "metadata": {},
   "outputs": [],
   "source": [
    "# Examples of Trigonometric Functions: sin(), cos(), tan(), asin(), acos(), atan().\n",
    "# The angle given to these functions should be in radians. A circle has 360 degrees and 2pi radians\n",
    "import math\n",
    "math.sin(3.14)"
   ]
  },
  {
   "cell_type": "code",
   "execution_count": null,
   "id": "603f86b5",
   "metadata": {},
   "outputs": [],
   "source": [
    "# Examples of Hyperbolic Functions: sinh(), cosh(), tanh(), asinh(), acosh(), atanh()\n",
    "import math\n",
    "math.sinh(3.14)"
   ]
  },
  {
   "cell_type": "markdown",
   "id": "43637d2d",
   "metadata": {},
   "source": [
    "## 2. Random Module\n",
    "- The Random module is  used to perform random actions such as generating random numbers, print random value for a list or string, etc."
   ]
  },
  {
   "cell_type": "code",
   "execution_count": 3,
   "id": "70c6c490",
   "metadata": {},
   "outputs": [
    {
     "name": "stdout",
     "output_type": "stream",
     "text": [
      "Existing functions in Random module: \n",
      "\n",
      " ['BPF', 'LOG4', 'NV_MAGICCONST', 'RECIP_BPF', 'Random', 'SG_MAGICCONST', 'SystemRandom', 'TWOPI', '_Sequence', '_Set', '__all__', '__builtins__', '__cached__', '__doc__', '__file__', '__loader__', '__name__', '__package__', '__spec__', '_accumulate', '_acos', '_bisect', '_ceil', '_cos', '_e', '_exp', '_inst', '_log', '_os', '_pi', '_random', '_repeat', '_sha512', '_sin', '_sqrt', '_test', '_test_generator', '_urandom', '_warn', 'betavariate', 'choice', 'choices', 'expovariate', 'gammavariate', 'gauss', 'getrandbits', 'getstate', 'lognormvariate', 'normalvariate', 'paretovariate', 'randint', 'random', 'randrange', 'sample', 'seed', 'setstate', 'shuffle', 'triangular', 'uniform', 'vonmisesvariate', 'weibullvariate']\n"
     ]
    }
   ],
   "source": [
    "#import random module\n",
    "import random\n",
    "\n",
    "# use dir() to get the list of complete functions in random module\n",
    "print(\"Existing functions in Random module: \\n\\n\", dir(random))"
   ]
  },
  {
   "cell_type": "code",
   "execution_count": 4,
   "id": "033d79e1",
   "metadata": {},
   "outputs": [
    {
     "name": "stdout",
     "output_type": "stream",
     "text": [
      "Random element from list:  Arif\n",
      "Fetching Random item from string:  r\n",
      "Fetching Random element from Tuple:  2\n"
     ]
    }
   ],
   "source": [
    "# Example: The choice(x) function is used to select a random element from a non-empty sequence.\n",
    "\n",
    "import random\n",
    "\n",
    "# select a random element from a list\n",
    "list1 = ['Arif', 'Rauf', 'Mujahid']\n",
    "print(\"Random element from list: \", random.choice(list1))\n",
    "  \n",
    "# select a random character from the string\n",
    "string = \"HappyLearning\"\n",
    "print(\"Fetching Random item from string: \", random.choice(string))\n",
    "  \n",
    "# select a random item from the tuple\n",
    "tuple1 = (1, 2, 3, 4, 5)\n",
    "print(\"Fetching Random element from Tuple: \",random.choice(tuple1))"
   ]
  },
  {
   "cell_type": "code",
   "execution_count": 11,
   "id": "1f3f0ab1",
   "metadata": {},
   "outputs": [
    {
     "data": {
      "text/plain": [
       "[5, 7, 9]"
      ]
     },
     "execution_count": 11,
     "metadata": {},
     "output_type": "execute_result"
    }
   ],
   "source": [
    "list(range(5,10,2))"
   ]
  },
  {
   "cell_type": "code",
   "execution_count": 15,
   "id": "e4c876b4",
   "metadata": {},
   "outputs": [
    {
     "name": "stdout",
     "output_type": "stream",
     "text": [
      "[5, 7, 9, 11, 13, 15]\n",
      "Random float number:  0.035073527135979554\n",
      "Random integer number from -5 to +5:  -1\n",
      "Random float number from 0 to 5:  1.6540840049296417\n",
      "Five Random integers from 10 to 50:  [24, 21, 32, 18, 12]\n"
     ]
    }
   ],
   "source": [
    "# Example: random(), uniform(x,y), randrange(x,y), sample(population, k)\n",
    "\n",
    "print(list(range(5,16,2)))\n",
    "import random\n",
    "\n",
    "\n",
    "# The random() function returns a float value in the interval [0,1), i.e., 0 is inclusive while 1 is not\n",
    "print(\"Random float number: \", random.random()) \n",
    "\n",
    "# The randrange(start,stop, step) function returns an integer vaue in the interval a and b\n",
    "print(\"Random integer number from -5 to +5: \", random.randrange(-5,5,2))\n",
    "\n",
    "# The uniform(a,b) function returns a float value in the interval a and b\n",
    "print(\"Random float number from 0 to 5: \", random.uniform(0, 5))\n",
    "\n",
    "\n",
    "\n",
    "#The sample(population, k) function returns k unique random elements from a population sequence or set (both inclusive)\n",
    "print(\"Five Random integers from 10 to 50: \", random.sample(range(10,50), 5))\n"
   ]
  },
  {
   "cell_type": "markdown",
   "id": "1a058d60",
   "metadata": {},
   "source": [
    "## 3. Time Module\n",
    "- The time module consists of all time related tasks that are required to perform various operations using time.\n",
    "- Time module begins recording time from the **epoch** that begins at **_00:00:00 1st jan 1970_**"
   ]
  },
  {
   "cell_type": "code",
   "execution_count": null,
   "id": "64a13665",
   "metadata": {},
   "outputs": [],
   "source": [
    "#To use functions defined in the module, we need to import the module first\n",
    "import time\n",
    "\n",
    "# use dir() to get the list of complete functions in time module\n",
    "print(\"Existing functions in time module: \\n\\n\", dir(time))"
   ]
  },
  {
   "cell_type": "code",
   "execution_count": null,
   "id": "efe8425d",
   "metadata": {},
   "outputs": [],
   "source": [
    "import time\n",
    "# The sleep() function suspends execution of the current thread for the given number of seconds\n",
    "print(\"This is printed immediately.\")\n",
    "time.sleep(4)\n",
    "print(\"This is printed after 4 seconds.\")"
   ]
  },
  {
   "cell_type": "code",
   "execution_count": null,
   "id": "d0fa8a98",
   "metadata": {},
   "outputs": [],
   "source": [
    "import time\n",
    "# time() function will return number of seconds passed since epoch\n",
    "seconds = time.time()\n",
    "print(\"Number of seconds passed since epoch: \", seconds) "
   ]
  },
  {
   "cell_type": "code",
   "execution_count": null,
   "id": "70d0bb12",
   "metadata": {},
   "outputs": [],
   "source": [
    "import time\n",
    "#The ctime() function takes seconds passed since epoch as an argument and returns a string representing local time.\n",
    "seconds = time.time()\n",
    "print(\"Current date & time: \", time.ctime(seconds)) # passing seconds to ctime function"
   ]
  },
  {
   "cell_type": "markdown",
   "id": "685625da",
   "metadata": {},
   "source": [
    "### localtime() function:\n",
    "It returns local date and time in the form of struct_time class.\n",
    "struct_time class has nine atributes\n",
    "\n",
    "\n",
    "| **Directive**           | **Meaning**                                            |\n",
    "| ---                     | ---                                                    |\n",
    "|  **tm_year**            | Year                                                   |\n",
    "|  **tm_mon**             | month                                                  |  \n",
    "|  **tm_mday**            | Day of the month                                       |\n",
    "|  **tm_hour**            | Hour\t                                               |\n",
    "|  **tm_min**             | minute\t                                               |\n",
    "|  **tm_sec**             | Second                                                 |\n",
    "|  **tm_wday**            | Week day, Monday is 0                                  |\n",
    "|  **tm_yday**            | Day of the year (1-366)                                |\n",
    "|  **tm_isdst**           | Daylight saving time                                   |\n"
   ]
  },
  {
   "cell_type": "code",
   "execution_count": null,
   "id": "510dcc3f",
   "metadata": {},
   "outputs": [],
   "source": [
    "import time\n",
    "# localtime() function returns local date and time in the form of struct_time class\n",
    "attributes = time.localtime()\n",
    "print(\"Attributes of struct_time class: \\n\", attributes)"
   ]
  },
  {
   "cell_type": "code",
   "execution_count": null,
   "id": "f77d9a87",
   "metadata": {},
   "outputs": [],
   "source": [
    "import time\n",
    "# asctime() is used to fetch the current data and time from struct_time and return in local format\n",
    "attributes = time.localtime()\n",
    "print(\"Current date & time in local format: \", time.asctime(attributes))"
   ]
  },
  {
   "cell_type": "code",
   "execution_count": null,
   "id": "19bdc0f8",
   "metadata": {},
   "outputs": [],
   "source": [
    "import time\n",
    "#The strftime() function takes struct_time (or tuple corresponding to it) as an argument \n",
    "# and returns a string representing it based on the format code used.\n",
    "\n",
    "# for example we want to print date in month/date/year format\n",
    "\n",
    "y = time.strftime(\"%m/%d/%Y, %H:%M:%S\")\n",
    "print(\"Date format mm/dd/yy, hr:min:sec : \", y)\n",
    "\n",
    "# Other format\n",
    "print(\"Date format dd-mm-yy: \", time.strftime(\"%d-%m-%Y.\"))"
   ]
  },
  {
   "cell_type": "markdown",
   "id": "9445c4b5",
   "metadata": {},
   "source": [
    "## 4. Datetime Module\n",
    "- Python time module is principally for working with UNIX time stamps; expressed as a floating point number taken to be seconds since the unix epoch. \n",
    "- The datetime module can support many of the same operations, but provides a more object oriented set of types, and also has some limited support for time zones.\n",
    "- I personally recommend using the time module instead of the datetime module to prevent ambiguity issues with daylight savings time (DST)."
   ]
  },
  {
   "cell_type": "code",
   "execution_count": null,
   "id": "121ebc36",
   "metadata": {},
   "outputs": [],
   "source": [
    "# import datetime module\n",
    "import datetime\n",
    "\n",
    "# use dir() to get the list of complete functions in datetime module\n",
    "print(\"Existing functions in datetime module: \\n\\n\", dir(datetime))"
   ]
  },
  {
   "cell_type": "code",
   "execution_count": null,
   "id": "929a2bc2",
   "metadata": {},
   "outputs": [],
   "source": [
    "import datetime\n",
    "# datetime() method is the constructor of datetime module, using this, we can construct any random date\n",
    "# we can pass arguments to this such as year,month,date,hour,min,sec, and milisecond\n",
    "\n",
    "print(datetime.datetime(2021,6,7,4,30,54,678))"
   ]
  },
  {
   "cell_type": "code",
   "execution_count": null,
   "id": "529f58cc",
   "metadata": {},
   "outputs": [],
   "source": [
    "import datetime\n",
    "# today() and now() methods are used to fetch the current date and time\n",
    "print(\"Current datetime using today() method: \", datetime.datetime.today())\n",
    "\n",
    "print(\"Current datetime using now() method: \", datetime.datetime.now())\n",
    "\n",
    "# Just year, day, or hour can also be extracted \n",
    "\n",
    "ct = datetime.datetime.now()\n",
    "print(\"Current month: \", ct.month)\n",
    "print(\"Current year: \", ct.year)\n",
    "print(\"Current hour: \", ct.hour)"
   ]
  },
  {
   "cell_type": "markdown",
   "id": "39d5f5d6",
   "metadata": {},
   "source": [
    "## 5. Calendar Module\n",
    "- This module allows you to output calendars like the Unix cal program, and provides additional useful functions related to the calendar. By default, these calendars have Monday as the first day of the week, and Sunday as the last"
   ]
  },
  {
   "cell_type": "code",
   "execution_count": null,
   "id": "00c616ba",
   "metadata": {},
   "outputs": [],
   "source": [
    "import calendar\n",
    "\n",
    "# use dir() to get the list of complete functions in calendar module\n",
    "print(\"Existing functions in calendar module: \\n\\n\", dir(calendar))"
   ]
  },
  {
   "cell_type": "code",
   "execution_count": null,
   "id": "04121b7c",
   "metadata": {},
   "outputs": [],
   "source": [
    "import calendar\n",
    "# month() method is used to print calendar of specific month\n",
    "\n",
    "#print calendar of November 2021\n",
    "c = calendar.month(2021,11) \n",
    "print(c)"
   ]
  },
  {
   "cell_type": "code",
   "execution_count": null,
   "id": "5205f543",
   "metadata": {},
   "outputs": [],
   "source": [
    "# calendar() method to print the calendar of whole year\n",
    "cy = calendar.calendar(2021) \n",
    "print(cy)"
   ]
  },
  {
   "cell_type": "code",
   "execution_count": null,
   "id": "48d3e53f",
   "metadata": {},
   "outputs": [],
   "source": [
    "import calendar\n",
    "# can check wether the year is leap year or not\n",
    "print(\"2021 is leap year: \", calendar.isleap(2021))\n",
    "\n",
    "print(\"2020 was be leap year: \", calendar.isleap(2020))"
   ]
  },
  {
   "cell_type": "markdown",
   "id": "b07f1899",
   "metadata": {},
   "source": [
    "## 6. The os Module\n",
    "- This module provides a portable way of using operating system dependent functionality and provides dozens of functions for interacting with the operating system"
   ]
  },
  {
   "cell_type": "code",
   "execution_count": null,
   "id": "f02e0918",
   "metadata": {},
   "outputs": [],
   "source": [
    "import os\n",
    "# to get the list of complete functions in OS module\n",
    "print(\"Existing functions in OS module: \\n\\n\", dir(os))\n"
   ]
  },
  {
   "cell_type": "code",
   "execution_count": null,
   "id": "70c024c7",
   "metadata": {},
   "outputs": [],
   "source": [
    "import os\n",
    "# getcwd() function is used to return the current working directory\n",
    "cwd = os.getcwd()\n",
    "print(\"Get current working directory:\", cwd )\n",
    "\n",
    "# chdir() function is used to change the Current working directory\n",
    "os.chdir('/Users/arif/Documents/DS-522')\n",
    "#os.chdir('C:\\\\Users\\Arif\\Desktop')\n",
    "\n",
    "print(\"Get current working directory again:\", os.getcwd())"
   ]
  },
  {
   "cell_type": "code",
   "execution_count": null,
   "id": "427a8ca3",
   "metadata": {},
   "outputs": [],
   "source": [
    "import os\n",
    "# you can perform the listing of directories as well\n",
    "os.chdir('/Users/arif/Documents/DS-522/Demo-Files/')\n",
    "\n",
    "os.listdir(os.getcwd())"
   ]
  },
  {
   "cell_type": "code",
   "execution_count": null,
   "id": "64fd97a4",
   "metadata": {},
   "outputs": [],
   "source": [
    "import os\n",
    "# You can run any shell command using the system() function\n",
    "os.chdir('/Users/arif/Documents/DS-522/Demo-Files/')\n",
    "os.system('mkdir anewdir')\n",
    "os.system('ls -l    /Users/arif/Documents/DS-522/Demo-Files/')\n",
    "os.system('rmdir anewdir')\n"
   ]
  },
  {
   "cell_type": "markdown",
   "id": "ff03acde",
   "metadata": {},
   "source": [
    "## 7. MultiThreading in Python\n",
    "- A thread is an entity within a process that can be scheduled for execution. Also, it is the smallest unit of processing that can be performed in an OS (Operating System).\n",
    "- In simple words, a thread is a sequence of such instructions within a program that can be executed independently of other code. For simplicity, you can assume that a thread is simply a subset of a process!\n",
    "- A thread contains all this information in a Thread Control Block (TCB):\n",
    " - Thread Identifier: Unique id (TID) is assigned to every new thread\n",
    " - Stack pointer: Points to thread’s stack in the process. Stack contains the local variables under thread’s scope.\n",
    " - Program counter: a register which stores the address of the instruction currently being executed by thread.\n",
    " - Thread state: can be running, ready, waiting, start or done.\n",
    " - Thread’s register set: registers assigned to thread for computations.\n",
    " - Parent process Pointer: A pointer to the Process control block (PCB) of the process that the thread lives on."
   ]
  },
  {
   "cell_type": "code",
   "execution_count": 2,
   "id": "0d4f1b76",
   "metadata": {},
   "outputs": [
    {
     "name": "stdout",
     "output_type": "stream",
     "text": [
      "\n",
      " 13941 Thread-9 :   0\n",
      "\n",
      " 13941 Thread-10 :   5\n",
      "\n",
      "\n",
      " 13941 Thread-10 :   6\n",
      " 13941 Thread-9 :   1\n",
      "\n",
      "\n",
      " 13941 Thread-9 :   2\n",
      " 13941 Thread-10 :   7\n",
      "\n",
      "\n",
      " 13941 13941 Thread-10 :   8\n",
      " Thread-9 :   3\n",
      "\n",
      "\n",
      " 13941 Thread-9  13941 Thread-10 :   9\n",
      ":   4\n",
      "Done!\n"
     ]
    }
   ],
   "source": [
    "# Python program to illustrate the concept of threading\n",
    "\n",
    "import threading\n",
    "import os\n",
    "import time\n",
    "\n",
    "def display(num):\n",
    "    for ctr in num:\n",
    "        print(\"\\n\",os.getpid(), threading.current_thread().name, \":  \", ctr)\n",
    "        time.sleep(1)\n",
    "\n",
    "l1 = list(range(0,5))\n",
    "l2 = list(range(5,10))\n",
    "\n",
    "# creating thread\n",
    "t1 = threading.Thread(target=display, args=(l1,))\n",
    "t2 = threading.Thread(target=display, args=(l2,))\n",
    "\n",
    "# starting thread 1\n",
    "t1.start()\n",
    "# starting thread 2\n",
    "t2.start()\n",
    "\n",
    "# wait until thread 1 is completely executed\n",
    "t1.join()\n",
    "# wait until thread 2 is completely executed\n",
    "t2.join()\n",
    "\n",
    "# both threads completely executed\n",
    "print(\"Done!\")"
   ]
  },
  {
   "cell_type": "code",
   "execution_count": null,
   "id": "7929111b",
   "metadata": {},
   "outputs": [],
   "source": []
  }
 ],
 "metadata": {
  "kernelspec": {
   "display_name": "Python 3 (ipykernel)",
   "language": "python",
   "name": "python3"
  },
  "language_info": {
   "codemirror_mode": {
    "name": "ipython",
    "version": 3
   },
   "file_extension": ".py",
   "mimetype": "text/x-python",
   "name": "python",
   "nbconvert_exporter": "python",
   "pygments_lexer": "ipython3",
   "version": "3.8.10"
  }
 },
 "nbformat": 4,
 "nbformat_minor": 5
}
