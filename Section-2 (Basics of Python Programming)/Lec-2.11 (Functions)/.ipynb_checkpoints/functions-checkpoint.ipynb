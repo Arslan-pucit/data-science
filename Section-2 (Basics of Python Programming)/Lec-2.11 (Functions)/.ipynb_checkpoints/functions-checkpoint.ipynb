{
 "cells": [
  {
   "cell_type": "markdown",
   "id": "0ba08993",
   "metadata": {},
   "source": [
    "---   \n",
    " <img align=\"left\" width=\"75\" height=\"75\"  src=\"https://upload.wikimedia.org/wikipedia/en/c/c8/University_of_the_Punjab_logo.png\"> \n",
    "\n",
    "<h1 align=\"center\">Department of Data Science</h1>\n",
    "<h1 align=\"center\">Course: Tools and Techniques for Data Science</h1>\n",
    "\n",
    "---\n",
    "<h3><div align=\"right\">Instructor: Muhammad Arif Butt, Ph.D.</div></h3>    "
   ]
  },
  {
   "cell_type": "markdown",
   "id": "007946c5",
   "metadata": {},
   "source": [
    "<h1 align=\"center\">Lecture 2.11</h1>"
   ]
  },
  {
   "cell_type": "markdown",
   "id": "ae18f83a",
   "metadata": {},
   "source": [
    "## _functions.ipynb_"
   ]
  },
  {
   "cell_type": "markdown",
   "id": "4377d061",
   "metadata": {},
   "source": [
    "### Learning agenda of this notebook\n",
    "\n",
    "1. What are functions in Python \n",
    "2. User Defined Functions in Python\n",
    "    - Basic Examples\n",
    "    - Docstring inside a function\n",
    "    - Passing arguments and Returning value from a function\n",
    "    - Pass by value vs Pass by reference\n",
    "3. Arguments of a Python function \n",
    "    - Positional/Required arguments\n",
    "    - Default arguments\n",
    "    - Keyword arguments\n",
    "    - Variable length arguments\n",
    "    - Arbitrary keyword arguments\n",
    "4. Nested functions\n",
    "5. Understanding Scope in Python\n",
    "    - Local scope\n",
    "    - Global scope\n",
    "    - Enclosing scope\n",
    "    - Built-in Scope\n",
    "6. Anonymous Functions or Lambda Functions\n",
    "    - Basic Examples of lambda functions\n",
    "    - Using lambda function as argument to other functions\n",
    "        - Using lambda function with built-in sorted() function\n",
    "        - Using lambda function with built-in map() function\n",
    "        - Using lambda function with built-in filter() function\n",
    "        - Using lambda function with built-in reduce() function"
   ]
  },
  {
   "cell_type": "markdown",
   "id": "f7fefd5f",
   "metadata": {},
   "source": [
    "### 1. What are Functions in Python\n",
    "* In Python a function is a group of related statements that perform a specific task.\n",
    "* Functions help break our program into smaller and modular chunks.\n",
    "* As our program grows larger and larger, functions make it more organized and manageable.\n",
    "* A code inside a function only runs when it is called.\n",
    "* Furthermore, functions avoids repetition and makes the code reusable\n",
    "* You can pass data, known as parameters, into a function.\n",
    "* A function can return data as a result.\n",
    "* Types of Python Functions\n",
    "    - Built-in Functions: These functions are part of the standard Python library, e.g., print(), \n",
    "    - User Defined Functions: These functions are defined by the programmer him/herself\n",
    "    - Anonymous Functions: Functions without a name, also called Lambda Functions"
   ]
  },
  {
   "cell_type": "markdown",
   "id": "0ca4bb39",
   "metadata": {},
   "source": [
    "### 2. User Defined Functions in Python\n",
    "* In Python, the keyword def introduces a function definition and it must be followed by the function name, parenthesis and a collon.\n",
    "* Followed by the function header, we have a indented block of statements, also called the function body"
   ]
  },
  {
   "cell_type": "markdown",
   "id": "efe504e4",
   "metadata": {},
   "source": [
    "#### a. Basic Example of a Python Function"
   ]
  },
  {
   "cell_type": "code",
   "execution_count": null,
   "id": "c4751b3d",
   "metadata": {},
   "outputs": [],
   "source": [
    "#defining a function\n",
    "def func1():\n",
    "    print(\"Functions in Python\")\n",
    "\n",
    "#calling a function\n",
    "func1()"
   ]
  },
  {
   "cell_type": "markdown",
   "id": "6b55cae4",
   "metadata": {},
   "source": [
    "#### b. Docstring inside a Function\n",
    "- The docstring is the first string after the function header\n",
    "- It is used to give a brief introduction to a function describing what the function is doing"
   ]
  },
  {
   "cell_type": "code",
   "execution_count": null,
   "id": "c7865185",
   "metadata": {},
   "outputs": [],
   "source": [
    "#defining a function\n",
    "def func1():\n",
    "    \"\"\" This is a docstring that describes what the function do\"\"\"\n",
    "    print(\"Welcome to Learning Functions in Python\")\n",
    "\n",
    "#calling a function\n",
    "func1()"
   ]
  },
  {
   "cell_type": "code",
   "execution_count": null,
   "id": "5d7e47da",
   "metadata": {},
   "outputs": [],
   "source": [
    "# We can access the docstring using the built-in command __doc__. \n",
    "# Any identifier that starts with a double underscore is a Python builtin command\n",
    "func1.__doc__"
   ]
  },
  {
   "cell_type": "markdown",
   "id": "47ba9a3d",
   "metadata": {},
   "source": [
    "#### c. Returning value from a Function\n",
    "* A return statement is used to end the execution of the function call and gives the result.\n",
    "* The statements after the return statements are not executed"
   ]
  },
  {
   "cell_type": "code",
   "execution_count": null,
   "id": "a370f371",
   "metadata": {},
   "outputs": [],
   "source": [
    "#defining a function\n",
    "def mysum2():  \n",
    "    total = 5 + 7\n",
    "    return total\n",
    "\n",
    "#calling a function\n",
    "rv = mysum2()\n",
    "print(\"5 + 7 = \", rv)\n"
   ]
  },
  {
   "cell_type": "markdown",
   "id": "ab9d1b5e",
   "metadata": {},
   "source": [
    "#### d. Arguments to a Python Function\n",
    "- Arguments/parameters can be passed to a function on which the function operates and generates the result\n",
    "- Arguments are called **Required arguments** means that if your function expects 2 arguments, you have to call the function with 2 arguments, not more, and not less.\n",
    "- Arguments are called **positional arguments** because while calling the function, the arguments must be passed in the correct positional order to get the desired result. e.g., in case of subtract(a, b)\n",
    "- The number of required arguments passed to a Python function is limited by available process stack frame"
   ]
  },
  {
   "cell_type": "code",
   "execution_count": null,
   "id": "8e8201b9",
   "metadata": {},
   "outputs": [],
   "source": [
    "# A function that is passed two numbers and it returns their sum\n",
    "def mysum3(a, b):  \n",
    "    total = a + b\n",
    "    return total\n",
    "\n",
    "#calling a function\n",
    "a = 10 \n",
    "b = 15\n",
    "rv = mysum3(a, b)\n",
    "print(a, \" + \", b, \" = \", rv)"
   ]
  },
  {
   "cell_type": "code",
   "execution_count": null,
   "id": "b39cbe0a",
   "metadata": {},
   "outputs": [],
   "source": [
    "# A function that receives a list and returns sum of squares of its elements\n",
    "def sumofsquares(l1):\n",
    "    rv = 0\n",
    "    for i in l1:\n",
    "        rv = rv + i*i\n",
    "    return rv\n",
    "\n",
    "#calling a function\n",
    "list1 = [1, 2, 3] \n",
    "rv = sumofsquares(list1)\n",
    "print(\"Sum of list elements are: \", rv)"
   ]
  },
  {
   "cell_type": "markdown",
   "id": "a774b7e0",
   "metadata": {},
   "source": [
    "#### e.  Pass by value vs Pass by reference\n",
    "- All arguments (less intrinsic types) in Python are passed by reference. It means if you change what a parameter refers to within a function, the change also reflects back in the calling function."
   ]
  },
  {
   "cell_type": "code",
   "execution_count": 1,
   "id": "db5d17ae",
   "metadata": {},
   "outputs": [
    {
     "name": "stdout",
     "output_type": "stream",
     "text": [
      "Before calling:  Kakamanna\n",
      "After calling:  Kakamanna\n"
     ]
    }
   ],
   "source": [
    "# Function arguments of intrinsic types like int, float, strings are passed by value\n",
    "def myfunc(nam):\n",
    "    nam = \"Arif Butt\"\n",
    "\n",
    "a = \"Kakamanna\"\n",
    "print(\"Before calling: \", a)\n",
    "rv = myfunc(a)\n",
    "print(\"After calling: \", a)"
   ]
  },
  {
   "cell_type": "code",
   "execution_count": 2,
   "id": "d11cdf0f",
   "metadata": {},
   "outputs": [
    {
     "name": "stdout",
     "output_type": "stream",
     "text": [
      "10 20 30\n"
     ]
    }
   ],
   "source": [
    "# Function arguments of intrinsic types like int, float, strings are passed by value\n",
    "def myfunc(x, y, z):\n",
    "    x = x + 1\n",
    "    y = y + 1\n",
    "    z = z + 1\n",
    "\n",
    "a = 10\n",
    "b = 20\n",
    "c = 30\n",
    "myfunc(a, b, c)\n",
    "print(a, b, c)"
   ]
  },
  {
   "cell_type": "code",
   "execution_count": 3,
   "id": "3eaec931",
   "metadata": {},
   "outputs": [
    {
     "name": "stdout",
     "output_type": "stream",
     "text": [
      "Before calling:  ['a', 'b', 'c', 'd', 'e', 'f']\n",
      "After calling:  ['a', 'b', 'x', 'd', 'e', 'f']\n"
     ]
    }
   ],
   "source": [
    "# Lists, Tuples, Sets, and Dictionary objects are passed to functions as reference\n",
    "# The changes made by the callee are visible to the caller (but not for tuples as they are immutable)\n",
    "# Example: \n",
    "def func1(l1):\n",
    "    l1[2] = 'x'\n",
    "    \n",
    "mylist = ['a', 'b', 'c', 'd', 'e', 'f']\n",
    "print(\"Before calling: \", mylist)\n",
    "func1(mylist)\n",
    "print(\"After calling: \", mylist)"
   ]
  },
  {
   "cell_type": "code",
   "execution_count": 4,
   "id": "05bd102a",
   "metadata": {},
   "outputs": [
    {
     "name": "stdout",
     "output_type": "stream",
     "text": [
      "Before calling:  ['a', 'b', 'c', 'd', 'e', 'f']\n",
      "List l3 is local to the function having:  ['b', 'c', 'd']\n",
      "After calling:  ['a', 'b', 'c', 'd', 'e', 'f']\n"
     ]
    }
   ],
   "source": [
    "# Example: \n",
    "def func1(list2):\n",
    "    l3 = list2[1:4]\n",
    "    print(\"List l3 is local to the function having: \", l3)\n",
    "    \n",
    "list1 = ['a', 'b', 'c', 'd', 'e', 'f']\n",
    "print(\"Before calling: \", list1)\n",
    "func1(list1)\n",
    "print(\"After calling: \", list1)"
   ]
  },
  {
   "cell_type": "code",
   "execution_count": null,
   "id": "bffa44b9",
   "metadata": {},
   "outputs": [],
   "source": [
    "# Example: \n",
    "def func1(list2):\n",
    "    l3 = list2[1:4]\n",
    "    print(\"List l3 is local to the function having: \", l3)\n",
    "    return l3\n",
    "    \n",
    "list1 = ['a', 'b', 'c', 'd', 'e', 'f']\n",
    "print(\"Before calling: \", list1)\n",
    "list1 = func1(list1)\n",
    "print(\"After calling: \", list1)\n"
   ]
  },
  {
   "cell_type": "code",
   "execution_count": null,
   "id": "85b1e826",
   "metadata": {},
   "outputs": [],
   "source": [
    "# Tuples are mutable: proof of concept\n",
    "def func1(t1):\n",
    "    t1[2] = 'x'\n",
    "    \n",
    "mytuple = ('a', 'b', 'c', 'd', 'e', 'f')\n",
    "print(\"Before calling: \", mytuple)\n",
    "func1(mytuple)\n",
    "print(\"After calling: \", mytuple)"
   ]
  },
  {
   "cell_type": "markdown",
   "id": "929039be",
   "metadata": {},
   "source": [
    "### 3. Function Arguments in Python\n",
    "- There are following points that one needs to keep in mind while using arguments in Python functions:\n",
    "    - Required Arguments / Positional arguments (discussed above)\n",
    "    - Default Arguments\n",
    "    - Keyword Arguments\n",
    "    - Variable length Arguments\n",
    "    - Arbitrary Keyword Arguments"
   ]
  },
  {
   "cell_type": "markdown",
   "id": "853c5dfb",
   "metadata": {},
   "source": [
    "#### a. Required/Positional arguments\n",
    "- If a function expect two arguments, you have to call the function with exactly two arguments.\n",
    "- Moreover, arguments must be passed in correct positional order to get the desired result."
   ]
  },
  {
   "cell_type": "code",
   "execution_count": null,
   "id": "9389e0ab",
   "metadata": {},
   "outputs": [],
   "source": [
    "def mysub(a, b):\n",
    "   return a - b\n",
    "\n",
    "x = 8\n",
    "y = 3\n",
    "# calling a function with both arguments (order matters)\n",
    "rv = mysub(8, 3)\n",
    "rv"
   ]
  },
  {
   "cell_type": "markdown",
   "id": "6360f7ac",
   "metadata": {},
   "source": [
    "#### b. Default arguments\n",
    "- In a function definition, we can assign default values to arguments.\n",
    "- During function call, if a value is not passed to that argument, the function assumes the default value."
   ]
  },
  {
   "cell_type": "code",
   "execution_count": null,
   "id": "0f05f612",
   "metadata": {},
   "outputs": [],
   "source": [
    "# Function with default arguments\n",
    "def display(name = 'kakamanna', age = 35):\n",
    "   print (\"Name: \", name, \", Age: \", age)\n",
    "   return;\n",
    "\n",
    "# calling a function with both arguments (order matters)\n",
    "display(\"Arif Butt\", 51)\n",
    "\n",
    "# calling a function with one argument only (the default value of age will be printed)\n",
    "display(\"Mujahid Butt\" )\n",
    "\n",
    "\n",
    "# You cannot skip the first default argument and give the second\n",
    "#display(,51 )\n",
    "#Solution is keyword arguments (discussed below)\n",
    "display(age=23)\n"
   ]
  },
  {
   "cell_type": "markdown",
   "id": "22e9c9dd",
   "metadata": {},
   "source": [
    "#### c. Keyword arguments\n",
    "- If you want to bypass the positional argument rule, we can pass arguments in any order by mentioning their parameter names, which the function definition is expecting.\n",
    "- Using **keyword arguments**, a programmer can pass arguments in any order by mentioning their parameter names while calling the function"
   ]
  },
  {
   "cell_type": "code",
   "execution_count": null,
   "id": "93177a85",
   "metadata": {},
   "outputs": [],
   "source": [
    "# Function calling with key word arguments\n",
    "def display(name, age):\n",
    "   print (\"Name: \", name, \", Age: \", age)\n",
    "   return;\n",
    "\n",
    "# Sequence/order of arguments matter\n",
    "display(25, \"Arif Butt\")\n",
    "\n",
    "# Sequence/order of arguments DOES NOT matter now\n",
    "display(age=25, name=\"Mujahid Butt\") # passing parameters in any order using keyword argument \n",
    "print(\"\\n\")"
   ]
  },
  {
   "cell_type": "markdown",
   "id": "2d7c5bf3",
   "metadata": {},
   "source": [
    "#### d. Variable length arguments\n",
    "- Although we can pass a list to a function containing any number of elements.\n",
    "- But sometimes, we need more flexibility while defining functions like we don't know in advance the fixed number of arguments.\n",
    "- Python allows us to make function calls with variable length arguments.\n",
    "- If you want a function to receive variable number of arguments, you place an asterisk (*) before the variable name.\n",
    "- This way the function will receive a tuple of arguments (an iterable), and can access the items accordingly"
   ]
  },
  {
   "cell_type": "code",
   "execution_count": null,
   "id": "e98931c6",
   "metadata": {},
   "outputs": [],
   "source": [
    "# Example: Passing variable number of arguments to a function\n",
    "def my_function(*args):   # Whatever is passed to this function, it will create a iterable out of it\n",
    "    for i in args:        # We can use the iter() and next() function to iterate through the iterable\n",
    "        print(i, end=' ')\n",
    "\n",
    "my_function('arif','rauf')\n",
    "print(\"\\n\")\n",
    "my_function(1, 2, 3, 4, 5, 6, 7, 8)"
   ]
  },
  {
   "cell_type": "markdown",
   "id": "f23e215b",
   "metadata": {},
   "source": [
    "#### e. Arbitrary keyword arguments\n",
    "- Arbitrary keyword arguments (\\*\\*kwarg) is just like variable length arguments (\\*arg). The difference is instead of accepting positional arguments, it accepts keyword (or named) arguments.\n",
    "- When using the ** parameter, the order of arguments does not matter. However, the name of the arguments must be the same.\n",
    "- This way the function will receive a dictionary of arguments, and you can access the items accordingly"
   ]
  },
  {
   "cell_type": "code",
   "execution_count": 1,
   "id": "0205f0d6",
   "metadata": {},
   "outputs": [
    {
     "name": "stdout",
     "output_type": "stream",
     "text": [
      "('a', 'Learning')\n",
      "('b', 'Is')\n",
      "('c', 'Fun')\n"
     ]
    }
   ],
   "source": [
    "def myfunc(**kwargs):\n",
    "    result = \"\"\n",
    "    # Iterating over the kwargs dictionary\n",
    "    for arg in kwargs.items():\n",
    "        print(arg)\n",
    "\n",
    "myfunc(a = \"Learning\", b = 'Is', c = 'Fun')"
   ]
  },
  {
   "cell_type": "code",
   "execution_count": 2,
   "id": "3515bdbb",
   "metadata": {},
   "outputs": [
    {
     "name": "stdout",
     "output_type": "stream",
     "text": [
      "Learning\n",
      "Is\n",
      "Fun\n",
      "with\n",
      "Arif\n"
     ]
    }
   ],
   "source": [
    "def myfunc(**kwargs):\n",
    "    result = \"\"\n",
    "    # Iterating over the kwargs dictionary\n",
    "    for arg in kwargs.values():\n",
    "        print(arg)\n",
    "\n",
    "myfunc(a = \"Learning\", b = 'Is', c = 'Fun', d ='with', e='Arif')"
   ]
  },
  {
   "cell_type": "code",
   "execution_count": null,
   "id": "9acfc7e1",
   "metadata": {},
   "outputs": [],
   "source": [
    "def greet(**kwargs):\n",
    "    print('Hello, ', kwargs['fname'],  kwargs['mname'], kwargs['lname'])\n",
    "\n",
    "greet(lname='Butt', fname='Muhammad', mname= 'Arif')\n"
   ]
  },
  {
   "cell_type": "code",
   "execution_count": null,
   "id": "f1c241ee",
   "metadata": {},
   "outputs": [],
   "source": [
    "def myconcat(**kwargs):\n",
    "    result = \"\"\n",
    "    # Iterating over the kwargs dictionary\n",
    "    for arg in kwargs.values():\n",
    "        result += arg\n",
    "    return result\n",
    "\n",
    "rv = myconcat(a = \"Learning\", b='Is', c='Fun')\n",
    "rv"
   ]
  },
  {
   "cell_type": "markdown",
   "id": "31f31e66",
   "metadata": {},
   "source": [
    "### 4. Functions can be Nested in Python\n",
    "- A function that is defined inside another function is called nested or inner function.\n",
    "- Nested or inner function can access variables created in the outer function (enclosing scope).\n",
    "- Inner functions have many uses, most notably as closure factories and decorator functions."
   ]
  },
  {
   "cell_type": "code",
   "execution_count": null,
   "id": "fed321a2",
   "metadata": {},
   "outputs": [],
   "source": [
    "def outerFunction(): \n",
    "    name = 'Arif'\n",
    "    def innerFunction(): \n",
    "        print(name) \n",
    "    innerFunction() \n",
    "    \n",
    "outerFunction() \n",
    "#innerFunction() # innerFunction() can only be accessed in the outerFunction() body, and not outside it"
   ]
  },
  {
   "cell_type": "markdown",
   "id": "0f49370f",
   "metadata": {},
   "source": [
    "### 5. Understanding Scope in Python\n",
    "- \"Scope of Variable\" means that part of program where we can access the particular variable. \n",
    "- Parameters and variables defined inside a function are not visible/accessible from outside the function. Hence they have local scope.\n",
    "- The lifetime of a variable is the period throughout which the variable exists in memory. The lifetime of a variable inside a function is as long as the function executes. They are destroyed once we return from the function. Hence, a function does not remember the value of a variable from its previous calls.\n",
    "- Python interpreter maintains a data structure called symbol table (using a dictionary object) containing information about each identifier/variable/symbol appearing in the program's source code. \n",
    "- There are 4 types of Variable Scope in Python (local scope, global scope, enclosing scope, and built-in scope)\n",
    "    - Variables that are defined inside a function body have a local scope and can be only accessed inside that particular function\n",
    "    - Variables that are defined outside a function body have a global scope and can be be accessed throughout the program"
   ]
  },
  {
   "cell_type": "markdown",
   "id": "d2ec5ee0",
   "metadata": {},
   "source": [
    "#### a. Understanding Local and Global Scope"
   ]
  },
  {
   "cell_type": "code",
   "execution_count": 51,
   "id": "4086958d",
   "metadata": {},
   "outputs": [
    {
     "name": "stdout",
     "output_type": "stream",
     "text": [
      "Value of variable 'a' inside function:  1234\n",
      "None\n"
     ]
    }
   ],
   "source": [
    "# Example 1: Understanding Local Scope\n",
    "# The variable 'a' declared inside the function is local to that function\n",
    "# When you try to access (read/write) it outside the function, Python raises a NameError\n",
    "\n",
    "def my_function():\n",
    "    a = 1234  # a new local variable named 'a' is created\n",
    "    print(\"Value of variable 'a' inside function: \", a)\n",
    "\n",
    "print(my_function())\n",
    "#print(\"Value of variable 'a' outside function: \", a) # Raise NameError, because the variable 'a' no longer exists"
   ]
  },
  {
   "cell_type": "code",
   "execution_count": 52,
   "id": "3b108839",
   "metadata": {},
   "outputs": [
    {
     "name": "stdout",
     "output_type": "stream",
     "text": [
      "Value of variable 'b' inside function:  1234\n",
      "Value of global variable 'b' outside function:  1234\n"
     ]
    }
   ],
   "source": [
    "# Example 2: Understanding Global Scope\n",
    "# A global variable is accessible inside as well outside a function after its declaration\n",
    "\n",
    "b = 1234\n",
    "def my_function():\n",
    "    print(\"Value of variable 'b' inside function: \", b)\n",
    "\n",
    "my_function()\n",
    "print(\"Value of global variable 'b' outside function: \", b)\n"
   ]
  },
  {
   "cell_type": "code",
   "execution_count": null,
   "id": "933ea127",
   "metadata": {},
   "outputs": [],
   "source": [
    "# Example 3: Understanding Global Scope\n",
    "# We can create a local variable with the same name as a global variable\n",
    "# When we access it inside the function we get the local variable\n",
    "# When we access it outside the function, we get the global variable\n",
    "\n",
    "c = 1234\n",
    "def my_function():\n",
    "    c = 4321  # a new local variable named 'c' is created\n",
    "    print(\"Value of variable 'c' inside function: \", c)\n",
    "\n",
    "my_function()\n",
    "print(\"Value of variable 'c' outside function: \", c)\n"
   ]
  },
  {
   "cell_type": "code",
   "execution_count": null,
   "id": "74145642",
   "metadata": {},
   "outputs": [],
   "source": [
    "# Example 4: Understanding Global Scope\n",
    "# What if we want to update the global variable inside the function\n",
    "\n",
    "c = 1234\n",
    "def my_function():\n",
    "    c = c + 1      # Will raise an error \"local variable 'c' referenced before assignment\"\n",
    "    print(\"Value of variable 'c' inside function: \", c)\n",
    "\n",
    "my_function()\n",
    "print(\"Value of variable 'c' outside function: \", c)\n"
   ]
  },
  {
   "cell_type": "code",
   "execution_count": null,
   "id": "314bc503",
   "metadata": {},
   "outputs": [],
   "source": [
    "# Example 5: To update a global variable inside a function, you use the global keyword\n",
    "d = 1234\n",
    "\n",
    "def my_function():\n",
    "    global d    # global keyword does not create a new local variable\n",
    "    d = d + 1  # this will change the global variable\n",
    "    print(\"Value of variable 'd' inside function: \", d)\n",
    "\n",
    "my_function()\n",
    "print(\"Value of variable 'd' outside function: \", d)"
   ]
  },
  {
   "cell_type": "markdown",
   "id": "4c344bbd",
   "metadata": {},
   "source": [
    "#### b. Understanding Enclosing Scope\n",
    "- Enclosing scope or nonlocal scope is a special scope that only exist for nested functions"
   ]
  },
  {
   "cell_type": "code",
   "execution_count": null,
   "id": "04051afc",
   "metadata": {},
   "outputs": [],
   "source": [
    "# Example: Understanding Enclosing Scope\n",
    "# Enclosed Scope\n",
    "def f1():\n",
    "    a = 54\n",
    "    def f2():\n",
    "        a = 55\n",
    "        print(\"Inside the f2() function: a = \", a)\n",
    "    f2()\n",
    "    print(\"Inside the f1() function: a = \", a)\n",
    "\n",
    "\n",
    "f1()"
   ]
  },
  {
   "cell_type": "code",
   "execution_count": null,
   "id": "4a4c0985",
   "metadata": {},
   "outputs": [],
   "source": [
    "# Enclosed Scope\n",
    "def f1():\n",
    "    a = 54\n",
    "    def f2():\n",
    "        nonlocal a\n",
    "        a = 55\n",
    "        print(\"Inside the f2() function: a = \", a)\n",
    "    f2()\n",
    "    print(\"Inside the f1() function: a = \", a)\n",
    "\n",
    "f1()"
   ]
  },
  {
   "cell_type": "markdown",
   "id": "9379b156",
   "metadata": {},
   "source": [
    "#### c. Understanding Built-in Scope\n",
    "- When a variable is not found in local, global or enclosing scope, then Python starts looking for it in built-in scope. \n",
    "- The built-in scope has all the names that are loaded into python variable scope when we start the interpreter.\n",
    "- For example, we never need to import any module to access functions like print() and id()."
   ]
  },
  {
   "cell_type": "code",
   "execution_count": null,
   "id": "0409978c",
   "metadata": {},
   "outputs": [],
   "source": []
  },
  {
   "cell_type": "code",
   "execution_count": null,
   "id": "67041ff5",
   "metadata": {},
   "outputs": [],
   "source": []
  },
  {
   "cell_type": "markdown",
   "id": "c32289dd",
   "metadata": {},
   "source": [
    "### 7. Lambda / Anonymous Functions\n",
    "- In Python, an anonymous function is a function that is defined without a name. A normal functions is defined using the **def keyword**, anonymous functions are defined using the **lambda keyword**. Hence, anonymous functions are also called lambda functions.\n",
    "- Lambda functions can take any number of arguments but return just one value which is a function object. Later we use it to call the Lambda function. They cannot contain commands or multiple expressions.\n",
    "- The syntax of defining a standard function is:\n",
    "```\n",
    "  def functionName( arguments ):\n",
    "\tstatements...\n",
    "\treturn something\n",
    "```\n",
    "- The syntax of lambda function definition is as follows:\n",
    "```\n",
    "  lambda [arg1 [,arg2,.....argn]]:expression\n",
    "```\n",
    "- While comparing the above two, notice differences\n",
    "    - def is replaced by the keyword lambda, \n",
    "    - there is no function name, \n",
    "    - the arguments are not enclosed in parenthesis\n",
    "    - a regular function can contains one or more statement(s), while lambda function can contain an expression only\n",
    "    - a regular function may or may not return some value, but lambda function will always return the evaluated expression\n",
    "\n",
    "\n",
    "- An anonymous function cannot be a direct call to print because lambda requires an expression\n",
    "- Lambda functions have their own local namespace and cannot access variables other than those in their parameter list and those in the global namespace.\n",
    "- Although it appears that lambda's are a one-line version of a function, they are not equivalent to inline statements in C or C++, whose purpose is by passing function stack allocation during invocation for performance reasons.\n",
    "- **Well, lambdas are really useful when a function requires another function as its argument.**\n",
    "- **Python follow object oriented paradigm as well as functional paradigm, because in Python Functions can be used as first class objects, means:\n",
    "    - A function can be treated just like an object\n",
    "    - You can pass them as arguments to other functions\n",
    "    - You can return them from other functions\n",
    "    - You can assign them to variable"
   ]
  },
  {
   "cell_type": "markdown",
   "id": "fe79c21d",
   "metadata": {},
   "source": [
    "#### a. Basic Examples of Lambda Functions"
   ]
  },
  {
   "cell_type": "code",
   "execution_count": null,
   "id": "dbd801c5",
   "metadata": {},
   "outputs": [],
   "source": [
    "func1 = lambda a, b: a+b\n",
    "rv = func1(7.6, 3)\n",
    "print(rv)\n",
    "print(func1)\n",
    "print(lambda a, b: a+b)"
   ]
  },
  {
   "cell_type": "code",
   "execution_count": null,
   "id": "3efd35f0",
   "metadata": {},
   "outputs": [],
   "source": [
    "# Example: Let us convert following regular function to a lambda function\n",
    "'''\n",
    "def squareof(x):\n",
    "   return x*x\n",
    "\n",
    "rv = squareof(5)\n",
    "print(rv)\n",
    "'''\n",
    "\n",
    "func1 = lambda x: x*x          # func1 is of type function, so you use it to make a call to lambda function\n",
    "print(type(func1))\n",
    "rv = func1(5)\n",
    "print(type(rv))                # return type corresponds to the expression\n",
    "print(rv)\n"
   ]
  },
  {
   "cell_type": "code",
   "execution_count": null,
   "id": "ecf73362",
   "metadata": {},
   "outputs": [],
   "source": [
    "# Example: Let us convert following regular function to a lambda function\n",
    "'''\n",
    "def mysum(a, b, c):\n",
    "   return a+b+c\n",
    "\n",
    "rv = mysum(5)\n",
    "print(rv)\n",
    "'''\n",
    "\n",
    "func1 = lambda a, b, c: a+b+c  # func1 is of type function, so you use it to make a call to lambda function\n",
    "\n",
    "print(type(func1))\n",
    "rv = func1(5.5, 6.3, 2.7)         # return type corresponds to the expression\n",
    "print(type(rv))\n",
    "print (rv)\n"
   ]
  },
  {
   "cell_type": "markdown",
   "id": "3101c48e",
   "metadata": {},
   "source": [
    "#### b. Using Lambda Function as argument to other functions"
   ]
  },
  {
   "cell_type": "code",
   "execution_count": null,
   "id": "03cb8588",
   "metadata": {},
   "outputs": [],
   "source": [
    "# A simple myadd function that receives two arguments and return their sum\n",
    "def myadd(a, b):\n",
    "    return a + b\n",
    "\n",
    "# A simple mysub function that receives two arguments and return their difference\n",
    "def mysub(a, b):\n",
    "    return a - b\n",
    "\n",
    "# Calling above functions\n",
    "rv1 = myadd(5,7)\n",
    "rv2 = mysub(5, 7)\n",
    "rv1, rv2"
   ]
  },
  {
   "cell_type": "code",
   "execution_count": null,
   "id": "ee10f6be",
   "metadata": {},
   "outputs": [],
   "source": [
    "# Using Lambda Function instead \n",
    "def mycalc(op, a, b):\n",
    "    return op(a,b)\n",
    "\n",
    "myadd = lambda a, b: a+b\n",
    "mysub = lambda a, b: a-b\n",
    "\n",
    "rv1 = mycalc(myadd, 5, 7)\n",
    "rv2 = mycalc(mysub, 5, 7)\n",
    "rv1, rv2"
   ]
  },
  {
   "cell_type": "code",
   "execution_count": null,
   "id": "69a5a0b5",
   "metadata": {},
   "outputs": [],
   "source": [
    "# A more elegant way of writing above code\n",
    "def mycalc(op, a, b):\n",
    "    return op(a, b)  # Using the 'operation' argument as a function\n",
    "\n",
    "rv1 = mycalc(lambda a, b: a + b, 5, 7)\n",
    "rv2 = mycalc(lambda a, b: a - b, 5, 7)\n",
    "rv1, rv2"
   ]
  },
  {
   "cell_type": "markdown",
   "id": "1a71d9db",
   "metadata": {},
   "source": [
    "#### c. Using Lambda Function with built-in sorted() function\n",
    "- The sorted() function sorts the items of a given iterable in a specific order (ascending or descending) and returns the sorted iterable as a list.\n",
    "```\n",
    "sorted(iterable, key=None, reverse=False)\n",
    "```\n",
    "where\n",
    "- **iterable** is a sequence (string, tuple, list) or collection (set, dictionary) or any other iterator\n",
    "- **key** (optional argument), which serves as a key for the sort comparison in case of list having composite elements. Default is None.\n",
    "- **reverse** (optional argument), default is false meaning sort in ascending order."
   ]
  },
  {
   "cell_type": "code",
   "execution_count": null,
   "id": "10c10e17",
   "metadata": {},
   "outputs": [],
   "source": [
    "# Example: Use of sorted() function\n",
    "mylist = [5, 3, 21, 1]\n",
    "mylist_sorted = sorted(mylist)\n",
    "mylist_sorted\n"
   ]
  },
  {
   "cell_type": "code",
   "execution_count": null,
   "id": "fd95f27f",
   "metadata": {},
   "outputs": [],
   "source": [
    "# Example: Use of sorted() function\n",
    "mystr = \"Arif\"\n",
    "mystr_sorted = sorted(mystr, reverse=True)\n",
    "mystr_sorted"
   ]
  },
  {
   "cell_type": "code",
   "execution_count": null,
   "id": "4858049a",
   "metadata": {},
   "outputs": [],
   "source": [
    "# Example: Use of sorted() function\n",
    "mytuple = ('f', 'c', 'a', 'b')\n",
    "mytuple_sorted = sorted(mytuple)\n",
    "mytuple_sorted"
   ]
  },
  {
   "cell_type": "code",
   "execution_count": null,
   "id": "50fe4346",
   "metadata": {},
   "outputs": [],
   "source": [
    "# Example: Sorting a list of tuples having two elements each\n",
    "# We want to sort the list random based on the second element of each tuple\n",
    "random = [(4, 30), (6, 15), (1, 25), (9, 8)]\n",
    "\n",
    "def take_second(item):\n",
    "    return item[1]\n",
    "\n",
    "sorted_list = sorted(random, key=take_second)\n",
    "sorted_list"
   ]
  },
  {
   "cell_type": "code",
   "execution_count": null,
   "id": "11db03ab",
   "metadata": {},
   "outputs": [],
   "source": [
    "# Example: A more elegant way of writing above logic is to use Lambda function\n",
    "random = [(4, 30), (6, 15), (1, 25), (9, 8)]\n",
    "\n",
    "sorted_list = sorted(random, key = lambda i : i[1])\n",
    "sorted_list"
   ]
  },
  {
   "cell_type": "code",
   "execution_count": null,
   "id": "2c321edf",
   "metadata": {},
   "outputs": [],
   "source": [
    "# Example: We have five dictionaries in a list having two key:value pairs in each\n",
    "# We want to print these dictionaries in an ascending order of age\n",
    "\n",
    "mylist = [{\"name\": \"Jamil\", \"age\": 54},\n",
    "          {\"name\": \"Maaz\", \"age\": 27},\n",
    "          {\"name\": \"Mujahid\", \"age\": 18},\n",
    "          {\"name\": \"Kamal\", \"age\": 16},\n",
    "          {\"name\": \"Arif\", \"age\": 51}]\n",
    "\n",
    "ordered_list = sorted(mylist, key = lambda i : i['age'])   # i will be the one dictionary on each iteration\n",
    "ordered_list"
   ]
  },
  {
   "cell_type": "markdown",
   "id": "c0d00af9",
   "metadata": {},
   "source": [
    "#### d. Using Lambda Function with built-in map() function\n",
    "- One of the most common things we do with list and other sequences is applying an operation to each item and collect the result.\n",
    "- The ```map(aFunction, aSequence)``` function returns a map object after applying the function to all the elements of this list. \n",
    "- The original list remains unchanged. \n",
    "- The map object can be converted to a list using the list() function\n"
   ]
  },
  {
   "cell_type": "markdown",
   "id": "dcbd3652",
   "metadata": {},
   "source": [
    "**Example1: Suppose we want to square every item of a list**"
   ]
  },
  {
   "cell_type": "code",
   "execution_count": 18,
   "id": "6f1f0056",
   "metadata": {},
   "outputs": [
    {
     "data": {
      "text/plain": [
       "([5, 7, 2, 6, 9], [25, 49, 4, 36, 81])"
      ]
     },
     "execution_count": 18,
     "metadata": {},
     "output_type": "execute_result"
    }
   ],
   "source": [
    "# Option 1:\n",
    "mylist1 = [5, 7, 2, 6, 9]\n",
    "squared1 = []\n",
    "\n",
    "for a in mylist1:\n",
    "    squared1.append(a**2)\n",
    "\n",
    "mylist1, squared1"
   ]
  },
  {
   "cell_type": "code",
   "execution_count": 19,
   "id": "7800b53e",
   "metadata": {},
   "outputs": [
    {
     "data": {
      "text/plain": [
       "(<map at 0x7f9328928eb0>, [25, 49, 4, 36, 81])"
      ]
     },
     "execution_count": 19,
     "metadata": {},
     "output_type": "execute_result"
    }
   ],
   "source": [
    "# Option 2:\n",
    "mylist2 = [5, 7, 2, 6, 9]\n",
    "def sqr(x):\n",
    "    return x ** 2\n",
    "\n",
    "\n",
    "rv1 = map(sqr, mylist2)\n",
    "rv2 = list(map(sqr, mylist2))\n",
    "rv1, rv2"
   ]
  },
  {
   "cell_type": "markdown",
   "id": "244cd0e5",
   "metadata": {},
   "source": [
    "- We passed a user defined function sqr(x), to the map function, along with the list of items on which to apply that function\n",
    "- map() function calls sqr() function on each list item and collects all the return values into a map object, which is type casted to a list\n",
    "- Since map() expects a function to be passed in, so this is where we can also use lambda functions as shown below"
   ]
  },
  {
   "cell_type": "code",
   "execution_count": 29,
   "id": "b8ba4b99",
   "metadata": {},
   "outputs": [
    {
     "data": {
      "text/plain": [
       "[25, 49, 4, 36, 81]"
      ]
     },
     "execution_count": 29,
     "metadata": {},
     "output_type": "execute_result"
    }
   ],
   "source": [
    "# Option 3:\n",
    "mylist3 = [5, 7, 2, 6, 9]\n",
    "\n",
    "squared = list(map(lambda x: x ** 2 , mylist3))\n",
    "squared"
   ]
  },
  {
   "cell_type": "markdown",
   "id": "a2a86c02",
   "metadata": {},
   "source": [
    "**Example2: Suppose we want to get the remainders of every item of a list once divided by 5**"
   ]
  },
  {
   "cell_type": "code",
   "execution_count": 30,
   "id": "ab937bbb",
   "metadata": {},
   "outputs": [
    {
     "data": {
      "text/plain": [
       "[4, 0, 4, 3, 1, 2, 0]"
      ]
     },
     "execution_count": 30,
     "metadata": {},
     "output_type": "execute_result"
    }
   ],
   "source": [
    "numbers = [74, 85, 14, 23, 56, 32, 45 ]\n",
    "\n",
    "remainders = list(map(lambda num: num%5, numbers))\n",
    "remainders"
   ]
  },
  {
   "cell_type": "markdown",
   "id": "4bb135cb",
   "metadata": {},
   "source": [
    "#### e. Using Lambda Function with built-in filter() function\n",
    "- The ```filter(aFunction, aSequence)``` function, filters/extracts elements from a list for which the function returns true\n",
    "- It returns a filter object after applying the function to all the elements of this list\n",
    "- The original list remains unchanged\n",
    "- The filter object can be converted to a list using the list() function"
   ]
  },
  {
   "cell_type": "code",
   "execution_count": 38,
   "id": "c94c7b27",
   "metadata": {},
   "outputs": [
    {
     "data": {
      "text/plain": [
       "(<filter at 0x7f9328846a90>, [4, 6, 8, 12])"
      ]
     },
     "execution_count": 38,
     "metadata": {},
     "output_type": "execute_result"
    }
   ],
   "source": [
    "# Example: Extract even numbers from the list\n",
    "numbers = [1, 5, 4, 6, 8, 11, 3, 12]\n",
    "\n",
    "result = filter(lambda x: (x%2 == 0) , numbers)\n",
    "\n",
    "result, list(result)"
   ]
  },
  {
   "cell_type": "code",
   "execution_count": 36,
   "id": "a63237fb",
   "metadata": {},
   "outputs": [
    {
     "data": {
      "text/plain": [
       "[-3, -8, -3, -7]"
      ]
     },
     "execution_count": 36,
     "metadata": {},
     "output_type": "execute_result"
    }
   ],
   "source": [
    "# Example: Extract only the negative number from the list\n",
    "numbers = [25, -3, -8, 17, 3, 8, -3, 6, -7, 0]\n",
    "result = list(filter(lambda x:x<0, numbers))\n",
    "result"
   ]
  },
  {
   "cell_type": "code",
   "execution_count": 45,
   "id": "2e48544d",
   "metadata": {},
   "outputs": [
    {
     "data": {
      "text/plain": [
       "['i', 'o', 'a', 'e']"
      ]
     },
     "execution_count": 45,
     "metadata": {},
     "output_type": "execute_result"
    }
   ],
   "source": [
    "# Example: Extract vowels from list of alphabets\n",
    "characters = ['i', 'z', 'b', 'o', 'a', 'd', 'f', 't', 'e','w']\n",
    "\n",
    "def myfunc(var):\n",
    "    vowels = ['a', 'e', 'i', 'o', 'u']\n",
    "    if (var in vowels):\n",
    "        return True\n",
    "    else:\n",
    "        return False\n",
    "\n",
    "result = list(filter(myfunc, characters))\n",
    "result"
   ]
  },
  {
   "cell_type": "markdown",
   "id": "581ebe37",
   "metadata": {},
   "source": [
    "#### e. Using Lambda Function with built-in reduce() function\n",
    "- The ```reduce(aFunction, aSequence)``` function, applies a function of two arguments cumulatively to the elements of an iterable, optionally starting with an initial argument\n",
    "- It returns a filter object after applying the function to all the elements of this list\n",
    "- The original list remains unchanged\n",
    "- The filter object can be converted to a list using the list() function"
   ]
  },
  {
   "cell_type": "code",
   "execution_count": 47,
   "id": "0dfd11ac",
   "metadata": {},
   "outputs": [
    {
     "data": {
      "text/plain": [
       "10"
      ]
     },
     "execution_count": 47,
     "metadata": {},
     "output_type": "execute_result"
    }
   ],
   "source": [
    "from functools import reduce\n",
    "numbers = [1,2,3,4]\n",
    "total = 0\n",
    "for num in numbers:\n",
    "    total += num\n",
    "total"
   ]
  },
  {
   "cell_type": "markdown",
   "id": "ea6d4222",
   "metadata": {},
   "source": [
    "The for loop iterates over every value in numbers list and accumulates them in total\n",
    "Let us do the same using reduce() function"
   ]
  },
  {
   "cell_type": "code",
   "execution_count": 48,
   "id": "af79a735",
   "metadata": {},
   "outputs": [
    {
     "data": {
      "text/plain": [
       "10"
      ]
     },
     "execution_count": 48,
     "metadata": {},
     "output_type": "execute_result"
    }
   ],
   "source": [
    "#Example: Note the call to reduce(), applies myadd() to the items in the numbers list to compute their accumulative sum    \n",
    "def myadd(a,b):\n",
    "    return a+b\n",
    "numbers = [1,2,3,4]\n",
    "reduce(myadd, numbers)"
   ]
  },
  {
   "cell_type": "code",
   "execution_count": 50,
   "id": "6b8d8fd0",
   "metadata": {},
   "outputs": [
    {
     "data": {
      "text/plain": [
       "10"
      ]
     },
     "execution_count": 50,
     "metadata": {},
     "output_type": "execute_result"
    }
   ],
   "source": [
    "# Example: Use lambda function for above task\n",
    "numbers = [1,2,3,4]\n",
    "reduce(lambda x,y:x+y, numbers)"
   ]
  },
  {
   "cell_type": "code",
   "execution_count": null,
   "id": "0ff62f2e",
   "metadata": {},
   "outputs": [],
   "source": []
  },
  {
   "cell_type": "markdown",
   "id": "9fe6672c",
   "metadata": {},
   "source": [
    "### Command Line Arguments in Python\n",
    "- The arguments that are given after the name of the program in the command line shell of the operating system are known as Command Line Arguments. \n",
    "- Python provides various ways of dealing with these types of arguments. The three most common are: \n",
    "    - Using sys.argv[]\n",
    "    - Using getopt.getopt()\n",
    "    - Using argparse.ArgumentParser().parse_args()"
   ]
  },
  {
   "cell_type": "code",
   "execution_count": null,
   "id": "b23ed8b9",
   "metadata": {},
   "outputs": [],
   "source": []
  }
 ],
 "metadata": {
  "kernelspec": {
   "display_name": "Python 3 (ipykernel)",
   "language": "python",
   "name": "python3"
  },
  "language_info": {
   "codemirror_mode": {
    "name": "ipython",
    "version": 3
   },
   "file_extension": ".py",
   "mimetype": "text/x-python",
   "name": "python",
   "nbconvert_exporter": "python",
   "pygments_lexer": "ipython3",
   "version": "3.8.10"
  }
 },
 "nbformat": 4,
 "nbformat_minor": 5
}
