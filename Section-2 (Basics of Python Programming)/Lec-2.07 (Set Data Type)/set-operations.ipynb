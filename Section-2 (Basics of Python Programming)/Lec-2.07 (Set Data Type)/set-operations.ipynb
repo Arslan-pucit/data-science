{
 "cells": [
  {
   "cell_type": "markdown",
   "id": "a6651c01",
   "metadata": {},
   "source": [
    "---   \n",
    " <img align=\"left\" width=\"75\" height=\"75\"  src=\"https://upload.wikimedia.org/wikipedia/en/c/c8/University_of_the_Punjab_logo.png\"> \n",
    "\n",
    "<h1 align=\"center\">Department of Data Science</h1>\n",
    "<h1 align=\"center\">Course: Tools and Techniques for Data Science</h1>\n",
    "\n",
    "---\n",
    "<h3><div align=\"right\">Instructor: Muhammad Arif Butt, Ph.D.</div></h3>    "
   ]
  },
  {
   "cell_type": "markdown",
   "id": "a363bc39",
   "metadata": {},
   "source": [
    "<h1 align=\"center\">Lecture 2.7</h1>"
   ]
  },
  {
   "cell_type": "markdown",
   "id": "95de41a5",
   "metadata": {},
   "source": [
    "## _set-operations.ipynb_\n",
    "#### [Click me to learn more about Python Sets](https://www.geeksforgeeks.org/sets-in-python/)"
   ]
  },
  {
   "cell_type": "markdown",
   "id": "7c109b0c",
   "metadata": {},
   "source": [
    "### Learning agenda of this notebook\n",
    "In Python, Set is an unordered collection of data type that is iterable, mutable and has no duplicate elements. The order of elements in a set is undefined.Sets are created using curly brackets. The major advantage of using a set, as opposed to a list, is that it has a highly optimized method for checking whether a specific element is contained in the set.\n",
    "\n",
    "1. How to create Sets?\n",
    "2. Proof of concepts: Sets are heterogeneous, un-ordered, mutable, nested, and DOES NOT allow duplicate elements\n",
    "3. Accessing elements of sets?\n",
    "4. Set concatenation and repetition (can't be performed as on list and tuples)\n",
    "5. Slicing a set (can't be performed as there is no index associated with set values)\n",
    "6. Adding elements to a sets using add, and update methods\n",
    "7. Removing elements from a set using pop, remove and discard methods. \n",
    "8. Converting string object to set and vice-versa (using type casting, split() and join())\n",
    "9. Misc set methods \n",
    "10. Some Built-in functions that can be used on sets (len, max, min, sum)\n",
    "11. Misc Concepts\n",
    "    - Union of sets \n",
    "    - Intersection of sets \n",
    "    - Difference of sets \n",
    "    - Symmetric Difference of sets \n",
    "    - Subsets \n",
    "    - Supersets \n",
    "    - Disjoint sets \n",
    "12. Looping through a set"
   ]
  },
  {
   "cell_type": "markdown",
   "id": "78d11dc1",
   "metadata": {},
   "source": [
    "### 1. How to create Sets?"
   ]
  },
  {
   "cell_type": "code",
   "execution_count": 14,
   "id": "88801cf7",
   "metadata": {},
   "outputs": [
    {
     "data": {
      "text/plain": [
       "({1, 2, 3, 4, 5}, set)"
      ]
     },
     "execution_count": 14,
     "metadata": {},
     "output_type": "execute_result"
    }
   ],
   "source": [
    "# A set is created by placing comma separated values in curly brackets {} OR\n",
    "# A set is created by using set(), and passing a list to it\n",
    "# We will try to use the second option as the curly brackets are also used by dictionary object in Python\n",
    "s1 = {1,2,3,4,5}   #set of integers\n",
    "s1 = set([1, 2, 3, 4, 5])\n",
    "s1, type(s1)"
   ]
  },
  {
   "cell_type": "code",
   "execution_count": 15,
   "id": "1b82a24e",
   "metadata": {},
   "outputs": [
    {
     "name": "stdout",
     "output_type": "stream",
     "text": [
      "{3.8, 3.7, 6.5, 7.95}\n"
     ]
    }
   ],
   "source": [
    "s2 = {3.7, 6.5, 3.8, 7.95}   #set of floats\n",
    "s2 = set([3.7, 6.5, 3.8, 7.95])\n",
    "print(s2)"
   ]
  },
  {
   "cell_type": "code",
   "execution_count": 16,
   "id": "699523dd",
   "metadata": {},
   "outputs": [
    {
     "name": "stdout",
     "output_type": "stream",
     "text": [
      "{'F', 'hello', 'good show', 'this'}\n"
     ]
    }
   ],
   "source": [
    "s3 = {\"hello\", \"this\", \"F\", \"good show\"}   #set of strings\n",
    "s3 = set([\"hello\", \"this\", \"F\", \"good show\"])\n",
    "print(s3)"
   ]
  },
  {
   "cell_type": "code",
   "execution_count": 17,
   "id": "bcb32ccb",
   "metadata": {},
   "outputs": [
    {
     "name": "stdout",
     "output_type": "stream",
     "text": [
      "{False, True}\n"
     ]
    }
   ],
   "source": [
    "s4 = {True, False, True, True, False}   #set of boolean\n",
    "s4 = set([True, False, True, True, False])\n",
    "print(s4)\n"
   ]
  },
  {
   "cell_type": "code",
   "execution_count": 18,
   "id": "4ba31757",
   "metadata": {},
   "outputs": [
    {
     "name": "stdout",
     "output_type": "stream",
     "text": [
      "set()\n",
      "<class 'set'>\n"
     ]
    }
   ],
   "source": [
    "# creating an empty set\n",
    "#emptyset = {}  # this is not correct way\n",
    "\n",
    "# to create empty set, we can use set()\n",
    "s5 = set()\n",
    "print(s5)\n",
    "print(type(s5))"
   ]
  },
  {
   "cell_type": "markdown",
   "id": "48f77dc4",
   "metadata": {},
   "source": [
    "### 2. Proof of concepts: Sets are heterogeneous, unordered, mutable, nested, and does not allow duplicate elements"
   ]
  },
  {
   "cell_type": "markdown",
   "id": "39ca07b0",
   "metadata": {},
   "source": [
    "#### a. Sets are heterogeneous\n",
    "- Sets are heterogeneous, as their elements/items can be of any data type"
   ]
  },
  {
   "cell_type": "code",
   "execution_count": 42,
   "id": "bc6ff398",
   "metadata": {},
   "outputs": [
    {
     "name": "stdout",
     "output_type": "stream",
     "text": [
      "s1:  {5.5, 30, 'Arif'}\n"
     ]
    }
   ],
   "source": [
    "s1 = {\"Arif\", 30, 5.5}\n",
    "print(\"s1: \", s1)"
   ]
  },
  {
   "cell_type": "markdown",
   "id": "8cab05cb",
   "metadata": {},
   "source": [
    "#### b. Sets are unordered\n",
    "- Sets are unordered means elements of a set are NOT associated by any index\n",
    "- When you access set elements they may show up in different sequence. \n",
    "- Moreover, two sets having same elements in different order are same by contents but ofcourse by id."
   ]
  },
  {
   "cell_type": "code",
   "execution_count": 66,
   "id": "204c5f5a",
   "metadata": {},
   "outputs": [
    {
     "name": "stdout",
     "output_type": "stream",
     "text": [
      "{'fun', 'with', 'is', 'learning', 'Arif'}\n"
     ]
    }
   ],
   "source": [
    "s2 = set(['learning', 'is', 'fun', 'with', 'Arif'])\n",
    "print(s2)"
   ]
  },
  {
   "cell_type": "code",
   "execution_count": 45,
   "id": "0a78ae5f",
   "metadata": {},
   "outputs": [
    {
     "data": {
      "text/plain": [
       "(140425097499360, 140425096637344, True, False)"
      ]
     },
     "execution_count": 45,
     "metadata": {},
     "output_type": "execute_result"
    }
   ],
   "source": [
    "a = {1, 2, 3}\n",
    "b = {2, 3, 1}\n",
    "id(a), id(b), a == b, a is b"
   ]
  },
  {
   "cell_type": "markdown",
   "id": "97158f1c",
   "metadata": {},
   "source": [
    "#### c. Sets are mutable\n",
    "- Means once a set object is created, you can make changes to it and modify its elements\n",
    "- However, since they cannot be indexed, so we can't change them using subscript operator"
   ]
  },
  {
   "cell_type": "code",
   "execution_count": 52,
   "id": "20dd3eb4",
   "metadata": {},
   "outputs": [
    {
     "name": "stdout",
     "output_type": "stream",
     "text": [
      "numbers:  {40, 10, 50, 20, 30}\n"
     ]
    }
   ],
   "source": [
    "numbers = set([10, 20, 30, 40, 50])\n",
    "#numbers[2] = 15   # error: 'set' object does not support item assignment\n",
    "\n",
    "print(\"numbers: \", numbers)"
   ]
  },
  {
   "cell_type": "markdown",
   "id": "2672fb9b",
   "metadata": {},
   "source": [
    "#### d. Sets CANNOT have duplicate elements"
   ]
  },
  {
   "cell_type": "code",
   "execution_count": 53,
   "id": "44eca53d",
   "metadata": {},
   "outputs": [
    {
     "name": "stdout",
     "output_type": "stream",
     "text": [
      "{'Mujahid', 'Rauf', 'Hadeed', 'Arif'}\n"
     ]
    }
   ],
   "source": [
    "# Sets do not allow duplicate elements\n",
    "# The following line will not raise an error, however, 'Arif' will be added to the set only once\n",
    "names = {'Arif', 'Rauf', 'Hadeed', 'Arif', 'Mujahid'}\n",
    "print(names)"
   ]
  },
  {
   "cell_type": "code",
   "execution_count": 59,
   "id": "cf09e096",
   "metadata": {},
   "outputs": [
    {
     "name": "stdout",
     "output_type": "stream",
     "text": [
      "\n",
      "List:  [2, 4, 5, 6, 8, 7, 3, 3, 2]\n",
      "List converted to set:  {2, 3, 4, 5, 6, 7, 8}\n"
     ]
    }
   ],
   "source": [
    "# So when we want to remove duplication from list, we typecast it to a set\n",
    "mylist = [2, 4, 5, 6, 8, 7, 3, 3, 2]\n",
    "print(\"\\nList: \", mylist)\n",
    "myset = set(mylist)\n",
    "print(\"List converted to set: \", myset)"
   ]
  },
  {
   "cell_type": "markdown",
   "id": "f15c5f09",
   "metadata": {},
   "source": [
    "#### e. Nested Sets\n",
    "- You can have tuple inside a set\n",
    "- You CANNOT have a list inside a set, because sets cannot contain mutable values (lists are mutable)\n",
    "- Similarly, you cannot have a set within a set, because sets cannot contain mutable values (sets are mutable)\n",
    "- This is one situation where you may wish to use a frozenset, which is very similar to a set except that a frozenset is immutable."
   ]
  },
  {
   "cell_type": "code",
   "execution_count": 58,
   "id": "9b7a9473",
   "metadata": {},
   "outputs": [
    {
     "name": "stdout",
     "output_type": "stream",
     "text": [
      "{(10, 'rauf'), 5.5, 30, 'Arif'}\n"
     ]
    }
   ],
   "source": [
    "# Nested sets: sets can have another tuple as an item\n",
    "s1 = {\"Arif\", 30, 5.5, (10,'rauf')}\n",
    "print(s1)"
   ]
  },
  {
   "cell_type": "code",
   "execution_count": 55,
   "id": "730c6029",
   "metadata": {},
   "outputs": [],
   "source": [
    "# However, you cannot have a list inside a set, , because sets cannot contain mutable values (lists are mutable)\n",
    "#s1 = {\"Arif\", 30, 5.5, [10,'rauf']} # Error unhashable type list"
   ]
  },
  {
   "cell_type": "code",
   "execution_count": 57,
   "id": "78cb26b4",
   "metadata": {},
   "outputs": [
    {
     "ename": "TypeError",
     "evalue": "unhashable type: 'set'",
     "output_type": "error",
     "traceback": [
      "\u001b[0;31m---------------------------------------------------------------------------\u001b[0m",
      "\u001b[0;31mTypeError\u001b[0m                                 Traceback (most recent call last)",
      "\u001b[0;32m/var/folders/1t/g3ylw8h50cjdqmk5d6jh1qmm0000gn/T/ipykernel_7441/2122165921.py\u001b[0m in \u001b[0;36m<module>\u001b[0;34m\u001b[0m\n\u001b[1;32m      1\u001b[0m \u001b[0;31m#Similarly, you cannot have a set within a set, because sets cannot contain mutable values (sets are mutable)\u001b[0m\u001b[0;34m\u001b[0m\u001b[0;34m\u001b[0m\u001b[0;34m\u001b[0m\u001b[0m\n\u001b[0;32m----> 2\u001b[0;31m \u001b[0ms7\u001b[0m \u001b[0;34m=\u001b[0m \u001b[0;34m{\u001b[0m\u001b[0;34m\"Arif\"\u001b[0m\u001b[0;34m,\u001b[0m \u001b[0;36m30\u001b[0m\u001b[0;34m,\u001b[0m \u001b[0;36m5.5\u001b[0m\u001b[0;34m,\u001b[0m \u001b[0;34m{\u001b[0m\u001b[0;36m10\u001b[0m\u001b[0;34m,\u001b[0m\u001b[0;34m'rauf'\u001b[0m\u001b[0;34m}\u001b[0m\u001b[0;34m}\u001b[0m \u001b[0;31m# Error unhashable type list\u001b[0m\u001b[0;34m\u001b[0m\u001b[0;34m\u001b[0m\u001b[0m\n\u001b[0m",
      "\u001b[0;31mTypeError\u001b[0m: unhashable type: 'set'"
     ]
    }
   ],
   "source": [
    "#Similarly, you cannot have a set within a set, because sets cannot contain mutable values (sets are mutable)\n",
    "#s1 = {\"Arif\", 30, 5.5, {10,'rauf'}} # Error unhashable type set"
   ]
  },
  {
   "cell_type": "markdown",
   "id": "188b18b7",
   "metadata": {},
   "source": [
    "#### f. Packing and Unpacking Sets"
   ]
  },
  {
   "cell_type": "code",
   "execution_count": 65,
   "id": "4fc9e430",
   "metadata": {},
   "outputs": [
    {
     "name": "stdout",
     "output_type": "stream",
     "text": [
      "{'fun', 'with', 'is', 'learning', 'Arif'}\n",
      "fun with is learning Arif\n",
      "<class 'str'>\n"
     ]
    }
   ],
   "source": [
    "# you can assign individual elements of set to string variables\n",
    "myset = set(['learning', 'is', 'fun', 'with', 'Arif'])\n",
    "print(myset)\n",
    "a, b, c, d, e = myset # the number of variables on the left must match the length of set\n",
    "print (a, b, c, d, e)\n",
    "print(type(a))"
   ]
  },
  {
   "cell_type": "markdown",
   "id": "418db83b",
   "metadata": {},
   "source": [
    "### 3. Different ways to access elements of a Set\n",
    "- Set items cannot be accessed by referring to an index, Since sets are unordered, i.e., the items have no associated index\n",
    "- But you can loop through the set items using a for loop, or \n",
    "- Ask if a specified value is present in a set, by using the in keyword."
   ]
  },
  {
   "cell_type": "code",
   "execution_count": 72,
   "id": "ef2037c4",
   "metadata": {},
   "outputs": [
    {
     "name": "stdout",
     "output_type": "stream",
     "text": [
      "myset:  {'fun', 'with', 'is', 'learning', 'Arif'}\n"
     ]
    }
   ],
   "source": [
    "# Set items cannot be accessed by referring to an index, since sets are unordered the items has no index. \n",
    "myset = set(['learning', 'is', 'fun', 'with', 'Arif'])\n",
    "myset = {'learning', 'is', 'fun', 'with', 'Arif'}\n",
    "print(\"myset: \", myset)"
   ]
  },
  {
   "cell_type": "code",
   "execution_count": 71,
   "id": "5e66b052",
   "metadata": {},
   "outputs": [
    {
     "name": "stdout",
     "output_type": "stream",
     "text": [
      "fun with is learning Arif "
     ]
    }
   ],
   "source": [
    "# But you can loop through the set items using a for loop\n",
    "myset = set(['learning', 'is', 'fun', 'with', 'Arif'])\n",
    "for i in myset:\n",
    "    print(i, end=' ')"
   ]
  },
  {
   "cell_type": "code",
   "execution_count": 73,
   "id": "d42c7653",
   "metadata": {},
   "outputs": [
    {
     "data": {
      "text/plain": [
       "True"
      ]
     },
     "execution_count": 73,
     "metadata": {},
     "output_type": "execute_result"
    }
   ],
   "source": [
    "# To check if a specific element is there in the set, use the in keyword\n",
    "rv = 'fun' in myset\n",
    "rv"
   ]
  },
  {
   "cell_type": "markdown",
   "id": "6981795a",
   "metadata": {},
   "source": [
    "### 4. You cannot perform Slicing on Sets\n",
    "- Slicing is the process of obtaining a portion of a sequence by using its indices.\n",
    "- Since no indices are associated with Set elements, so they do not support slicing or indexing in [ ] operator"
   ]
  },
  {
   "cell_type": "markdown",
   "id": "f675f997",
   "metadata": {},
   "source": [
    "### 5. You cannot perform Set Concatenation and Repetition\n",
    "- The concatenation operator (+) and replication operator (*) does not work on sets"
   ]
  },
  {
   "cell_type": "markdown",
   "id": "0089ec98",
   "metadata": {},
   "source": [
    "### 6. Adding elements to a Set using add() and update() methods\n",
    "- Sets are dynamic, as we write our Python program, we can actually make changes to our already created set, whithout having to go for compiling it again. \n",
    "- If we have to add certain elements to an already created set, the original set gorws dynamically without the need of compiling/running the program again (as in case of heap memory in C/C++)"
   ]
  },
  {
   "cell_type": "code",
   "execution_count": 86,
   "id": "37eca3ae",
   "metadata": {},
   "outputs": [
    {
     "name": "stdout",
     "output_type": "stream",
     "text": [
      "Empty Set:  set()\n",
      "Set after adding three elements:  {73, 25, (19, 77)}\n"
     ]
    }
   ],
   "source": [
    "# add(val) method is used to add elements to a set\n",
    "# Only one element at a time can be added to the set by using add() method\n",
    "# Lists and sets cannot be added to a set as elements because they are not hashable \n",
    "# Tuples can be added because tuples are immutable and hence Hashable. \n",
    "set1 = set()\n",
    "print(\"Empty Set: \", set1)\n",
    "set1.add(25)\n",
    "set1.add(73)\n",
    "set1.add((19,77))\n",
    "print(\"Set after adding three elements: \", set1)\n"
   ]
  },
  {
   "cell_type": "code",
   "execution_count": 87,
   "id": "4ca664fe",
   "metadata": {},
   "outputs": [
    {
     "data": {
      "text/plain": [
       "{12, 3.5, 4, 9, 'hadeed'}"
      ]
     },
     "execution_count": 87,
     "metadata": {},
     "output_type": "execute_result"
    }
   ],
   "source": [
    "# update() method is used to add two or more elements, passed as a list\n",
    "set2 = set([4, 9, 12])\n",
    "set2.update(['hadeed', 4, 3.5]) # Note the duplicate element 4 will not be added twice\n",
    "set2"
   ]
  },
  {
   "cell_type": "code",
   "execution_count": 88,
   "id": "b619bbe3",
   "metadata": {},
   "outputs": [
    {
     "data": {
      "text/plain": [
       "{12, 4, 9, 'arif', 'rauf'}"
      ]
     },
     "execution_count": 88,
     "metadata": {},
     "output_type": "execute_result"
    }
   ],
   "source": [
    "# update() method is used to add two or more elements, passed as a list\n",
    "set3 = set([4, 9, 12])\n",
    "set3.update(['arif', 'rauf'])\n",
    "set3"
   ]
  },
  {
   "cell_type": "code",
   "execution_count": 89,
   "id": "9671ff93",
   "metadata": {},
   "outputs": [
    {
     "data": {
      "text/plain": [
       "{(44, 33), (99, 88), 12, 4, 9}"
      ]
     },
     "execution_count": 89,
     "metadata": {},
     "output_type": "execute_result"
    }
   ],
   "source": [
    "# the update() method accepts a list having one or more tuples as its argument\n",
    "set4 = set([4, 9, 12])\n",
    "set4.update([(99, 88), (44, 33)])\n",
    "set4"
   ]
  },
  {
   "cell_type": "markdown",
   "id": "ae40dd9e",
   "metadata": {},
   "source": [
    "### 7. Removing elements from a set using pop(), remove() and discard() methods\n",
    "- Sets are dynamic, as we write our Python program, we can actually make changes to our already created sets, whithout having to go for compiling it again. \n",
    "- If we have to remove certain elements from an already created set, the original set shrinks dynamically without the need of compiling/running the program again (as in case of heap memory in C/C++)"
   ]
  },
  {
   "cell_type": "markdown",
   "id": "e68b7d6e",
   "metadata": {},
   "source": [
    "#### a. Removing element from a set using pop(index) method"
   ]
  },
  {
   "cell_type": "code",
   "execution_count": 95,
   "id": "33f7704a",
   "metadata": {},
   "outputs": [
    {
     "name": "stdout",
     "output_type": "stream",
     "text": [
      "Original set:  {'fun', 'arif', 'with', 'is', 'learning', 'butt'}\n",
      "Element popped is:  fun\n",
      "Set now is:  {'arif', 'with', 'is', 'learning', 'butt'}\n",
      "Element popped is:  arif\n",
      "Set now is:  {'with', 'is', 'learning', 'butt'}\n"
     ]
    }
   ],
   "source": [
    "# pop() method without any argument removes the last item in the list and returns it\n",
    "s1 = {'learning', 'is', 'fun', 'with', 'arif', 'butt'}\n",
    "print(\"Original set: \", s1)\n",
    "\n",
    "x  = s1.pop()\n",
    "print(\"Element popped is: \", x)\n",
    "print(\"Set now is: \", s1)\n",
    "\n",
    "y  = s1.pop()\n",
    "print(\"Element popped is: \", y)\n",
    "print(\"Set now is: \", s1)"
   ]
  },
  {
   "cell_type": "markdown",
   "id": "c671b027",
   "metadata": {},
   "source": [
    "#### b. Removing element from a set using remove(val) method"
   ]
  },
  {
   "cell_type": "code",
   "execution_count": 97,
   "id": "4f57faff",
   "metadata": {},
   "outputs": [
    {
     "name": "stdout",
     "output_type": "stream",
     "text": [
      "\n",
      "Original set:  {'Science', 'to', 'of', 'department', 'Welcome', 'Data'}\n",
      "After remove('department'):  {'Science', 'to', 'of', 'Welcome', 'Data'}\n",
      "Return value of remove() is:  None\n"
     ]
    }
   ],
   "source": [
    "# The remove(val) method is used to remove a specific element without returning it\n",
    "# The remove method is passed exactly one argument, which is the value to be removed and returns none/void\n",
    "s2 = set(['Welcome', 'to', 'department', 'of', 'Data', 'Science'])\n",
    "print(\"\\nOriginal set: \", s2)\n",
    "\n",
    "x = s2.remove('department')\n",
    "print(\"After remove('department'): \", s2)\n",
    "print(\"Return value of remove() is: \", x)\n",
    "\n",
    "# If the element to be removed does not exist in the set remove() method will flag an error\n",
    "#y = s2.remove('arif')  # Error: Element doesn’t exist in the set. "
   ]
  },
  {
   "cell_type": "markdown",
   "id": "3e3173d2",
   "metadata": {},
   "source": [
    "#### c. Removing element from a set using discard(val) method"
   ]
  },
  {
   "cell_type": "code",
   "execution_count": 99,
   "id": "1aea3ce6",
   "metadata": {},
   "outputs": [
    {
     "data": {
      "text/plain": [
       "{'Data', 'Science', 'Welcome', 'department', 'of', 'to'}"
      ]
     },
     "execution_count": 99,
     "metadata": {},
     "output_type": "execute_result"
    }
   ],
   "source": [
    "# The discard(val) method overcome the limitation of remove(val) method, \n",
    "# i.e., if the element doesn’t exist in the set, no error is raised and the set remains unchanged.\n",
    "s2 = set(['Welcome', 'to', 'department', 'of', 'Data', 'Science'])\n",
    "y = s2.discard('arif')\n",
    "s2"
   ]
  },
  {
   "cell_type": "markdown",
   "id": "dda6cf82",
   "metadata": {},
   "source": [
    "#### d. Using clear() method to remove all the set elements"
   ]
  },
  {
   "cell_type": "code",
   "execution_count": null,
   "id": "68d85dc0",
   "metadata": {},
   "outputs": [],
   "source": [
    "#use the clear() method to empty a set\n",
    "s2.clear()\n",
    "print(\"\\nAfter clear() the list becomes empty: \", s2)\n",
    "\n"
   ]
  },
  {
   "cell_type": "markdown",
   "id": "b25354c2",
   "metadata": {},
   "source": [
    "#### e. Using del Keyword to delete the set entirely from memory"
   ]
  },
  {
   "cell_type": "code",
   "execution_count": 101,
   "id": "149dc87f",
   "metadata": {},
   "outputs": [
    {
     "name": "stdout",
     "output_type": "stream",
     "text": [
      "\n",
      "Original set:  {'Science', 'to', 'of', 'department', 'Welcome', 'Data'}\n"
     ]
    },
    {
     "ename": "NameError",
     "evalue": "name 's2' is not defined",
     "output_type": "error",
     "traceback": [
      "\u001b[0;31m---------------------------------------------------------------------------\u001b[0m",
      "\u001b[0;31mNameError\u001b[0m                                 Traceback (most recent call last)",
      "\u001b[0;32m/var/folders/1t/g3ylw8h50cjdqmk5d6jh1qmm0000gn/T/ipykernel_7441/1037147555.py\u001b[0m in \u001b[0;36m<module>\u001b[0;34m\u001b[0m\n\u001b[1;32m      3\u001b[0m \u001b[0mprint\u001b[0m\u001b[0;34m(\u001b[0m\u001b[0;34m\"\\nOriginal set: \"\u001b[0m\u001b[0;34m,\u001b[0m \u001b[0ms2\u001b[0m\u001b[0;34m)\u001b[0m\u001b[0;34m\u001b[0m\u001b[0;34m\u001b[0m\u001b[0m\n\u001b[1;32m      4\u001b[0m \u001b[0;32mdel\u001b[0m \u001b[0ms2\u001b[0m\u001b[0;34m\u001b[0m\u001b[0;34m\u001b[0m\u001b[0m\n\u001b[0;32m----> 5\u001b[0;31m \u001b[0mprint\u001b[0m\u001b[0;34m(\u001b[0m\u001b[0ms2\u001b[0m\u001b[0;34m)\u001b[0m\u001b[0;34m\u001b[0m\u001b[0;34m\u001b[0m\u001b[0m\n\u001b[0m",
      "\u001b[0;31mNameError\u001b[0m: name 's2' is not defined"
     ]
    }
   ],
   "source": [
    "# use del keyword to delete entire set, (you cannot delete a specific element as it is non-indexed)\n",
    "s2 = set(['Welcome', 'to', 'department', 'of', 'Data', 'Science'])\n",
    "print(\"\\nOriginal set: \", s2)\n",
    "del s2\n",
    "print(s2)"
   ]
  },
  {
   "cell_type": "markdown",
   "id": "0f4dd1c2",
   "metadata": {},
   "source": [
    "### 8. Converting string object to set and vice-versa (using type casting, split() and join())"
   ]
  },
  {
   "cell_type": "code",
   "execution_count": 105,
   "id": "24e78729",
   "metadata": {},
   "outputs": [
    {
     "name": "stdout",
     "output_type": "stream",
     "text": [
      "Original string:  Learning is fun\n",
      "s1:  {'n', 'r', 's', 'L', 'i', 'g', 'a', 'u', ' ', 'e', 'f'} and its type is:   <class 'set'>\n"
     ]
    }
   ],
   "source": [
    "# convert a string into set using set()\n",
    "str1 = 'Learning is fun'    #this is a string\n",
    "print(\"Original string: \", str1)\n",
    "\n",
    "s1 = set(str1)\n",
    "print(\"s1: \", s1, \"and its type is:  \", type(s1))"
   ]
  },
  {
   "cell_type": "code",
   "execution_count": 110,
   "id": "541be7e8",
   "metadata": {},
   "outputs": [
    {
     "name": "stdout",
     "output_type": "stream",
     "text": [
      "Original string:  Learning is fun\n",
      "myset:  {'fun', 'Learning', 'is'}\n",
      "Type of myset is:  <class 'set'>\n"
     ]
    }
   ],
   "source": [
    "# split() method is used to tokenize a string based on some delimiter, which can be stored in a list\n",
    "# returns a list having tokens of the string based on spaces if no argument is passed\n",
    "mystr = 'Learning is fun'    #this is a string\n",
    "print(\"Original string: \", str1)\n",
    "\n",
    "myset = set(str1.split(' '))\n",
    "print(\"myset: \", myset)\n",
    "print(\"Type of myset is: \", type(myset))"
   ]
  },
  {
   "cell_type": "code",
   "execution_count": 111,
   "id": "0d0043a6",
   "metadata": {},
   "outputs": [
    {
     "name": "stdout",
     "output_type": "stream",
     "text": [
      "Original set:  {'fun', 'Learning', 'is'}\n",
      "mystr:  fun Learning is\n",
      "Type of mystr is:   <class 'str'>\n"
     ]
    }
   ],
   "source": [
    "#join is the reverse of split\n",
    "myset = {'Learning', 'is', 'fun'}\n",
    "print(\"Original set: \", myset)\n",
    "delimeter = ' '\n",
    "mystr = delimeter.join(myset)\n",
    "print(\"mystr: \", mystr)\n",
    "print(\"Type of mystr is:  \", type(mystr))"
   ]
  },
  {
   "cell_type": "markdown",
   "id": "fbf88b2e",
   "metadata": {},
   "source": [
    "### 9. You cannot call sort() and reverse() method on Sets being unordered in nature"
   ]
  },
  {
   "cell_type": "markdown",
   "id": "aa367cb0",
   "metadata": {},
   "source": [
    "### 10. Some Built-in functions that can be used on sets"
   ]
  },
  {
   "cell_type": "code",
   "execution_count": 115,
   "id": "2f025aa2",
   "metadata": {},
   "outputs": [
    {
     "name": "stdout",
     "output_type": "stream",
     "text": [
      "length of set:  6\n",
      "max element in set:  8\n",
      "min element in list:  0\n",
      "Sum of element in list:  22\n",
      "False\n",
      "True\n"
     ]
    }
   ],
   "source": [
    "s1 = set([3, 8, 1, 6, 0, 8, 4])\n",
    "\n",
    "print(\"length of set: \", len(s1))\n",
    "print(\"max element in set: \", max(s1))\n",
    "print(\"min element in list: \",min(s1))\n",
    "print(\"Sum of element in list: \",sum(s1))\n",
    "\n",
    "# Membership (in) operator\n",
    "rv1 = 9 in s1\n",
    "print(rv1)\n",
    "\n",
    "\n",
    "# Membership (in) operator\n",
    "rv1 = 8 in s1\n",
    "print(rv1)"
   ]
  },
  {
   "cell_type": "markdown",
   "id": "ff517f2e",
   "metadata": {},
   "source": [
    "### 11. Misc Concepts specifically related to Sets"
   ]
  },
  {
   "cell_type": "markdown",
   "id": "57a57000",
   "metadata": {},
   "source": [
    "#### a. Union of sets"
   ]
  },
  {
   "cell_type": "code",
   "execution_count": 119,
   "id": "5ba0e04b",
   "metadata": {},
   "outputs": [
    {
     "name": "stdout",
     "output_type": "stream",
     "text": [
      "set1:  {'rauf', 'arif'}\n",
      "set2:  {'hadeed', 'maaz', 'arif'}\n",
      "set1 | set2:  {'rauf', 'hadeed', 'maaz', 'arif'}\n"
     ]
    }
   ],
   "source": [
    "# A union() method or symbol (|), returns the set of all values that are values in set1, or set2, or both\n",
    "# You can use the union method to find out all the unique values in two sets.\n",
    "set1 = {'arif', 'rauf'}\n",
    "set2 = {'maaz', 'hadeed', 'arif'}\n",
    "\n",
    "set3 = set1 | set2\n",
    "set3 = set1.union(set2)\n",
    "\n",
    "print(\"set1: \", set1)\n",
    "print(\"set2: \", set2)\n",
    "print(\"set1 | set2: \", set3)"
   ]
  },
  {
   "cell_type": "markdown",
   "id": "2aae08e0",
   "metadata": {},
   "source": [
    "#### b. Intersection of Sets"
   ]
  },
  {
   "cell_type": "code",
   "execution_count": 120,
   "id": "596c6b8d",
   "metadata": {
    "scrolled": true
   },
   "outputs": [
    {
     "name": "stdout",
     "output_type": "stream",
     "text": [
      "set1:  {'rauf', 'arif'}\n",
      "set2:  {'hadeed', 'maaz', 'arif'}\n",
      "set1 & set2:  {'arif'}\n"
     ]
    }
   ],
   "source": [
    "# The intersection() method or symbol (&), returns the set of all values that are values of both set1 and set2\n",
    "set1 = {'arif', 'rauf'}\n",
    "set2 = {'maaz', 'hadeed', 'arif'}\n",
    "\n",
    "set3 = set1 & set2\n",
    "set4 = set1.intersection(set2)\n",
    "\n",
    "print(\"set1: \", set1)\n",
    "print(\"set2: \", set2)\n",
    "print(\"set1 & set2: \", set4)"
   ]
  },
  {
   "cell_type": "markdown",
   "id": "0f4febac",
   "metadata": {},
   "source": [
    "#### c. Difference of Sets"
   ]
  },
  {
   "cell_type": "code",
   "execution_count": 121,
   "id": "d8248e80",
   "metadata": {},
   "outputs": [
    {
     "name": "stdout",
     "output_type": "stream",
     "text": [
      "set1:  {'rauf', 'arif'}\n",
      "set2:  {'hadeed', 'maaz', 'arif'}\n",
      "set1 - set2:  {'rauf'}\n"
     ]
    }
   ],
   "source": [
    "# The difference() method or symbol (-), returns the set of all values of set1, which are not there in set2\n",
    "set1 = {'arif', 'rauf'}\n",
    "set2 = {'maaz', 'hadeed', 'arif'}\n",
    "\n",
    "set3 = set1 - set2\n",
    "set4 = set1.difference(set2)\n",
    "\n",
    "print(\"set1: \", set1)\n",
    "print(\"set2: \", set2)\n",
    "print(\"set1 - set2: \", set4)"
   ]
  },
  {
   "cell_type": "markdown",
   "id": "a97fc461",
   "metadata": {},
   "source": [
    "#### d. Symmetric Difference of Sets"
   ]
  },
  {
   "cell_type": "code",
   "execution_count": 122,
   "id": "a89c59b7",
   "metadata": {},
   "outputs": [
    {
     "name": "stdout",
     "output_type": "stream",
     "text": [
      "set1:  {'rauf', 'arif'}\n",
      "set2:  {'hadeed', 'maaz', 'arif'}\n",
      "set1 ^ set2:  {'rauf', 'hadeed', 'maaz'}\n"
     ]
    }
   ],
   "source": [
    "# The symmetric_difference() method or symbol (^), returns the (set1 | set2)  - (set1 & set2)\n",
    "set1 = {'arif', 'rauf'}\n",
    "set2 = {'maaz', 'hadeed', 'arif'}\n",
    "\n",
    "set3 = set1 ^ set2\n",
    "set4 = set1.symmetric_difference(set2)\n",
    "\n",
    "print(\"set1: \", set1)\n",
    "print(\"set2: \", set2)\n",
    "print(\"set1 ^ set2: \", set4)"
   ]
  },
  {
   "cell_type": "markdown",
   "id": "96e8b480",
   "metadata": {},
   "source": [
    "#### e. Checking Subset"
   ]
  },
  {
   "cell_type": "code",
   "execution_count": 124,
   "id": "24945626",
   "metadata": {},
   "outputs": [
    {
     "name": "stdout",
     "output_type": "stream",
     "text": [
      "True\n",
      "True\n"
     ]
    }
   ],
   "source": [
    "# To check if one set is a subset of other set use issubset() method or <= operator\n",
    "# issubset() method returns whether another set contains this set or not\n",
    "s1 = {1,2,3,4,5,6,7}\n",
    "s2 = {1,2,3,4}\n",
    "\n",
    "print(s2.issubset(s1))     # is s2 a subset of s1\n",
    "print(s2 <= s1)            # is s2 a subset of s1"
   ]
  },
  {
   "cell_type": "markdown",
   "id": "8f00f73f",
   "metadata": {},
   "source": [
    "#### f. Checking Superset"
   ]
  },
  {
   "cell_type": "code",
   "execution_count": 126,
   "id": "865d531d",
   "metadata": {},
   "outputs": [
    {
     "name": "stdout",
     "output_type": "stream",
     "text": [
      "True\n",
      "True\n"
     ]
    }
   ],
   "source": [
    "# to check if one set is a superset of anoter set use issuperset() method or >= operator\n",
    "s1 = {1,2,3,4,5,6,7}\n",
    "s2 = {1,2,3,4}\n",
    "\n",
    "print(s1.issuperset(s2)) # is s1 a superset of s2\n",
    "print(s1 >= s2)          # is s1 a superset of s2"
   ]
  },
  {
   "cell_type": "markdown",
   "id": "e306e198",
   "metadata": {},
   "source": [
    "#### g. Checking Disjoint"
   ]
  },
  {
   "cell_type": "code",
   "execution_count": 127,
   "id": "0411ca5d",
   "metadata": {},
   "outputs": [
    {
     "name": "stdout",
     "output_type": "stream",
     "text": [
      "False\n",
      "True\n"
     ]
    }
   ],
   "source": [
    "# To check if two sets are disjoint (no intersection) use isdisjoint() method\n",
    "s1 = {1,2,3,4,5,6,7}\n",
    "s2 = {1,2,3,4}\n",
    "print(s1.isdisjoint(s2))\n",
    "\n",
    "# Another example\n",
    "s3 = {1,2,3,4}\n",
    "s4 = {5,6,7,8}\n",
    "print(s3.isdisjoint(s4))\n",
    "\n"
   ]
  },
  {
   "cell_type": "markdown",
   "id": "a578a6c3",
   "metadata": {},
   "source": [
    "### 12. Looping through set elements (More on loops in next lecture)"
   ]
  },
  {
   "cell_type": "code",
   "execution_count": 136,
   "id": "13ccd703",
   "metadata": {},
   "outputs": [
    {
     "name": "stdout",
     "output_type": "stream",
     "text": [
      "fun\n",
      "Learning\n",
      "with\n",
      "is\n",
      "Arif Butt\n"
     ]
    }
   ],
   "source": [
    "# while loop iterates over the elements until a certain condition is met\n",
    "set1 = {'Learning', 'is', 'fun', 'with', 'Arif Butt'}\n",
    "\n",
    "for x in set1:\n",
    "    print(x)"
   ]
  }
 ],
 "metadata": {
  "kernelspec": {
   "display_name": "Python 3 (ipykernel)",
   "language": "python",
   "name": "python3"
  },
  "language_info": {
   "codemirror_mode": {
    "name": "ipython",
    "version": 3
   },
   "file_extension": ".py",
   "mimetype": "text/x-python",
   "name": "python",
   "nbconvert_exporter": "python",
   "pygments_lexer": "ipython3",
   "version": "3.8.10"
  }
 },
 "nbformat": 4,
 "nbformat_minor": 5
}
