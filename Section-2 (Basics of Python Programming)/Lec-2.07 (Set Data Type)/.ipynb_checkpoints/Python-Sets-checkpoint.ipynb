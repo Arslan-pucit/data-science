{
 "cells": [
  {
   "cell_type": "markdown",
   "id": "a6651c01",
   "metadata": {},
   "source": [
    "---   \n",
    " <img align=\"left\" width=\"75\" height=\"75\"  src=\"https://upload.wikimedia.org/wikipedia/en/c/c8/University_of_the_Punjab_logo.png\"> \n",
    "\n",
    "<h1 align=\"center\">Department of Data Science</h1>\n",
    "<h1 align=\"center\">Course: Tools and Techniques for Data Science</h1>\n",
    "\n",
    "---\n",
    "<h3><div align=\"right\">Instructor: Muhammad Arif Butt, Ph.D.</div></h3>    "
   ]
  },
  {
   "cell_type": "markdown",
   "id": "a363bc39",
   "metadata": {},
   "source": [
    "<h1 align=\"center\">Lecture 2.7</h1>"
   ]
  },
  {
   "cell_type": "markdown",
   "id": "95de41a5",
   "metadata": {},
   "source": [
    "## _Python-Sets.ipynb_\n",
    "#### [Click me to learn more about Python Sets](https://www.geeksforgeeks.org/sets-in-python/)"
   ]
  },
  {
   "cell_type": "markdown",
   "id": "7c109b0c",
   "metadata": {},
   "source": [
    "## Learning agenda of this notebook\n",
    "1. How to create Sets?\n",
    "2. Proof of concepts: Sets are heterogeneous, un-ordered, mutable, nested, and DOES NOT allow duplicate elements\n",
    "3. Accessing elements of sets?\n",
    "4. Set concatenation and repetition (can't be performed as on list and tuples)\n",
    "5. Slicing a set (can't be performed as there is no index associated with set values)\n",
    "6. Adding elements to a sets using add, and update methods\n",
    "7. Removing elements from a set using pop, remove and discard methods. \n",
    "8. Converting string object to set and vice-versa (using type casting, split() and join())\n",
    "9. Misc set methods \n",
    "10. Some Built-in functions that can be used on sets (len, max, min, sum)\n",
    "11. Misc Concepts\n",
    "    - Union of sets \n",
    "    - Intersection of sets \n",
    "    - Difference of sets \n",
    "    - Symmetric Difference of sets \n",
    "    - Subsets \n",
    "    - Supersets \n",
    "    - Disjoint sets "
   ]
  },
  {
   "cell_type": "code",
   "execution_count": 1,
   "id": "34f38cef",
   "metadata": {},
   "outputs": [
    {
     "name": "stdout",
     "output_type": "stream",
     "text": [
      "Help on class set in module builtins:\n",
      "\n",
      "class set(object)\n",
      " |  set() -> new empty set object\n",
      " |  set(iterable) -> new set object\n",
      " |  \n",
      " |  Build an unordered collection of unique elements.\n",
      " |  \n",
      " |  Methods defined here:\n",
      " |  \n",
      " |  __and__(self, value, /)\n",
      " |      Return self&value.\n",
      " |  \n",
      " |  __contains__(...)\n",
      " |      x.__contains__(y) <==> y in x.\n",
      " |  \n",
      " |  __eq__(self, value, /)\n",
      " |      Return self==value.\n",
      " |  \n",
      " |  __ge__(self, value, /)\n",
      " |      Return self>=value.\n",
      " |  \n",
      " |  __getattribute__(self, name, /)\n",
      " |      Return getattr(self, name).\n",
      " |  \n",
      " |  __gt__(self, value, /)\n",
      " |      Return self>value.\n",
      " |  \n",
      " |  __iand__(self, value, /)\n",
      " |      Return self&=value.\n",
      " |  \n",
      " |  __init__(self, /, *args, **kwargs)\n",
      " |      Initialize self.  See help(type(self)) for accurate signature.\n",
      " |  \n",
      " |  __ior__(self, value, /)\n",
      " |      Return self|=value.\n",
      " |  \n",
      " |  __isub__(self, value, /)\n",
      " |      Return self-=value.\n",
      " |  \n",
      " |  __iter__(self, /)\n",
      " |      Implement iter(self).\n",
      " |  \n",
      " |  __ixor__(self, value, /)\n",
      " |      Return self^=value.\n",
      " |  \n",
      " |  __le__(self, value, /)\n",
      " |      Return self<=value.\n",
      " |  \n",
      " |  __len__(self, /)\n",
      " |      Return len(self).\n",
      " |  \n",
      " |  __lt__(self, value, /)\n",
      " |      Return self<value.\n",
      " |  \n",
      " |  __ne__(self, value, /)\n",
      " |      Return self!=value.\n",
      " |  \n",
      " |  __or__(self, value, /)\n",
      " |      Return self|value.\n",
      " |  \n",
      " |  __rand__(self, value, /)\n",
      " |      Return value&self.\n",
      " |  \n",
      " |  __reduce__(...)\n",
      " |      Return state information for pickling.\n",
      " |  \n",
      " |  __repr__(self, /)\n",
      " |      Return repr(self).\n",
      " |  \n",
      " |  __ror__(self, value, /)\n",
      " |      Return value|self.\n",
      " |  \n",
      " |  __rsub__(self, value, /)\n",
      " |      Return value-self.\n",
      " |  \n",
      " |  __rxor__(self, value, /)\n",
      " |      Return value^self.\n",
      " |  \n",
      " |  __sizeof__(...)\n",
      " |      S.__sizeof__() -> size of S in memory, in bytes\n",
      " |  \n",
      " |  __sub__(self, value, /)\n",
      " |      Return self-value.\n",
      " |  \n",
      " |  __xor__(self, value, /)\n",
      " |      Return self^value.\n",
      " |  \n",
      " |  add(...)\n",
      " |      Add an element to a set.\n",
      " |      \n",
      " |      This has no effect if the element is already present.\n",
      " |  \n",
      " |  clear(...)\n",
      " |      Remove all elements from this set.\n",
      " |  \n",
      " |  copy(...)\n",
      " |      Return a shallow copy of a set.\n",
      " |  \n",
      " |  difference(...)\n",
      " |      Return the difference of two or more sets as a new set.\n",
      " |      \n",
      " |      (i.e. all elements that are in this set but not the others.)\n",
      " |  \n",
      " |  difference_update(...)\n",
      " |      Remove all elements of another set from this set.\n",
      " |  \n",
      " |  discard(...)\n",
      " |      Remove an element from a set if it is a member.\n",
      " |      \n",
      " |      If the element is not a member, do nothing.\n",
      " |  \n",
      " |  intersection(...)\n",
      " |      Return the intersection of two sets as a new set.\n",
      " |      \n",
      " |      (i.e. all elements that are in both sets.)\n",
      " |  \n",
      " |  intersection_update(...)\n",
      " |      Update a set with the intersection of itself and another.\n",
      " |  \n",
      " |  isdisjoint(...)\n",
      " |      Return True if two sets have a null intersection.\n",
      " |  \n",
      " |  issubset(...)\n",
      " |      Report whether another set contains this set.\n",
      " |  \n",
      " |  issuperset(...)\n",
      " |      Report whether this set contains another set.\n",
      " |  \n",
      " |  pop(...)\n",
      " |      Remove and return an arbitrary set element.\n",
      " |      Raises KeyError if the set is empty.\n",
      " |  \n",
      " |  remove(...)\n",
      " |      Remove an element from a set; it must be a member.\n",
      " |      \n",
      " |      If the element is not a member, raise a KeyError.\n",
      " |  \n",
      " |  symmetric_difference(...)\n",
      " |      Return the symmetric difference of two sets as a new set.\n",
      " |      \n",
      " |      (i.e. all elements that are in exactly one of the sets.)\n",
      " |  \n",
      " |  symmetric_difference_update(...)\n",
      " |      Update a set with the symmetric difference of itself and another.\n",
      " |  \n",
      " |  union(...)\n",
      " |      Return the union of sets as a new set.\n",
      " |      \n",
      " |      (i.e. all elements that are in either set.)\n",
      " |  \n",
      " |  update(...)\n",
      " |      Update a set with the union of itself and others.\n",
      " |  \n",
      " |  ----------------------------------------------------------------------\n",
      " |  Static methods defined here:\n",
      " |  \n",
      " |  __new__(*args, **kwargs) from builtins.type\n",
      " |      Create and return a new object.  See help(type) for accurate signature.\n",
      " |  \n",
      " |  ----------------------------------------------------------------------\n",
      " |  Data and other attributes defined here:\n",
      " |  \n",
      " |  __hash__ = None\n",
      "\n"
     ]
    }
   ],
   "source": [
    "help(set)"
   ]
  },
  {
   "cell_type": "markdown",
   "id": "78d11dc1",
   "metadata": {},
   "source": [
    "## 1. How to create Sets?\n",
    "- In Python, a Set is an unordered collection of data type that is iterable, mutable and has no duplicate elements. The order of elements in a set is undefined. \n",
    "- A set is created by placing comma separated values in curly brackets {}. \n",
    "- The preferred of creating a set is by using `set()`, and passing a list to it. (as curly brackets are also used by dictionary object in Python\n",
    "- The major advantage of using a set, as opposed to a list, is that it has a highly optimized method for checking whether a specific element is contained in the set."
   ]
  },
  {
   "cell_type": "code",
   "execution_count": 2,
   "id": "88801cf7",
   "metadata": {},
   "outputs": [
    {
     "data": {
      "text/plain": [
       "({1, 2, 3, 4, 5}, set)"
      ]
     },
     "execution_count": 2,
     "metadata": {},
     "output_type": "execute_result"
    }
   ],
   "source": [
    "s1 = {1,2,3,4,5}   #set of integers\n",
    "s1 = set([1, 2, 3, 4, 5])\n",
    "s1, type(s1)"
   ]
  },
  {
   "cell_type": "code",
   "execution_count": 15,
   "id": "1b82a24e",
   "metadata": {},
   "outputs": [
    {
     "name": "stdout",
     "output_type": "stream",
     "text": [
      "{3.8, 3.7, 6.5, 7.95}\n"
     ]
    }
   ],
   "source": [
    "s2 = {3.7, 6.5, 3.8, 7.95}   #set of floats\n",
    "s2 = set([3.7, 6.5, 3.8, 7.95])\n",
    "print(s2)"
   ]
  },
  {
   "cell_type": "code",
   "execution_count": 16,
   "id": "699523dd",
   "metadata": {},
   "outputs": [
    {
     "name": "stdout",
     "output_type": "stream",
     "text": [
      "{'F', 'hello', 'good show', 'this'}\n"
     ]
    }
   ],
   "source": [
    "s3 = {\"hello\", \"this\", \"F\", \"good show\"}   #set of strings\n",
    "s3 = set([\"hello\", \"this\", \"F\", \"good show\"])\n",
    "print(s3)"
   ]
  },
  {
   "cell_type": "code",
   "execution_count": 17,
   "id": "bcb32ccb",
   "metadata": {},
   "outputs": [
    {
     "name": "stdout",
     "output_type": "stream",
     "text": [
      "{False, True}\n"
     ]
    }
   ],
   "source": [
    "s4 = {True, False, True, True, False}   #set of boolean\n",
    "s4 = set([True, False, True, True, False])\n",
    "print(s4)\n"
   ]
  },
  {
   "cell_type": "code",
   "execution_count": 18,
   "id": "4ba31757",
   "metadata": {},
   "outputs": [
    {
     "name": "stdout",
     "output_type": "stream",
     "text": [
      "set()\n",
      "<class 'set'>\n"
     ]
    }
   ],
   "source": [
    "# creating an empty set\n",
    "#emptyset = {}  # this is not correct way\n",
    "\n",
    "# to create empty set, we can use set()\n",
    "s5 = set()\n",
    "print(s5)\n",
    "print(type(s5))"
   ]
  },
  {
   "cell_type": "markdown",
   "id": "48f77dc4",
   "metadata": {},
   "source": [
    "## 2. Proof of concepts: Sets are heterogeneous, unordered, mutable, nested, and does not allow duplicate elements"
   ]
  },
  {
   "cell_type": "markdown",
   "id": "39ca07b0",
   "metadata": {},
   "source": [
    "### a. Sets are heterogeneous\n",
    "- Sets are heterogeneous, as their elements/items can be of any data type"
   ]
  },
  {
   "cell_type": "code",
   "execution_count": 42,
   "id": "bc6ff398",
   "metadata": {},
   "outputs": [
    {
     "name": "stdout",
     "output_type": "stream",
     "text": [
      "s1:  {5.5, 30, 'Arif'}\n"
     ]
    }
   ],
   "source": [
    "s1 = {\"Arif\", 30, 5.5}\n",
    "print(\"s1: \", s1)"
   ]
  },
  {
   "cell_type": "markdown",
   "id": "8cab05cb",
   "metadata": {},
   "source": [
    "### b. Sets are unordered\n",
    "- Sets are unordered means elements of a set are NOT associated by any index\n",
    "- When you access set elements they may show up in different sequence. \n",
    "- Moreover, two sets having same elements in different order \n",
    "    - have different memory addresses\n",
    "    - the `is` operator compares the memory adresses\n",
    "    - the `==` operator compares the contents"
   ]
  },
  {
   "cell_type": "code",
   "execution_count": 66,
   "id": "204c5f5a",
   "metadata": {},
   "outputs": [
    {
     "name": "stdout",
     "output_type": "stream",
     "text": [
      "{'fun', 'with', 'is', 'learning', 'Arif'}\n"
     ]
    }
   ],
   "source": [
    "s2 = set(['learning', 'is', 'fun', 'with', 'Arif'])\n",
    "print(s2)"
   ]
  },
  {
   "cell_type": "code",
   "execution_count": 45,
   "id": "0a78ae5f",
   "metadata": {},
   "outputs": [
    {
     "data": {
      "text/plain": [
       "(140425097499360, 140425096637344, True, False)"
      ]
     },
     "execution_count": 45,
     "metadata": {},
     "output_type": "execute_result"
    }
   ],
   "source": [
    "a = {1, 2, 3}\n",
    "b = {2, 3, 1}\n",
    "id(a), id(b), a == b, a is b"
   ]
  },
  {
   "cell_type": "markdown",
   "id": "97158f1c",
   "metadata": {},
   "source": [
    "### c. Sets are mutable\n",
    "- Means once a set object is created, you can make changes to it and modify its elements\n",
    "- However, since they cannot be indexed, so we can't change them using subscript operator"
   ]
  },
  {
   "cell_type": "code",
   "execution_count": 3,
   "id": "20dd3eb4",
   "metadata": {},
   "outputs": [
    {
     "name": "stdout",
     "output_type": "stream",
     "text": [
      "numbers:  {40, 10, 50, 20, 30}\n"
     ]
    }
   ],
   "source": [
    "numbers = set([10, 20, 30, 40, 50])\n",
    "#numbers[2] = 15   # error: 'set' object does not support item assignment\n",
    "\n",
    "print(\"numbers: \", numbers)"
   ]
  },
  {
   "cell_type": "markdown",
   "id": "2672fb9b",
   "metadata": {},
   "source": [
    "### d. Sets CANNOT have duplicate elements"
   ]
  },
  {
   "cell_type": "code",
   "execution_count": 4,
   "id": "44eca53d",
   "metadata": {},
   "outputs": [
    {
     "name": "stdout",
     "output_type": "stream",
     "text": [
      "{'Arif', 'Rauf', 'Mujahid', 'Hadeed'}\n"
     ]
    }
   ],
   "source": [
    "# Sets do not allow duplicate elements\n",
    "# The following line will not raise an error, however, 'Arif' will be added to the set only once\n",
    "names = {'Arif', 'Rauf', 'Hadeed', 'Arif', 'Mujahid'}\n",
    "print(names)"
   ]
  },
  {
   "cell_type": "code",
   "execution_count": 5,
   "id": "cf09e096",
   "metadata": {},
   "outputs": [
    {
     "name": "stdout",
     "output_type": "stream",
     "text": [
      "\n",
      "List:  [2, 4, 5, 6, 8, 7, 3, 3, 2]\n",
      "List converted to set:  {2, 3, 4, 5, 6, 7, 8}\n"
     ]
    }
   ],
   "source": [
    "# So when we want to remove duplication from list, we typecast it to a set\n",
    "mylist = [2, 4, 5, 6, 8, 7, 3, 3, 2]\n",
    "print(\"\\nList: \", mylist)\n",
    "myset = set(mylist)\n",
    "print(\"List converted to set: \", myset)"
   ]
  },
  {
   "cell_type": "markdown",
   "id": "f15c5f09",
   "metadata": {},
   "source": [
    "### e. Nested Sets\n",
    "- You can have tuple inside a set\n",
    "- You CANNOT have a list inside a set, because sets cannot contain mutable values (lists are mutable)\n",
    "- Similarly, you cannot have a set within a set, because sets cannot contain mutable values (sets are mutable)\n",
    "- This is one situation where you may wish to use a frozenset, which is very similar to a set except that a frozenset is immutable."
   ]
  },
  {
   "cell_type": "code",
   "execution_count": 58,
   "id": "9b7a9473",
   "metadata": {},
   "outputs": [
    {
     "name": "stdout",
     "output_type": "stream",
     "text": [
      "{(10, 'rauf'), 5.5, 30, 'Arif'}\n"
     ]
    }
   ],
   "source": [
    "# Nested sets: sets can have another tuple as an item\n",
    "s1 = {\"Arif\", 30, 5.5, (10,'rauf')}\n",
    "print(s1)"
   ]
  },
  {
   "cell_type": "code",
   "execution_count": 55,
   "id": "730c6029",
   "metadata": {},
   "outputs": [],
   "source": [
    "# However, you cannot have a list inside a set, , because sets cannot contain mutable values (lists are mutable)\n",
    "#s1 = {\"Arif\", 30, 5.5, [10,'rauf']} # Error unhashable type list"
   ]
  },
  {
   "cell_type": "code",
   "execution_count": 6,
   "id": "78cb26b4",
   "metadata": {},
   "outputs": [],
   "source": [
    "#Similarly, you cannot have a set within a set, because sets cannot contain mutable values (sets are mutable)\n",
    "#s1 = {\"Arif\", 30, 5.5, {10,'rauf'}} # Error unhashable type set"
   ]
  },
  {
   "cell_type": "markdown",
   "id": "188b18b7",
   "metadata": {},
   "source": [
    "### f. Packing and Unpacking Sets"
   ]
  },
  {
   "cell_type": "code",
   "execution_count": 7,
   "id": "4fc9e430",
   "metadata": {},
   "outputs": [
    {
     "name": "stdout",
     "output_type": "stream",
     "text": [
      "{'Arif', 'with', 'fun', 'learning', 'is'}\n",
      "Arif with fun learning is\n",
      "<class 'str'>\n"
     ]
    }
   ],
   "source": [
    "# you can assign individual elements of set to string variables\n",
    "myset = set(['learning', 'is', 'fun', 'with', 'Arif'])\n",
    "print(myset)\n",
    "a, b, c, d, e = myset # the number of variables on the left must match the length of set\n",
    "print (a, b, c, d, e)\n",
    "print(type(a))"
   ]
  },
  {
   "cell_type": "markdown",
   "id": "418db83b",
   "metadata": {},
   "source": [
    "## 3. Different ways to access elements of a Set\n",
    "- Set items cannot be accessed by referring to an index, Since sets are unordered, i.e., the items have no associated index\n",
    "- But you can loop through the set items using a for loop, or \n",
    "- Ask if a specified value is present in a set, by using the `in` operator."
   ]
  },
  {
   "cell_type": "code",
   "execution_count": 8,
   "id": "ef2037c4",
   "metadata": {},
   "outputs": [
    {
     "name": "stdout",
     "output_type": "stream",
     "text": [
      "myset:  {'Arif', 'with', 'fun', 'learning', 'is'}\n"
     ]
    }
   ],
   "source": [
    "# Set items cannot be accessed by referring to an index, since sets are unordered the items has no index. \n",
    "myset = set(['learning', 'is', 'fun', 'with', 'Arif'])\n",
    "myset = {'learning', 'is', 'fun', 'with', 'Arif'}\n",
    "print(\"myset: \", myset)"
   ]
  },
  {
   "cell_type": "code",
   "execution_count": 9,
   "id": "5e66b052",
   "metadata": {},
   "outputs": [
    {
     "name": "stdout",
     "output_type": "stream",
     "text": [
      "Arif with fun learning is "
     ]
    }
   ],
   "source": [
    "# But you can loop through the set items using a for loop\n",
    "myset = set(['learning', 'is', 'fun', 'with', 'Arif'])\n",
    "for i in myset:\n",
    "    print(i, end=' ')"
   ]
  },
  {
   "cell_type": "code",
   "execution_count": 10,
   "id": "d42c7653",
   "metadata": {},
   "outputs": [
    {
     "data": {
      "text/plain": [
       "True"
      ]
     },
     "execution_count": 10,
     "metadata": {},
     "output_type": "execute_result"
    }
   ],
   "source": [
    "# To check if a specific element is there in the set, use the in keyword\n",
    "rv = 'fun' in myset\n",
    "rv"
   ]
  },
  {
   "cell_type": "markdown",
   "id": "6981795a",
   "metadata": {},
   "source": [
    "## 4. You cannot perform Slicing on Sets\n",
    "- Slicing is the process of obtaining a portion of a sequence by using its indices.\n",
    "- Since no indices are associated with Set elements, so they do not support slicing or indexing in `[ ]` operator"
   ]
  },
  {
   "cell_type": "markdown",
   "id": "f675f997",
   "metadata": {},
   "source": [
    "## 5. You cannot perform Set Concatenation and Repetition\n",
    "- The concatenation operator `+` and replication operator `*` does not work on sets"
   ]
  },
  {
   "cell_type": "markdown",
   "id": "0089ec98",
   "metadata": {},
   "source": [
    "## 6. Adding elements to a Set\n",
    "- Sets are dynamic, as we write our Python program, we can actually make changes to our already created set, whithout having to go for compiling it again. \n",
    "- If we have to add certain elements to an already created set, the original set gorws dynamically without the need of compiling/running the program again (as in case of heap memory in C/C++)"
   ]
  },
  {
   "cell_type": "markdown",
   "id": "f15562e5",
   "metadata": {},
   "source": [
    "### a. Cannot Modify/Add elements to a set using [ ] operator"
   ]
  },
  {
   "cell_type": "markdown",
   "id": "054f79f4",
   "metadata": {},
   "source": [
    "### b. Adding elements to a set using `set.add(value)` method\n",
    "- The `set.add(val)` method is used to add an element to a set\n",
    "- Only one element at a time can be added to the set by using `set.add()` method\n",
    "- Lists and sets cannot be added to a set as elements because they are not hashable \n",
    "- Tuples can be added because tuples are immutable and hence Hashable. "
   ]
  },
  {
   "cell_type": "code",
   "execution_count": 19,
   "id": "4376bcfa",
   "metadata": {},
   "outputs": [
    {
     "name": "stdout",
     "output_type": "stream",
     "text": [
      "Help on method_descriptor:\n",
      "\n",
      "add(...)\n",
      "    Add an element to a set.\n",
      "    \n",
      "    This has no effect if the element is already present.\n",
      "\n"
     ]
    }
   ],
   "source": [
    "help(set.add)"
   ]
  },
  {
   "cell_type": "code",
   "execution_count": 20,
   "id": "37eca3ae",
   "metadata": {},
   "outputs": [
    {
     "name": "stdout",
     "output_type": "stream",
     "text": [
      "Empty Set:  set()\n",
      "Set after adding three elements:  {73, 25, (19, 77)}\n"
     ]
    }
   ],
   "source": [
    "set1 = set()\n",
    "print(\"Empty Set: \", set1)\n",
    "set1.add(25)\n",
    "set1.add(73)\n",
    "set1.add((19,77))\n",
    "print(\"Set after adding three elements: \", set1)\n"
   ]
  },
  {
   "cell_type": "markdown",
   "id": "6fa7f3ff",
   "metadata": {},
   "source": [
    "### c. Adding elements to a set using `set.update(value)` method\n",
    "- The `set.add(val)` method is used to add two or more elements to a set\n",
    "- Lists and sets cannot be added to a set as elements because they are not hashable \n",
    "- Tuples can be added because tuples are immutable and hence Hashable. "
   ]
  },
  {
   "cell_type": "code",
   "execution_count": 21,
   "id": "f8f7703e",
   "metadata": {},
   "outputs": [
    {
     "name": "stdout",
     "output_type": "stream",
     "text": [
      "Help on built-in function update:\n",
      "\n",
      "update(...) method of builtins.set instance\n",
      "    Update a set with the union of itself and others.\n",
      "\n"
     ]
    }
   ],
   "source": [
    "set1 = set()\n",
    "help(set1.update)"
   ]
  },
  {
   "cell_type": "code",
   "execution_count": 22,
   "id": "4ca664fe",
   "metadata": {},
   "outputs": [
    {
     "data": {
      "text/plain": [
       "{12, 3.5, 4, 9, 'hadeed'}"
      ]
     },
     "execution_count": 22,
     "metadata": {},
     "output_type": "execute_result"
    }
   ],
   "source": [
    "set2 = set([4, 9, 12])\n",
    "set2.update(['hadeed', 4, 3.5]) # Note the duplicate element 4 will not be added twice\n",
    "set2"
   ]
  },
  {
   "cell_type": "code",
   "execution_count": 23,
   "id": "b619bbe3",
   "metadata": {},
   "outputs": [
    {
     "data": {
      "text/plain": [
       "{12, 4, 9, 'arif', 'rauf'}"
      ]
     },
     "execution_count": 23,
     "metadata": {},
     "output_type": "execute_result"
    }
   ],
   "source": [
    "# update() method is used to add two or more elements, passed as a list\n",
    "set3 = set([4, 9, 12])\n",
    "set3.update(['arif', 'rauf'])\n",
    "set3"
   ]
  },
  {
   "cell_type": "code",
   "execution_count": 24,
   "id": "9671ff93",
   "metadata": {},
   "outputs": [
    {
     "data": {
      "text/plain": [
       "{(44, 33), (99, 88), 12, 4, 9}"
      ]
     },
     "execution_count": 24,
     "metadata": {},
     "output_type": "execute_result"
    }
   ],
   "source": [
    "# the update() method accepts a list having one or more tuples as its argument\n",
    "set4 = set([4, 9, 12])\n",
    "set4.update([(99, 88), (44, 33)])\n",
    "set4"
   ]
  },
  {
   "cell_type": "markdown",
   "id": "ae40dd9e",
   "metadata": {},
   "source": [
    "## 7. Removing elements from a set\n",
    "- Sets are dynamic, as we write our Python program, we can actually make changes to our already created sets, whithout having to go for compiling it again. \n",
    "- If we have to remove certain elements from an already created set, the original set shrinks dynamically without the need of compiling/running the program again (as in case of heap memory in C/C++)"
   ]
  },
  {
   "cell_type": "markdown",
   "id": "e68b7d6e",
   "metadata": {},
   "source": [
    "### a. Removing element from a set using `set.pop(index)` method\n",
    "- The `set.pop()` method removes and return an arbitrary set element"
   ]
  },
  {
   "cell_type": "code",
   "execution_count": 26,
   "id": "f2f0cf51",
   "metadata": {},
   "outputs": [
    {
     "name": "stdout",
     "output_type": "stream",
     "text": [
      "Help on built-in function pop:\n",
      "\n",
      "pop(...) method of builtins.set instance\n",
      "    Remove and return an arbitrary set element.\n",
      "    Raises KeyError if the set is empty.\n",
      "\n"
     ]
    }
   ],
   "source": [
    "s1 = set()\n",
    "help(s1.pop)"
   ]
  },
  {
   "cell_type": "code",
   "execution_count": 30,
   "id": "33f7704a",
   "metadata": {},
   "outputs": [
    {
     "name": "stdout",
     "output_type": "stream",
     "text": [
      "Original set:  {'with', 'fun', 'learning', 'arif', 'is', 'butt'}\n",
      "Element popped is:  with\n",
      "Set now is:  {'fun', 'learning', 'arif', 'is', 'butt'}\n",
      "Element popped is:  fun\n",
      "Set now is:  {'learning', 'arif', 'is', 'butt'}\n"
     ]
    }
   ],
   "source": [
    "s1 = {'learning', 'is', 'fun', 'with', 'arif', 'butt'}\n",
    "print(\"Original set: \", s1)\n",
    "\n",
    "x  = s1.pop()\n",
    "print(\"Element popped is: \", x)\n",
    "print(\"Set now is: \", s1)\n",
    "\n",
    "y  = s1.pop()\n",
    "print(\"Element popped is: \", y)\n",
    "print(\"Set now is: \", s1)"
   ]
  },
  {
   "cell_type": "markdown",
   "id": "c671b027",
   "metadata": {},
   "source": [
    "### b. Removing element from a set using `set.remove(val)` method\n",
    "- The `set.remove(val)` method is used to remove a specific element by value from a set without returning it\n",
    "- The remove method is passed exactly one argument, which is the value to be removed and returns none/void"
   ]
  },
  {
   "cell_type": "code",
   "execution_count": 31,
   "id": "7f107f44",
   "metadata": {},
   "outputs": [
    {
     "name": "stdout",
     "output_type": "stream",
     "text": [
      "Help on built-in function remove:\n",
      "\n",
      "remove(...) method of builtins.set instance\n",
      "    Remove an element from a set; it must be a member.\n",
      "    \n",
      "    If the element is not a member, raise a KeyError.\n",
      "\n"
     ]
    }
   ],
   "source": [
    "s1 = set()\n",
    "help(s1.remove)"
   ]
  },
  {
   "cell_type": "code",
   "execution_count": 33,
   "id": "4f57faff",
   "metadata": {},
   "outputs": [
    {
     "name": "stdout",
     "output_type": "stream",
     "text": [
      "\n",
      "Original set:  {'to', 'Data', 'department', 'of', 'Science', 'Welcome'}\n",
      "After remove('department'):  {'to', 'Data', 'of', 'Science', 'Welcome'}\n",
      "Return value of remove() is:  None\n"
     ]
    }
   ],
   "source": [
    "s2 = set(['Welcome', 'to', 'department', 'of', 'Data', 'Science'])\n",
    "print(\"\\nOriginal set: \", s2)\n",
    "\n",
    "x = s2.remove('department')\n",
    "print(\"After remove('department'): \", s2)\n",
    "print(\"Return value of remove() is: \", x)\n",
    "\n",
    "# If the element to be removed does not exist in the set remove() method will flag an error\n",
    "#y = s2.remove('arif')  # Error: Element doesn’t exist in the set. "
   ]
  },
  {
   "cell_type": "markdown",
   "id": "3e3173d2",
   "metadata": {},
   "source": [
    "### c. Removing element from a set using `set.discard(val)` method\n",
    "- The `set.discard(val)` like `set.remove(val)` method is used to remove a specific element by value from a set without returning it\n",
    "- The advantage of using `set.remove(val)` method is that, if the element doesn’t exist in the set, no error is raised and the set remains unchanged."
   ]
  },
  {
   "cell_type": "code",
   "execution_count": 35,
   "id": "6d7e82ec",
   "metadata": {},
   "outputs": [
    {
     "name": "stdout",
     "output_type": "stream",
     "text": [
      "Help on built-in function discard:\n",
      "\n",
      "discard(...) method of builtins.set instance\n",
      "    Remove an element from a set if it is a member.\n",
      "    \n",
      "    If the element is not a member, do nothing.\n",
      "\n"
     ]
    }
   ],
   "source": [
    "s1 = set()\n",
    "help(s1.discard)"
   ]
  },
  {
   "cell_type": "code",
   "execution_count": 36,
   "id": "1aea3ce6",
   "metadata": {},
   "outputs": [
    {
     "data": {
      "text/plain": [
       "{'Data', 'Science', 'Welcome', 'department', 'of', 'to'}"
      ]
     },
     "execution_count": 36,
     "metadata": {},
     "output_type": "execute_result"
    }
   ],
   "source": [
    "s2 = set(['Welcome', 'to', 'department', 'of', 'Data', 'Science'])\n",
    "y = s2.discard('arif')\n",
    "s2"
   ]
  },
  {
   "cell_type": "markdown",
   "id": "dda6cf82",
   "metadata": {},
   "source": [
    "### d. Using `set.clear()` method to remove all the set elements"
   ]
  },
  {
   "cell_type": "code",
   "execution_count": 39,
   "id": "68d85dc0",
   "metadata": {},
   "outputs": [
    {
     "name": "stdout",
     "output_type": "stream",
     "text": [
      "\n",
      "After clear() the set becomes empty:  set()\n"
     ]
    }
   ],
   "source": [
    "#use the clear() method to empty a set\n",
    "s2 = set(['Welcome', 'to', 'department', 'of', 'Data', 'Science'])\n",
    "s2.clear()\n",
    "print(\"\\nAfter clear() the set becomes empty: \", s2)"
   ]
  },
  {
   "cell_type": "markdown",
   "id": "b25354c2",
   "metadata": {},
   "source": [
    "### e. Using `del` Keyword to delete the set entirely from memory"
   ]
  },
  {
   "cell_type": "code",
   "execution_count": 40,
   "id": "149dc87f",
   "metadata": {},
   "outputs": [
    {
     "name": "stdout",
     "output_type": "stream",
     "text": [
      "\n",
      "Original set:  {'to', 'Data', 'department', 'of', 'Science', 'Welcome'}\n"
     ]
    },
    {
     "ename": "NameError",
     "evalue": "name 's2' is not defined",
     "output_type": "error",
     "traceback": [
      "\u001b[0;31m---------------------------------------------------------------------------\u001b[0m",
      "\u001b[0;31mNameError\u001b[0m                                 Traceback (most recent call last)",
      "\u001b[0;32m/var/folders/1t/g3ylw8h50cjdqmk5d6jh1qmm0000gn/T/ipykernel_15450/1037147555.py\u001b[0m in \u001b[0;36m<module>\u001b[0;34m\u001b[0m\n\u001b[1;32m      3\u001b[0m \u001b[0mprint\u001b[0m\u001b[0;34m(\u001b[0m\u001b[0;34m\"\\nOriginal set: \"\u001b[0m\u001b[0;34m,\u001b[0m \u001b[0ms2\u001b[0m\u001b[0;34m)\u001b[0m\u001b[0;34m\u001b[0m\u001b[0;34m\u001b[0m\u001b[0m\n\u001b[1;32m      4\u001b[0m \u001b[0;32mdel\u001b[0m \u001b[0ms2\u001b[0m\u001b[0;34m\u001b[0m\u001b[0;34m\u001b[0m\u001b[0m\n\u001b[0;32m----> 5\u001b[0;31m \u001b[0mprint\u001b[0m\u001b[0;34m(\u001b[0m\u001b[0ms2\u001b[0m\u001b[0;34m)\u001b[0m\u001b[0;34m\u001b[0m\u001b[0;34m\u001b[0m\u001b[0m\n\u001b[0m",
      "\u001b[0;31mNameError\u001b[0m: name 's2' is not defined"
     ]
    }
   ],
   "source": [
    "# use del keyword to delete entire set, (you cannot delete a specific element as it is non-indexed)\n",
    "s2 = set(['Welcome', 'to', 'department', 'of', 'Data', 'Science'])\n",
    "print(\"\\nOriginal set: \", s2)\n",
    "del s2\n",
    "print(s2)"
   ]
  },
  {
   "cell_type": "markdown",
   "id": "0f4dd1c2",
   "metadata": {},
   "source": [
    "## 8. Converting string object to set and vice-versa (using type casting, split() and join())"
   ]
  },
  {
   "cell_type": "markdown",
   "id": "051759d3",
   "metadata": {},
   "source": [
    "### a. Type Casting"
   ]
  },
  {
   "cell_type": "code",
   "execution_count": 41,
   "id": "24e78729",
   "metadata": {},
   "outputs": [
    {
     "name": "stdout",
     "output_type": "stream",
     "text": [
      "Original string:  Learning is fun\n",
      "s1:  {' ', 'i', 'L', 's', 'g', 'u', 'f', 'n', 'a', 'r', 'e'} and its type is:   <class 'set'>\n"
     ]
    }
   ],
   "source": [
    "# convert a string into set using set()\n",
    "str1 = 'Learning is fun'    #this is a string\n",
    "print(\"Original string: \", str1)\n",
    "\n",
    "s1 = set(str1)\n",
    "print(\"s1: \", s1, \"and its type is:  \", type(s1))"
   ]
  },
  {
   "cell_type": "markdown",
   "id": "a19b18c0",
   "metadata": {},
   "source": [
    "### b. Use `str.split()` to Split a Tuple into Strings\n",
    "- Used to tokenize a string based on some delimiter, which can be stored in a Tuple\n",
    "- It returns a list having tokens of the string based on spaces if no argument is passed"
   ]
  },
  {
   "cell_type": "code",
   "execution_count": 42,
   "id": "da289249",
   "metadata": {},
   "outputs": [
    {
     "name": "stdout",
     "output_type": "stream",
     "text": [
      "Help on built-in function split:\n",
      "\n",
      "split(sep=None, maxsplit=-1) method of builtins.str instance\n",
      "    Return a list of the words in the string, using sep as the delimiter string.\n",
      "    \n",
      "    sep\n",
      "      The delimiter according which to split the string.\n",
      "      None (the default value) means split according to any whitespace,\n",
      "      and discard empty strings from the result.\n",
      "    maxsplit\n",
      "      Maximum number of splits to do.\n",
      "      -1 (the default value) means no limit.\n",
      "\n"
     ]
    }
   ],
   "source": [
    "str1 = \"\"\n",
    "help(str1.split)"
   ]
  },
  {
   "cell_type": "code",
   "execution_count": 44,
   "id": "1a729e8c",
   "metadata": {},
   "outputs": [
    {
     "data": {
      "text/plain": [
       "({'Learning', 'fun', 'is'}, set)"
      ]
     },
     "execution_count": 44,
     "metadata": {},
     "output_type": "execute_result"
    }
   ],
   "source": [
    "str1 = 'Learning is fun'    #this is a string\n",
    "set1 = set(str1.split(' '))\n",
    "set1, type(set1)"
   ]
  },
  {
   "cell_type": "code",
   "execution_count": 45,
   "id": "5f84edb1",
   "metadata": {},
   "outputs": [
    {
     "data": {
      "text/plain": [
       "{'Data S', 'e is GR8 Degree', 'ien'}"
      ]
     },
     "execution_count": 45,
     "metadata": {},
     "output_type": "execute_result"
    }
   ],
   "source": [
    "str2 = \"Data Science is GR8 Degree\"    #this is a string\n",
    "set2 = set(str2.split('c'))\n",
    "set2"
   ]
  },
  {
   "cell_type": "markdown",
   "id": "f532e4a3",
   "metadata": {},
   "source": [
    "### c. Use `str.join()` to Join Strings into a List\n",
    "- It is the reverse of `str.split()` method, and is used to joing multiple strings by inserting the string in between on which this method is called"
   ]
  },
  {
   "cell_type": "code",
   "execution_count": null,
   "id": "0da0e902",
   "metadata": {},
   "outputs": [],
   "source": [
    "str1 = \"\"\n",
    "help(str1.join)"
   ]
  },
  {
   "cell_type": "code",
   "execution_count": 46,
   "id": "2adc8071",
   "metadata": {},
   "outputs": [
    {
     "data": {
      "text/plain": [
       "{'This', 'and', 'getting', 'interesting', 'is', 'more'}"
      ]
     },
     "execution_count": 46,
     "metadata": {},
     "output_type": "execute_result"
    }
   ],
   "source": [
    "tuple1 = {'This', 'is', 'getting', 'more', 'and', 'more', 'interesting'}\n",
    "tuple1"
   ]
  },
  {
   "cell_type": "code",
   "execution_count": 47,
   "id": "f8b08a8f",
   "metadata": {},
   "outputs": [
    {
     "name": "stdout",
     "output_type": "stream",
     "text": [
      "This more interesting is and getting\n",
      "<class 'str'>\n"
     ]
    }
   ],
   "source": [
    "str2 = ' '.join(tuple1)\n",
    "print(str2)\n",
    "print(type(str2))"
   ]
  },
  {
   "cell_type": "code",
   "execution_count": 48,
   "id": "ea960162",
   "metadata": {},
   "outputs": [
    {
     "name": "stdout",
     "output_type": "stream",
     "text": [
      "This # more # interesting # is # and # getting\n",
      "<class 'str'>\n"
     ]
    }
   ],
   "source": [
    "delimiter = \" # \"\n",
    "str3 = delimiter.join(tuple1)\n",
    "print(str3)\n",
    "print(type(str3))"
   ]
  },
  {
   "cell_type": "markdown",
   "id": "fbf88b2e",
   "metadata": {},
   "source": [
    "## 9. You cannot call `sort()` and `reverse()` method on Sets being unordered in nature"
   ]
  },
  {
   "cell_type": "markdown",
   "id": "aa367cb0",
   "metadata": {},
   "source": [
    "## 10. Some Built-in functions that can be used on sets"
   ]
  },
  {
   "cell_type": "code",
   "execution_count": 115,
   "id": "2f025aa2",
   "metadata": {},
   "outputs": [
    {
     "name": "stdout",
     "output_type": "stream",
     "text": [
      "length of set:  6\n",
      "max element in set:  8\n",
      "min element in list:  0\n",
      "Sum of element in list:  22\n",
      "False\n",
      "True\n"
     ]
    }
   ],
   "source": [
    "s1 = set([3, 8, 1, 6, 0, 8, 4])\n",
    "\n",
    "print(\"length of set: \", len(s1))\n",
    "print(\"max element in set: \", max(s1))\n",
    "print(\"min element in list: \",min(s1))\n",
    "print(\"Sum of element in list: \",sum(s1))\n",
    "\n",
    "# Membership (in) operator\n",
    "rv1 = 9 in s1\n",
    "print(rv1)\n",
    "\n",
    "\n",
    "# Membership (in) operator\n",
    "rv1 = 8 in s1\n",
    "print(rv1)"
   ]
  },
  {
   "cell_type": "markdown",
   "id": "ff517f2e",
   "metadata": {},
   "source": [
    "## 11. Misc Concepts specifically related to Sets"
   ]
  },
  {
   "cell_type": "markdown",
   "id": "57a57000",
   "metadata": {},
   "source": [
    "### a. Union of sets\n",
    "- A `s1.union(s2)` method or `s1 | s2`, returns a new set containing all values that are in s1, or s2, or both"
   ]
  },
  {
   "cell_type": "code",
   "execution_count": 50,
   "id": "d20c59a0",
   "metadata": {},
   "outputs": [
    {
     "name": "stdout",
     "output_type": "stream",
     "text": [
      "Help on built-in function union:\n",
      "\n",
      "union(...) method of builtins.set instance\n",
      "    Return the union of sets as a new set.\n",
      "    \n",
      "    (i.e. all elements that are in either set.)\n",
      "\n"
     ]
    }
   ],
   "source": [
    "s1 = set()\n",
    "help(s1.union)"
   ]
  },
  {
   "cell_type": "code",
   "execution_count": 49,
   "id": "5ba0e04b",
   "metadata": {},
   "outputs": [
    {
     "name": "stdout",
     "output_type": "stream",
     "text": [
      "set1:  {'arif', 'rauf'}\n",
      "set2:  {'hadeed', 'arif', 'maaz'}\n",
      "set1 | set2:  {'hadeed', 'arif', 'maaz', 'rauf'}\n"
     ]
    }
   ],
   "source": [
    "set1 = {'arif', 'rauf'}\n",
    "set2 = {'maaz', 'hadeed', 'arif'}\n",
    "\n",
    "set3 = set1 | set2\n",
    "set3 = set1.union(set2)\n",
    "\n",
    "print(\"set1: \", set1)\n",
    "print(\"set2: \", set2)\n",
    "print(\"set1 | set2: \", set3)"
   ]
  },
  {
   "cell_type": "markdown",
   "id": "8ea5d8f3",
   "metadata": {},
   "source": [
    "### b. Intersection of sets\n",
    "- A `s1.intersection(s2)` method or `s1 & s2`, returns a new set containing all values that are common in in s1 and s2"
   ]
  },
  {
   "cell_type": "code",
   "execution_count": 52,
   "id": "4b2dd4fa",
   "metadata": {},
   "outputs": [
    {
     "name": "stdout",
     "output_type": "stream",
     "text": [
      "Help on built-in function intersection:\n",
      "\n",
      "intersection(...) method of builtins.set instance\n",
      "    Return the intersection of two sets as a new set.\n",
      "    \n",
      "    (i.e. all elements that are in both sets.)\n",
      "\n"
     ]
    }
   ],
   "source": [
    "s1 = set()\n",
    "help(s1.intersection)"
   ]
  },
  {
   "cell_type": "code",
   "execution_count": 51,
   "id": "596c6b8d",
   "metadata": {
    "scrolled": true
   },
   "outputs": [
    {
     "name": "stdout",
     "output_type": "stream",
     "text": [
      "set1:  {'arif', 'rauf'}\n",
      "set2:  {'hadeed', 'arif', 'maaz'}\n",
      "set1 & set2:  {'arif'}\n"
     ]
    }
   ],
   "source": [
    "set1 = {'arif', 'rauf'}\n",
    "set2 = {'maaz', 'hadeed', 'arif'}\n",
    "\n",
    "set3 = set1 & set2\n",
    "set4 = set1.intersection(set2)\n",
    "\n",
    "print(\"set1: \", set1)\n",
    "print(\"set2: \", set2)\n",
    "print(\"set1 & set2: \", set4)"
   ]
  },
  {
   "cell_type": "markdown",
   "id": "d9a87205",
   "metadata": {},
   "source": [
    "### c. Difference of sets\n",
    "- A `s1.difference(s2)` method or `s1 - s2`, returns a new set containing all values of s1 that are not there in s2"
   ]
  },
  {
   "cell_type": "code",
   "execution_count": 53,
   "id": "bd0fef44",
   "metadata": {},
   "outputs": [
    {
     "name": "stdout",
     "output_type": "stream",
     "text": [
      "Help on built-in function difference:\n",
      "\n",
      "difference(...) method of builtins.set instance\n",
      "    Return the difference of two or more sets as a new set.\n",
      "    \n",
      "    (i.e. all elements that are in this set but not the others.)\n",
      "\n"
     ]
    }
   ],
   "source": [
    "s1 = set()\n",
    "help(s1.difference)"
   ]
  },
  {
   "cell_type": "code",
   "execution_count": 54,
   "id": "d8248e80",
   "metadata": {},
   "outputs": [
    {
     "name": "stdout",
     "output_type": "stream",
     "text": [
      "set1:  {'arif', 'rauf'}\n",
      "set2:  {'hadeed', 'arif', 'maaz'}\n",
      "set1 - set2:  {'rauf'}\n"
     ]
    }
   ],
   "source": [
    "set1 = {'arif', 'rauf'}\n",
    "set2 = {'maaz', 'hadeed', 'arif'}\n",
    "\n",
    "set3 = set1 - set2\n",
    "set4 = set1.difference(set2)\n",
    "\n",
    "print(\"set1: \", set1)\n",
    "print(\"set2: \", set2)\n",
    "print(\"set1 - set2: \", set4)"
   ]
  },
  {
   "cell_type": "markdown",
   "id": "733a12c9",
   "metadata": {},
   "source": [
    "### d. Symmetric Difference of sets\n",
    "- A `s1.symmetric_difference(s2)` method or `s1 ^ s2`, returns a new set containing all elements that are in exactly one of the sets, equivalent to `(s1 | s2)  - (s1 & s2)`"
   ]
  },
  {
   "cell_type": "code",
   "execution_count": 55,
   "id": "8e3e5779",
   "metadata": {},
   "outputs": [
    {
     "name": "stdout",
     "output_type": "stream",
     "text": [
      "Help on built-in function symmetric_difference:\n",
      "\n",
      "symmetric_difference(...) method of builtins.set instance\n",
      "    Return the symmetric difference of two sets as a new set.\n",
      "    \n",
      "    (i.e. all elements that are in exactly one of the sets.)\n",
      "\n"
     ]
    }
   ],
   "source": [
    "s1 = set()\n",
    "help(s1.symmetric_difference)"
   ]
  },
  {
   "cell_type": "code",
   "execution_count": 122,
   "id": "a89c59b7",
   "metadata": {},
   "outputs": [
    {
     "name": "stdout",
     "output_type": "stream",
     "text": [
      "set1:  {'rauf', 'arif'}\n",
      "set2:  {'hadeed', 'maaz', 'arif'}\n",
      "set1 ^ set2:  {'rauf', 'hadeed', 'maaz'}\n"
     ]
    }
   ],
   "source": [
    "set1 = {'arif', 'rauf'}\n",
    "set2 = {'maaz', 'hadeed', 'arif'}\n",
    "\n",
    "set3 = set1 ^ set2\n",
    "set4 = set1.symmetric_difference(set2)\n",
    "\n",
    "print(\"set1: \", set1)\n",
    "print(\"set2: \", set2)\n",
    "print(\"set1 ^ set2: \", set4)"
   ]
  },
  {
   "cell_type": "markdown",
   "id": "96e8b480",
   "metadata": {},
   "source": [
    "### e. Checking Subset\n",
    "- The `s1.issubset(s2)` method or `s1 <= s2`, returns True if s1 is a subset of s2"
   ]
  },
  {
   "cell_type": "code",
   "execution_count": 56,
   "id": "12911ff8",
   "metadata": {},
   "outputs": [
    {
     "name": "stdout",
     "output_type": "stream",
     "text": [
      "Help on built-in function issubset:\n",
      "\n",
      "issubset(...) method of builtins.set instance\n",
      "    Report whether another set contains this set.\n",
      "\n"
     ]
    }
   ],
   "source": [
    "s1 = set()\n",
    "help(s1.issubset)"
   ]
  },
  {
   "cell_type": "code",
   "execution_count": 57,
   "id": "24945626",
   "metadata": {},
   "outputs": [
    {
     "name": "stdout",
     "output_type": "stream",
     "text": [
      "True\n",
      "True\n"
     ]
    }
   ],
   "source": [
    "s1 = {1,2,3,4,5,6,7}\n",
    "s2 = {1,2,3,4}\n",
    "\n",
    "print(s2.issubset(s1))     # is s2 a subset of s1\n",
    "print(s2 <= s1)            # is s2 a subset of s1"
   ]
  },
  {
   "cell_type": "markdown",
   "id": "8f00f73f",
   "metadata": {},
   "source": [
    "### f. Checking Superset\n",
    "- The `s1.issuperset(s2)` method or `s1 >= s2`, returns True if s1 is a superset of s2"
   ]
  },
  {
   "cell_type": "code",
   "execution_count": 58,
   "id": "70ba3168",
   "metadata": {},
   "outputs": [
    {
     "name": "stdout",
     "output_type": "stream",
     "text": [
      "Help on built-in function issuperset:\n",
      "\n",
      "issuperset(...) method of builtins.set instance\n",
      "    Report whether this set contains another set.\n",
      "\n"
     ]
    }
   ],
   "source": [
    "s1 = set()\n",
    "help(s1.issuperset)"
   ]
  },
  {
   "cell_type": "code",
   "execution_count": 126,
   "id": "865d531d",
   "metadata": {},
   "outputs": [
    {
     "name": "stdout",
     "output_type": "stream",
     "text": [
      "True\n",
      "True\n"
     ]
    }
   ],
   "source": [
    "s1 = {1,2,3,4,5,6,7}\n",
    "s2 = {1,2,3,4}\n",
    "\n",
    "print(s1.issuperset(s2)) # is s1 a superset of s2\n",
    "print(s1 >= s2)          # is s1 a superset of s2"
   ]
  },
  {
   "cell_type": "markdown",
   "id": "e306e198",
   "metadata": {},
   "source": [
    "### g. Checking Disjoint\n",
    "- The `s1.isdisjoint(s2)` method, returns True if two sets have a null intersection"
   ]
  },
  {
   "cell_type": "code",
   "execution_count": 59,
   "id": "29c30920",
   "metadata": {},
   "outputs": [
    {
     "name": "stdout",
     "output_type": "stream",
     "text": [
      "Help on built-in function isdisjoint:\n",
      "\n",
      "isdisjoint(...) method of builtins.set instance\n",
      "    Return True if two sets have a null intersection.\n",
      "\n"
     ]
    }
   ],
   "source": [
    "s1 = set()\n",
    "help(s1.isdisjoint)"
   ]
  },
  {
   "cell_type": "code",
   "execution_count": 127,
   "id": "0411ca5d",
   "metadata": {},
   "outputs": [
    {
     "name": "stdout",
     "output_type": "stream",
     "text": [
      "False\n",
      "True\n"
     ]
    }
   ],
   "source": [
    "s1 = {1,2,3,4,5,6,7}\n",
    "s2 = {1,2,3,4}\n",
    "print(s1.isdisjoint(s2))\n",
    "\n",
    "# Another example\n",
    "s3 = {1,2,3,4}\n",
    "s4 = {5,6,7,8}\n",
    "print(s3.isdisjoint(s4))\n",
    "\n"
   ]
  }
 ],
 "metadata": {
  "kernelspec": {
   "display_name": "Python 3 (ipykernel)",
   "language": "python",
   "name": "python3"
  },
  "language_info": {
   "codemirror_mode": {
    "name": "ipython",
    "version": 3
   },
   "file_extension": ".py",
   "mimetype": "text/x-python",
   "name": "python",
   "nbconvert_exporter": "python",
   "pygments_lexer": "ipython3",
   "version": "3.8.10"
  }
 },
 "nbformat": 4,
 "nbformat_minor": 5
}
